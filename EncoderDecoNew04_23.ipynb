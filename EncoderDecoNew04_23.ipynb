{
  "nbformat": 4,
  "nbformat_minor": 0,
  "metadata": {
    "colab": {
      "name": "EncoderDecoNew04_23.ipynb",
      "provenance": [],
      "include_colab_link": true
    },
    "kernelspec": {
      "name": "python3",
      "display_name": "Python 3"
    },
    "language_info": {
      "name": "python"
    }
  },
  "cells": [
    {
      "cell_type": "markdown",
      "metadata": {
        "id": "view-in-github",
        "colab_type": "text"
      },
      "source": [
        "<a href=\"https://colab.research.google.com/github/entc-17-fyp-20/WPF_Data_Visualization/blob/Udesha-/EncoderDecoNew04_23.ipynb\" target=\"_parent\"><img src=\"https://colab.research.google.com/assets/colab-badge.svg\" alt=\"Open In Colab\"/></a>"
      ]
    },
    {
      "cell_type": "code",
      "execution_count": null,
      "metadata": {
        "id": "w7C2_c_iauR0"
      },
      "outputs": [],
      "source": [
        "import pandas as pd\n",
        "import numpy as np\n",
        "import tensorflow as tf\n",
        "from sklearn import preprocessing\n",
        "import matplotlib.pyplot as plt\n",
        "tf.random.set_seed(123)\n",
        "np.random.seed(123)"
      ]
    },
    {
      "cell_type": "code",
      "source": [
        "df = pd.read_csv('https://raw.githubusercontent.com/entc-17-fyp-20/Datasets/main/CEB%20new%20updated(Only%20actual).csv')\n",
        "df = df.rename(columns = {'Time Stamp': 'Date & Time','Actual Total WTG Output Power /kW':'Active_Power(kW)','Forecasted Power':'Forecasted_Power(kW)'}, inplace = False)\n",
        "df=df[['Date & Time','Active_Power(kW)']]\n",
        "df['Date & Time'] = pd.to_datetime(df['Date & Time'], format=\"%m/%d/%Y %H:%M\")\n",
        "# df.index = df['Date & Time']\n",
        "# df=df[['Active_Power(kW)']]\n",
        "df=df[1:]\n",
        "data=df.head(17500)"
      ],
      "metadata": {
        "id": "rjrw8OuP7o_A"
      },
      "execution_count": null,
      "outputs": []
    },
    {
      "cell_type": "code",
      "source": [
        "# url = f\"https://raw.githubusercontent.com/Apress/hands-on-time-series-analylsis-python/master/Data/Metro_Interstate_Traffic_Volume.csv\""
      ],
      "metadata": {
        "id": "f1zW-TvRi19P"
      },
      "execution_count": null,
      "outputs": []
    },
    {
      "cell_type": "code",
      "source": [
        "# data = pd.read_csv(url)"
      ],
      "metadata": {
        "id": "5J5U8WnfcS7i"
      },
      "execution_count": null,
      "outputs": []
    },
    {
      "cell_type": "code",
      "source": [
        "data.head()"
      ],
      "metadata": {
        "colab": {
          "base_uri": "https://localhost:8080/",
          "height": 206
        },
        "id": "XxxLLA6xdVGd",
        "outputId": "e526d125-b790-4ddb-d61e-9730aa185c1e"
      },
      "execution_count": null,
      "outputs": [
        {
          "output_type": "execute_result",
          "data": {
            "text/plain": [
              "          Date & Time  Active_Power(kW)\n",
              "1 2021-09-01 00:00:00           93793.5\n",
              "2 2021-09-01 00:10:00           95265.2\n",
              "3 2021-09-01 00:20:00           96545.6\n",
              "4 2021-09-01 00:30:00           97879.0\n",
              "5 2021-09-01 00:40:00           97867.2"
            ],
            "text/html": [
              "\n",
              "  <div id=\"df-1b12df32-a21d-4575-ae53-ef6c155df523\">\n",
              "    <div class=\"colab-df-container\">\n",
              "      <div>\n",
              "<style scoped>\n",
              "    .dataframe tbody tr th:only-of-type {\n",
              "        vertical-align: middle;\n",
              "    }\n",
              "\n",
              "    .dataframe tbody tr th {\n",
              "        vertical-align: top;\n",
              "    }\n",
              "\n",
              "    .dataframe thead th {\n",
              "        text-align: right;\n",
              "    }\n",
              "</style>\n",
              "<table border=\"1\" class=\"dataframe\">\n",
              "  <thead>\n",
              "    <tr style=\"text-align: right;\">\n",
              "      <th></th>\n",
              "      <th>Date &amp; Time</th>\n",
              "      <th>Active_Power(kW)</th>\n",
              "    </tr>\n",
              "  </thead>\n",
              "  <tbody>\n",
              "    <tr>\n",
              "      <th>1</th>\n",
              "      <td>2021-09-01 00:00:00</td>\n",
              "      <td>93793.5</td>\n",
              "    </tr>\n",
              "    <tr>\n",
              "      <th>2</th>\n",
              "      <td>2021-09-01 00:10:00</td>\n",
              "      <td>95265.2</td>\n",
              "    </tr>\n",
              "    <tr>\n",
              "      <th>3</th>\n",
              "      <td>2021-09-01 00:20:00</td>\n",
              "      <td>96545.6</td>\n",
              "    </tr>\n",
              "    <tr>\n",
              "      <th>4</th>\n",
              "      <td>2021-09-01 00:30:00</td>\n",
              "      <td>97879.0</td>\n",
              "    </tr>\n",
              "    <tr>\n",
              "      <th>5</th>\n",
              "      <td>2021-09-01 00:40:00</td>\n",
              "      <td>97867.2</td>\n",
              "    </tr>\n",
              "  </tbody>\n",
              "</table>\n",
              "</div>\n",
              "      <button class=\"colab-df-convert\" onclick=\"convertToInteractive('df-1b12df32-a21d-4575-ae53-ef6c155df523')\"\n",
              "              title=\"Convert this dataframe to an interactive table.\"\n",
              "              style=\"display:none;\">\n",
              "        \n",
              "  <svg xmlns=\"http://www.w3.org/2000/svg\" height=\"24px\"viewBox=\"0 0 24 24\"\n",
              "       width=\"24px\">\n",
              "    <path d=\"M0 0h24v24H0V0z\" fill=\"none\"/>\n",
              "    <path d=\"M18.56 5.44l.94 2.06.94-2.06 2.06-.94-2.06-.94-.94-2.06-.94 2.06-2.06.94zm-11 1L8.5 8.5l.94-2.06 2.06-.94-2.06-.94L8.5 2.5l-.94 2.06-2.06.94zm10 10l.94 2.06.94-2.06 2.06-.94-2.06-.94-.94-2.06-.94 2.06-2.06.94z\"/><path d=\"M17.41 7.96l-1.37-1.37c-.4-.4-.92-.59-1.43-.59-.52 0-1.04.2-1.43.59L10.3 9.45l-7.72 7.72c-.78.78-.78 2.05 0 2.83L4 21.41c.39.39.9.59 1.41.59.51 0 1.02-.2 1.41-.59l7.78-7.78 2.81-2.81c.8-.78.8-2.07 0-2.86zM5.41 20L4 18.59l7.72-7.72 1.47 1.35L5.41 20z\"/>\n",
              "  </svg>\n",
              "      </button>\n",
              "      \n",
              "  <style>\n",
              "    .colab-df-container {\n",
              "      display:flex;\n",
              "      flex-wrap:wrap;\n",
              "      gap: 12px;\n",
              "    }\n",
              "\n",
              "    .colab-df-convert {\n",
              "      background-color: #E8F0FE;\n",
              "      border: none;\n",
              "      border-radius: 50%;\n",
              "      cursor: pointer;\n",
              "      display: none;\n",
              "      fill: #1967D2;\n",
              "      height: 32px;\n",
              "      padding: 0 0 0 0;\n",
              "      width: 32px;\n",
              "    }\n",
              "\n",
              "    .colab-df-convert:hover {\n",
              "      background-color: #E2EBFA;\n",
              "      box-shadow: 0px 1px 2px rgba(60, 64, 67, 0.3), 0px 1px 3px 1px rgba(60, 64, 67, 0.15);\n",
              "      fill: #174EA6;\n",
              "    }\n",
              "\n",
              "    [theme=dark] .colab-df-convert {\n",
              "      background-color: #3B4455;\n",
              "      fill: #D2E3FC;\n",
              "    }\n",
              "\n",
              "    [theme=dark] .colab-df-convert:hover {\n",
              "      background-color: #434B5C;\n",
              "      box-shadow: 0px 1px 3px 1px rgba(0, 0, 0, 0.15);\n",
              "      filter: drop-shadow(0px 1px 2px rgba(0, 0, 0, 0.3));\n",
              "      fill: #FFFFFF;\n",
              "    }\n",
              "  </style>\n",
              "\n",
              "      <script>\n",
              "        const buttonEl =\n",
              "          document.querySelector('#df-1b12df32-a21d-4575-ae53-ef6c155df523 button.colab-df-convert');\n",
              "        buttonEl.style.display =\n",
              "          google.colab.kernel.accessAllowed ? 'block' : 'none';\n",
              "\n",
              "        async function convertToInteractive(key) {\n",
              "          const element = document.querySelector('#df-1b12df32-a21d-4575-ae53-ef6c155df523');\n",
              "          const dataTable =\n",
              "            await google.colab.kernel.invokeFunction('convertToInteractive',\n",
              "                                                     [key], {});\n",
              "          if (!dataTable) return;\n",
              "\n",
              "          const docLinkHtml = 'Like what you see? Visit the ' +\n",
              "            '<a target=\"_blank\" href=https://colab.research.google.com/notebooks/data_table.ipynb>data table notebook</a>'\n",
              "            + ' to learn more about interactive tables.';\n",
              "          element.innerHTML = '';\n",
              "          dataTable['output_type'] = 'display_data';\n",
              "          await google.colab.output.renderOutput(dataTable, element);\n",
              "          const docLink = document.createElement('div');\n",
              "          docLink.innerHTML = docLinkHtml;\n",
              "          element.appendChild(docLink);\n",
              "        }\n",
              "      </script>\n",
              "    </div>\n",
              "  </div>\n",
              "  "
            ]
          },
          "metadata": {},
          "execution_count": 45
        }
      ]
    },
    {
      "cell_type": "code",
      "source": [
        "data.describe()"
      ],
      "metadata": {
        "colab": {
          "base_uri": "https://localhost:8080/",
          "height": 300
        },
        "id": "mLY-Ca7nmkV-",
        "outputId": "35be95dd-7f8b-47ee-9901-b4d4b853c8f8"
      },
      "execution_count": null,
      "outputs": [
        {
          "output_type": "execute_result",
          "data": {
            "text/plain": [
              "       Active_Power(kW)\n",
              "count      17500.000000\n",
              "mean       41696.385686\n",
              "std        36667.373874\n",
              "min            0.000000\n",
              "25%         9960.750000\n",
              "50%        28435.000000\n",
              "75%        79874.475000\n",
              "max       103504.000000"
            ],
            "text/html": [
              "\n",
              "  <div id=\"df-3f3f65e1-227c-46dc-a7a8-14670af8f508\">\n",
              "    <div class=\"colab-df-container\">\n",
              "      <div>\n",
              "<style scoped>\n",
              "    .dataframe tbody tr th:only-of-type {\n",
              "        vertical-align: middle;\n",
              "    }\n",
              "\n",
              "    .dataframe tbody tr th {\n",
              "        vertical-align: top;\n",
              "    }\n",
              "\n",
              "    .dataframe thead th {\n",
              "        text-align: right;\n",
              "    }\n",
              "</style>\n",
              "<table border=\"1\" class=\"dataframe\">\n",
              "  <thead>\n",
              "    <tr style=\"text-align: right;\">\n",
              "      <th></th>\n",
              "      <th>Active_Power(kW)</th>\n",
              "    </tr>\n",
              "  </thead>\n",
              "  <tbody>\n",
              "    <tr>\n",
              "      <th>count</th>\n",
              "      <td>17500.000000</td>\n",
              "    </tr>\n",
              "    <tr>\n",
              "      <th>mean</th>\n",
              "      <td>41696.385686</td>\n",
              "    </tr>\n",
              "    <tr>\n",
              "      <th>std</th>\n",
              "      <td>36667.373874</td>\n",
              "    </tr>\n",
              "    <tr>\n",
              "      <th>min</th>\n",
              "      <td>0.000000</td>\n",
              "    </tr>\n",
              "    <tr>\n",
              "      <th>25%</th>\n",
              "      <td>9960.750000</td>\n",
              "    </tr>\n",
              "    <tr>\n",
              "      <th>50%</th>\n",
              "      <td>28435.000000</td>\n",
              "    </tr>\n",
              "    <tr>\n",
              "      <th>75%</th>\n",
              "      <td>79874.475000</td>\n",
              "    </tr>\n",
              "    <tr>\n",
              "      <th>max</th>\n",
              "      <td>103504.000000</td>\n",
              "    </tr>\n",
              "  </tbody>\n",
              "</table>\n",
              "</div>\n",
              "      <button class=\"colab-df-convert\" onclick=\"convertToInteractive('df-3f3f65e1-227c-46dc-a7a8-14670af8f508')\"\n",
              "              title=\"Convert this dataframe to an interactive table.\"\n",
              "              style=\"display:none;\">\n",
              "        \n",
              "  <svg xmlns=\"http://www.w3.org/2000/svg\" height=\"24px\"viewBox=\"0 0 24 24\"\n",
              "       width=\"24px\">\n",
              "    <path d=\"M0 0h24v24H0V0z\" fill=\"none\"/>\n",
              "    <path d=\"M18.56 5.44l.94 2.06.94-2.06 2.06-.94-2.06-.94-.94-2.06-.94 2.06-2.06.94zm-11 1L8.5 8.5l.94-2.06 2.06-.94-2.06-.94L8.5 2.5l-.94 2.06-2.06.94zm10 10l.94 2.06.94-2.06 2.06-.94-2.06-.94-.94-2.06-.94 2.06-2.06.94z\"/><path d=\"M17.41 7.96l-1.37-1.37c-.4-.4-.92-.59-1.43-.59-.52 0-1.04.2-1.43.59L10.3 9.45l-7.72 7.72c-.78.78-.78 2.05 0 2.83L4 21.41c.39.39.9.59 1.41.59.51 0 1.02-.2 1.41-.59l7.78-7.78 2.81-2.81c.8-.78.8-2.07 0-2.86zM5.41 20L4 18.59l7.72-7.72 1.47 1.35L5.41 20z\"/>\n",
              "  </svg>\n",
              "      </button>\n",
              "      \n",
              "  <style>\n",
              "    .colab-df-container {\n",
              "      display:flex;\n",
              "      flex-wrap:wrap;\n",
              "      gap: 12px;\n",
              "    }\n",
              "\n",
              "    .colab-df-convert {\n",
              "      background-color: #E8F0FE;\n",
              "      border: none;\n",
              "      border-radius: 50%;\n",
              "      cursor: pointer;\n",
              "      display: none;\n",
              "      fill: #1967D2;\n",
              "      height: 32px;\n",
              "      padding: 0 0 0 0;\n",
              "      width: 32px;\n",
              "    }\n",
              "\n",
              "    .colab-df-convert:hover {\n",
              "      background-color: #E2EBFA;\n",
              "      box-shadow: 0px 1px 2px rgba(60, 64, 67, 0.3), 0px 1px 3px 1px rgba(60, 64, 67, 0.15);\n",
              "      fill: #174EA6;\n",
              "    }\n",
              "\n",
              "    [theme=dark] .colab-df-convert {\n",
              "      background-color: #3B4455;\n",
              "      fill: #D2E3FC;\n",
              "    }\n",
              "\n",
              "    [theme=dark] .colab-df-convert:hover {\n",
              "      background-color: #434B5C;\n",
              "      box-shadow: 0px 1px 3px 1px rgba(0, 0, 0, 0.15);\n",
              "      filter: drop-shadow(0px 1px 2px rgba(0, 0, 0, 0.3));\n",
              "      fill: #FFFFFF;\n",
              "    }\n",
              "  </style>\n",
              "\n",
              "      <script>\n",
              "        const buttonEl =\n",
              "          document.querySelector('#df-3f3f65e1-227c-46dc-a7a8-14670af8f508 button.colab-df-convert');\n",
              "        buttonEl.style.display =\n",
              "          google.colab.kernel.accessAllowed ? 'block' : 'none';\n",
              "\n",
              "        async function convertToInteractive(key) {\n",
              "          const element = document.querySelector('#df-3f3f65e1-227c-46dc-a7a8-14670af8f508');\n",
              "          const dataTable =\n",
              "            await google.colab.kernel.invokeFunction('convertToInteractive',\n",
              "                                                     [key], {});\n",
              "          if (!dataTable) return;\n",
              "\n",
              "          const docLinkHtml = 'Like what you see? Visit the ' +\n",
              "            '<a target=\"_blank\" href=https://colab.research.google.com/notebooks/data_table.ipynb>data table notebook</a>'\n",
              "            + ' to learn more about interactive tables.';\n",
              "          element.innerHTML = '';\n",
              "          dataTable['output_type'] = 'display_data';\n",
              "          await google.colab.output.renderOutput(dataTable, element);\n",
              "          const docLink = document.createElement('div');\n",
              "          docLink.innerHTML = docLinkHtml;\n",
              "          element.appendChild(docLink);\n",
              "        }\n",
              "      </script>\n",
              "    </div>\n",
              "  </div>\n",
              "  "
            ]
          },
          "metadata": {},
          "execution_count": 46
        }
      ]
    },
    {
      "cell_type": "code",
      "source": [
        "# data.drop_duplicates(subset=['Date & Time'], keep=False,inplace=True)"
      ],
      "metadata": {
        "id": "u9iP489Cm8US"
      },
      "execution_count": null,
      "outputs": []
    },
    {
      "cell_type": "code",
      "source": [
        "validate = data['Active_Power(kW)'].tail(10)\n",
        "data = data.drop(data['Active_Power(kW)'].tail(10).index)"
      ],
      "metadata": {
        "id": "mrqn44F5nVyu"
      },
      "execution_count": null,
      "outputs": []
    },
    {
      "cell_type": "code",
      "source": [
        "uni_data = data['Active_Power(kW)']\n",
        "uni_data.index = data['Date & Time']\n",
        "uni_data.head()"
      ],
      "metadata": {
        "colab": {
          "base_uri": "https://localhost:8080/"
        },
        "id": "pun1yWTepSRt",
        "outputId": "f4fe0e23-7b2a-4253-de48-e1ccefd4ade3"
      },
      "execution_count": null,
      "outputs": [
        {
          "output_type": "execute_result",
          "data": {
            "text/plain": [
              "Date & Time\n",
              "2021-09-01 00:00:00    93793.5\n",
              "2021-09-01 00:10:00    95265.2\n",
              "2021-09-01 00:20:00    96545.6\n",
              "2021-09-01 00:30:00    97879.0\n",
              "2021-09-01 00:40:00    97867.2\n",
              "Name: Active_Power(kW), dtype: float64"
            ]
          },
          "metadata": {},
          "execution_count": 49
        }
      ]
    },
    {
      "cell_type": "code",
      "source": [
        "uni_data = uni_data.values\n",
        "scaler_x = preprocessing.MinMaxScaler()\n",
        "x_rescaled = scaler_x.fit_transform(uni_data.reshape(-1, 1))"
      ],
      "metadata": {
        "id": "tknWNmLbp8oR"
      },
      "execution_count": null,
      "outputs": []
    },
    {
      "cell_type": "code",
      "source": [
        "def custom_ts_univariate_data_prep(dataset, start, end, window, horizon):\n",
        "  X = []\n",
        "  y = []\n",
        "\n",
        "  start = start + window\n",
        "  if end is None:\n",
        "    end = len(dataset) - horizon\n",
        "\n",
        "  for i in range(start, end):\n",
        "    indicesx = range(i-window, i)\n",
        "    X.append(np.reshape(dataset[indicesx], (window, 1)))\n",
        "    indicesy = range(i,i+horizon)\n",
        "    y.append(dataset[indicesy])\n",
        "  return np.array(X), np.array(y)"
      ],
      "metadata": {
        "id": "QVHeZXptqA46"
      },
      "execution_count": null,
      "outputs": []
    },
    {
      "cell_type": "code",
      "source": [
        "univar_hist_window = 48\n",
        "horizon = 10\n",
        "TRAIN_SPLIT = 14000\n",
        "x_train_uni, y_train_uni = custom_ts_univariate_data_prep(x_rescaled, 0, TRAIN_SPLIT,univar_hist_window, horizon)\n",
        "x_val_uni, y_val_uni = custom_ts_univariate_data_prep(x_rescaled, TRAIN_SPLIT, None,univar_hist_window,horizon)"
      ],
      "metadata": {
        "id": "87qHiXfKqYov"
      },
      "execution_count": null,
      "outputs": []
    },
    {
      "cell_type": "code",
      "source": [
        "print ('Single window of past history')\n",
        "print (x_train_uni[0])\n",
        "print ('\\n Target horizon')\n",
        "print (y_train_uni[0])"
      ],
      "metadata": {
        "colab": {
          "base_uri": "https://localhost:8080/"
        },
        "id": "ayrlaT7BqhUb",
        "outputId": "d002e116-1134-4ce2-fdb9-4b35904e788c"
      },
      "execution_count": null,
      "outputs": [
        {
          "output_type": "stream",
          "name": "stdout",
          "text": [
            "Single window of past history\n",
            "[[0.90618237]\n",
            " [0.92040114]\n",
            " [0.93277168]\n",
            " [0.94565427]\n",
            " [0.94554027]\n",
            " [0.94601271]\n",
            " [0.94699915]\n",
            " [0.94794404]\n",
            " [0.94803389]\n",
            " [0.95021738]\n",
            " [0.95003478]\n",
            " [0.95006087]\n",
            " [0.94936428]\n",
            " [0.95020772]\n",
            " [0.94938263]\n",
            " [0.94997681]\n",
            " [0.95031786]\n",
            " [0.94848025]\n",
            " [0.94826094]\n",
            " [0.94766966]\n",
            " [0.94924158]\n",
            " [0.95072075]\n",
            " [0.95155743]\n",
            " [0.95131396]\n",
            " [0.95153617]\n",
            " [0.95703065]\n",
            " [0.98245478]\n",
            " [0.9801428 ]\n",
            " [0.98061041]\n",
            " [0.9816268 ]\n",
            " [0.98195046]\n",
            " [0.98084808]\n",
            " [0.98117367]\n",
            " [0.98179587]\n",
            " [0.98171568]\n",
            " [0.97951867]\n",
            " [0.98080751]\n",
            " [0.98129251]\n",
            " [0.98231663]\n",
            " [0.98244416]\n",
            " [0.98242966]\n",
            " [0.98081813]\n",
            " [0.98185481]\n",
            " [0.98156013]\n",
            " [0.98092924]\n",
            " [0.97933123]\n",
            " [0.8259874 ]\n",
            " [0.55544906]]\n",
            "\n",
            " Target horizon\n",
            "[[0.54492194]\n",
            " [0.56789013]\n",
            " [0.57568307]\n",
            " [0.57532849]\n",
            " [0.57482609]\n",
            " [0.57593523]\n",
            " [0.5751884 ]\n",
            " [0.57554877]\n",
            " [0.57395366]\n",
            " [0.57483382]]\n"
          ]
        }
      ]
    },
    {
      "cell_type": "code",
      "source": [
        "BATCH_SIZE = 256\n",
        "BUFFER_SIZE = 150\n",
        "train_univariate = tf.data.Dataset.from_tensor_slices((x_train_uni, y_train_uni))\n",
        "train_univariate = train_univariate.cache().shuffle(BUFFER_SIZE).batch(BATCH_SIZE).repeat()\n",
        "\n",
        "val_univariate = tf.data.Dataset.from_tensor_slices((x_val_uni, y_val_uni))\n",
        "val_univariate = val_univariate.batch(BATCH_SIZE).repeat()"
      ],
      "metadata": {
        "id": "wak7xGrqqt2k"
      },
      "execution_count": null,
      "outputs": []
    },
    {
      "cell_type": "code",
      "source": [
        "# create model\n",
        "from keras.models import Sequential\n",
        "from keras import layers\n",
        "from keras.layers import LSTM\n",
        "from keras.layers import Dense, LSTM,Flatten, TimeDistributed, Conv2D, Dropout\n",
        "enco_deco = Sequential()\n",
        "\n",
        "# Encoder\n",
        "enco_deco.add(LSTM(100, input_shape=x_train_uni.shape[-2:], return_sequences=True))\n",
        "enco_deco.add(LSTM(units=50,return_sequences=True))\n",
        "enco_deco.add(LSTM(units=15))\n",
        "\n",
        "#feature vector\n",
        "enco_deco.add(layers.RepeatVector(y_train_uni.shape[1]))\n",
        "\n",
        "#decoder\n",
        "enco_deco.add(LSTM(units=100,return_sequences=True))\n",
        "enco_deco.add(LSTM(units=50,return_sequences=True))\n",
        "enco_deco.add(TimeDistributed(tf.keras.layers.Dense(units=1)))"
      ],
      "metadata": {
        "id": "Eu40jBcaq1qf"
      },
      "execution_count": null,
      "outputs": []
    },
    {
      "cell_type": "code",
      "source": [
        "enco_deco.compile(optimizer='adam', loss='mse')"
      ],
      "metadata": {
        "id": "z4VsRfsi-AdI"
      },
      "execution_count": null,
      "outputs": []
    },
    {
      "cell_type": "code",
      "source": [
        "enco_deco.summary()"
      ],
      "metadata": {
        "colab": {
          "base_uri": "https://localhost:8080/"
        },
        "id": "cvIF9x_Kq9Dj",
        "outputId": "2ada5d4f-7a76-405a-8ec4-b7f7ef53cbae"
      },
      "execution_count": null,
      "outputs": [
        {
          "output_type": "stream",
          "name": "stdout",
          "text": [
            "Model: \"sequential_1\"\n",
            "_________________________________________________________________\n",
            " Layer (type)                Output Shape              Param #   \n",
            "=================================================================\n",
            " lstm_5 (LSTM)               (None, 48, 100)           40800     \n",
            "                                                                 \n",
            " lstm_6 (LSTM)               (None, 48, 50)            30200     \n",
            "                                                                 \n",
            " lstm_7 (LSTM)               (None, 15)                3960      \n",
            "                                                                 \n",
            " repeat_vector_1 (RepeatVect  (None, 10, 15)           0         \n",
            " or)                                                             \n",
            "                                                                 \n",
            " lstm_8 (LSTM)               (None, 10, 100)           46400     \n",
            "                                                                 \n",
            " lstm_9 (LSTM)               (None, 10, 50)            30200     \n",
            "                                                                 \n",
            " time_distributed_1 (TimeDis  (None, 10, 1)            51        \n",
            " tributed)                                                       \n",
            "                                                                 \n",
            "=================================================================\n",
            "Total params: 151,611\n",
            "Trainable params: 151,611\n",
            "Non-trainable params: 0\n",
            "_________________________________________________________________\n"
          ]
        }
      ]
    },
    {
      "cell_type": "code",
      "source": [
        "EVALUATION_INTERVAL = 100\n",
        "EPOCHS = 150\n",
        "history = enco_deco.fit(train_univariate, epochs=100,steps_per_epoch=100,validation_data=val_univariate, validation_steps=50,verbose =1)"
      ],
      "metadata": {
        "colab": {
          "base_uri": "https://localhost:8080/"
        },
        "id": "fXUgJQjfrdqW",
        "outputId": "d86011ec-ac82-4097-a018-c4497cc21e0a"
      },
      "execution_count": null,
      "outputs": [
        {
          "output_type": "stream",
          "name": "stdout",
          "text": [
            "Epoch 1/100\n",
            "100/100 [==============================] - 59s 484ms/step - loss: 0.1279 - val_loss: 0.0213\n",
            "Epoch 2/100\n",
            "100/100 [==============================] - 45s 455ms/step - loss: 0.0406 - val_loss: 0.0125\n",
            "Epoch 3/100\n",
            "100/100 [==============================] - 45s 453ms/step - loss: 0.0229 - val_loss: 0.0140\n",
            "Epoch 4/100\n",
            "100/100 [==============================] - 45s 455ms/step - loss: 0.0189 - val_loss: 0.0096\n",
            "Epoch 5/100\n",
            "100/100 [==============================] - 45s 454ms/step - loss: 0.0171 - val_loss: 0.0097\n",
            "Epoch 6/100\n",
            "100/100 [==============================] - 46s 465ms/step - loss: 0.0172 - val_loss: 0.0104\n",
            "Epoch 7/100\n",
            "100/100 [==============================] - 46s 458ms/step - loss: 0.0156 - val_loss: 0.0102\n",
            "Epoch 8/100\n",
            "100/100 [==============================] - 46s 457ms/step - loss: 0.0149 - val_loss: 0.0080\n",
            "Epoch 9/100\n",
            "100/100 [==============================] - 46s 461ms/step - loss: 0.0145 - val_loss: 0.0078\n",
            "Epoch 10/100\n",
            "100/100 [==============================] - 46s 459ms/step - loss: 0.0134 - val_loss: 0.0077\n",
            "Epoch 11/100\n",
            "100/100 [==============================] - 46s 458ms/step - loss: 0.0133 - val_loss: 0.0073\n",
            "Epoch 12/100\n",
            "100/100 [==============================] - 46s 465ms/step - loss: 0.0137 - val_loss: 0.0088\n",
            "Epoch 13/100\n",
            "100/100 [==============================] - 46s 460ms/step - loss: 0.0126 - val_loss: 0.0072\n",
            "Epoch 14/100\n",
            "100/100 [==============================] - 46s 460ms/step - loss: 0.0128 - val_loss: 0.0081\n",
            "Epoch 15/100\n",
            "100/100 [==============================] - 46s 458ms/step - loss: 0.0122 - val_loss: 0.0066\n",
            "Epoch 16/100\n",
            "100/100 [==============================] - 46s 464ms/step - loss: 0.0117 - val_loss: 0.0076\n",
            "Epoch 17/100\n",
            "100/100 [==============================] - 46s 465ms/step - loss: 0.0122 - val_loss: 0.0068\n",
            "Epoch 18/100\n",
            "100/100 [==============================] - 46s 465ms/step - loss: 0.0117 - val_loss: 0.0074\n",
            "Epoch 19/100\n",
            "100/100 [==============================] - 46s 463ms/step - loss: 0.0114 - val_loss: 0.0066\n",
            "Epoch 20/100\n",
            "100/100 [==============================] - 46s 460ms/step - loss: 0.0115 - val_loss: 0.0064\n",
            "Epoch 21/100\n",
            "100/100 [==============================] - 46s 458ms/step - loss: 0.0109 - val_loss: 0.0066\n",
            "Epoch 22/100\n",
            "100/100 [==============================] - 46s 463ms/step - loss: 0.0111 - val_loss: 0.0062\n",
            "Epoch 23/100\n",
            "100/100 [==============================] - 46s 460ms/step - loss: 0.0114 - val_loss: 0.0074\n",
            "Epoch 24/100\n",
            "100/100 [==============================] - 46s 457ms/step - loss: 0.0107 - val_loss: 0.0063\n",
            "Epoch 25/100\n",
            "100/100 [==============================] - 47s 467ms/step - loss: 0.0110 - val_loss: 0.0073\n",
            "Epoch 26/100\n",
            "100/100 [==============================] - 46s 462ms/step - loss: 0.0106 - val_loss: 0.0060\n",
            "Epoch 27/100\n",
            "100/100 [==============================] - 46s 461ms/step - loss: 0.0105 - val_loss: 0.0068\n",
            "Epoch 28/100\n",
            "100/100 [==============================] - 46s 461ms/step - loss: 0.0110 - val_loss: 0.0065\n",
            "Epoch 29/100\n",
            "100/100 [==============================] - 46s 458ms/step - loss: 0.0107 - val_loss: 0.0068\n",
            "Epoch 30/100\n",
            "100/100 [==============================] - 46s 461ms/step - loss: 0.0107 - val_loss: 0.0066\n",
            "Epoch 31/100\n",
            "100/100 [==============================] - 46s 460ms/step - loss: 0.0108 - val_loss: 0.0062\n",
            "Epoch 32/100\n",
            "100/100 [==============================] - 47s 468ms/step - loss: 0.0103 - val_loss: 0.0064\n",
            "Epoch 33/100\n",
            "100/100 [==============================] - 46s 458ms/step - loss: 0.0107 - val_loss: 0.0060\n",
            "Epoch 34/100\n",
            "100/100 [==============================] - 46s 460ms/step - loss: 0.0110 - val_loss: 0.0069\n",
            "Epoch 35/100\n",
            "100/100 [==============================] - 46s 461ms/step - loss: 0.0105 - val_loss: 0.0061\n",
            "Epoch 36/100\n",
            "100/100 [==============================] - 46s 462ms/step - loss: 0.0108 - val_loss: 0.0074\n",
            "Epoch 37/100\n",
            "100/100 [==============================] - 46s 459ms/step - loss: 0.0104 - val_loss: 0.0059\n",
            "Epoch 38/100\n",
            "100/100 [==============================] - 46s 465ms/step - loss: 0.0103 - val_loss: 0.0070\n",
            "Epoch 39/100\n",
            "100/100 [==============================] - 47s 469ms/step - loss: 0.0109 - val_loss: 0.0063\n",
            "Epoch 40/100\n",
            "100/100 [==============================] - 47s 469ms/step - loss: 0.0104 - val_loss: 0.0065\n",
            "Epoch 41/100\n",
            "100/100 [==============================] - 47s 472ms/step - loss: 0.0105 - val_loss: 0.0064\n",
            "Epoch 42/100\n",
            "100/100 [==============================] - 46s 460ms/step - loss: 0.0106 - val_loss: 0.0059\n",
            "Epoch 43/100\n",
            "100/100 [==============================] - 46s 461ms/step - loss: 0.0101 - val_loss: 0.0066\n",
            "Epoch 44/100\n",
            "100/100 [==============================] - 47s 467ms/step - loss: 0.0105 - val_loss: 0.0059\n",
            "Epoch 45/100\n",
            "100/100 [==============================] - 47s 474ms/step - loss: 0.0109 - val_loss: 0.0064\n",
            "Epoch 46/100\n",
            "100/100 [==============================] - 46s 465ms/step - loss: 0.0104 - val_loss: 0.0060\n",
            "Epoch 47/100\n",
            "100/100 [==============================] - 46s 464ms/step - loss: 0.0104 - val_loss: 0.0073\n",
            "Epoch 48/100\n",
            "100/100 [==============================] - 46s 464ms/step - loss: 0.0101 - val_loss: 0.0059\n",
            "Epoch 49/100\n",
            "100/100 [==============================] - 46s 463ms/step - loss: 0.0100 - val_loss: 0.0066\n",
            "Epoch 50/100\n",
            "100/100 [==============================] - 46s 464ms/step - loss: 0.0105 - val_loss: 0.0059\n",
            "Epoch 51/100\n",
            "100/100 [==============================] - 47s 471ms/step - loss: 0.0102 - val_loss: 0.0062\n",
            "Epoch 52/100\n",
            "100/100 [==============================] - 47s 471ms/step - loss: 0.0100 - val_loss: 0.0065\n",
            "Epoch 53/100\n",
            "100/100 [==============================] - 47s 467ms/step - loss: 0.0103 - val_loss: 0.0058\n",
            "Epoch 54/100\n",
            "100/100 [==============================] - 46s 463ms/step - loss: 0.0097 - val_loss: 0.0066\n",
            "Epoch 55/100\n",
            "100/100 [==============================] - 47s 467ms/step - loss: 0.0103 - val_loss: 0.0067\n",
            "Epoch 56/100\n",
            "100/100 [==============================] - 47s 470ms/step - loss: 0.0112 - val_loss: 0.0060\n",
            "Epoch 57/100\n",
            "100/100 [==============================] - 47s 469ms/step - loss: 0.0100 - val_loss: 0.0061\n",
            "Epoch 58/100\n",
            "100/100 [==============================] - 47s 469ms/step - loss: 0.0103 - val_loss: 0.0077\n",
            "Epoch 59/100\n",
            "100/100 [==============================] - 47s 467ms/step - loss: 0.0100 - val_loss: 0.0059\n",
            "Epoch 60/100\n",
            "100/100 [==============================] - 46s 462ms/step - loss: 0.0098 - val_loss: 0.0068\n",
            "Epoch 61/100\n",
            "100/100 [==============================] - 46s 463ms/step - loss: 0.0104 - val_loss: 0.0057\n",
            "Epoch 62/100\n",
            "100/100 [==============================] - 46s 461ms/step - loss: 0.0102 - val_loss: 0.0061\n",
            "Epoch 63/100\n",
            "100/100 [==============================] - 46s 462ms/step - loss: 0.0101 - val_loss: 0.0082\n",
            "Epoch 64/100\n",
            "100/100 [==============================] - 47s 467ms/step - loss: 0.0105 - val_loss: 0.0057\n",
            "Epoch 65/100\n",
            "100/100 [==============================] - 46s 462ms/step - loss: 0.0098 - val_loss: 0.0075\n",
            "Epoch 66/100\n",
            "100/100 [==============================] - 46s 464ms/step - loss: 0.0106 - val_loss: 0.0065\n",
            "Epoch 67/100\n",
            "100/100 [==============================] - 46s 465ms/step - loss: 0.0115 - val_loss: 0.0057\n",
            "Epoch 68/100\n",
            "100/100 [==============================] - 46s 462ms/step - loss: 0.0104 - val_loss: 0.0068\n",
            "Epoch 69/100\n",
            "100/100 [==============================] - 46s 462ms/step - loss: 0.0106 - val_loss: 0.0066\n",
            "Epoch 70/100\n",
            "100/100 [==============================] - 46s 465ms/step - loss: 0.0106 - val_loss: 0.0063\n",
            "Epoch 71/100\n",
            "100/100 [==============================] - 46s 461ms/step - loss: 0.0110 - val_loss: 0.0067\n",
            "Epoch 72/100\n",
            "100/100 [==============================] - 46s 459ms/step - loss: 0.0114 - val_loss: 0.0063\n",
            "Epoch 73/100\n",
            "100/100 [==============================] - 46s 465ms/step - loss: 0.0113 - val_loss: 0.0062\n",
            "Epoch 74/100\n",
            "100/100 [==============================] - 46s 460ms/step - loss: 0.0104 - val_loss: 0.0063\n",
            "Epoch 75/100\n",
            "100/100 [==============================] - 46s 461ms/step - loss: 0.0111 - val_loss: 0.0060\n",
            "Epoch 76/100\n",
            "100/100 [==============================] - 46s 462ms/step - loss: 0.0095 - val_loss: 0.0073\n",
            "Epoch 77/100\n",
            "100/100 [==============================] - 46s 461ms/step - loss: 0.0096 - val_loss: 0.0058\n",
            "Epoch 78/100\n",
            "100/100 [==============================] - 46s 463ms/step - loss: 0.0101 - val_loss: 0.0057\n",
            "Epoch 79/100\n",
            "100/100 [==============================] - 46s 460ms/step - loss: 0.0100 - val_loss: 0.0060\n",
            "Epoch 80/100\n",
            "100/100 [==============================] - 46s 461ms/step - loss: 0.0100 - val_loss: 0.0057\n",
            "Epoch 81/100\n",
            "100/100 [==============================] - 46s 465ms/step - loss: 0.0096 - val_loss: 0.0067\n",
            "Epoch 82/100\n",
            "100/100 [==============================] - 46s 461ms/step - loss: 0.0093 - val_loss: 0.0061\n",
            "Epoch 83/100\n",
            "100/100 [==============================] - 47s 466ms/step - loss: 0.0094 - val_loss: 0.0055\n",
            "Epoch 84/100\n",
            "100/100 [==============================] - 46s 464ms/step - loss: 0.0094 - val_loss: 0.0061\n",
            "Epoch 85/100\n",
            "100/100 [==============================] - 46s 461ms/step - loss: 0.0093 - val_loss: 0.0058\n",
            "Epoch 86/100\n",
            "100/100 [==============================] - 46s 465ms/step - loss: 0.0093 - val_loss: 0.0059\n",
            "Epoch 87/100\n",
            "100/100 [==============================] - 46s 464ms/step - loss: 0.0087 - val_loss: 0.0078\n",
            "Epoch 88/100\n",
            "100/100 [==============================] - 46s 458ms/step - loss: 0.0091 - val_loss: 0.0065\n",
            "Epoch 89/100\n",
            "100/100 [==============================] - 46s 458ms/step - loss: 0.0096 - val_loss: 0.0056\n",
            "Epoch 90/100\n",
            "100/100 [==============================] - 46s 461ms/step - loss: 0.0088 - val_loss: 0.0060\n",
            "Epoch 91/100\n",
            "100/100 [==============================] - 46s 456ms/step - loss: 0.0090 - val_loss: 0.0060\n",
            "Epoch 92/100\n",
            "100/100 [==============================] - 46s 456ms/step - loss: 0.0085 - val_loss: 0.0071\n",
            "Epoch 93/100\n",
            "100/100 [==============================] - 47s 467ms/step - loss: 0.0083 - val_loss: 0.0065\n",
            "Epoch 94/100\n",
            "100/100 [==============================] - 46s 461ms/step - loss: 0.0088 - val_loss: 0.0057\n",
            "Epoch 95/100\n",
            "100/100 [==============================] - 46s 458ms/step - loss: 0.0087 - val_loss: 0.0064\n",
            "Epoch 96/100\n",
            "100/100 [==============================] - 46s 462ms/step - loss: 0.0088 - val_loss: 0.0067\n",
            "Epoch 97/100\n",
            "100/100 [==============================] - 46s 465ms/step - loss: 0.0089 - val_loss: 0.0070\n",
            "Epoch 98/100\n",
            "100/100 [==============================] - 47s 471ms/step - loss: 0.0081 - val_loss: 0.0071\n",
            "Epoch 99/100\n",
            "100/100 [==============================] - 45s 455ms/step - loss: 0.0082 - val_loss: 0.0061\n",
            "Epoch 100/100\n",
            "100/100 [==============================] - 46s 463ms/step - loss: 0.0081 - val_loss: 0.0060\n"
          ]
        }
      ]
    },
    {
      "cell_type": "code",
      "source": [
        "plt.plot(history.history['loss'], label='Training loss')\n",
        "plt.plot(history.history['val_loss'], label='Validation loss')\n",
        "plt.legend()"
      ],
      "metadata": {
        "colab": {
          "base_uri": "https://localhost:8080/",
          "height": 554
        },
        "id": "wV_5BPPJ_AiE",
        "outputId": "3a7f8696-cd08-4ddc-cd00-b2483e00bad8"
      },
      "execution_count": null,
      "outputs": [
        {
          "output_type": "execute_result",
          "data": {
            "text/plain": [
              "<matplotlib.legend.Legend at 0x7f7940262d90>"
            ]
          },
          "metadata": {},
          "execution_count": 59
        },
        {
          "output_type": "display_data",
          "data": {
            "text/plain": [
              "<Figure size 1152x648 with 1 Axes>"
            ],
            "image/png": "[encoded data removed]"
          },
          "metadata": {
            "needs_background": "light"
          }
        }
      ]
    },
    {
      "cell_type": "code",
      "source": [
        "uni = data['Active_Power(kW)']\n",
        "validatehori = uni.tail(48)"
      ],
      "metadata": {
        "id": "Q8jboYHiF2Nl"
      },
      "execution_count": null,
      "outputs": []
    },
    {
      "cell_type": "code",
      "source": [
        "validatehist = validatehori.values\n",
        "scaler_val = preprocessing.MinMaxScaler()\n",
        "val_rescaled = scaler_x.fit_transform(validatehist.reshape(-1, 1))"
      ],
      "metadata": {
        "id": "EAEQcrUPF-24"
      },
      "execution_count": null,
      "outputs": []
    },
    {
      "cell_type": "code",
      "source": [
        "val_rescaled = val_rescaled.reshape((1, val_rescaled.shape[0], 1))"
      ],
      "metadata": {
        "id": "iO8VJs18GA45"
      },
      "execution_count": null,
      "outputs": []
    },
    {
      "cell_type": "code",
      "source": [
        "Predicted_results = enco_deco.predict(val_rescaled)"
      ],
      "metadata": {
        "id": "_RBuo6X0GDSj"
      },
      "execution_count": null,
      "outputs": []
    },
    {
      "cell_type": "code",
      "source": [
        "Predicted_results"
      ],
      "metadata": {
        "colab": {
          "base_uri": "https://localhost:8080/"
        },
        "id": "uy1PVpaEGKRD",
        "outputId": "b9741ac1-e2e3-4eac-8f5d-f75771322027"
      },
      "execution_count": null,
      "outputs": [
        {
          "output_type": "execute_result",
          "data": {
            "text/plain": [
              "array([[[0.8623774 ],\n",
              "        [0.8032402 ],\n",
              "        [0.7432828 ],\n",
              "        [0.6757848 ],\n",
              "        [0.5972853 ],\n",
              "        [0.5318136 ],\n",
              "        [0.49373943],\n",
              "        [0.47408763],\n",
              "        [0.4659049 ],\n",
              "        [0.46439222]]], dtype=float32)"
            ]
          },
          "metadata": {},
          "execution_count": 64
        }
      ]
    },
    {
      "cell_type": "code",
      "source": [
        "Predicted_inver_res = scaler_x.inverse_transform(Predicted_results[0])"
      ],
      "metadata": {
        "id": "DjIvp4H5GTYd"
      },
      "execution_count": null,
      "outputs": []
    },
    {
      "cell_type": "code",
      "source": [
        "Predicted_inver_res"
      ],
      "metadata": {
        "colab": {
          "base_uri": "https://localhost:8080/"
        },
        "id": "EhvKk2EpGWsM",
        "outputId": "f12ad79b-7056-463a-80d9-9ccca57da5dc"
      },
      "execution_count": null,
      "outputs": [
        {
          "output_type": "execute_result",
          "data": {
            "text/plain": [
              "array([[25368.12 ],\n",
              "       [23956.502],\n",
              "       [22525.309],\n",
              "       [20914.12 ],\n",
              "       [19040.318],\n",
              "       [17477.498],\n",
              "       [16568.66 ],\n",
              "       [16099.566],\n",
              "       [15904.243],\n",
              "       [15868.135]], dtype=float32)"
            ]
          },
          "metadata": {},
          "execution_count": 66
        }
      ]
    },
    {
      "cell_type": "code",
      "source": [
        "from sklearn import metrics\n",
        "def timeseries_evaluation_metrics_func(y_true, y_pred):\n",
        "    \n",
        "    def mean_absolute_percentage_error(y_true, y_pred): \n",
        "        y_true, y_pred = np.array(y_true), np.array(y_pred)\n",
        "        return np.mean(np.abs((y_true - y_pred) / y_true)) * 100\n",
        "    print('Evaluation metric results:-')\n",
        "    print(f'MSE is : {metrics.mean_squared_error(validate,Predicted_inver_res)}')\n",
        "    print(f'MAE is : {metrics.mean_absolute_error(validate,Predicted_inver_res)}')\n",
        "    print(f'RMSE is : {np.sqrt(metrics.mean_squared_error(validate,Predicted_inver_res))}')\n",
        "    print(f'MAPE is : {mean_absolute_percentage_error(validate,Predicted_inver_res)}')\n",
        "    print(f'R2 is : {metrics.r2_score(validate,Predicted_inver_res)}',end='\\n\\n')"
      ],
      "metadata": {
        "id": "p4k0XVx9GZ0L"
      },
      "execution_count": null,
      "outputs": []
    },
    {
      "cell_type": "code",
      "source": [
        "timeseries_evaluation_metrics_func(validate,Predicted_inver_res)"
      ],
      "metadata": {
        "colab": {
          "base_uri": "https://localhost:8080/"
        },
        "id": "Nu70OsCiGdRJ",
        "outputId": "52ee5b1c-adc6-4cf9-b88e-b10cf475901c"
      },
      "execution_count": null,
      "outputs": [
        {
          "output_type": "stream",
          "name": "stdout",
          "text": [
            "Evaluation metric results:-\n",
            "MSE is : 217196158.93376818\n",
            "MAE is : 11858.96263671875\n",
            "RMSE is : 14737.576426732048\n",
            "MAPE is : 47.830991617702146\n",
            "R2 is : -0.5500190899220319\n",
            "\n"
          ]
        }
      ]
    },
    {
      "cell_type": "code",
      "source": [
        "plt.plot( list(validate))\n",
        "plt.plot( list(Predicted_inver_res))\n",
        "plt.title(\"Actual vs Predicted\")\n",
        "plt.ylabel(\"Traffic volume\")\n",
        "plt.legend(('Actual','predicted'))\n",
        "plt.rcParams[\"figure.figsize\"] = [16,9]\n",
        "plt.show()"
      ],
      "metadata": {
        "colab": {
          "base_uri": "https://localhost:8080/"
        },
        "id": "HxnIvJ-2GnUd",
        "outputId": "1391f29c-79c9-4ab2-becb-482d92a1f54b"
      },
      "execution_count": null,
      "outputs": [
        {
          "output_type": "display_data",
          "data": {
            "text/plain": [
              "<Figure size 1152x648 with 1 Axes>"
            ],
            "image/png": "[encoded data removed]"
          },
          "metadata": {
            "needs_background": "light"
          }
        }
      ]
    }
  ]
}