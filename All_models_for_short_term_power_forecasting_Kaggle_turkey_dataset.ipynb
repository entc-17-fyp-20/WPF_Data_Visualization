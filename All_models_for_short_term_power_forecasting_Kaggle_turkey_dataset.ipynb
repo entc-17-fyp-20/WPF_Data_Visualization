{
  "nbformat": 4,
  "nbformat_minor": 0,
  "metadata": {
    "colab": {
      "name": "All models for short term power forecasting -Kaggle turkey dataset",
      "provenance": [],
      "collapsed_sections": [
        "nk6MCDu1U3nF",
        "u8hDWTAMszTi",
        "a08cn2vdG46D",
        "tQEHWN49o6Jv",
        "tWJ-eNg0pN-_",
        "YvcmlieBp1yY",
        "TH-sNSb2p5Ny"
      ],
      "authorship_tag": "ABX9TyN/OpfTbU4vSKiEDTxrqoHI",
      "include_colab_link": true
    },
    "kernelspec": {
      "name": "python3",
      "display_name": "Python 3"
    },
    "language_info": {
      "name": "python"
    },
    "accelerator": "GPU"
  },
  "cells": [
    {
      "cell_type": "markdown",
      "metadata": {
        "id": "view-in-github",
        "colab_type": "text"
      },
      "source": [
        "<a href=\"https://colab.research.google.com/github/entc-17-fyp-20/WPF_Data_Visualization/blob/Kusal/All_models_for_short_term_power_forecasting_Kaggle_turkey_dataset.ipynb\" target=\"_parent\"><img src=\"https://colab.research.google.com/assets/colab-badge.svg\" alt=\"Open In Colab\"/></a>"
      ]
    },
    {
      "cell_type": "markdown",
      "source": [
        "# **Import libraries**"
      ],
      "metadata": {
        "id": "nk6MCDu1U3nF"
      }
    },
    {
      "cell_type": "code",
      "source": [
        "import os\n",
        "import warnings\n",
        "import matplotlib.pyplot as plt\n",
        "import numpy as np\n",
        "import pandas as pd\n",
        "import datetime as dt\n",
        "from collections import UserDict\n",
        "from sklearn.preprocessing import MinMaxScaler\n",
        "from IPython.display import Image\n",
        "%matplotlib inline\n",
        "import plotly.express as px\n",
        "import seaborn as sns\n",
        "import io\n",
        "import datetime\n",
        "import time\n",
        "scalar=MinMaxScaler()\n",
        "\n",
        "%matplotlib inline\n",
        "sns.set(rc = {\"figure.figsize\" : (8, 6)})\n",
        "\n",
        "pd.options.display.float_format = '{:,.2f}'.format\n",
        "np.set_printoptions(precision=2)\n",
        "warnings.filterwarnings(\"ignore\")"
      ],
      "metadata": {
        "id": "eTAa5ASvU0Yr"
      },
      "execution_count": null,
      "outputs": []
    },
    {
      "cell_type": "markdown",
      "source": [
        "# **Dataframe** "
      ],
      "metadata": {
        "id": "u8hDWTAMszTi"
      }
    },
    {
      "cell_type": "code",
      "execution_count": null,
      "metadata": {
        "id": "Aa6_EDTGdvpN"
      },
      "outputs": [],
      "source": [
        "url1 = 'https://raw.githubusercontent.com/entc-17-fyp-20/Datasets/main/S6%2010%20seconed%20data.csv' #S6 10 seconed data.csv\n",
        "url2 = 'https://raw.githubusercontent.com/entc-17-fyp-20/Datasets/main/AE59_1.csv' #AE59_1\n",
        "url3 = 'https://raw.githubusercontent.com/entc-17-fyp-20/Datasets/main/AE59_2.csv' #AE59_2\n",
        "url4 = 'https://raw.githubusercontent.com/entc-17-fyp-20/Datasets/main/V08%20June%2010%20sec%20data.csv' #V08 June 10 sec data.csv; does not contain current columns\n",
        "url5 = 'https://raw.githubusercontent.com/entc-17-fyp-20/Datasets/main/V13%20June%2010%20sec%20data.csv' #V13 June 10 sec data.csv\n",
        "url6 = 'https://raw.githubusercontent.com/entc-17-fyp-20/Datasets/main/V08%20July%2010%20sec%20data.csv' #V08 July 10 sec data.csv\n",
        "url7 = 'https://raw.githubusercontent.com/entc-17-fyp-20/Datasets/main/V13%20July%2010%20sec%20data.csv' #V13 July 10 sec data.csv\n",
        "url8 = 'https://raw.githubusercontent.com/entc-17-fyp-20/Datasets/main/Mannar.csv'  #Mannar dataset-10_min-wind_speed.csv\n",
        "url9 = 'https://raw.githubusercontent.com/entc-17-fyp-20/Datasets/main/Mannar%20full%20data.csv' #Mannar full data set.csv\n",
        "url10 = 'https://raw.githubusercontent.com/entc-17-fyp-20/Datasets/main/2018%20Scada%20Data%20of%20a%20Wind%20Turbine%20in%20Turkey.csv' #2018 Scada Data of a Wind Turbine in Turkey - 10 min resolution data\n",
        "url11 = 'https://raw.githubusercontent.com/entc-17-fyp-20/Datasets/main/CEB%20new%20updated(Only%20actual).csv' #CEB new dataset\n",
        "url12 = 'https://raw.githubusercontent.com/entc-17-fyp-20/Datasets/main/CEB_dataset_full_august_to_december.csv' #merged CEB dataset"
      ]
    },
    {
      "cell_type": "markdown",
      "source": [
        "# **Reading the dataset**"
      ],
      "metadata": {
        "id": "hzFqQei2VCk1"
      }
    },
    {
      "cell_type": "code",
      "source": [
        "df = pd.read_csv(url12)\n",
        "df"
      ],
      "metadata": {
        "colab": {
          "base_uri": "https://localhost:8080/",
          "height": 424
        },
        "id": "W9HbDRyXVMsB",
        "outputId": "34a8cd4e-2b3c-487e-c908-b0f6946c3802"
      },
      "execution_count": null,
      "outputs": [
        {
          "output_type": "execute_result",
          "data": {
            "text/plain": [
              "            Date & Time  Active Power  Forecasted Power\n",
              "0         8/1/2021 0:00         95.84            100.25\n",
              "1         8/1/2021 0:10         96.03            100.01\n",
              "2         8/1/2021 0:20         93.72             97.12\n",
              "3         8/1/2021 0:30         88.84             96.96\n",
              "4         8/1/2021 0:40         90.97             94.08\n",
              "...                 ...           ...               ...\n",
              "21971  12/31/2021 23:10         21.75              0.00\n",
              "21972  12/31/2021 23:20         17.91              0.00\n",
              "21973  12/31/2021 23:30         14.70              0.00\n",
              "21974  12/31/2021 23:40         17.02              0.00\n",
              "21975  12/31/2021 23:50         17.88              0.00\n",
              "\n",
              "[21976 rows x 3 columns]"
            ],
            "text/html": [
              "\n",
              "  <div id=\"df-b15f1422-a7ce-4369-be95-c1cc8e99e160\">\n",
              "    <div class=\"colab-df-container\">\n",
              "      <div>\n",
              "<style scoped>\n",
              "    .dataframe tbody tr th:only-of-type {\n",
              "        vertical-align: middle;\n",
              "    }\n",
              "\n",
              "    .dataframe tbody tr th {\n",
              "        vertical-align: top;\n",
              "    }\n",
              "\n",
              "    .dataframe thead th {\n",
              "        text-align: right;\n",
              "    }\n",
              "</style>\n",
              "<table border=\"1\" class=\"dataframe\">\n",
              "  <thead>\n",
              "    <tr style=\"text-align: right;\">\n",
              "      <th></th>\n",
              "      <th>Date &amp; Time</th>\n",
              "      <th>Active Power</th>\n",
              "      <th>Forecasted Power</th>\n",
              "    </tr>\n",
              "  </thead>\n",
              "  <tbody>\n",
              "    <tr>\n",
              "      <th>0</th>\n",
              "      <td>8/1/2021 0:00</td>\n",
              "      <td>95.84</td>\n",
              "      <td>100.25</td>\n",
              "    </tr>\n",
              "    <tr>\n",
              "      <th>1</th>\n",
              "      <td>8/1/2021 0:10</td>\n",
              "      <td>96.03</td>\n",
              "      <td>100.01</td>\n",
              "    </tr>\n",
              "    <tr>\n",
              "      <th>2</th>\n",
              "      <td>8/1/2021 0:20</td>\n",
              "      <td>93.72</td>\n",
              "      <td>97.12</td>\n",
              "    </tr>\n",
              "    <tr>\n",
              "      <th>3</th>\n",
              "      <td>8/1/2021 0:30</td>\n",
              "      <td>88.84</td>\n",
              "      <td>96.96</td>\n",
              "    </tr>\n",
              "    <tr>\n",
              "      <th>4</th>\n",
              "      <td>8/1/2021 0:40</td>\n",
              "      <td>90.97</td>\n",
              "      <td>94.08</td>\n",
              "    </tr>\n",
              "    <tr>\n",
              "      <th>...</th>\n",
              "      <td>...</td>\n",
              "      <td>...</td>\n",
              "      <td>...</td>\n",
              "    </tr>\n",
              "    <tr>\n",
              "      <th>21971</th>\n",
              "      <td>12/31/2021 23:10</td>\n",
              "      <td>21.75</td>\n",
              "      <td>0.00</td>\n",
              "    </tr>\n",
              "    <tr>\n",
              "      <th>21972</th>\n",
              "      <td>12/31/2021 23:20</td>\n",
              "      <td>17.91</td>\n",
              "      <td>0.00</td>\n",
              "    </tr>\n",
              "    <tr>\n",
              "      <th>21973</th>\n",
              "      <td>12/31/2021 23:30</td>\n",
              "      <td>14.70</td>\n",
              "      <td>0.00</td>\n",
              "    </tr>\n",
              "    <tr>\n",
              "      <th>21974</th>\n",
              "      <td>12/31/2021 23:40</td>\n",
              "      <td>17.02</td>\n",
              "      <td>0.00</td>\n",
              "    </tr>\n",
              "    <tr>\n",
              "      <th>21975</th>\n",
              "      <td>12/31/2021 23:50</td>\n",
              "      <td>17.88</td>\n",
              "      <td>0.00</td>\n",
              "    </tr>\n",
              "  </tbody>\n",
              "</table>\n",
              "<p>21976 rows × 3 columns</p>\n",
              "</div>\n",
              "      <button class=\"colab-df-convert\" onclick=\"convertToInteractive('df-b15f1422-a7ce-4369-be95-c1cc8e99e160')\"\n",
              "              title=\"Convert this dataframe to an interactive table.\"\n",
              "              style=\"display:none;\">\n",
              "        \n",
              "  <svg xmlns=\"http://www.w3.org/2000/svg\" height=\"24px\"viewBox=\"0 0 24 24\"\n",
              "       width=\"24px\">\n",
              "    <path d=\"M0 0h24v24H0V0z\" fill=\"none\"/>\n",
              "    <path d=\"M18.56 5.44l.94 2.06.94-2.06 2.06-.94-2.06-.94-.94-2.06-.94 2.06-2.06.94zm-11 1L8.5 8.5l.94-2.06 2.06-.94-2.06-.94L8.5 2.5l-.94 2.06-2.06.94zm10 10l.94 2.06.94-2.06 2.06-.94-2.06-.94-.94-2.06-.94 2.06-2.06.94z\"/><path d=\"M17.41 7.96l-1.37-1.37c-.4-.4-.92-.59-1.43-.59-.52 0-1.04.2-1.43.59L10.3 9.45l-7.72 7.72c-.78.78-.78 2.05 0 2.83L4 21.41c.39.39.9.59 1.41.59.51 0 1.02-.2 1.41-.59l7.78-7.78 2.81-2.81c.8-.78.8-2.07 0-2.86zM5.41 20L4 18.59l7.72-7.72 1.47 1.35L5.41 20z\"/>\n",
              "  </svg>\n",
              "      </button>\n",
              "      \n",
              "  <style>\n",
              "    .colab-df-container {\n",
              "      display:flex;\n",
              "      flex-wrap:wrap;\n",
              "      gap: 12px;\n",
              "    }\n",
              "\n",
              "    .colab-df-convert {\n",
              "      background-color: #E8F0FE;\n",
              "      border: none;\n",
              "      border-radius: 50%;\n",
              "      cursor: pointer;\n",
              "      display: none;\n",
              "      fill: #1967D2;\n",
              "      height: 32px;\n",
              "      padding: 0 0 0 0;\n",
              "      width: 32px;\n",
              "    }\n",
              "\n",
              "    .colab-df-convert:hover {\n",
              "      background-color: #E2EBFA;\n",
              "      box-shadow: 0px 1px 2px rgba(60, 64, 67, 0.3), 0px 1px 3px 1px rgba(60, 64, 67, 0.15);\n",
              "      fill: #174EA6;\n",
              "    }\n",
              "\n",
              "    [theme=dark] .colab-df-convert {\n",
              "      background-color: #3B4455;\n",
              "      fill: #D2E3FC;\n",
              "    }\n",
              "\n",
              "    [theme=dark] .colab-df-convert:hover {\n",
              "      background-color: #434B5C;\n",
              "      box-shadow: 0px 1px 3px 1px rgba(0, 0, 0, 0.15);\n",
              "      filter: drop-shadow(0px 1px 2px rgba(0, 0, 0, 0.3));\n",
              "      fill: #FFFFFF;\n",
              "    }\n",
              "  </style>\n",
              "\n",
              "      <script>\n",
              "        const buttonEl =\n",
              "          document.querySelector('#df-b15f1422-a7ce-4369-be95-c1cc8e99e160 button.colab-df-convert');\n",
              "        buttonEl.style.display =\n",
              "          google.colab.kernel.accessAllowed ? 'block' : 'none';\n",
              "\n",
              "        async function convertToInteractive(key) {\n",
              "          const element = document.querySelector('#df-b15f1422-a7ce-4369-be95-c1cc8e99e160');\n",
              "          const dataTable =\n",
              "            await google.colab.kernel.invokeFunction('convertToInteractive',\n",
              "                                                     [key], {});\n",
              "          if (!dataTable) return;\n",
              "\n",
              "          const docLinkHtml = 'Like what you see? Visit the ' +\n",
              "            '<a target=\"_blank\" href=https://colab.research.google.com/notebooks/data_table.ipynb>data table notebook</a>'\n",
              "            + ' to learn more about interactive tables.';\n",
              "          element.innerHTML = '';\n",
              "          dataTable['output_type'] = 'display_data';\n",
              "          await google.colab.output.renderOutput(dataTable, element);\n",
              "          const docLink = document.createElement('div');\n",
              "          docLink.innerHTML = docLinkHtml;\n",
              "          element.appendChild(docLink);\n",
              "        }\n",
              "      </script>\n",
              "    </div>\n",
              "  </div>\n",
              "  "
            ]
          },
          "metadata": {},
          "execution_count": 3
        }
      ]
    },
    {
      "cell_type": "markdown",
      "source": [
        " **Dataframe column rename**"
      ],
      "metadata": {
        "id": "c1rXkzVvEK7i"
      }
    },
    {
      "cell_type": "code",
      "source": [
        "col_0=(df.columns)[0]\n",
        "col_1=(df.columns)[1]\n",
        "col_2=(df.columns)[2]\n",
        "feature_0 = 'Date & Time'\n",
        "feature_1 = 'Active_Power'\n",
        "feature_2 = 'Wind_speed'\n",
        "df.rename(columns={col_0 : feature_0 , col_1 : feature_1 },inplace=True)\n",
        "df"
      ],
      "metadata": {
        "colab": {
          "base_uri": "https://localhost:8080/",
          "height": 424
        },
        "id": "IyxjI6snCjOF",
        "outputId": "ef6589ae-b257-44ec-99e4-4b10a3bd299d"
      },
      "execution_count": null,
      "outputs": [
        {
          "output_type": "execute_result",
          "data": {
            "text/plain": [
              "            Date & Time  Active_Power  Forecasted Power\n",
              "0         8/1/2021 0:00         95.84            100.25\n",
              "1         8/1/2021 0:10         96.03            100.01\n",
              "2         8/1/2021 0:20         93.72             97.12\n",
              "3         8/1/2021 0:30         88.84             96.96\n",
              "4         8/1/2021 0:40         90.97             94.08\n",
              "...                 ...           ...               ...\n",
              "21971  12/31/2021 23:10         21.75              0.00\n",
              "21972  12/31/2021 23:20         17.91              0.00\n",
              "21973  12/31/2021 23:30         14.70              0.00\n",
              "21974  12/31/2021 23:40         17.02              0.00\n",
              "21975  12/31/2021 23:50         17.88              0.00\n",
              "\n",
              "[21976 rows x 3 columns]"
            ],
            "text/html": [
              "\n",
              "  <div id=\"df-bfea7c67-bbce-414c-a590-4f3721057c55\">\n",
              "    <div class=\"colab-df-container\">\n",
              "      <div>\n",
              "<style scoped>\n",
              "    .dataframe tbody tr th:only-of-type {\n",
              "        vertical-align: middle;\n",
              "    }\n",
              "\n",
              "    .dataframe tbody tr th {\n",
              "        vertical-align: top;\n",
              "    }\n",
              "\n",
              "    .dataframe thead th {\n",
              "        text-align: right;\n",
              "    }\n",
              "</style>\n",
              "<table border=\"1\" class=\"dataframe\">\n",
              "  <thead>\n",
              "    <tr style=\"text-align: right;\">\n",
              "      <th></th>\n",
              "      <th>Date &amp; Time</th>\n",
              "      <th>Active_Power</th>\n",
              "      <th>Forecasted Power</th>\n",
              "    </tr>\n",
              "  </thead>\n",
              "  <tbody>\n",
              "    <tr>\n",
              "      <th>0</th>\n",
              "      <td>8/1/2021 0:00</td>\n",
              "      <td>95.84</td>\n",
              "      <td>100.25</td>\n",
              "    </tr>\n",
              "    <tr>\n",
              "      <th>1</th>\n",
              "      <td>8/1/2021 0:10</td>\n",
              "      <td>96.03</td>\n",
              "      <td>100.01</td>\n",
              "    </tr>\n",
              "    <tr>\n",
              "      <th>2</th>\n",
              "      <td>8/1/2021 0:20</td>\n",
              "      <td>93.72</td>\n",
              "      <td>97.12</td>\n",
              "    </tr>\n",
              "    <tr>\n",
              "      <th>3</th>\n",
              "      <td>8/1/2021 0:30</td>\n",
              "      <td>88.84</td>\n",
              "      <td>96.96</td>\n",
              "    </tr>\n",
              "    <tr>\n",
              "      <th>4</th>\n",
              "      <td>8/1/2021 0:40</td>\n",
              "      <td>90.97</td>\n",
              "      <td>94.08</td>\n",
              "    </tr>\n",
              "    <tr>\n",
              "      <th>...</th>\n",
              "      <td>...</td>\n",
              "      <td>...</td>\n",
              "      <td>...</td>\n",
              "    </tr>\n",
              "    <tr>\n",
              "      <th>21971</th>\n",
              "      <td>12/31/2021 23:10</td>\n",
              "      <td>21.75</td>\n",
              "      <td>0.00</td>\n",
              "    </tr>\n",
              "    <tr>\n",
              "      <th>21972</th>\n",
              "      <td>12/31/2021 23:20</td>\n",
              "      <td>17.91</td>\n",
              "      <td>0.00</td>\n",
              "    </tr>\n",
              "    <tr>\n",
              "      <th>21973</th>\n",
              "      <td>12/31/2021 23:30</td>\n",
              "      <td>14.70</td>\n",
              "      <td>0.00</td>\n",
              "    </tr>\n",
              "    <tr>\n",
              "      <th>21974</th>\n",
              "      <td>12/31/2021 23:40</td>\n",
              "      <td>17.02</td>\n",
              "      <td>0.00</td>\n",
              "    </tr>\n",
              "    <tr>\n",
              "      <th>21975</th>\n",
              "      <td>12/31/2021 23:50</td>\n",
              "      <td>17.88</td>\n",
              "      <td>0.00</td>\n",
              "    </tr>\n",
              "  </tbody>\n",
              "</table>\n",
              "<p>21976 rows × 3 columns</p>\n",
              "</div>\n",
              "      <button class=\"colab-df-convert\" onclick=\"convertToInteractive('df-bfea7c67-bbce-414c-a590-4f3721057c55')\"\n",
              "              title=\"Convert this dataframe to an interactive table.\"\n",
              "              style=\"display:none;\">\n",
              "        \n",
              "  <svg xmlns=\"http://www.w3.org/2000/svg\" height=\"24px\"viewBox=\"0 0 24 24\"\n",
              "       width=\"24px\">\n",
              "    <path d=\"M0 0h24v24H0V0z\" fill=\"none\"/>\n",
              "    <path d=\"M18.56 5.44l.94 2.06.94-2.06 2.06-.94-2.06-.94-.94-2.06-.94 2.06-2.06.94zm-11 1L8.5 8.5l.94-2.06 2.06-.94-2.06-.94L8.5 2.5l-.94 2.06-2.06.94zm10 10l.94 2.06.94-2.06 2.06-.94-2.06-.94-.94-2.06-.94 2.06-2.06.94z\"/><path d=\"M17.41 7.96l-1.37-1.37c-.4-.4-.92-.59-1.43-.59-.52 0-1.04.2-1.43.59L10.3 9.45l-7.72 7.72c-.78.78-.78 2.05 0 2.83L4 21.41c.39.39.9.59 1.41.59.51 0 1.02-.2 1.41-.59l7.78-7.78 2.81-2.81c.8-.78.8-2.07 0-2.86zM5.41 20L4 18.59l7.72-7.72 1.47 1.35L5.41 20z\"/>\n",
              "  </svg>\n",
              "      </button>\n",
              "      \n",
              "  <style>\n",
              "    .colab-df-container {\n",
              "      display:flex;\n",
              "      flex-wrap:wrap;\n",
              "      gap: 12px;\n",
              "    }\n",
              "\n",
              "    .colab-df-convert {\n",
              "      background-color: #E8F0FE;\n",
              "      border: none;\n",
              "      border-radius: 50%;\n",
              "      cursor: pointer;\n",
              "      display: none;\n",
              "      fill: #1967D2;\n",
              "      height: 32px;\n",
              "      padding: 0 0 0 0;\n",
              "      width: 32px;\n",
              "    }\n",
              "\n",
              "    .colab-df-convert:hover {\n",
              "      background-color: #E2EBFA;\n",
              "      box-shadow: 0px 1px 2px rgba(60, 64, 67, 0.3), 0px 1px 3px 1px rgba(60, 64, 67, 0.15);\n",
              "      fill: #174EA6;\n",
              "    }\n",
              "\n",
              "    [theme=dark] .colab-df-convert {\n",
              "      background-color: #3B4455;\n",
              "      fill: #D2E3FC;\n",
              "    }\n",
              "\n",
              "    [theme=dark] .colab-df-convert:hover {\n",
              "      background-color: #434B5C;\n",
              "      box-shadow: 0px 1px 3px 1px rgba(0, 0, 0, 0.15);\n",
              "      filter: drop-shadow(0px 1px 2px rgba(0, 0, 0, 0.3));\n",
              "      fill: #FFFFFF;\n",
              "    }\n",
              "  </style>\n",
              "\n",
              "      <script>\n",
              "        const buttonEl =\n",
              "          document.querySelector('#df-bfea7c67-bbce-414c-a590-4f3721057c55 button.colab-df-convert');\n",
              "        buttonEl.style.display =\n",
              "          google.colab.kernel.accessAllowed ? 'block' : 'none';\n",
              "\n",
              "        async function convertToInteractive(key) {\n",
              "          const element = document.querySelector('#df-bfea7c67-bbce-414c-a590-4f3721057c55');\n",
              "          const dataTable =\n",
              "            await google.colab.kernel.invokeFunction('convertToInteractive',\n",
              "                                                     [key], {});\n",
              "          if (!dataTable) return;\n",
              "\n",
              "          const docLinkHtml = 'Like what you see? Visit the ' +\n",
              "            '<a target=\"_blank\" href=https://colab.research.google.com/notebooks/data_table.ipynb>data table notebook</a>'\n",
              "            + ' to learn more about interactive tables.';\n",
              "          element.innerHTML = '';\n",
              "          dataTable['output_type'] = 'display_data';\n",
              "          await google.colab.output.renderOutput(dataTable, element);\n",
              "          const docLink = document.createElement('div');\n",
              "          docLink.innerHTML = docLinkHtml;\n",
              "          element.appendChild(docLink);\n",
              "        }\n",
              "      </script>\n",
              "    </div>\n",
              "  </div>\n",
              "  "
            ]
          },
          "metadata": {},
          "execution_count": 4
        }
      ]
    },
    {
      "cell_type": "markdown",
      "source": [
        "**Convert the date column to datetime object**"
      ],
      "metadata": {
        "id": "-8wnLPzIFodv"
      }
    },
    {
      "cell_type": "code",
      "source": [
        "df['Date & Time'] = pd.to_datetime(df['Date & Time']) \n",
        "df"
      ],
      "metadata": {
        "colab": {
          "base_uri": "https://localhost:8080/",
          "height": 424
        },
        "id": "fM7PjeasB-Sa",
        "outputId": "1ed7e200-56fc-45c0-bf10-d499c4ab8a89"
      },
      "execution_count": null,
      "outputs": [
        {
          "output_type": "execute_result",
          "data": {
            "text/plain": [
              "              Date & Time  Active_Power  Forecasted Power\n",
              "0     2021-08-01 00:00:00         95.84            100.25\n",
              "1     2021-08-01 00:10:00         96.03            100.01\n",
              "2     2021-08-01 00:20:00         93.72             97.12\n",
              "3     2021-08-01 00:30:00         88.84             96.96\n",
              "4     2021-08-01 00:40:00         90.97             94.08\n",
              "...                   ...           ...               ...\n",
              "21971 2021-12-31 23:10:00         21.75              0.00\n",
              "21972 2021-12-31 23:20:00         17.91              0.00\n",
              "21973 2021-12-31 23:30:00         14.70              0.00\n",
              "21974 2021-12-31 23:40:00         17.02              0.00\n",
              "21975 2021-12-31 23:50:00         17.88              0.00\n",
              "\n",
              "[21976 rows x 3 columns]"
            ],
            "text/html": [
              "\n",
              "  <div id=\"df-d5cfd2a6-a5c1-4c43-a9db-dcaa25b2f4a2\">\n",
              "    <div class=\"colab-df-container\">\n",
              "      <div>\n",
              "<style scoped>\n",
              "    .dataframe tbody tr th:only-of-type {\n",
              "        vertical-align: middle;\n",
              "    }\n",
              "\n",
              "    .dataframe tbody tr th {\n",
              "        vertical-align: top;\n",
              "    }\n",
              "\n",
              "    .dataframe thead th {\n",
              "        text-align: right;\n",
              "    }\n",
              "</style>\n",
              "<table border=\"1\" class=\"dataframe\">\n",
              "  <thead>\n",
              "    <tr style=\"text-align: right;\">\n",
              "      <th></th>\n",
              "      <th>Date &amp; Time</th>\n",
              "      <th>Active_Power</th>\n",
              "      <th>Forecasted Power</th>\n",
              "    </tr>\n",
              "  </thead>\n",
              "  <tbody>\n",
              "    <tr>\n",
              "      <th>0</th>\n",
              "      <td>2021-08-01 00:00:00</td>\n",
              "      <td>95.84</td>\n",
              "      <td>100.25</td>\n",
              "    </tr>\n",
              "    <tr>\n",
              "      <th>1</th>\n",
              "      <td>2021-08-01 00:10:00</td>\n",
              "      <td>96.03</td>\n",
              "      <td>100.01</td>\n",
              "    </tr>\n",
              "    <tr>\n",
              "      <th>2</th>\n",
              "      <td>2021-08-01 00:20:00</td>\n",
              "      <td>93.72</td>\n",
              "      <td>97.12</td>\n",
              "    </tr>\n",
              "    <tr>\n",
              "      <th>3</th>\n",
              "      <td>2021-08-01 00:30:00</td>\n",
              "      <td>88.84</td>\n",
              "      <td>96.96</td>\n",
              "    </tr>\n",
              "    <tr>\n",
              "      <th>4</th>\n",
              "      <td>2021-08-01 00:40:00</td>\n",
              "      <td>90.97</td>\n",
              "      <td>94.08</td>\n",
              "    </tr>\n",
              "    <tr>\n",
              "      <th>...</th>\n",
              "      <td>...</td>\n",
              "      <td>...</td>\n",
              "      <td>...</td>\n",
              "    </tr>\n",
              "    <tr>\n",
              "      <th>21971</th>\n",
              "      <td>2021-12-31 23:10:00</td>\n",
              "      <td>21.75</td>\n",
              "      <td>0.00</td>\n",
              "    </tr>\n",
              "    <tr>\n",
              "      <th>21972</th>\n",
              "      <td>2021-12-31 23:20:00</td>\n",
              "      <td>17.91</td>\n",
              "      <td>0.00</td>\n",
              "    </tr>\n",
              "    <tr>\n",
              "      <th>21973</th>\n",
              "      <td>2021-12-31 23:30:00</td>\n",
              "      <td>14.70</td>\n",
              "      <td>0.00</td>\n",
              "    </tr>\n",
              "    <tr>\n",
              "      <th>21974</th>\n",
              "      <td>2021-12-31 23:40:00</td>\n",
              "      <td>17.02</td>\n",
              "      <td>0.00</td>\n",
              "    </tr>\n",
              "    <tr>\n",
              "      <th>21975</th>\n",
              "      <td>2021-12-31 23:50:00</td>\n",
              "      <td>17.88</td>\n",
              "      <td>0.00</td>\n",
              "    </tr>\n",
              "  </tbody>\n",
              "</table>\n",
              "<p>21976 rows × 3 columns</p>\n",
              "</div>\n",
              "      <button class=\"colab-df-convert\" onclick=\"convertToInteractive('df-d5cfd2a6-a5c1-4c43-a9db-dcaa25b2f4a2')\"\n",
              "              title=\"Convert this dataframe to an interactive table.\"\n",
              "              style=\"display:none;\">\n",
              "        \n",
              "  <svg xmlns=\"http://www.w3.org/2000/svg\" height=\"24px\"viewBox=\"0 0 24 24\"\n",
              "       width=\"24px\">\n",
              "    <path d=\"M0 0h24v24H0V0z\" fill=\"none\"/>\n",
              "    <path d=\"M18.56 5.44l.94 2.06.94-2.06 2.06-.94-2.06-.94-.94-2.06-.94 2.06-2.06.94zm-11 1L8.5 8.5l.94-2.06 2.06-.94-2.06-.94L8.5 2.5l-.94 2.06-2.06.94zm10 10l.94 2.06.94-2.06 2.06-.94-2.06-.94-.94-2.06-.94 2.06-2.06.94z\"/><path d=\"M17.41 7.96l-1.37-1.37c-.4-.4-.92-.59-1.43-.59-.52 0-1.04.2-1.43.59L10.3 9.45l-7.72 7.72c-.78.78-.78 2.05 0 2.83L4 21.41c.39.39.9.59 1.41.59.51 0 1.02-.2 1.41-.59l7.78-7.78 2.81-2.81c.8-.78.8-2.07 0-2.86zM5.41 20L4 18.59l7.72-7.72 1.47 1.35L5.41 20z\"/>\n",
              "  </svg>\n",
              "      </button>\n",
              "      \n",
              "  <style>\n",
              "    .colab-df-container {\n",
              "      display:flex;\n",
              "      flex-wrap:wrap;\n",
              "      gap: 12px;\n",
              "    }\n",
              "\n",
              "    .colab-df-convert {\n",
              "      background-color: #E8F0FE;\n",
              "      border: none;\n",
              "      border-radius: 50%;\n",
              "      cursor: pointer;\n",
              "      display: none;\n",
              "      fill: #1967D2;\n",
              "      height: 32px;\n",
              "      padding: 0 0 0 0;\n",
              "      width: 32px;\n",
              "    }\n",
              "\n",
              "    .colab-df-convert:hover {\n",
              "      background-color: #E2EBFA;\n",
              "      box-shadow: 0px 1px 2px rgba(60, 64, 67, 0.3), 0px 1px 3px 1px rgba(60, 64, 67, 0.15);\n",
              "      fill: #174EA6;\n",
              "    }\n",
              "\n",
              "    [theme=dark] .colab-df-convert {\n",
              "      background-color: #3B4455;\n",
              "      fill: #D2E3FC;\n",
              "    }\n",
              "\n",
              "    [theme=dark] .colab-df-convert:hover {\n",
              "      background-color: #434B5C;\n",
              "      box-shadow: 0px 1px 3px 1px rgba(0, 0, 0, 0.15);\n",
              "      filter: drop-shadow(0px 1px 2px rgba(0, 0, 0, 0.3));\n",
              "      fill: #FFFFFF;\n",
              "    }\n",
              "  </style>\n",
              "\n",
              "      <script>\n",
              "        const buttonEl =\n",
              "          document.querySelector('#df-d5cfd2a6-a5c1-4c43-a9db-dcaa25b2f4a2 button.colab-df-convert');\n",
              "        buttonEl.style.display =\n",
              "          google.colab.kernel.accessAllowed ? 'block' : 'none';\n",
              "\n",
              "        async function convertToInteractive(key) {\n",
              "          const element = document.querySelector('#df-d5cfd2a6-a5c1-4c43-a9db-dcaa25b2f4a2');\n",
              "          const dataTable =\n",
              "            await google.colab.kernel.invokeFunction('convertToInteractive',\n",
              "                                                     [key], {});\n",
              "          if (!dataTable) return;\n",
              "\n",
              "          const docLinkHtml = 'Like what you see? Visit the ' +\n",
              "            '<a target=\"_blank\" href=https://colab.research.google.com/notebooks/data_table.ipynb>data table notebook</a>'\n",
              "            + ' to learn more about interactive tables.';\n",
              "          element.innerHTML = '';\n",
              "          dataTable['output_type'] = 'display_data';\n",
              "          await google.colab.output.renderOutput(dataTable, element);\n",
              "          const docLink = document.createElement('div');\n",
              "          docLink.innerHTML = docLinkHtml;\n",
              "          element.appendChild(docLink);\n",
              "        }\n",
              "      </script>\n",
              "    </div>\n",
              "  </div>\n",
              "  "
            ]
          },
          "metadata": {},
          "execution_count": 5
        }
      ]
    },
    {
      "cell_type": "markdown",
      "source": [
        "**Active power convert to =>MW**"
      ],
      "metadata": {
        "id": "JtORyQLjF9Ji"
      }
    },
    {
      "cell_type": "code",
      "source": [
        "# df[feature_1]=df[feature_1].div(1000)\n",
        "# df"
      ],
      "metadata": {
        "id": "P9d6D64CF1dg"
      },
      "execution_count": null,
      "outputs": []
    },
    {
      "cell_type": "markdown",
      "source": [
        "**set the index to the Date time column**"
      ],
      "metadata": {
        "id": "jHv_5y8dGOFW"
      }
    },
    {
      "cell_type": "code",
      "source": [
        "df.set_index(feature_0,inplace=True) "
      ],
      "metadata": {
        "id": "wVbu1mIlGH4r"
      },
      "execution_count": null,
      "outputs": []
    },
    {
      "cell_type": "markdown",
      "source": [
        "# **Exploratory Data Analysis (EDA)**"
      ],
      "metadata": {
        "id": "a08cn2vdG46D"
      }
    },
    {
      "cell_type": "code",
      "source": [
        "df.describe()"
      ],
      "metadata": {
        "colab": {
          "base_uri": "https://localhost:8080/",
          "height": 300
        },
        "id": "M-yGxnVFGUhY",
        "outputId": "31a61f38-f2ce-4187-dca0-42596b8be99b"
      },
      "execution_count": null,
      "outputs": [
        {
          "output_type": "execute_result",
          "data": {
            "text/plain": [
              "       Active_Power  Forecasted Power\n",
              "count     21,976.00         21,974.00\n",
              "mean          47.85             50.33\n",
              "std           37.67             41.76\n",
              "min           -0.76              0.00\n",
              "25%           13.22              2.59\n",
              "50%           37.43             47.42\n",
              "75%           91.31             92.96\n",
              "max          103.50            103.50"
            ],
            "text/html": [
              "\n",
              "  <div id=\"df-8ec4b71b-a2c1-455c-a139-61194c11eb71\">\n",
              "    <div class=\"colab-df-container\">\n",
              "      <div>\n",
              "<style scoped>\n",
              "    .dataframe tbody tr th:only-of-type {\n",
              "        vertical-align: middle;\n",
              "    }\n",
              "\n",
              "    .dataframe tbody tr th {\n",
              "        vertical-align: top;\n",
              "    }\n",
              "\n",
              "    .dataframe thead th {\n",
              "        text-align: right;\n",
              "    }\n",
              "</style>\n",
              "<table border=\"1\" class=\"dataframe\">\n",
              "  <thead>\n",
              "    <tr style=\"text-align: right;\">\n",
              "      <th></th>\n",
              "      <th>Active_Power</th>\n",
              "      <th>Forecasted Power</th>\n",
              "    </tr>\n",
              "  </thead>\n",
              "  <tbody>\n",
              "    <tr>\n",
              "      <th>count</th>\n",
              "      <td>21,976.00</td>\n",
              "      <td>21,974.00</td>\n",
              "    </tr>\n",
              "    <tr>\n",
              "      <th>mean</th>\n",
              "      <td>47.85</td>\n",
              "      <td>50.33</td>\n",
              "    </tr>\n",
              "    <tr>\n",
              "      <th>std</th>\n",
              "      <td>37.67</td>\n",
              "      <td>41.76</td>\n",
              "    </tr>\n",
              "    <tr>\n",
              "      <th>min</th>\n",
              "      <td>-0.76</td>\n",
              "      <td>0.00</td>\n",
              "    </tr>\n",
              "    <tr>\n",
              "      <th>25%</th>\n",
              "      <td>13.22</td>\n",
              "      <td>2.59</td>\n",
              "    </tr>\n",
              "    <tr>\n",
              "      <th>50%</th>\n",
              "      <td>37.43</td>\n",
              "      <td>47.42</td>\n",
              "    </tr>\n",
              "    <tr>\n",
              "      <th>75%</th>\n",
              "      <td>91.31</td>\n",
              "      <td>92.96</td>\n",
              "    </tr>\n",
              "    <tr>\n",
              "      <th>max</th>\n",
              "      <td>103.50</td>\n",
              "      <td>103.50</td>\n",
              "    </tr>\n",
              "  </tbody>\n",
              "</table>\n",
              "</div>\n",
              "      <button class=\"colab-df-convert\" onclick=\"convertToInteractive('df-8ec4b71b-a2c1-455c-a139-61194c11eb71')\"\n",
              "              title=\"Convert this dataframe to an interactive table.\"\n",
              "              style=\"display:none;\">\n",
              "        \n",
              "  <svg xmlns=\"http://www.w3.org/2000/svg\" height=\"24px\"viewBox=\"0 0 24 24\"\n",
              "       width=\"24px\">\n",
              "    <path d=\"M0 0h24v24H0V0z\" fill=\"none\"/>\n",
              "    <path d=\"M18.56 5.44l.94 2.06.94-2.06 2.06-.94-2.06-.94-.94-2.06-.94 2.06-2.06.94zm-11 1L8.5 8.5l.94-2.06 2.06-.94-2.06-.94L8.5 2.5l-.94 2.06-2.06.94zm10 10l.94 2.06.94-2.06 2.06-.94-2.06-.94-.94-2.06-.94 2.06-2.06.94z\"/><path d=\"M17.41 7.96l-1.37-1.37c-.4-.4-.92-.59-1.43-.59-.52 0-1.04.2-1.43.59L10.3 9.45l-7.72 7.72c-.78.78-.78 2.05 0 2.83L4 21.41c.39.39.9.59 1.41.59.51 0 1.02-.2 1.41-.59l7.78-7.78 2.81-2.81c.8-.78.8-2.07 0-2.86zM5.41 20L4 18.59l7.72-7.72 1.47 1.35L5.41 20z\"/>\n",
              "  </svg>\n",
              "      </button>\n",
              "      \n",
              "  <style>\n",
              "    .colab-df-container {\n",
              "      display:flex;\n",
              "      flex-wrap:wrap;\n",
              "      gap: 12px;\n",
              "    }\n",
              "\n",
              "    .colab-df-convert {\n",
              "      background-color: #E8F0FE;\n",
              "      border: none;\n",
              "      border-radius: 50%;\n",
              "      cursor: pointer;\n",
              "      display: none;\n",
              "      fill: #1967D2;\n",
              "      height: 32px;\n",
              "      padding: 0 0 0 0;\n",
              "      width: 32px;\n",
              "    }\n",
              "\n",
              "    .colab-df-convert:hover {\n",
              "      background-color: #E2EBFA;\n",
              "      box-shadow: 0px 1px 2px rgba(60, 64, 67, 0.3), 0px 1px 3px 1px rgba(60, 64, 67, 0.15);\n",
              "      fill: #174EA6;\n",
              "    }\n",
              "\n",
              "    [theme=dark] .colab-df-convert {\n",
              "      background-color: #3B4455;\n",
              "      fill: #D2E3FC;\n",
              "    }\n",
              "\n",
              "    [theme=dark] .colab-df-convert:hover {\n",
              "      background-color: #434B5C;\n",
              "      box-shadow: 0px 1px 3px 1px rgba(0, 0, 0, 0.15);\n",
              "      filter: drop-shadow(0px 1px 2px rgba(0, 0, 0, 0.3));\n",
              "      fill: #FFFFFF;\n",
              "    }\n",
              "  </style>\n",
              "\n",
              "      <script>\n",
              "        const buttonEl =\n",
              "          document.querySelector('#df-8ec4b71b-a2c1-455c-a139-61194c11eb71 button.colab-df-convert');\n",
              "        buttonEl.style.display =\n",
              "          google.colab.kernel.accessAllowed ? 'block' : 'none';\n",
              "\n",
              "        async function convertToInteractive(key) {\n",
              "          const element = document.querySelector('#df-8ec4b71b-a2c1-455c-a139-61194c11eb71');\n",
              "          const dataTable =\n",
              "            await google.colab.kernel.invokeFunction('convertToInteractive',\n",
              "                                                     [key], {});\n",
              "          if (!dataTable) return;\n",
              "\n",
              "          const docLinkHtml = 'Like what you see? Visit the ' +\n",
              "            '<a target=\"_blank\" href=https://colab.research.google.com/notebooks/data_table.ipynb>data table notebook</a>'\n",
              "            + ' to learn more about interactive tables.';\n",
              "          element.innerHTML = '';\n",
              "          dataTable['output_type'] = 'display_data';\n",
              "          await google.colab.output.renderOutput(dataTable, element);\n",
              "          const docLink = document.createElement('div');\n",
              "          docLink.innerHTML = docLinkHtml;\n",
              "          element.appendChild(docLink);\n",
              "        }\n",
              "      </script>\n",
              "    </div>\n",
              "  </div>\n",
              "  "
            ]
          },
          "metadata": {},
          "execution_count": 8
        }
      ]
    },
    {
      "cell_type": "code",
      "source": [
        "df.isnull().sum()"
      ],
      "metadata": {
        "colab": {
          "base_uri": "https://localhost:8080/"
        },
        "id": "d371OrLDHRZf",
        "outputId": "a54fd5f7-4bb5-461a-b1b5-7f770c5be6fa"
      },
      "execution_count": null,
      "outputs": [
        {
          "output_type": "execute_result",
          "data": {
            "text/plain": [
              "Active_Power        0\n",
              "Forecasted Power    2\n",
              "dtype: int64"
            ]
          },
          "metadata": {},
          "execution_count": 9
        }
      ]
    },
    {
      "cell_type": "markdown",
      "source": [
        "**Visualization**"
      ],
      "metadata": {
        "id": "Z1LnfnUrKMB3"
      }
    },
    {
      "cell_type": "markdown",
      "source": [
        "**correlation between the values**"
      ],
      "metadata": {
        "id": "ysZbt7BWKcq7"
      }
    },
    {
      "cell_type": "code",
      "source": [
        "#correlation between the values\n",
        "corr = df.corr()\n",
        "plt.figure(figsize=(10, 8))\n",
        "\n",
        "ax = sns.heatmap(corr, vmin = -1, vmax = 1, annot = True)\n",
        "bottom, top = ax.get_ylim()\n",
        "ax.set_ylim(bottom + 0.5, top - 0.5)\n",
        "plt.show()\n",
        "corr"
      ],
      "metadata": {
        "colab": {
          "base_uri": "https://localhost:8080/",
          "height": 585
        },
        "id": "A24dN50ZKbDh",
        "outputId": "7a667364-a4c9-4bd0-bab8-d892836a557f"
      },
      "execution_count": null,
      "outputs": [
        {
          "output_type": "display_data",
          "data": {
            "text/plain": [
              "<Figure size 720x576 with 2 Axes>"
            ],
            "image/png": "[encoded data removed]"
          },
          "metadata": {
            "needs_background": "light"
          }
        },
        {
          "output_type": "execute_result",
          "data": {
            "text/plain": [
              "                  Active_Power  Forecasted Power\n",
              "Active_Power              1.00              0.73\n",
              "Forecasted Power          0.73              1.00"
            ],
            "text/html": [
              "\n",
              "  <div id=\"df-0ff415e6-8081-4399-8b9d-78c1d4174ec6\">\n",
              "    <div class=\"colab-df-container\">\n",
              "      <div>\n",
              "<style scoped>\n",
              "    .dataframe tbody tr th:only-of-type {\n",
              "        vertical-align: middle;\n",
              "    }\n",
              "\n",
              "    .dataframe tbody tr th {\n",
              "        vertical-align: top;\n",
              "    }\n",
              "\n",
              "    .dataframe thead th {\n",
              "        text-align: right;\n",
              "    }\n",
              "</style>\n",
              "<table border=\"1\" class=\"dataframe\">\n",
              "  <thead>\n",
              "    <tr style=\"text-align: right;\">\n",
              "      <th></th>\n",
              "      <th>Active_Power</th>\n",
              "      <th>Forecasted Power</th>\n",
              "    </tr>\n",
              "  </thead>\n",
              "  <tbody>\n",
              "    <tr>\n",
              "      <th>Active_Power</th>\n",
              "      <td>1.00</td>\n",
              "      <td>0.73</td>\n",
              "    </tr>\n",
              "    <tr>\n",
              "      <th>Forecasted Power</th>\n",
              "      <td>0.73</td>\n",
              "      <td>1.00</td>\n",
              "    </tr>\n",
              "  </tbody>\n",
              "</table>\n",
              "</div>\n",
              "      <button class=\"colab-df-convert\" onclick=\"convertToInteractive('df-0ff415e6-8081-4399-8b9d-78c1d4174ec6')\"\n",
              "              title=\"Convert this dataframe to an interactive table.\"\n",
              "              style=\"display:none;\">\n",
              "        \n",
              "  <svg xmlns=\"http://www.w3.org/2000/svg\" height=\"24px\"viewBox=\"0 0 24 24\"\n",
              "       width=\"24px\">\n",
              "    <path d=\"M0 0h24v24H0V0z\" fill=\"none\"/>\n",
              "    <path d=\"M18.56 5.44l.94 2.06.94-2.06 2.06-.94-2.06-.94-.94-2.06-.94 2.06-2.06.94zm-11 1L8.5 8.5l.94-2.06 2.06-.94-2.06-.94L8.5 2.5l-.94 2.06-2.06.94zm10 10l.94 2.06.94-2.06 2.06-.94-2.06-.94-.94-2.06-.94 2.06-2.06.94z\"/><path d=\"M17.41 7.96l-1.37-1.37c-.4-.4-.92-.59-1.43-.59-.52 0-1.04.2-1.43.59L10.3 9.45l-7.72 7.72c-.78.78-.78 2.05 0 2.83L4 21.41c.39.39.9.59 1.41.59.51 0 1.02-.2 1.41-.59l7.78-7.78 2.81-2.81c.8-.78.8-2.07 0-2.86zM5.41 20L4 18.59l7.72-7.72 1.47 1.35L5.41 20z\"/>\n",
              "  </svg>\n",
              "      </button>\n",
              "      \n",
              "  <style>\n",
              "    .colab-df-container {\n",
              "      display:flex;\n",
              "      flex-wrap:wrap;\n",
              "      gap: 12px;\n",
              "    }\n",
              "\n",
              "    .colab-df-convert {\n",
              "      background-color: #E8F0FE;\n",
              "      border: none;\n",
              "      border-radius: 50%;\n",
              "      cursor: pointer;\n",
              "      display: none;\n",
              "      fill: #1967D2;\n",
              "      height: 32px;\n",
              "      padding: 0 0 0 0;\n",
              "      width: 32px;\n",
              "    }\n",
              "\n",
              "    .colab-df-convert:hover {\n",
              "      background-color: #E2EBFA;\n",
              "      box-shadow: 0px 1px 2px rgba(60, 64, 67, 0.3), 0px 1px 3px 1px rgba(60, 64, 67, 0.15);\n",
              "      fill: #174EA6;\n",
              "    }\n",
              "\n",
              "    [theme=dark] .colab-df-convert {\n",
              "      background-color: #3B4455;\n",
              "      fill: #D2E3FC;\n",
              "    }\n",
              "\n",
              "    [theme=dark] .colab-df-convert:hover {\n",
              "      background-color: #434B5C;\n",
              "      box-shadow: 0px 1px 3px 1px rgba(0, 0, 0, 0.15);\n",
              "      filter: drop-shadow(0px 1px 2px rgba(0, 0, 0, 0.3));\n",
              "      fill: #FFFFFF;\n",
              "    }\n",
              "  </style>\n",
              "\n",
              "      <script>\n",
              "        const buttonEl =\n",
              "          document.querySelector('#df-0ff415e6-8081-4399-8b9d-78c1d4174ec6 button.colab-df-convert');\n",
              "        buttonEl.style.display =\n",
              "          google.colab.kernel.accessAllowed ? 'block' : 'none';\n",
              "\n",
              "        async function convertToInteractive(key) {\n",
              "          const element = document.querySelector('#df-0ff415e6-8081-4399-8b9d-78c1d4174ec6');\n",
              "          const dataTable =\n",
              "            await google.colab.kernel.invokeFunction('convertToInteractive',\n",
              "                                                     [key], {});\n",
              "          if (!dataTable) return;\n",
              "\n",
              "          const docLinkHtml = 'Like what you see? Visit the ' +\n",
              "            '<a target=\"_blank\" href=https://colab.research.google.com/notebooks/data_table.ipynb>data table notebook</a>'\n",
              "            + ' to learn more about interactive tables.';\n",
              "          element.innerHTML = '';\n",
              "          dataTable['output_type'] = 'display_data';\n",
              "          await google.colab.output.renderOutput(dataTable, element);\n",
              "          const docLink = document.createElement('div');\n",
              "          docLink.innerHTML = docLinkHtml;\n",
              "          element.appendChild(docLink);\n",
              "        }\n",
              "      </script>\n",
              "    </div>\n",
              "  </div>\n",
              "  "
            ]
          },
          "metadata": {},
          "execution_count": 10
        }
      ]
    },
    {
      "cell_type": "markdown",
      "source": [
        "# **Train an validation data set**"
      ],
      "metadata": {
        "id": "tQEHWN49o6Jv"
      }
    },
    {
      "cell_type": "code",
      "source": [
        "df=pd.DataFrame(df)\n",
        "df_temp=df.copy()"
      ],
      "metadata": {
        "id": "aw63oPbod5ea"
      },
      "execution_count": null,
      "outputs": []
    },
    {
      "cell_type": "code",
      "source": [
        "df_temp"
      ],
      "metadata": {
        "id": "Q5s-isRb5GUa",
        "outputId": "ae497d2f-ce27-474f-8c53-dc94e24bb0e7",
        "colab": {
          "base_uri": "https://localhost:8080/",
          "height": 455
        }
      },
      "execution_count": null,
      "outputs": [
        {
          "output_type": "execute_result",
          "data": {
            "text/plain": [
              "                     Active_Power  Forecasted Power\n",
              "Date & Time                                        \n",
              "2021-08-01 00:00:00         95.84            100.25\n",
              "2021-08-01 00:10:00         96.03            100.01\n",
              "2021-08-01 00:20:00         93.72             97.12\n",
              "2021-08-01 00:30:00         88.84             96.96\n",
              "2021-08-01 00:40:00         90.97             94.08\n",
              "...                           ...               ...\n",
              "2021-12-31 23:10:00         21.75              0.00\n",
              "2021-12-31 23:20:00         17.91              0.00\n",
              "2021-12-31 23:30:00         14.70              0.00\n",
              "2021-12-31 23:40:00         17.02              0.00\n",
              "2021-12-31 23:50:00         17.88              0.00\n",
              "\n",
              "[21976 rows x 2 columns]"
            ],
            "text/html": [
              "\n",
              "  <div id=\"df-7550c975-227e-4651-bd4a-7518315ffeca\">\n",
              "    <div class=\"colab-df-container\">\n",
              "      <div>\n",
              "<style scoped>\n",
              "    .dataframe tbody tr th:only-of-type {\n",
              "        vertical-align: middle;\n",
              "    }\n",
              "\n",
              "    .dataframe tbody tr th {\n",
              "        vertical-align: top;\n",
              "    }\n",
              "\n",
              "    .dataframe thead th {\n",
              "        text-align: right;\n",
              "    }\n",
              "</style>\n",
              "<table border=\"1\" class=\"dataframe\">\n",
              "  <thead>\n",
              "    <tr style=\"text-align: right;\">\n",
              "      <th></th>\n",
              "      <th>Active_Power</th>\n",
              "      <th>Forecasted Power</th>\n",
              "    </tr>\n",
              "    <tr>\n",
              "      <th>Date &amp; Time</th>\n",
              "      <th></th>\n",
              "      <th></th>\n",
              "    </tr>\n",
              "  </thead>\n",
              "  <tbody>\n",
              "    <tr>\n",
              "      <th>2021-08-01 00:00:00</th>\n",
              "      <td>95.84</td>\n",
              "      <td>100.25</td>\n",
              "    </tr>\n",
              "    <tr>\n",
              "      <th>2021-08-01 00:10:00</th>\n",
              "      <td>96.03</td>\n",
              "      <td>100.01</td>\n",
              "    </tr>\n",
              "    <tr>\n",
              "      <th>2021-08-01 00:20:00</th>\n",
              "      <td>93.72</td>\n",
              "      <td>97.12</td>\n",
              "    </tr>\n",
              "    <tr>\n",
              "      <th>2021-08-01 00:30:00</th>\n",
              "      <td>88.84</td>\n",
              "      <td>96.96</td>\n",
              "    </tr>\n",
              "    <tr>\n",
              "      <th>2021-08-01 00:40:00</th>\n",
              "      <td>90.97</td>\n",
              "      <td>94.08</td>\n",
              "    </tr>\n",
              "    <tr>\n",
              "      <th>...</th>\n",
              "      <td>...</td>\n",
              "      <td>...</td>\n",
              "    </tr>\n",
              "    <tr>\n",
              "      <th>2021-12-31 23:10:00</th>\n",
              "      <td>21.75</td>\n",
              "      <td>0.00</td>\n",
              "    </tr>\n",
              "    <tr>\n",
              "      <th>2021-12-31 23:20:00</th>\n",
              "      <td>17.91</td>\n",
              "      <td>0.00</td>\n",
              "    </tr>\n",
              "    <tr>\n",
              "      <th>2021-12-31 23:30:00</th>\n",
              "      <td>14.70</td>\n",
              "      <td>0.00</td>\n",
              "    </tr>\n",
              "    <tr>\n",
              "      <th>2021-12-31 23:40:00</th>\n",
              "      <td>17.02</td>\n",
              "      <td>0.00</td>\n",
              "    </tr>\n",
              "    <tr>\n",
              "      <th>2021-12-31 23:50:00</th>\n",
              "      <td>17.88</td>\n",
              "      <td>0.00</td>\n",
              "    </tr>\n",
              "  </tbody>\n",
              "</table>\n",
              "<p>21976 rows × 2 columns</p>\n",
              "</div>\n",
              "      <button class=\"colab-df-convert\" onclick=\"convertToInteractive('df-7550c975-227e-4651-bd4a-7518315ffeca')\"\n",
              "              title=\"Convert this dataframe to an interactive table.\"\n",
              "              style=\"display:none;\">\n",
              "        \n",
              "  <svg xmlns=\"http://www.w3.org/2000/svg\" height=\"24px\"viewBox=\"0 0 24 24\"\n",
              "       width=\"24px\">\n",
              "    <path d=\"M0 0h24v24H0V0z\" fill=\"none\"/>\n",
              "    <path d=\"M18.56 5.44l.94 2.06.94-2.06 2.06-.94-2.06-.94-.94-2.06-.94 2.06-2.06.94zm-11 1L8.5 8.5l.94-2.06 2.06-.94-2.06-.94L8.5 2.5l-.94 2.06-2.06.94zm10 10l.94 2.06.94-2.06 2.06-.94-2.06-.94-.94-2.06-.94 2.06-2.06.94z\"/><path d=\"M17.41 7.96l-1.37-1.37c-.4-.4-.92-.59-1.43-.59-.52 0-1.04.2-1.43.59L10.3 9.45l-7.72 7.72c-.78.78-.78 2.05 0 2.83L4 21.41c.39.39.9.59 1.41.59.51 0 1.02-.2 1.41-.59l7.78-7.78 2.81-2.81c.8-.78.8-2.07 0-2.86zM5.41 20L4 18.59l7.72-7.72 1.47 1.35L5.41 20z\"/>\n",
              "  </svg>\n",
              "      </button>\n",
              "      \n",
              "  <style>\n",
              "    .colab-df-container {\n",
              "      display:flex;\n",
              "      flex-wrap:wrap;\n",
              "      gap: 12px;\n",
              "    }\n",
              "\n",
              "    .colab-df-convert {\n",
              "      background-color: #E8F0FE;\n",
              "      border: none;\n",
              "      border-radius: 50%;\n",
              "      cursor: pointer;\n",
              "      display: none;\n",
              "      fill: #1967D2;\n",
              "      height: 32px;\n",
              "      padding: 0 0 0 0;\n",
              "      width: 32px;\n",
              "    }\n",
              "\n",
              "    .colab-df-convert:hover {\n",
              "      background-color: #E2EBFA;\n",
              "      box-shadow: 0px 1px 2px rgba(60, 64, 67, 0.3), 0px 1px 3px 1px rgba(60, 64, 67, 0.15);\n",
              "      fill: #174EA6;\n",
              "    }\n",
              "\n",
              "    [theme=dark] .colab-df-convert {\n",
              "      background-color: #3B4455;\n",
              "      fill: #D2E3FC;\n",
              "    }\n",
              "\n",
              "    [theme=dark] .colab-df-convert:hover {\n",
              "      background-color: #434B5C;\n",
              "      box-shadow: 0px 1px 3px 1px rgba(0, 0, 0, 0.15);\n",
              "      filter: drop-shadow(0px 1px 2px rgba(0, 0, 0, 0.3));\n",
              "      fill: #FFFFFF;\n",
              "    }\n",
              "  </style>\n",
              "\n",
              "      <script>\n",
              "        const buttonEl =\n",
              "          document.querySelector('#df-7550c975-227e-4651-bd4a-7518315ffeca button.colab-df-convert');\n",
              "        buttonEl.style.display =\n",
              "          google.colab.kernel.accessAllowed ? 'block' : 'none';\n",
              "\n",
              "        async function convertToInteractive(key) {\n",
              "          const element = document.querySelector('#df-7550c975-227e-4651-bd4a-7518315ffeca');\n",
              "          const dataTable =\n",
              "            await google.colab.kernel.invokeFunction('convertToInteractive',\n",
              "                                                     [key], {});\n",
              "          if (!dataTable) return;\n",
              "\n",
              "          const docLinkHtml = 'Like what you see? Visit the ' +\n",
              "            '<a target=\"_blank\" href=https://colab.research.google.com/notebooks/data_table.ipynb>data table notebook</a>'\n",
              "            + ' to learn more about interactive tables.';\n",
              "          element.innerHTML = '';\n",
              "          dataTable['output_type'] = 'display_data';\n",
              "          await google.colab.output.renderOutput(dataTable, element);\n",
              "          const docLink = document.createElement('div');\n",
              "          docLink.innerHTML = docLinkHtml;\n",
              "          element.appendChild(docLink);\n",
              "        }\n",
              "      </script>\n",
              "    </div>\n",
              "  </div>\n",
              "  "
            ]
          },
          "metadata": {},
          "execution_count": 12
        }
      ]
    },
    {
      "cell_type": "code",
      "source": [
        "df=df_temp[0:10000] #8/1/2021 0:00 to 9/30/2021 23:50"
      ],
      "metadata": {
        "id": "0h1gN0QPxuG6"
      },
      "execution_count": null,
      "outputs": []
    },
    {
      "cell_type": "code",
      "source": [
        "df=df.replace(0,df.mean())\n",
        "count = (df == 0).sum()\n",
        "count"
      ],
      "metadata": {
        "id": "4hOEnPcG5Zro",
        "outputId": "4fd88f56-f51f-4810-857a-114c86c62bf7",
        "colab": {
          "base_uri": "https://localhost:8080/"
        }
      },
      "execution_count": null,
      "outputs": [
        {
          "output_type": "execute_result",
          "data": {
            "text/plain": [
              "Active_Power        0\n",
              "Forecasted Power    0\n",
              "dtype: int64"
            ]
          },
          "metadata": {},
          "execution_count": 14
        }
      ]
    },
    {
      "cell_type": "markdown",
      "source": [
        "**Divide train and validation sets**"
      ],
      "metadata": {
        "id": "0LVKS7WTpGsj"
      }
    },
    {
      "cell_type": "code",
      "source": [
        "L=len(df)\n",
        "valid_start=int(8*L/10)\n",
        "\n",
        "train,valid=df[:valid_start],df[valid_start:]\n",
        "\n",
        "#print(train.shape)\n",
        "#print(valid.shape)\n",
        "#print(test.shape)\n",
        "\n",
        "#print(train.describe())\n",
        "#print(valid.describe())\n",
        "#print(test.describe())"
      ],
      "metadata": {
        "id": "a8wbfwLIoTMb"
      },
      "execution_count": null,
      "outputs": []
    },
    {
      "cell_type": "markdown",
      "source": [
        "# **Data preparation train and validation**"
      ],
      "metadata": {
        "id": "tWJ-eNg0pN-_"
      }
    },
    {
      "cell_type": "code",
      "source": [
        "T = 6\n",
        "HORIZON = 1"
      ],
      "metadata": {
        "id": "kLv2Ly1Gozkt"
      },
      "execution_count": null,
      "outputs": []
    },
    {
      "cell_type": "code",
      "source": [
        "scalar= MinMaxScaler()"
      ],
      "metadata": {
        "id": "isq9GZdOmnND"
      },
      "execution_count": null,
      "outputs": []
    },
    {
      "cell_type": "code",
      "source": [
        "def data_prepare(dataF,feature):\n",
        "    dataF=pd.DataFrame(dataF[feature])\n",
        "    dataF[feature] = scalar.fit_transform(dataF)\n",
        "    dataF_shifted = dataF.copy()\n",
        "    dataF_shifted['y_t+1'] = dataF_shifted[feature].shift(-1)\n",
        "    print(dataF_shifted.head(10))\n",
        "\n",
        "    for t in range(1, T+1):\n",
        "        dataF_shifted[feature+'_t-'+str(T-t)] = dataF_shifted[feature].shift(T-t)\n",
        "    dataF_shifted = dataF_shifted.rename(columns={feature:'Current_'+feature})\n",
        "\n",
        "    # Discard any samples with missing values\n",
        "    dataF_shifted = dataF_shifted.dropna(how='any')\n",
        "    #train_shifted.head(10)\n",
        "\n",
        "    Y_dataF = np.array(dataF_shifted['y_t+1'])\n",
        "    X_dataF = np.array(dataF_shifted[[feature+'_t-'+str(T-t) for t in range(1, T+1)]])\n",
        "\n",
        "    # This is an important step to reshape the X into 3 dimension array\n",
        "    X_dataF = X_dataF.reshape(X_dataF.shape[0], T, 1)\n",
        "\n",
        "    return X_dataF,Y_dataF,dataF_shifted "
      ],
      "metadata": {
        "id": "qKDMsuC6pRBZ"
      },
      "execution_count": null,
      "outputs": []
    },
    {
      "cell_type": "code",
      "source": [
        "X_train,Y_train,train_shifted = data_prepare(train,feature_1)"
      ],
      "metadata": {
        "id": "UrckDpqa03Qh",
        "outputId": "d19e3874-3d2f-4f18-b66b-35b8cb829e85",
        "colab": {
          "base_uri": "https://localhost:8080/"
        }
      },
      "execution_count": null,
      "outputs": [
        {
          "output_type": "stream",
          "name": "stdout",
          "text": [
            "                     Active_Power  y_t+1\n",
            "Date & Time                             \n",
            "2021-08-01 00:00:00          0.93   0.93\n",
            "2021-08-01 00:10:00          0.93   0.91\n",
            "2021-08-01 00:20:00          0.91   0.86\n",
            "2021-08-01 00:30:00          0.86   0.88\n",
            "2021-08-01 00:40:00          0.88   0.90\n",
            "2021-08-01 00:50:00          0.90   0.91\n",
            "2021-08-01 01:00:00          0.91   0.94\n",
            "2021-08-01 01:10:00          0.94   0.93\n",
            "2021-08-01 01:20:00          0.93   0.92\n",
            "2021-08-01 01:30:00          0.92   0.92\n"
          ]
        }
      ]
    },
    {
      "cell_type": "code",
      "source": [
        "print(Y_train.shape)\n",
        "print(X_train.shape)"
      ],
      "metadata": {
        "colab": {
          "base_uri": "https://localhost:8080/"
        },
        "id": "okuefcQlHgVC",
        "outputId": "978984e1-9c82-4b28-faf9-60ac99219f93"
      },
      "execution_count": null,
      "outputs": [
        {
          "output_type": "stream",
          "name": "stdout",
          "text": [
            "(7994,)\n",
            "(7994, 6, 1)\n"
          ]
        }
      ]
    },
    {
      "cell_type": "markdown",
      "source": [
        "**Data preparation - Validation data**"
      ],
      "metadata": {
        "id": "uT5oNuh4qv_H"
      }
    },
    {
      "cell_type": "code",
      "source": [
        "X_valid,Y_valid,valid_shifted = data_prepare(valid,feature_1)"
      ],
      "metadata": {
        "id": "L7AaQWAGqqpx",
        "colab": {
          "base_uri": "https://localhost:8080/"
        },
        "outputId": "783f311e-0e75-47ed-ebd6-05ac33e3dedf"
      },
      "execution_count": null,
      "outputs": [
        {
          "output_type": "stream",
          "name": "stdout",
          "text": [
            "                     Active_Power  y_t+1\n",
            "Date & Time                             \n",
            "2021-09-25 22:40:00          0.39   0.44\n",
            "2021-09-25 22:50:00          0.44   0.51\n",
            "2021-09-25 23:00:00          0.51   0.55\n",
            "2021-09-25 23:10:00          0.55   0.62\n",
            "2021-09-25 23:20:00          0.62   0.69\n",
            "2021-09-25 23:30:00          0.69   0.69\n",
            "2021-09-25 23:40:00          0.69   0.61\n",
            "2021-09-25 23:50:00          0.61   0.63\n",
            "2021-09-26 00:00:00          0.63   0.75\n",
            "2021-09-26 00:10:00          0.75   0.82\n"
          ]
        }
      ]
    },
    {
      "cell_type": "code",
      "source": [
        "print(Y_valid.shape)\n",
        "print(X_valid.shape)"
      ],
      "metadata": {
        "colab": {
          "base_uri": "https://localhost:8080/"
        },
        "id": "jBCFMoNjH6XC",
        "outputId": "c1f00dfc-3d14-4838-e9a0-33469997f008"
      },
      "execution_count": null,
      "outputs": [
        {
          "output_type": "stream",
          "name": "stdout",
          "text": [
            "(1994,)\n",
            "(1994, 6, 1)\n"
          ]
        }
      ]
    },
    {
      "cell_type": "markdown",
      "source": [
        "# **Implement the Deep learning model**"
      ],
      "metadata": {
        "id": "7c2wxgP9r5cI"
      }
    },
    {
      "cell_type": "code",
      "source": [
        "import tensorflow as tf\n",
        "from keras.models import Model, Sequential\n",
        "from keras.layers import LSTM, GRU, Conv1D, Dense, Flatten\n",
        "from keras.callbacks import EarlyStopping, ModelCheckpoint"
      ],
      "metadata": {
        "id": "gPnEGqENr8s2"
      },
      "execution_count": null,
      "outputs": []
    },
    {
      "cell_type": "code",
      "source": [
        "# UNITS = 5 # number of units in the RNN layer\n",
        "# BATCH_SIZE = 32 # number of samples per mini-batch\n",
        "# EPOCHS = 25 # maximum number of times the training algorithm will cycle through all samples"
      ],
      "metadata": {
        "id": "5JNmB0Y-uDj4"
      },
      "execution_count": null,
      "outputs": []
    },
    {
      "cell_type": "code",
      "source": [
        "BATCH_SIZE = 32\n",
        "EPOCHS = 30\n",
        "\n",
        "\n",
        "#1: Dilated CNN\n",
        "#2: GRU\n",
        "#3: LSTM\n",
        "#4. Dilated CNN+Stacked LSTM"
      ],
      "metadata": {
        "id": "xFq30U2-PupT"
      },
      "execution_count": null,
      "outputs": []
    },
    {
      "cell_type": "code",
      "source": [
        "from google.colab import drive\n",
        "drive.mount('/content/drive')"
      ],
      "metadata": {
        "colab": {
          "base_uri": "https://localhost:8080/"
        },
        "id": "mUE044dfhBEj",
        "outputId": "6be460c6-f716-4328-cea8-bcc50516f8cf"
      },
      "execution_count": null,
      "outputs": [
        {
          "output_type": "stream",
          "name": "stdout",
          "text": [
            "Drive already mounted at /content/drive; to attempt to forcibly remount, call drive.mount(\"/content/drive\", force_remount=True).\n"
          ]
        }
      ]
    },
    {
      "cell_type": "code",
      "source": [
        " def loss_plots_summary(model):\n",
        "    model.compile(optimizer='RMSprop', loss='mse')\n",
        "    print(model.summary())\n",
        "    earlystop = EarlyStopping(monitor='val_loss', min_delta=0, patience=5)\n",
        "    best_val = ModelCheckpoint('model_{epoch:02d}.h5', save_best_only=False, mode='min', period=1)\n",
        "\n",
        "    history = model.fit(X_train,Y_train,batch_size=BATCH_SIZE,epochs=EPOCHS,validation_data=(X_valid, Y_valid),callbacks=[earlystop, best_val],verbose=1)\n",
        "    plot_loss = pd.DataFrame.from_dict({'train_loss':history.history['loss'], 'val_loss':history.history['val_loss']})\n",
        "    plot_loss.plot(logy=True, figsize=(10,10), fontsize=12)\n",
        "    plt.xlabel('epoch', fontsize=12)\n",
        "    plt.ylabel('loss', fontsize=12)\n",
        "    print(plt.show())\n"
      ],
      "metadata": {
        "id": "TclANtH8g_NH"
      },
      "execution_count": null,
      "outputs": []
    },
    {
      "cell_type": "code",
      "source": [
        "def NN_model(model_no):\n",
        "    if model_no == 1:\n",
        "        LATENT_DIM = 10\n",
        "        KERNEL_SIZE = 2\n",
        "        model = Sequential()\n",
        "        model.add(Conv1D(LATENT_DIM, kernel_size=KERNEL_SIZE, padding='causal', strides=1, activation='relu', dilation_rate=1, input_shape=(T, 1)))\n",
        "        model.add(Conv1D(LATENT_DIM, kernel_size=KERNEL_SIZE, padding='causal', strides=1, activation='relu', dilation_rate=2))\n",
        "        model.add(Conv1D(LATENT_DIM, kernel_size=KERNEL_SIZE, padding='causal', strides=1, activation='relu', dilation_rate=4))\n",
        "        #model.add(Conv1D(LATENT_DIM, kernel_size=KERNEL_SIZE, padding='causal', strides=1, activation='relu', dilation_rate=8))\n",
        "        model.add(Flatten())\n",
        "        model.add(Dense(HORIZON, activation='linear'))\n",
        "\n",
        "        loss_plots_summary(model)\n",
        "\n",
        "        path = '/content/drive/MyDrive/Colab Notebooks/Weights/dilated_CNN_model.h5'\n",
        "        model.save(path)\n",
        "\n",
        "\n",
        "\n",
        "    elif model_no==2:\n",
        "        UNITS = 5 # number of units in the RNN layer\n",
        "        model = Sequential()\n",
        "        model.add(GRU(UNITS, input_shape=(T, 1)))\n",
        "        model.add(Dense(HORIZON))\n",
        "\n",
        "        loss_plots_summary(model)\n",
        "\n",
        "        path = '/content/drive/MyDrive/Colab Notebooks/Weights/GRU_model.h5'\n",
        "        model.save(path)\n",
        "\n",
        "    elif model_no==3:\n",
        "      win_length=6\n",
        "      num_feature=1\n",
        "      model=tf.keras.Sequential()\n",
        "      model.add(tf.keras.layers.LSTM(64,input_shape=(win_length,num_feature),return_sequences=True))\n",
        "      model.add(tf.keras.layers.LeakyReLU(alpha=0.6))\n",
        "      model.add(tf.keras.layers.LSTM(32,return_sequences=True))\n",
        "      model.add(tf.keras.layers.LeakyReLU(alpha=0.6))\n",
        "      model.add(tf.keras.layers.Dropout(0.1))\n",
        "      # model.add(tf.keras.layers.LSTM(64,return_sequences=True))\n",
        "      # model.add(tf.keras.layers.LeakyReLU(alpha=0.6))\n",
        "      # model.add(tf.keras.layers.Dropout(0.1))\n",
        "      model.add(tf.keras.layers.LSTM(16,return_sequences=False))\n",
        "      model.add(tf.keras.layers.Dropout(0.1))\n",
        "      model.add(tf.keras.layers.Dense(1))\n",
        "\n",
        "      loss_plots_summary(model)\n",
        "\n",
        "      path = '/content/drive/MyDrive/Colab Notebooks/Weights/LSTM_model.h5'\n",
        "      model.save(path)\n",
        "    \n",
        "    elif model_no==4:\n",
        "      LATENT_DIM = 10\n",
        "      KERNEL_SIZE = 2\n",
        "      model=Sequential()\n",
        "      model.add(Conv1D(LATENT_DIM, kernel_size=KERNEL_SIZE, padding='causal', strides=1, activation='relu', dilation_rate=1, input_shape=(T, 1)))\n",
        "      model.add(Conv1D(LATENT_DIM, kernel_size=KERNEL_SIZE, padding='causal', strides=1, activation='relu', dilation_rate=2))\n",
        "      model.add(Conv1D(LATENT_DIM, kernel_size=KERNEL_SIZE, padding='causal', strides=1, activation='relu', dilation_rate=4))\n",
        "      model.add(LSTM(LATENT_DIM,return_sequences=True,input_shape=(T,1)))\n",
        "      model.add(LSTM(LATENT_DIM,return_sequences=True))\n",
        "      model.add(LSTM(LATENT_DIM))\n",
        "      model.add(Flatten())\n",
        "      model.add(Dense(HORIZON, activation='linear'))\n",
        "\n",
        "      loss_plots_summary(model)\n",
        "\n",
        "      path = '/content/drive/MyDrive/Colab Notebooks/Weights/CNN+LSTM_model.h5'\n",
        "      model.save(path)\n",
        "\n",
        "    else:\n",
        "      print(\"No models inserted\")"
      ],
      "metadata": {
        "id": "8SvMnSNtJmHC"
      },
      "execution_count": null,
      "outputs": []
    },
    {
      "cell_type": "code",
      "source": [
        "for i in range(1,2):\n",
        "  NN_model(i)"
      ],
      "metadata": {
        "colab": {
          "base_uri": "https://localhost:8080/",
          "height": 1000
        },
        "id": "sOx_zftuLhAO",
        "outputId": "a372c080-e504-4c0b-a3c2-eb2fe3995881"
      },
      "execution_count": null,
      "outputs": [
        {
          "output_type": "stream",
          "name": "stdout",
          "text": [
            "Model: \"sequential\"\n",
            "_________________________________________________________________\n",
            " Layer (type)                Output Shape              Param #   \n",
            "=================================================================\n",
            " conv1d (Conv1D)             (None, 6, 10)             30        \n",
            "                                                                 \n",
            " conv1d_1 (Conv1D)           (None, 6, 10)             210       \n",
            "                                                                 \n",
            " conv1d_2 (Conv1D)           (None, 6, 10)             210       \n",
            "                                                                 \n",
            " flatten (Flatten)           (None, 60)                0         \n",
            "                                                                 \n",
            " dense (Dense)               (None, 1)                 61        \n",
            "                                                                 \n",
            "=================================================================\n",
            "Total params: 511\n",
            "Trainable params: 511\n",
            "Non-trainable params: 0\n",
            "_________________________________________________________________\n",
            "None\n",
            "WARNING:tensorflow:`period` argument is deprecated. Please use `save_freq` to specify the frequency in number of batches seen.\n",
            "Epoch 1/30\n",
            "250/250 [==============================] - 7s 13ms/step - loss: 0.0456 - val_loss: 0.0131\n",
            "Epoch 2/30\n",
            "250/250 [==============================] - 3s 11ms/step - loss: 0.0039 - val_loss: 0.0102\n",
            "Epoch 3/30\n",
            "250/250 [==============================] - 3s 10ms/step - loss: 0.0030 - val_loss: 0.0088\n",
            "Epoch 4/30\n",
            "250/250 [==============================] - 3s 10ms/step - loss: 0.0027 - val_loss: 0.0083\n",
            "Epoch 5/30\n",
            "250/250 [==============================] - 3s 13ms/step - loss: 0.0025 - val_loss: 0.0079\n",
            "Epoch 6/30\n",
            "250/250 [==============================] - 3s 12ms/step - loss: 0.0024 - val_loss: 0.0075\n",
            "Epoch 7/30\n",
            "250/250 [==============================] - 3s 11ms/step - loss: 0.0022 - val_loss: 0.0074\n",
            "Epoch 8/30\n",
            "250/250 [==============================] - 3s 10ms/step - loss: 0.0022 - val_loss: 0.0072\n",
            "Epoch 9/30\n",
            "250/250 [==============================] - 3s 12ms/step - loss: 0.0021 - val_loss: 0.0086\n",
            "Epoch 10/30\n",
            "250/250 [==============================] - 3s 13ms/step - loss: 0.0021 - val_loss: 0.0077\n",
            "Epoch 11/30\n",
            "250/250 [==============================] - 3s 12ms/step - loss: 0.0020 - val_loss: 0.0070\n",
            "Epoch 12/30\n",
            "250/250 [==============================] - 3s 13ms/step - loss: 0.0020 - val_loss: 0.0069\n",
            "Epoch 13/30\n",
            "250/250 [==============================] - 3s 13ms/step - loss: 0.0019 - val_loss: 0.0069\n",
            "Epoch 14/30\n",
            "250/250 [==============================] - 4s 14ms/step - loss: 0.0019 - val_loss: 0.0071\n",
            "Epoch 15/30\n",
            "250/250 [==============================] - 3s 12ms/step - loss: 0.0019 - val_loss: 0.0068\n",
            "Epoch 16/30\n",
            "250/250 [==============================] - 3s 12ms/step - loss: 0.0019 - val_loss: 0.0069\n",
            "Epoch 17/30\n",
            "250/250 [==============================] - 3s 11ms/step - loss: 0.0019 - val_loss: 0.0068\n",
            "Epoch 18/30\n",
            "250/250 [==============================] - 3s 12ms/step - loss: 0.0018 - val_loss: 0.0068\n",
            "Epoch 19/30\n",
            "250/250 [==============================] - 2s 8ms/step - loss: 0.0018 - val_loss: 0.0068\n",
            "Epoch 20/30\n",
            "250/250 [==============================] - 2s 7ms/step - loss: 0.0018 - val_loss: 0.0068\n",
            "Epoch 21/30\n",
            "250/250 [==============================] - 1s 6ms/step - loss: 0.0018 - val_loss: 0.0070\n",
            "Epoch 22/30\n",
            "250/250 [==============================] - 2s 7ms/step - loss: 0.0018 - val_loss: 0.0069\n",
            "Epoch 23/30\n",
            "250/250 [==============================] - 2s 7ms/step - loss: 0.0018 - val_loss: 0.0069\n",
            "Epoch 24/30\n",
            "250/250 [==============================] - 1s 6ms/step - loss: 0.0018 - val_loss: 0.0067\n",
            "Epoch 25/30\n",
            "250/250 [==============================] - 2s 6ms/step - loss: 0.0018 - val_loss: 0.0075\n",
            "Epoch 26/30\n",
            "250/250 [==============================] - 2s 7ms/step - loss: 0.0018 - val_loss: 0.0077\n",
            "Epoch 27/30\n",
            "250/250 [==============================] - 1s 6ms/step - loss: 0.0017 - val_loss: 0.0068\n",
            "Epoch 28/30\n",
            "250/250 [==============================] - 1s 6ms/step - loss: 0.0017 - val_loss: 0.0069\n",
            "Epoch 29/30\n",
            "250/250 [==============================] - 1s 6ms/step - loss: 0.0017 - val_loss: 0.0068\n"
          ]
        },
        {
          "output_type": "display_data",
          "data": {
            "text/plain": [
              "<Figure size 720x720 with 1 Axes>"
            ],
            "image/png": "[encoded data removed]"
          },
          "metadata": {
            "needs_background": "light"
          }
        },
        {
          "output_type": "stream",
          "name": "stdout",
          "text": [
            "None\n"
          ]
        }
      ]
    },
    {
      "cell_type": "markdown",
      "source": [
        "# **Test data**"
      ],
      "metadata": {
        "id": "YvcmlieBp1yY"
      }
    },
    {
      "cell_type": "markdown",
      "source": [
        "**Load model**"
      ],
      "metadata": {
        "id": "3nNRolrP0A7v"
      }
    },
    {
      "cell_type": "code",
      "source": [
        "model_no = 1\n",
        "\n",
        "import tensorflow as tf\n",
        "if model_no==1:\n",
        "  model=tf.keras.models.load_model('/content/drive/MyDrive/Colab Notebooks/Weights/dilated_CNN_model.h5')\n",
        "elif model_no==2:\n",
        "  model=tf.keras.models.load_model('/content/drive/MyDrive/Colab Notebooks/Weights/GRU_model.h5')\n",
        "elif model_no==3:\n",
        "  model=tf.keras.models.load_model('/content/drive/MyDrive/Colab Notebooks/Weights/LSTM_model.h5')\n",
        "elif model_no==4:\n",
        "  model=tf.keras.models.load_model('/content/drive/MyDrive/Colab Notebooks/Weights/CNN+LSTM_model.h5')"
      ],
      "metadata": {
        "id": "ySCEl3U0i3lr"
      },
      "execution_count": null,
      "outputs": []
    },
    {
      "cell_type": "code",
      "source": [
        "Y_train_pred=model(X_train)\n",
        "print(Y_train_pred)\n",
        "Y_train=pd.DataFrame(Y_train)\n",
        "Y_train=Y_train.replace(0,Y_train.mean())\n",
        "Y_train=np.array(Y_train)\n",
        "\n",
        "\n",
        "def mape(actual, pred): \n",
        "    # actual, pred = np.array(actual), np.array(pred)\n",
        "    return np.mean(np.abs((actual - pred) / actual)) \n",
        "\n",
        "def rmse(actual, pred): \n",
        "    # actual, pred = np.array(actual), np.array(pred)\n",
        "    x=np.mean((actual - pred)**2)\n",
        "    return np.sqrt(x)\n",
        "\n",
        "from sklearn.metrics import r2_score\n",
        "\n",
        "actual = Y_train\n",
        "pred = Y_train_pred\n",
        "\n",
        "print('MAE for model train set  = '+ str(round(mape(actual, pred),2))+' MW')\n",
        "print('RMSE for model train set = '+ str(round(rmse(actual, pred),2))+' MW')\n",
        "print('R^2 for model train set  = '+ str(round(r2_score(actual, pred),2)))"
      ],
      "metadata": {
        "id": "kmAJ9-Kj_bsS",
        "outputId": "31170c3f-3185-4891-e764-ef696930071a",
        "colab": {
          "base_uri": "https://localhost:8080/"
        }
      },
      "execution_count": null,
      "outputs": [
        {
          "output_type": "stream",
          "name": "stdout",
          "text": [
            "tf.Tensor(\n",
            "[[0.9 ]\n",
            " [0.91]\n",
            " [0.95]\n",
            " ...\n",
            " [0.29]\n",
            " [0.42]\n",
            " [0.49]], shape=(7994, 1), dtype=float32)\n",
            "MAE for model train set  = 0.18 MW\n",
            "RMSE for model train set = 0.04 MW\n",
            "R^2 for model train set  = 0.99\n"
          ]
        }
      ]
    },
    {
      "cell_type": "code",
      "source": [
        "Y_valid_pred=model(X_valid)\n",
        "print(Y_valid_pred)\n",
        "Y_valid=pd.DataFrame(Y_valid)\n",
        "Y_valid=Y_valid.replace(0,Y_valid.mean())\n",
        "Y_valid=np.array(Y_valid)\n",
        "\n",
        "\n",
        "def mape(actual, pred): \n",
        "    # actual, pred = np.array(actual), np.array(pred)\n",
        "    return np.mean(np.abs((actual - pred) / actual)) \n",
        "\n",
        "def rmse(actual, pred): \n",
        "    # actual, pred = np.array(actual), np.array(pred)\n",
        "    x=np.mean((actual - pred)**2)\n",
        "    return np.sqrt(x)\n",
        "\n",
        "from sklearn.metrics import r2_score\n",
        "\n",
        "actual = Y_valid\n",
        "pred = Y_valid_pred\n",
        "\n",
        "print('MAE for model validation set  = '+ str(round(mape(actual, pred),2))+' MW')\n",
        "print('RMSE for model validation set = '+ str(round(rmse(actual, pred),2))+' MW')\n",
        "print('R^2 for model validation set  = '+ str(round(r2_score(actual, pred),2)))"
      ],
      "metadata": {
        "id": "8mVaDXfdBU1O",
        "outputId": "ca8a6a52-8c9b-4a0e-fef7-769f2a8bb202",
        "colab": {
          "base_uri": "https://localhost:8080/"
        }
      },
      "execution_count": null,
      "outputs": [
        {
          "output_type": "stream",
          "name": "stdout",
          "text": [
            "tf.Tensor(\n",
            "[[0.72]\n",
            " [0.67]\n",
            " [0.55]\n",
            " ...\n",
            " [0.95]\n",
            " [0.94]\n",
            " [0.93]], shape=(1994, 1), dtype=float32)\n",
            "MAE for model validation set  = 38.77 MW\n",
            "RMSE for model validation set = 0.08 MW\n",
            "R^2 for model validation set  = 0.95\n"
          ]
        }
      ]
    },
    {
      "cell_type": "code",
      "source": [
        "Y_train=pd.DataFrame(Y_train)\n",
        "Y_train=Y_train.replace(0,Y_train.mean())\n",
        "Y_train=np.array(Y_train)\n",
        "count = (Y_train == 0).sum()\n",
        "count"
      ],
      "metadata": {
        "id": "rhcC4cjSAbPu",
        "outputId": "f4e1400d-adcf-49fb-9a38-38ab518e7811",
        "colab": {
          "base_uri": "https://localhost:8080/"
        }
      },
      "execution_count": null,
      "outputs": [
        {
          "output_type": "execute_result",
          "data": {
            "text/plain": [
              "0"
            ]
          },
          "metadata": {},
          "execution_count": 52
        }
      ]
    },
    {
      "cell_type": "code",
      "source": [
        "# test_set_1 = df_temp[7000:7500]  #10/1/2021 00:00 to 10/10/2021 23:50\n",
        "# test_set_2 = df_temp[10168:11608] #10/11/2021 00:00 to 10/20/2021 23:50\n",
        "# test_set_3 = df_temp[11608:13048] #10/21/2021 00:00 to 10/30/2021 23:50\n",
        "\n",
        "# dataset_index=1\n",
        "\n",
        "# if dataset_index==1:\n",
        "#   test = test_set_1\n",
        "# elif dataset_index==2:\n",
        "#   test = test_set_2\n",
        "# elif dataset_index==3:\n",
        "#   test = test_set_3"
      ],
      "metadata": {
        "id": "Iu8h_qFhJIAp"
      },
      "execution_count": null,
      "outputs": []
    },
    {
      "cell_type": "code",
      "source": [
        "test = pd.read_csv(url10)\n",
        "test = test[6500:6700]\n",
        "test"
      ],
      "metadata": {
        "colab": {
          "base_uri": "https://localhost:8080/",
          "height": 424
        },
        "id": "CF-ZIvxX4OEA",
        "outputId": "51d84f44-028d-4f34-b959-46d4da7a5a1a"
      },
      "execution_count": null,
      "outputs": [
        {
          "output_type": "execute_result",
          "data": {
            "text/plain": [
              "             Date/Time  LV ActivePower (kW)  Wind Speed (m/s)  \\\n",
              "6500  19 02 2018 15:10             3,427.84             11.68   \n",
              "6501  19 02 2018 15:20             3,482.68             12.12   \n",
              "6502  19 02 2018 15:30             3,597.89             12.82   \n",
              "6503  19 02 2018 15:40             3,577.99             12.49   \n",
              "6504  19 02 2018 15:50             3,338.12             11.83   \n",
              "...                ...                  ...               ...   \n",
              "6695  20 02 2018 23:40                -0.04              2.18   \n",
              "6696  20 02 2018 23:50                 0.00              2.30   \n",
              "6697  21 02 2018 00:00                 0.00              2.63   \n",
              "6698  21 02 2018 00:10                84.10              4.19   \n",
              "6699  21 02 2018 00:20                14.96              2.88   \n",
              "\n",
              "      Theoretical_Power_Curve (KWh)  Wind Direction (°)  \n",
              "6500                       3,462.31               59.88  \n",
              "6501                       3,539.41               61.51  \n",
              "6502                       3,595.34               60.82  \n",
              "6503                       3,578.66               61.69  \n",
              "6504                       3,493.87               61.71  \n",
              "...                             ...                 ...  \n",
              "6695                           0.00               96.78  \n",
              "6696                           0.00               85.01  \n",
              "6697                           0.00               88.02  \n",
              "6698                         158.84               92.28  \n",
              "6699                           0.00               98.96  \n",
              "\n",
              "[200 rows x 5 columns]"
            ],
            "text/html": [
              "\n",
              "  <div id=\"df-f1a182e4-84d3-49ab-b0e6-f5348979435d\">\n",
              "    <div class=\"colab-df-container\">\n",
              "      <div>\n",
              "<style scoped>\n",
              "    .dataframe tbody tr th:only-of-type {\n",
              "        vertical-align: middle;\n",
              "    }\n",
              "\n",
              "    .dataframe tbody tr th {\n",
              "        vertical-align: top;\n",
              "    }\n",
              "\n",
              "    .dataframe thead th {\n",
              "        text-align: right;\n",
              "    }\n",
              "</style>\n",
              "<table border=\"1\" class=\"dataframe\">\n",
              "  <thead>\n",
              "    <tr style=\"text-align: right;\">\n",
              "      <th></th>\n",
              "      <th>Date/Time</th>\n",
              "      <th>LV ActivePower (kW)</th>\n",
              "      <th>Wind Speed (m/s)</th>\n",
              "      <th>Theoretical_Power_Curve (KWh)</th>\n",
              "      <th>Wind Direction (°)</th>\n",
              "    </tr>\n",
              "  </thead>\n",
              "  <tbody>\n",
              "    <tr>\n",
              "      <th>6500</th>\n",
              "      <td>19 02 2018 15:10</td>\n",
              "      <td>3,427.84</td>\n",
              "      <td>11.68</td>\n",
              "      <td>3,462.31</td>\n",
              "      <td>59.88</td>\n",
              "    </tr>\n",
              "    <tr>\n",
              "      <th>6501</th>\n",
              "      <td>19 02 2018 15:20</td>\n",
              "      <td>3,482.68</td>\n",
              "      <td>12.12</td>\n",
              "      <td>3,539.41</td>\n",
              "      <td>61.51</td>\n",
              "    </tr>\n",
              "    <tr>\n",
              "      <th>6502</th>\n",
              "      <td>19 02 2018 15:30</td>\n",
              "      <td>3,597.89</td>\n",
              "      <td>12.82</td>\n",
              "      <td>3,595.34</td>\n",
              "      <td>60.82</td>\n",
              "    </tr>\n",
              "    <tr>\n",
              "      <th>6503</th>\n",
              "      <td>19 02 2018 15:40</td>\n",
              "      <td>3,577.99</td>\n",
              "      <td>12.49</td>\n",
              "      <td>3,578.66</td>\n",
              "      <td>61.69</td>\n",
              "    </tr>\n",
              "    <tr>\n",
              "      <th>6504</th>\n",
              "      <td>19 02 2018 15:50</td>\n",
              "      <td>3,338.12</td>\n",
              "      <td>11.83</td>\n",
              "      <td>3,493.87</td>\n",
              "      <td>61.71</td>\n",
              "    </tr>\n",
              "    <tr>\n",
              "      <th>...</th>\n",
              "      <td>...</td>\n",
              "      <td>...</td>\n",
              "      <td>...</td>\n",
              "      <td>...</td>\n",
              "      <td>...</td>\n",
              "    </tr>\n",
              "    <tr>\n",
              "      <th>6695</th>\n",
              "      <td>20 02 2018 23:40</td>\n",
              "      <td>-0.04</td>\n",
              "      <td>2.18</td>\n",
              "      <td>0.00</td>\n",
              "      <td>96.78</td>\n",
              "    </tr>\n",
              "    <tr>\n",
              "      <th>6696</th>\n",
              "      <td>20 02 2018 23:50</td>\n",
              "      <td>0.00</td>\n",
              "      <td>2.30</td>\n",
              "      <td>0.00</td>\n",
              "      <td>85.01</td>\n",
              "    </tr>\n",
              "    <tr>\n",
              "      <th>6697</th>\n",
              "      <td>21 02 2018 00:00</td>\n",
              "      <td>0.00</td>\n",
              "      <td>2.63</td>\n",
              "      <td>0.00</td>\n",
              "      <td>88.02</td>\n",
              "    </tr>\n",
              "    <tr>\n",
              "      <th>6698</th>\n",
              "      <td>21 02 2018 00:10</td>\n",
              "      <td>84.10</td>\n",
              "      <td>4.19</td>\n",
              "      <td>158.84</td>\n",
              "      <td>92.28</td>\n",
              "    </tr>\n",
              "    <tr>\n",
              "      <th>6699</th>\n",
              "      <td>21 02 2018 00:20</td>\n",
              "      <td>14.96</td>\n",
              "      <td>2.88</td>\n",
              "      <td>0.00</td>\n",
              "      <td>98.96</td>\n",
              "    </tr>\n",
              "  </tbody>\n",
              "</table>\n",
              "<p>200 rows × 5 columns</p>\n",
              "</div>\n",
              "      <button class=\"colab-df-convert\" onclick=\"convertToInteractive('df-f1a182e4-84d3-49ab-b0e6-f5348979435d')\"\n",
              "              title=\"Convert this dataframe to an interactive table.\"\n",
              "              style=\"display:none;\">\n",
              "        \n",
              "  <svg xmlns=\"http://www.w3.org/2000/svg\" height=\"24px\"viewBox=\"0 0 24 24\"\n",
              "       width=\"24px\">\n",
              "    <path d=\"M0 0h24v24H0V0z\" fill=\"none\"/>\n",
              "    <path d=\"M18.56 5.44l.94 2.06.94-2.06 2.06-.94-2.06-.94-.94-2.06-.94 2.06-2.06.94zm-11 1L8.5 8.5l.94-2.06 2.06-.94-2.06-.94L8.5 2.5l-.94 2.06-2.06.94zm10 10l.94 2.06.94-2.06 2.06-.94-2.06-.94-.94-2.06-.94 2.06-2.06.94z\"/><path d=\"M17.41 7.96l-1.37-1.37c-.4-.4-.92-.59-1.43-.59-.52 0-1.04.2-1.43.59L10.3 9.45l-7.72 7.72c-.78.78-.78 2.05 0 2.83L4 21.41c.39.39.9.59 1.41.59.51 0 1.02-.2 1.41-.59l7.78-7.78 2.81-2.81c.8-.78.8-2.07 0-2.86zM5.41 20L4 18.59l7.72-7.72 1.47 1.35L5.41 20z\"/>\n",
              "  </svg>\n",
              "      </button>\n",
              "      \n",
              "  <style>\n",
              "    .colab-df-container {\n",
              "      display:flex;\n",
              "      flex-wrap:wrap;\n",
              "      gap: 12px;\n",
              "    }\n",
              "\n",
              "    .colab-df-convert {\n",
              "      background-color: #E8F0FE;\n",
              "      border: none;\n",
              "      border-radius: 50%;\n",
              "      cursor: pointer;\n",
              "      display: none;\n",
              "      fill: #1967D2;\n",
              "      height: 32px;\n",
              "      padding: 0 0 0 0;\n",
              "      width: 32px;\n",
              "    }\n",
              "\n",
              "    .colab-df-convert:hover {\n",
              "      background-color: #E2EBFA;\n",
              "      box-shadow: 0px 1px 2px rgba(60, 64, 67, 0.3), 0px 1px 3px 1px rgba(60, 64, 67, 0.15);\n",
              "      fill: #174EA6;\n",
              "    }\n",
              "\n",
              "    [theme=dark] .colab-df-convert {\n",
              "      background-color: #3B4455;\n",
              "      fill: #D2E3FC;\n",
              "    }\n",
              "\n",
              "    [theme=dark] .colab-df-convert:hover {\n",
              "      background-color: #434B5C;\n",
              "      box-shadow: 0px 1px 3px 1px rgba(0, 0, 0, 0.15);\n",
              "      filter: drop-shadow(0px 1px 2px rgba(0, 0, 0, 0.3));\n",
              "      fill: #FFFFFF;\n",
              "    }\n",
              "  </style>\n",
              "\n",
              "      <script>\n",
              "        const buttonEl =\n",
              "          document.querySelector('#df-f1a182e4-84d3-49ab-b0e6-f5348979435d button.colab-df-convert');\n",
              "        buttonEl.style.display =\n",
              "          google.colab.kernel.accessAllowed ? 'block' : 'none';\n",
              "\n",
              "        async function convertToInteractive(key) {\n",
              "          const element = document.querySelector('#df-f1a182e4-84d3-49ab-b0e6-f5348979435d');\n",
              "          const dataTable =\n",
              "            await google.colab.kernel.invokeFunction('convertToInteractive',\n",
              "                                                     [key], {});\n",
              "          if (!dataTable) return;\n",
              "\n",
              "          const docLinkHtml = 'Like what you see? Visit the ' +\n",
              "            '<a target=\"_blank\" href=https://colab.research.google.com/notebooks/data_table.ipynb>data table notebook</a>'\n",
              "            + ' to learn more about interactive tables.';\n",
              "          element.innerHTML = '';\n",
              "          dataTable['output_type'] = 'display_data';\n",
              "          await google.colab.output.renderOutput(dataTable, element);\n",
              "          const docLink = document.createElement('div');\n",
              "          docLink.innerHTML = docLinkHtml;\n",
              "          element.appendChild(docLink);\n",
              "        }\n",
              "      </script>\n",
              "    </div>\n",
              "  </div>\n",
              "  "
            ]
          },
          "metadata": {},
          "execution_count": 33
        }
      ]
    },
    {
      "cell_type": "code",
      "source": [
        "col_0=(test.columns)[0]\n",
        "col_1=(test.columns)[1]\n",
        "col_2=(test.columns)[2]\n",
        "feature_0 = 'Date & Time'\n",
        "feature_1 = 'Active_Power'\n",
        "feature_2 = 'Wind_speed'\n",
        "test.rename(columns={col_0 : feature_0 , col_1 : feature_1 },inplace=True)\n",
        "print(test)\n",
        "test['Date & Time'] = pd.to_datetime(test['Date & Time']) \n",
        "print(test)\n",
        "test[feature_1]=test[feature_1].div(1000)\n",
        "print(test)\n",
        "test.set_index(feature_0,inplace=True) \n",
        "test"
      ],
      "metadata": {
        "colab": {
          "base_uri": "https://localhost:8080/",
          "height": 1000
        },
        "id": "eLWMIM8g4e2E",
        "outputId": "6c519457-205a-40b2-aa83-51fd79eafa85"
      },
      "execution_count": null,
      "outputs": [
        {
          "output_type": "stream",
          "name": "stdout",
          "text": [
            "           Date & Time  Active_Power  Wind Speed (m/s)  \\\n",
            "6500  19 02 2018 15:10      3,427.84             11.68   \n",
            "6501  19 02 2018 15:20      3,482.68             12.12   \n",
            "6502  19 02 2018 15:30      3,597.89             12.82   \n",
            "6503  19 02 2018 15:40      3,577.99             12.49   \n",
            "6504  19 02 2018 15:50      3,338.12             11.83   \n",
            "...                ...           ...               ...   \n",
            "6695  20 02 2018 23:40         -0.04              2.18   \n",
            "6696  20 02 2018 23:50          0.00              2.30   \n",
            "6697  21 02 2018 00:00          0.00              2.63   \n",
            "6698  21 02 2018 00:10         84.10              4.19   \n",
            "6699  21 02 2018 00:20         14.96              2.88   \n",
            "\n",
            "      Theoretical_Power_Curve (KWh)  Wind Direction (°)  \n",
            "6500                       3,462.31               59.88  \n",
            "6501                       3,539.41               61.51  \n",
            "6502                       3,595.34               60.82  \n",
            "6503                       3,578.66               61.69  \n",
            "6504                       3,493.87               61.71  \n",
            "...                             ...                 ...  \n",
            "6695                           0.00               96.78  \n",
            "6696                           0.00               85.01  \n",
            "6697                           0.00               88.02  \n",
            "6698                         158.84               92.28  \n",
            "6699                           0.00               98.96  \n",
            "\n",
            "[200 rows x 5 columns]\n",
            "             Date & Time  Active_Power  Wind Speed (m/s)  \\\n",
            "6500 2018-02-19 15:10:00      3,427.84             11.68   \n",
            "6501 2018-02-19 15:20:00      3,482.68             12.12   \n",
            "6502 2018-02-19 15:30:00      3,597.89             12.82   \n",
            "6503 2018-02-19 15:40:00      3,577.99             12.49   \n",
            "6504 2018-02-19 15:50:00      3,338.12             11.83   \n",
            "...                  ...           ...               ...   \n",
            "6695 2018-02-20 23:40:00         -0.04              2.18   \n",
            "6696 2018-02-20 23:50:00          0.00              2.30   \n",
            "6697 2018-02-21 00:00:00          0.00              2.63   \n",
            "6698 2018-02-21 00:10:00         84.10              4.19   \n",
            "6699 2018-02-21 00:20:00         14.96              2.88   \n",
            "\n",
            "      Theoretical_Power_Curve (KWh)  Wind Direction (°)  \n",
            "6500                       3,462.31               59.88  \n",
            "6501                       3,539.41               61.51  \n",
            "6502                       3,595.34               60.82  \n",
            "6503                       3,578.66               61.69  \n",
            "6504                       3,493.87               61.71  \n",
            "...                             ...                 ...  \n",
            "6695                           0.00               96.78  \n",
            "6696                           0.00               85.01  \n",
            "6697                           0.00               88.02  \n",
            "6698                         158.84               92.28  \n",
            "6699                           0.00               98.96  \n",
            "\n",
            "[200 rows x 5 columns]\n",
            "             Date & Time  Active_Power  Wind Speed (m/s)  \\\n",
            "6500 2018-02-19 15:10:00          3.43             11.68   \n",
            "6501 2018-02-19 15:20:00          3.48             12.12   \n",
            "6502 2018-02-19 15:30:00          3.60             12.82   \n",
            "6503 2018-02-19 15:40:00          3.58             12.49   \n",
            "6504 2018-02-19 15:50:00          3.34             11.83   \n",
            "...                  ...           ...               ...   \n",
            "6695 2018-02-20 23:40:00         -0.00              2.18   \n",
            "6696 2018-02-20 23:50:00          0.00              2.30   \n",
            "6697 2018-02-21 00:00:00          0.00              2.63   \n",
            "6698 2018-02-21 00:10:00          0.08              4.19   \n",
            "6699 2018-02-21 00:20:00          0.01              2.88   \n",
            "\n",
            "      Theoretical_Power_Curve (KWh)  Wind Direction (°)  \n",
            "6500                       3,462.31               59.88  \n",
            "6501                       3,539.41               61.51  \n",
            "6502                       3,595.34               60.82  \n",
            "6503                       3,578.66               61.69  \n",
            "6504                       3,493.87               61.71  \n",
            "...                             ...                 ...  \n",
            "6695                           0.00               96.78  \n",
            "6696                           0.00               85.01  \n",
            "6697                           0.00               88.02  \n",
            "6698                         158.84               92.28  \n",
            "6699                           0.00               98.96  \n",
            "\n",
            "[200 rows x 5 columns]\n"
          ]
        },
        {
          "output_type": "execute_result",
          "data": {
            "text/plain": [
              "                     Active_Power  Wind Speed (m/s)  \\\n",
              "Date & Time                                           \n",
              "2018-02-19 15:10:00          3.43             11.68   \n",
              "2018-02-19 15:20:00          3.48             12.12   \n",
              "2018-02-19 15:30:00          3.60             12.82   \n",
              "2018-02-19 15:40:00          3.58             12.49   \n",
              "2018-02-19 15:50:00          3.34             11.83   \n",
              "...                           ...               ...   \n",
              "2018-02-20 23:40:00         -0.00              2.18   \n",
              "2018-02-20 23:50:00          0.00              2.30   \n",
              "2018-02-21 00:00:00          0.00              2.63   \n",
              "2018-02-21 00:10:00          0.08              4.19   \n",
              "2018-02-21 00:20:00          0.01              2.88   \n",
              "\n",
              "                     Theoretical_Power_Curve (KWh)  Wind Direction (°)  \n",
              "Date & Time                                                             \n",
              "2018-02-19 15:10:00                       3,462.31               59.88  \n",
              "2018-02-19 15:20:00                       3,539.41               61.51  \n",
              "2018-02-19 15:30:00                       3,595.34               60.82  \n",
              "2018-02-19 15:40:00                       3,578.66               61.69  \n",
              "2018-02-19 15:50:00                       3,493.87               61.71  \n",
              "...                                            ...                 ...  \n",
              "2018-02-20 23:40:00                           0.00               96.78  \n",
              "2018-02-20 23:50:00                           0.00               85.01  \n",
              "2018-02-21 00:00:00                           0.00               88.02  \n",
              "2018-02-21 00:10:00                         158.84               92.28  \n",
              "2018-02-21 00:20:00                           0.00               98.96  \n",
              "\n",
              "[200 rows x 4 columns]"
            ],
            "text/html": [
              "\n",
              "  <div id=\"df-d9b62697-6ef5-45ed-b595-36577593711d\">\n",
              "    <div class=\"colab-df-container\">\n",
              "      <div>\n",
              "<style scoped>\n",
              "    .dataframe tbody tr th:only-of-type {\n",
              "        vertical-align: middle;\n",
              "    }\n",
              "\n",
              "    .dataframe tbody tr th {\n",
              "        vertical-align: top;\n",
              "    }\n",
              "\n",
              "    .dataframe thead th {\n",
              "        text-align: right;\n",
              "    }\n",
              "</style>\n",
              "<table border=\"1\" class=\"dataframe\">\n",
              "  <thead>\n",
              "    <tr style=\"text-align: right;\">\n",
              "      <th></th>\n",
              "      <th>Active_Power</th>\n",
              "      <th>Wind Speed (m/s)</th>\n",
              "      <th>Theoretical_Power_Curve (KWh)</th>\n",
              "      <th>Wind Direction (°)</th>\n",
              "    </tr>\n",
              "    <tr>\n",
              "      <th>Date &amp; Time</th>\n",
              "      <th></th>\n",
              "      <th></th>\n",
              "      <th></th>\n",
              "      <th></th>\n",
              "    </tr>\n",
              "  </thead>\n",
              "  <tbody>\n",
              "    <tr>\n",
              "      <th>2018-02-19 15:10:00</th>\n",
              "      <td>3.43</td>\n",
              "      <td>11.68</td>\n",
              "      <td>3,462.31</td>\n",
              "      <td>59.88</td>\n",
              "    </tr>\n",
              "    <tr>\n",
              "      <th>2018-02-19 15:20:00</th>\n",
              "      <td>3.48</td>\n",
              "      <td>12.12</td>\n",
              "      <td>3,539.41</td>\n",
              "      <td>61.51</td>\n",
              "    </tr>\n",
              "    <tr>\n",
              "      <th>2018-02-19 15:30:00</th>\n",
              "      <td>3.60</td>\n",
              "      <td>12.82</td>\n",
              "      <td>3,595.34</td>\n",
              "      <td>60.82</td>\n",
              "    </tr>\n",
              "    <tr>\n",
              "      <th>2018-02-19 15:40:00</th>\n",
              "      <td>3.58</td>\n",
              "      <td>12.49</td>\n",
              "      <td>3,578.66</td>\n",
              "      <td>61.69</td>\n",
              "    </tr>\n",
              "    <tr>\n",
              "      <th>2018-02-19 15:50:00</th>\n",
              "      <td>3.34</td>\n",
              "      <td>11.83</td>\n",
              "      <td>3,493.87</td>\n",
              "      <td>61.71</td>\n",
              "    </tr>\n",
              "    <tr>\n",
              "      <th>...</th>\n",
              "      <td>...</td>\n",
              "      <td>...</td>\n",
              "      <td>...</td>\n",
              "      <td>...</td>\n",
              "    </tr>\n",
              "    <tr>\n",
              "      <th>2018-02-20 23:40:00</th>\n",
              "      <td>-0.00</td>\n",
              "      <td>2.18</td>\n",
              "      <td>0.00</td>\n",
              "      <td>96.78</td>\n",
              "    </tr>\n",
              "    <tr>\n",
              "      <th>2018-02-20 23:50:00</th>\n",
              "      <td>0.00</td>\n",
              "      <td>2.30</td>\n",
              "      <td>0.00</td>\n",
              "      <td>85.01</td>\n",
              "    </tr>\n",
              "    <tr>\n",
              "      <th>2018-02-21 00:00:00</th>\n",
              "      <td>0.00</td>\n",
              "      <td>2.63</td>\n",
              "      <td>0.00</td>\n",
              "      <td>88.02</td>\n",
              "    </tr>\n",
              "    <tr>\n",
              "      <th>2018-02-21 00:10:00</th>\n",
              "      <td>0.08</td>\n",
              "      <td>4.19</td>\n",
              "      <td>158.84</td>\n",
              "      <td>92.28</td>\n",
              "    </tr>\n",
              "    <tr>\n",
              "      <th>2018-02-21 00:20:00</th>\n",
              "      <td>0.01</td>\n",
              "      <td>2.88</td>\n",
              "      <td>0.00</td>\n",
              "      <td>98.96</td>\n",
              "    </tr>\n",
              "  </tbody>\n",
              "</table>\n",
              "<p>200 rows × 4 columns</p>\n",
              "</div>\n",
              "      <button class=\"colab-df-convert\" onclick=\"convertToInteractive('df-d9b62697-6ef5-45ed-b595-36577593711d')\"\n",
              "              title=\"Convert this dataframe to an interactive table.\"\n",
              "              style=\"display:none;\">\n",
              "        \n",
              "  <svg xmlns=\"http://www.w3.org/2000/svg\" height=\"24px\"viewBox=\"0 0 24 24\"\n",
              "       width=\"24px\">\n",
              "    <path d=\"M0 0h24v24H0V0z\" fill=\"none\"/>\n",
              "    <path d=\"M18.56 5.44l.94 2.06.94-2.06 2.06-.94-2.06-.94-.94-2.06-.94 2.06-2.06.94zm-11 1L8.5 8.5l.94-2.06 2.06-.94-2.06-.94L8.5 2.5l-.94 2.06-2.06.94zm10 10l.94 2.06.94-2.06 2.06-.94-2.06-.94-.94-2.06-.94 2.06-2.06.94z\"/><path d=\"M17.41 7.96l-1.37-1.37c-.4-.4-.92-.59-1.43-.59-.52 0-1.04.2-1.43.59L10.3 9.45l-7.72 7.72c-.78.78-.78 2.05 0 2.83L4 21.41c.39.39.9.59 1.41.59.51 0 1.02-.2 1.41-.59l7.78-7.78 2.81-2.81c.8-.78.8-2.07 0-2.86zM5.41 20L4 18.59l7.72-7.72 1.47 1.35L5.41 20z\"/>\n",
              "  </svg>\n",
              "      </button>\n",
              "      \n",
              "  <style>\n",
              "    .colab-df-container {\n",
              "      display:flex;\n",
              "      flex-wrap:wrap;\n",
              "      gap: 12px;\n",
              "    }\n",
              "\n",
              "    .colab-df-convert {\n",
              "      background-color: #E8F0FE;\n",
              "      border: none;\n",
              "      border-radius: 50%;\n",
              "      cursor: pointer;\n",
              "      display: none;\n",
              "      fill: #1967D2;\n",
              "      height: 32px;\n",
              "      padding: 0 0 0 0;\n",
              "      width: 32px;\n",
              "    }\n",
              "\n",
              "    .colab-df-convert:hover {\n",
              "      background-color: #E2EBFA;\n",
              "      box-shadow: 0px 1px 2px rgba(60, 64, 67, 0.3), 0px 1px 3px 1px rgba(60, 64, 67, 0.15);\n",
              "      fill: #174EA6;\n",
              "    }\n",
              "\n",
              "    [theme=dark] .colab-df-convert {\n",
              "      background-color: #3B4455;\n",
              "      fill: #D2E3FC;\n",
              "    }\n",
              "\n",
              "    [theme=dark] .colab-df-convert:hover {\n",
              "      background-color: #434B5C;\n",
              "      box-shadow: 0px 1px 3px 1px rgba(0, 0, 0, 0.15);\n",
              "      filter: drop-shadow(0px 1px 2px rgba(0, 0, 0, 0.3));\n",
              "      fill: #FFFFFF;\n",
              "    }\n",
              "  </style>\n",
              "\n",
              "      <script>\n",
              "        const buttonEl =\n",
              "          document.querySelector('#df-d9b62697-6ef5-45ed-b595-36577593711d button.colab-df-convert');\n",
              "        buttonEl.style.display =\n",
              "          google.colab.kernel.accessAllowed ? 'block' : 'none';\n",
              "\n",
              "        async function convertToInteractive(key) {\n",
              "          const element = document.querySelector('#df-d9b62697-6ef5-45ed-b595-36577593711d');\n",
              "          const dataTable =\n",
              "            await google.colab.kernel.invokeFunction('convertToInteractive',\n",
              "                                                     [key], {});\n",
              "          if (!dataTable) return;\n",
              "\n",
              "          const docLinkHtml = 'Like what you see? Visit the ' +\n",
              "            '<a target=\"_blank\" href=https://colab.research.google.com/notebooks/data_table.ipynb>data table notebook</a>'\n",
              "            + ' to learn more about interactive tables.';\n",
              "          element.innerHTML = '';\n",
              "          dataTable['output_type'] = 'display_data';\n",
              "          await google.colab.output.renderOutput(dataTable, element);\n",
              "          const docLink = document.createElement('div');\n",
              "          docLink.innerHTML = docLinkHtml;\n",
              "          element.appendChild(docLink);\n",
              "        }\n",
              "      </script>\n",
              "    </div>\n",
              "  </div>\n",
              "  "
            ]
          },
          "metadata": {},
          "execution_count": 34
        }
      ]
    },
    {
      "cell_type": "code",
      "source": [
        "count = (test[feature_1] == 0).sum()\n",
        "count"
      ],
      "metadata": {
        "colab": {
          "base_uri": "https://localhost:8080/"
        },
        "id": "TqMUODZfqIDs",
        "outputId": "5fb6860b-6001-4767-8071-4b4ef7a45932"
      },
      "execution_count": null,
      "outputs": [
        {
          "output_type": "execute_result",
          "data": {
            "text/plain": [
              "31"
            ]
          },
          "metadata": {},
          "execution_count": 35
        }
      ]
    },
    {
      "cell_type": "code",
      "source": [
        "test[feature_1]=test[feature_1].replace(0,test[feature_1].mean())\n",
        "#test[feature_1]=test[feature_1].replace(0,test[feature_1].median())\n",
        "# df_test[feature]=df_test[feature].replace(to_replace=0, method='ffill').values"
      ],
      "metadata": {
        "id": "HcQGIuLJqIlG"
      },
      "execution_count": null,
      "outputs": []
    },
    {
      "cell_type": "code",
      "source": [
        "X_test,Y_test,test_shifted = data_prepare(test,feature_1)"
      ],
      "metadata": {
        "colab": {
          "base_uri": "https://localhost:8080/"
        },
        "id": "HFDK5SLIIimR",
        "outputId": "d907b55e-d7a7-4459-c665-bcd2619156ff"
      },
      "execution_count": null,
      "outputs": [
        {
          "output_type": "stream",
          "name": "stdout",
          "text": [
            "                     Active_Power  y_t+1\n",
            "Date & Time                             \n",
            "2018-02-19 15:10:00          0.95   0.97\n",
            "2018-02-19 15:20:00          0.97   1.00\n",
            "2018-02-19 15:30:00          1.00   0.99\n",
            "2018-02-19 15:40:00          0.99   0.93\n",
            "2018-02-19 15:50:00          0.93   0.96\n",
            "2018-02-19 16:00:00          0.96   0.98\n",
            "2018-02-19 16:10:00          0.98   0.96\n",
            "2018-02-19 16:20:00          0.96   0.94\n",
            "2018-02-19 16:30:00          0.94   0.86\n",
            "2018-02-19 16:40:00          0.86   0.78\n"
          ]
        }
      ]
    },
    {
      "cell_type": "code",
      "source": [
        "print(Y_test.shape)\n",
        "print(X_test.shape)"
      ],
      "metadata": {
        "colab": {
          "base_uri": "https://localhost:8080/"
        },
        "id": "CP7-BdRdIdD9",
        "outputId": "a52a1f15-35fc-460d-dc32-c074d62a0b8a"
      },
      "execution_count": null,
      "outputs": [
        {
          "output_type": "stream",
          "name": "stdout",
          "text": [
            "(194,)\n",
            "(194, 6, 1)\n"
          ]
        }
      ]
    },
    {
      "cell_type": "markdown",
      "source": [
        "# **Predictions**"
      ],
      "metadata": {
        "id": "TH-sNSb2p5Ny"
      }
    },
    {
      "cell_type": "code",
      "source": [
        "predictions = model.predict(X_test)\n",
        "predictions=pd.DataFrame(predictions)\n",
        "print(predictions)\n",
        "\n",
        "eval_df = pd.DataFrame(predictions, columns=['t+'+str(t) for t in range(1, HORIZON+1)])\n",
        "eval_df['Date & Time'] = test_shifted.index\n",
        "eval_df = pd.melt(eval_df, id_vars='Date & Time', value_name='prediction', var_name='h')\n",
        "eval_df['actual'] = np.transpose(Y_test).ravel()\n",
        "eval_df['prediction'] =predictions \n",
        "print(eval_df)\n",
        "\n"
      ],
      "metadata": {
        "colab": {
          "base_uri": "https://localhost:8080/"
        },
        "id": "lmf-QsmiL7RK",
        "outputId": "ff08a5c9-235f-4cea-a726-c3de885a5b2d"
      },
      "execution_count": null,
      "outputs": [
        {
          "output_type": "stream",
          "name": "stdout",
          "text": [
            "       0\n",
            "0   0.97\n",
            "1   0.98\n",
            "2   0.95\n",
            "3   0.93\n",
            "4   0.81\n",
            "..   ...\n",
            "189 0.02\n",
            "190 0.09\n",
            "191 0.35\n",
            "192 0.29\n",
            "193 0.02\n",
            "\n",
            "[194 rows x 1 columns]\n",
            "            Date & Time    h  prediction  actual\n",
            "0   2018-02-19 16:00:00  t+1        0.97    0.98\n",
            "1   2018-02-19 16:10:00  t+1        0.98    0.96\n",
            "2   2018-02-19 16:20:00  t+1        0.95    0.94\n",
            "3   2018-02-19 16:30:00  t+1        0.93    0.86\n",
            "4   2018-02-19 16:40:00  t+1        0.81    0.78\n",
            "..                  ...  ...         ...     ...\n",
            "189 2018-02-20 23:30:00  t+1        0.02    0.00\n",
            "190 2018-02-20 23:40:00  t+1        0.09    0.32\n",
            "191 2018-02-20 23:50:00  t+1        0.35    0.32\n",
            "192 2018-02-21 00:00:00  t+1        0.29    0.02\n",
            "193 2018-02-21 00:10:00  t+1        0.02    0.00\n",
            "\n",
            "[194 rows x 4 columns]\n"
          ]
        }
      ]
    },
    {
      "cell_type": "code",
      "source": [
        "eval_df"
      ],
      "metadata": {
        "colab": {
          "base_uri": "https://localhost:8080/",
          "height": 424
        },
        "id": "yWLB0afNP7AR",
        "outputId": "460fd8dc-5d89-43c7-b0f1-253407ac4091"
      },
      "execution_count": null,
      "outputs": [
        {
          "output_type": "execute_result",
          "data": {
            "text/plain": [
              "            Date & Time    h  prediction  actual\n",
              "0   2018-02-19 16:00:00  t+1        0.97    0.98\n",
              "1   2018-02-19 16:10:00  t+1        0.98    0.96\n",
              "2   2018-02-19 16:20:00  t+1        0.95    0.94\n",
              "3   2018-02-19 16:30:00  t+1        0.93    0.86\n",
              "4   2018-02-19 16:40:00  t+1        0.81    0.78\n",
              "..                  ...  ...         ...     ...\n",
              "189 2018-02-20 23:30:00  t+1        0.02    0.00\n",
              "190 2018-02-20 23:40:00  t+1        0.09    0.32\n",
              "191 2018-02-20 23:50:00  t+1        0.35    0.32\n",
              "192 2018-02-21 00:00:00  t+1        0.29    0.02\n",
              "193 2018-02-21 00:10:00  t+1        0.02    0.00\n",
              "\n",
              "[194 rows x 4 columns]"
            ],
            "text/html": [
              "\n",
              "  <div id=\"df-f357af6a-f5df-4d93-9781-7c286f83bc59\">\n",
              "    <div class=\"colab-df-container\">\n",
              "      <div>\n",
              "<style scoped>\n",
              "    .dataframe tbody tr th:only-of-type {\n",
              "        vertical-align: middle;\n",
              "    }\n",
              "\n",
              "    .dataframe tbody tr th {\n",
              "        vertical-align: top;\n",
              "    }\n",
              "\n",
              "    .dataframe thead th {\n",
              "        text-align: right;\n",
              "    }\n",
              "</style>\n",
              "<table border=\"1\" class=\"dataframe\">\n",
              "  <thead>\n",
              "    <tr style=\"text-align: right;\">\n",
              "      <th></th>\n",
              "      <th>Date &amp; Time</th>\n",
              "      <th>h</th>\n",
              "      <th>prediction</th>\n",
              "      <th>actual</th>\n",
              "    </tr>\n",
              "  </thead>\n",
              "  <tbody>\n",
              "    <tr>\n",
              "      <th>0</th>\n",
              "      <td>2018-02-19 16:00:00</td>\n",
              "      <td>t+1</td>\n",
              "      <td>0.97</td>\n",
              "      <td>0.98</td>\n",
              "    </tr>\n",
              "    <tr>\n",
              "      <th>1</th>\n",
              "      <td>2018-02-19 16:10:00</td>\n",
              "      <td>t+1</td>\n",
              "      <td>0.98</td>\n",
              "      <td>0.96</td>\n",
              "    </tr>\n",
              "    <tr>\n",
              "      <th>2</th>\n",
              "      <td>2018-02-19 16:20:00</td>\n",
              "      <td>t+1</td>\n",
              "      <td>0.95</td>\n",
              "      <td>0.94</td>\n",
              "    </tr>\n",
              "    <tr>\n",
              "      <th>3</th>\n",
              "      <td>2018-02-19 16:30:00</td>\n",
              "      <td>t+1</td>\n",
              "      <td>0.93</td>\n",
              "      <td>0.86</td>\n",
              "    </tr>\n",
              "    <tr>\n",
              "      <th>4</th>\n",
              "      <td>2018-02-19 16:40:00</td>\n",
              "      <td>t+1</td>\n",
              "      <td>0.81</td>\n",
              "      <td>0.78</td>\n",
              "    </tr>\n",
              "    <tr>\n",
              "      <th>...</th>\n",
              "      <td>...</td>\n",
              "      <td>...</td>\n",
              "      <td>...</td>\n",
              "      <td>...</td>\n",
              "    </tr>\n",
              "    <tr>\n",
              "      <th>189</th>\n",
              "      <td>2018-02-20 23:30:00</td>\n",
              "      <td>t+1</td>\n",
              "      <td>0.02</td>\n",
              "      <td>0.00</td>\n",
              "    </tr>\n",
              "    <tr>\n",
              "      <th>190</th>\n",
              "      <td>2018-02-20 23:40:00</td>\n",
              "      <td>t+1</td>\n",
              "      <td>0.09</td>\n",
              "      <td>0.32</td>\n",
              "    </tr>\n",
              "    <tr>\n",
              "      <th>191</th>\n",
              "      <td>2018-02-20 23:50:00</td>\n",
              "      <td>t+1</td>\n",
              "      <td>0.35</td>\n",
              "      <td>0.32</td>\n",
              "    </tr>\n",
              "    <tr>\n",
              "      <th>192</th>\n",
              "      <td>2018-02-21 00:00:00</td>\n",
              "      <td>t+1</td>\n",
              "      <td>0.29</td>\n",
              "      <td>0.02</td>\n",
              "    </tr>\n",
              "    <tr>\n",
              "      <th>193</th>\n",
              "      <td>2018-02-21 00:10:00</td>\n",
              "      <td>t+1</td>\n",
              "      <td>0.02</td>\n",
              "      <td>0.00</td>\n",
              "    </tr>\n",
              "  </tbody>\n",
              "</table>\n",
              "<p>194 rows × 4 columns</p>\n",
              "</div>\n",
              "      <button class=\"colab-df-convert\" onclick=\"convertToInteractive('df-f357af6a-f5df-4d93-9781-7c286f83bc59')\"\n",
              "              title=\"Convert this dataframe to an interactive table.\"\n",
              "              style=\"display:none;\">\n",
              "        \n",
              "  <svg xmlns=\"http://www.w3.org/2000/svg\" height=\"24px\"viewBox=\"0 0 24 24\"\n",
              "       width=\"24px\">\n",
              "    <path d=\"M0 0h24v24H0V0z\" fill=\"none\"/>\n",
              "    <path d=\"M18.56 5.44l.94 2.06.94-2.06 2.06-.94-2.06-.94-.94-2.06-.94 2.06-2.06.94zm-11 1L8.5 8.5l.94-2.06 2.06-.94-2.06-.94L8.5 2.5l-.94 2.06-2.06.94zm10 10l.94 2.06.94-2.06 2.06-.94-2.06-.94-.94-2.06-.94 2.06-2.06.94z\"/><path d=\"M17.41 7.96l-1.37-1.37c-.4-.4-.92-.59-1.43-.59-.52 0-1.04.2-1.43.59L10.3 9.45l-7.72 7.72c-.78.78-.78 2.05 0 2.83L4 21.41c.39.39.9.59 1.41.59.51 0 1.02-.2 1.41-.59l7.78-7.78 2.81-2.81c.8-.78.8-2.07 0-2.86zM5.41 20L4 18.59l7.72-7.72 1.47 1.35L5.41 20z\"/>\n",
              "  </svg>\n",
              "      </button>\n",
              "      \n",
              "  <style>\n",
              "    .colab-df-container {\n",
              "      display:flex;\n",
              "      flex-wrap:wrap;\n",
              "      gap: 12px;\n",
              "    }\n",
              "\n",
              "    .colab-df-convert {\n",
              "      background-color: #E8F0FE;\n",
              "      border: none;\n",
              "      border-radius: 50%;\n",
              "      cursor: pointer;\n",
              "      display: none;\n",
              "      fill: #1967D2;\n",
              "      height: 32px;\n",
              "      padding: 0 0 0 0;\n",
              "      width: 32px;\n",
              "    }\n",
              "\n",
              "    .colab-df-convert:hover {\n",
              "      background-color: #E2EBFA;\n",
              "      box-shadow: 0px 1px 2px rgba(60, 64, 67, 0.3), 0px 1px 3px 1px rgba(60, 64, 67, 0.15);\n",
              "      fill: #174EA6;\n",
              "    }\n",
              "\n",
              "    [theme=dark] .colab-df-convert {\n",
              "      background-color: #3B4455;\n",
              "      fill: #D2E3FC;\n",
              "    }\n",
              "\n",
              "    [theme=dark] .colab-df-convert:hover {\n",
              "      background-color: #434B5C;\n",
              "      box-shadow: 0px 1px 3px 1px rgba(0, 0, 0, 0.15);\n",
              "      filter: drop-shadow(0px 1px 2px rgba(0, 0, 0, 0.3));\n",
              "      fill: #FFFFFF;\n",
              "    }\n",
              "  </style>\n",
              "\n",
              "      <script>\n",
              "        const buttonEl =\n",
              "          document.querySelector('#df-f357af6a-f5df-4d93-9781-7c286f83bc59 button.colab-df-convert');\n",
              "        buttonEl.style.display =\n",
              "          google.colab.kernel.accessAllowed ? 'block' : 'none';\n",
              "\n",
              "        async function convertToInteractive(key) {\n",
              "          const element = document.querySelector('#df-f357af6a-f5df-4d93-9781-7c286f83bc59');\n",
              "          const dataTable =\n",
              "            await google.colab.kernel.invokeFunction('convertToInteractive',\n",
              "                                                     [key], {});\n",
              "          if (!dataTable) return;\n",
              "\n",
              "          const docLinkHtml = 'Like what you see? Visit the ' +\n",
              "            '<a target=\"_blank\" href=https://colab.research.google.com/notebooks/data_table.ipynb>data table notebook</a>'\n",
              "            + ' to learn more about interactive tables.';\n",
              "          element.innerHTML = '';\n",
              "          dataTable['output_type'] = 'display_data';\n",
              "          await google.colab.output.renderOutput(dataTable, element);\n",
              "          const docLink = document.createElement('div');\n",
              "          docLink.innerHTML = docLinkHtml;\n",
              "          element.appendChild(docLink);\n",
              "        }\n",
              "      </script>\n",
              "    </div>\n",
              "  </div>\n",
              "  "
            ]
          },
          "metadata": {},
          "execution_count": 40
        }
      ]
    },
    {
      "cell_type": "code",
      "source": [
        "eval_df[['prediction']]=scalar.inverse_transform(np.array(eval_df[['prediction']]))\n",
        "eval_df[['actual']]=scalar.inverse_transform(np.array(eval_df[['actual']]))\n",
        "eval_df"
      ],
      "metadata": {
        "colab": {
          "base_uri": "https://localhost:8080/",
          "height": 424
        },
        "id": "DspwMrXdRPjv",
        "outputId": "8ecbe279-caa6-4d6d-e70b-329c2a5dcd15"
      },
      "execution_count": null,
      "outputs": [
        {
          "output_type": "execute_result",
          "data": {
            "text/plain": [
              "            Date & Time    h  prediction  actual\n",
              "0   2018-02-19 16:00:00  t+1        3.48    3.52\n",
              "1   2018-02-19 16:10:00  t+1        3.52    3.47\n",
              "2   2018-02-19 16:20:00  t+1        3.43    3.38\n",
              "3   2018-02-19 16:30:00  t+1        3.34    3.09\n",
              "4   2018-02-19 16:40:00  t+1        2.91    2.80\n",
              "..                  ...  ...         ...     ...\n",
              "189 2018-02-20 23:30:00  t+1        0.07   -0.00\n",
              "190 2018-02-20 23:40:00  t+1        0.33    1.17\n",
              "191 2018-02-20 23:50:00  t+1        1.27    1.17\n",
              "192 2018-02-21 00:00:00  t+1        1.05    0.08\n",
              "193 2018-02-21 00:10:00  t+1        0.06    0.01\n",
              "\n",
              "[194 rows x 4 columns]"
            ],
            "text/html": [
              "\n",
              "  <div id=\"df-90b342cd-4731-4b9b-a66f-27db983e057e\">\n",
              "    <div class=\"colab-df-container\">\n",
              "      <div>\n",
              "<style scoped>\n",
              "    .dataframe tbody tr th:only-of-type {\n",
              "        vertical-align: middle;\n",
              "    }\n",
              "\n",
              "    .dataframe tbody tr th {\n",
              "        vertical-align: top;\n",
              "    }\n",
              "\n",
              "    .dataframe thead th {\n",
              "        text-align: right;\n",
              "    }\n",
              "</style>\n",
              "<table border=\"1\" class=\"dataframe\">\n",
              "  <thead>\n",
              "    <tr style=\"text-align: right;\">\n",
              "      <th></th>\n",
              "      <th>Date &amp; Time</th>\n",
              "      <th>h</th>\n",
              "      <th>prediction</th>\n",
              "      <th>actual</th>\n",
              "    </tr>\n",
              "  </thead>\n",
              "  <tbody>\n",
              "    <tr>\n",
              "      <th>0</th>\n",
              "      <td>2018-02-19 16:00:00</td>\n",
              "      <td>t+1</td>\n",
              "      <td>3.48</td>\n",
              "      <td>3.52</td>\n",
              "    </tr>\n",
              "    <tr>\n",
              "      <th>1</th>\n",
              "      <td>2018-02-19 16:10:00</td>\n",
              "      <td>t+1</td>\n",
              "      <td>3.52</td>\n",
              "      <td>3.47</td>\n",
              "    </tr>\n",
              "    <tr>\n",
              "      <th>2</th>\n",
              "      <td>2018-02-19 16:20:00</td>\n",
              "      <td>t+1</td>\n",
              "      <td>3.43</td>\n",
              "      <td>3.38</td>\n",
              "    </tr>\n",
              "    <tr>\n",
              "      <th>3</th>\n",
              "      <td>2018-02-19 16:30:00</td>\n",
              "      <td>t+1</td>\n",
              "      <td>3.34</td>\n",
              "      <td>3.09</td>\n",
              "    </tr>\n",
              "    <tr>\n",
              "      <th>4</th>\n",
              "      <td>2018-02-19 16:40:00</td>\n",
              "      <td>t+1</td>\n",
              "      <td>2.91</td>\n",
              "      <td>2.80</td>\n",
              "    </tr>\n",
              "    <tr>\n",
              "      <th>...</th>\n",
              "      <td>...</td>\n",
              "      <td>...</td>\n",
              "      <td>...</td>\n",
              "      <td>...</td>\n",
              "    </tr>\n",
              "    <tr>\n",
              "      <th>189</th>\n",
              "      <td>2018-02-20 23:30:00</td>\n",
              "      <td>t+1</td>\n",
              "      <td>0.07</td>\n",
              "      <td>-0.00</td>\n",
              "    </tr>\n",
              "    <tr>\n",
              "      <th>190</th>\n",
              "      <td>2018-02-20 23:40:00</td>\n",
              "      <td>t+1</td>\n",
              "      <td>0.33</td>\n",
              "      <td>1.17</td>\n",
              "    </tr>\n",
              "    <tr>\n",
              "      <th>191</th>\n",
              "      <td>2018-02-20 23:50:00</td>\n",
              "      <td>t+1</td>\n",
              "      <td>1.27</td>\n",
              "      <td>1.17</td>\n",
              "    </tr>\n",
              "    <tr>\n",
              "      <th>192</th>\n",
              "      <td>2018-02-21 00:00:00</td>\n",
              "      <td>t+1</td>\n",
              "      <td>1.05</td>\n",
              "      <td>0.08</td>\n",
              "    </tr>\n",
              "    <tr>\n",
              "      <th>193</th>\n",
              "      <td>2018-02-21 00:10:00</td>\n",
              "      <td>t+1</td>\n",
              "      <td>0.06</td>\n",
              "      <td>0.01</td>\n",
              "    </tr>\n",
              "  </tbody>\n",
              "</table>\n",
              "<p>194 rows × 4 columns</p>\n",
              "</div>\n",
              "      <button class=\"colab-df-convert\" onclick=\"convertToInteractive('df-90b342cd-4731-4b9b-a66f-27db983e057e')\"\n",
              "              title=\"Convert this dataframe to an interactive table.\"\n",
              "              style=\"display:none;\">\n",
              "        \n",
              "  <svg xmlns=\"http://www.w3.org/2000/svg\" height=\"24px\"viewBox=\"0 0 24 24\"\n",
              "       width=\"24px\">\n",
              "    <path d=\"M0 0h24v24H0V0z\" fill=\"none\"/>\n",
              "    <path d=\"M18.56 5.44l.94 2.06.94-2.06 2.06-.94-2.06-.94-.94-2.06-.94 2.06-2.06.94zm-11 1L8.5 8.5l.94-2.06 2.06-.94-2.06-.94L8.5 2.5l-.94 2.06-2.06.94zm10 10l.94 2.06.94-2.06 2.06-.94-2.06-.94-.94-2.06-.94 2.06-2.06.94z\"/><path d=\"M17.41 7.96l-1.37-1.37c-.4-.4-.92-.59-1.43-.59-.52 0-1.04.2-1.43.59L10.3 9.45l-7.72 7.72c-.78.78-.78 2.05 0 2.83L4 21.41c.39.39.9.59 1.41.59.51 0 1.02-.2 1.41-.59l7.78-7.78 2.81-2.81c.8-.78.8-2.07 0-2.86zM5.41 20L4 18.59l7.72-7.72 1.47 1.35L5.41 20z\"/>\n",
              "  </svg>\n",
              "      </button>\n",
              "      \n",
              "  <style>\n",
              "    .colab-df-container {\n",
              "      display:flex;\n",
              "      flex-wrap:wrap;\n",
              "      gap: 12px;\n",
              "    }\n",
              "\n",
              "    .colab-df-convert {\n",
              "      background-color: #E8F0FE;\n",
              "      border: none;\n",
              "      border-radius: 50%;\n",
              "      cursor: pointer;\n",
              "      display: none;\n",
              "      fill: #1967D2;\n",
              "      height: 32px;\n",
              "      padding: 0 0 0 0;\n",
              "      width: 32px;\n",
              "    }\n",
              "\n",
              "    .colab-df-convert:hover {\n",
              "      background-color: #E2EBFA;\n",
              "      box-shadow: 0px 1px 2px rgba(60, 64, 67, 0.3), 0px 1px 3px 1px rgba(60, 64, 67, 0.15);\n",
              "      fill: #174EA6;\n",
              "    }\n",
              "\n",
              "    [theme=dark] .colab-df-convert {\n",
              "      background-color: #3B4455;\n",
              "      fill: #D2E3FC;\n",
              "    }\n",
              "\n",
              "    [theme=dark] .colab-df-convert:hover {\n",
              "      background-color: #434B5C;\n",
              "      box-shadow: 0px 1px 3px 1px rgba(0, 0, 0, 0.15);\n",
              "      filter: drop-shadow(0px 1px 2px rgba(0, 0, 0, 0.3));\n",
              "      fill: #FFFFFF;\n",
              "    }\n",
              "  </style>\n",
              "\n",
              "      <script>\n",
              "        const buttonEl =\n",
              "          document.querySelector('#df-90b342cd-4731-4b9b-a66f-27db983e057e button.colab-df-convert');\n",
              "        buttonEl.style.display =\n",
              "          google.colab.kernel.accessAllowed ? 'block' : 'none';\n",
              "\n",
              "        async function convertToInteractive(key) {\n",
              "          const element = document.querySelector('#df-90b342cd-4731-4b9b-a66f-27db983e057e');\n",
              "          const dataTable =\n",
              "            await google.colab.kernel.invokeFunction('convertToInteractive',\n",
              "                                                     [key], {});\n",
              "          if (!dataTable) return;\n",
              "\n",
              "          const docLinkHtml = 'Like what you see? Visit the ' +\n",
              "            '<a target=\"_blank\" href=https://colab.research.google.com/notebooks/data_table.ipynb>data table notebook</a>'\n",
              "            + ' to learn more about interactive tables.';\n",
              "          element.innerHTML = '';\n",
              "          dataTable['output_type'] = 'display_data';\n",
              "          await google.colab.output.renderOutput(dataTable, element);\n",
              "          const docLink = document.createElement('div');\n",
              "          docLink.innerHTML = docLinkHtml;\n",
              "          element.appendChild(docLink);\n",
              "        }\n",
              "      </script>\n",
              "    </div>\n",
              "  </div>\n",
              "  "
            ]
          },
          "metadata": {},
          "execution_count": 41
        }
      ]
    },
    {
      "cell_type": "markdown",
      "source": [
        "# **Evaluate the model**"
      ],
      "metadata": {
        "id": "mO3IjeAEv6DH"
      }
    },
    {
      "cell_type": "markdown",
      "source": [
        "**Performance metrics of our model**"
      ],
      "metadata": {
        "id": "he57Ekqgn1A9"
      }
    },
    {
      "cell_type": "code",
      "source": [
        "def mape(actual, pred): \n",
        "    actual, pred = np.array(actual), np.array(pred)\n",
        "    return np.mean(np.abs((actual - pred) / actual)) \n",
        "\n",
        "def rmse(actual, pred): \n",
        "    actual, pred = np.array(actual), np.array(pred)\n",
        "    x=np.mean((actual - pred)**2)\n",
        "    return np.sqrt(x)\n",
        "\n",
        "from sklearn.metrics import r2_score\n",
        "\n",
        "actual = eval_df['actual']\n",
        "pred = eval_df['prediction']\n",
        "\n",
        "print('MAE for model '+str(model_no)+'  = '+ str(round(mape(actual, pred),2))+' MW')\n",
        "print('RMSE for model '+str(model_no)+' = '+ str(round(rmse(actual, pred),2))+' MW')\n",
        "print('R^2 for model '+str(model_no)+'  = '+ str(round(r2_score(actual, pred),2)))"
      ],
      "metadata": {
        "colab": {
          "base_uri": "https://localhost:8080/"
        },
        "id": "rWyCrVMa0zqF",
        "outputId": "81c94607-2d6f-4f7e-a7e1-1bd127877340"
      },
      "execution_count": null,
      "outputs": [
        {
          "output_type": "stream",
          "name": "stdout",
          "text": [
            "MAE for model 1  = 23.94 MW\n",
            "RMSE for model 1 = 0.34 MW\n",
            "R^2 for model 1  = 0.89\n"
          ]
        }
      ]
    },
    {
      "cell_type": "code",
      "source": [
        "fig1 = px.line(eval_df,x='Date & Time', y=['actual','prediction'],labels={ \"value\": 'Active power (MW)'},title=\"Model\"+str(model_no)+\": Expected vs predicted power forecasting\") \n",
        "fig1.update_layout(xaxis_title_font_size=16,yaxis_title_font_size=16,title_font_color='red',title_font_size=20)\n",
        "fig1.show()"
      ],
      "metadata": {
        "colab": {
          "base_uri": "https://localhost:8080/",
          "height": 542
        },
        "id": "Il3PMQkHaXHW",
        "outputId": "43177505-ce2d-4a22-c727-ed0324f33a09"
      },
      "execution_count": null,
      "outputs": [
        {
          "output_type": "display_data",
          "data": {
            "text/html": [
              "<html>\n",
              "<head><meta charset=\"utf-8\" /></head>\n",
              "<body>\n",
              "    <div>            <script src=\"https://cdnjs.cloudflare.com/ajax/libs/mathjax/2.7.5/MathJax.js?config=TeX-AMS-MML_SVG\"></script><script type=\"text/javascript\">if (window.MathJax) {MathJax.Hub.Config({SVG: {font: \"STIX-Web\"}});}</script>                <script type=\"text/javascript\">window.PlotlyConfig = {MathJaxConfig: 'local'};</script>\n",
              "        <script src=\"https://cdn.plot.ly/plotly-2.8.3.min.js\"></script>                <div id=\"d8e3b4c6-be75-41a9-a1f4-652c53a79c9a\" class=\"plotly-graph-div\" style=\"height:525px; width:100%;\"></div>            <script type=\"text/javascript\">                                    window.PLOTLYENV=window.PLOTLYENV || {};                                    if (document.getElementById(\"d8e3b4c6-be75-41a9-a1f4-652c53a79c9a\")) {                    Plotly.newPlot(                        \"d8e3b4c6-be75-41a9-a1f4-652c53a79c9a\",                        [{\"hovertemplate\":\"variable=actual<br>Date & Time=%{x}<br>Active power (MW)=%{y}<extra></extra>\",\"legendgroup\":\"actual\",\"line\":{\"color\":\"#636efa\",\"dash\":\"solid\"},\"marker\":{\"symbol\":\"circle\"},\"mode\":\"lines\",\"name\":\"actual\",\"orientation\":\"v\",\"showlegend\":true,\"x\":[\"2018-02-19T16:00:00\",\"2018-02-19T16:10:00\",\"2018-02-19T16:20:00\",\"2018-02-19T16:30:00\",\"2018-02-19T16:40:00\",\"2018-02-19T16:50:00\",\"2018-02-19T17:00:00\",\"2018-02-19T17:10:00\",\"2018-02-19T17:20:00\",\"2018-02-19T17:30:00\",\"2018-02-19T17:40:00\",\"2018-02-19T17:50:00\",\"2018-02-19T18:00:00\",\"2018-02-19T18:10:00\",\"2018-02-19T18:20:00\",\"2018-02-19T18:30:00\",\"2018-02-19T18:40:00\",\"2018-02-19T18:50:00\",\"2018-02-19T19:00:00\",\"2018-02-19T19:10:00\",\"2018-02-19T19:20:00\",\"2018-02-19T19:30:00\",\"2018-02-19T19:40:00\",\"2018-02-19T19:50:00\",\"2018-02-19T20:00:00\",\"2018-02-19T20:10:00\",\"2018-02-19T20:20:00\",\"2018-02-19T20:30:00\",\"2018-02-19T20:40:00\",\"2018-02-19T20:50:00\",\"2018-02-19T21:00:00\",\"2018-02-19T21:10:00\",\"2018-02-19T21:20:00\",\"2018-02-19T21:30:00\",\"2018-02-19T21:40:00\",\"2018-02-19T21:50:00\",\"2018-02-19T22:00:00\",\"2018-02-19T22:10:00\",\"2018-02-19T22:20:00\",\"2018-02-19T22:30:00\",\"2018-02-19T22:40:00\",\"2018-02-19T22:50:00\",\"2018-02-19T23:00:00\",\"2018-02-19T23:10:00\",\"2018-02-19T23:20:00\",\"2018-02-19T23:30:00\",\"2018-02-19T23:40:00\",\"2018-02-19T23:50:00\",\"2018-02-20T00:00:00\",\"2018-02-20T00:10:00\",\"2018-02-20T00:20:00\",\"2018-02-20T00:30:00\",\"2018-02-20T00:40:00\",\"2018-02-20T00:50:00\",\"2018-02-20T01:00:00\",\"2018-02-20T01:10:00\",\"2018-02-20T01:20:00\",\"2018-02-20T01:30:00\",\"2018-02-20T01:40:00\",\"2018-02-20T01:50:00\",\"2018-02-20T02:00:00\",\"2018-02-20T02:10:00\",\"2018-02-20T02:20:00\",\"2018-02-20T02:30:00\",\"2018-02-20T02:40:00\",\"2018-02-20T02:50:00\",\"2018-02-20T03:00:00\",\"2018-02-20T03:10:00\",\"2018-02-20T03:20:00\",\"2018-02-20T03:30:00\",\"2018-02-20T03:40:00\",\"2018-02-20T03:50:00\",\"2018-02-20T04:00:00\",\"2018-02-20T04:10:00\",\"2018-02-20T04:20:00\",\"2018-02-20T04:30:00\",\"2018-02-20T04:40:00\",\"2018-02-20T04:50:00\",\"2018-02-20T05:00:00\",\"2018-02-20T05:10:00\",\"2018-02-20T05:20:00\",\"2018-02-20T05:30:00\",\"2018-02-20T05:40:00\",\"2018-02-20T05:50:00\",\"2018-02-20T06:00:00\",\"2018-02-20T06:10:00\",\"2018-02-20T06:20:00\",\"2018-02-20T06:30:00\",\"2018-02-20T06:40:00\",\"2018-02-20T06:50:00\",\"2018-02-20T07:00:00\",\"2018-02-20T07:10:00\",\"2018-02-20T07:20:00\",\"2018-02-20T07:30:00\",\"2018-02-20T07:40:00\",\"2018-02-20T07:50:00\",\"2018-02-20T08:00:00\",\"2018-02-20T08:10:00\",\"2018-02-20T08:20:00\",\"2018-02-20T08:30:00\",\"2018-02-20T08:40:00\",\"2018-02-20T08:50:00\",\"2018-02-20T09:00:00\",\"2018-02-20T09:10:00\",\"2018-02-20T09:20:00\",\"2018-02-20T09:30:00\",\"2018-02-20T09:40:00\",\"2018-02-20T09:50:00\",\"2018-02-20T10:00:00\",\"2018-02-20T10:10:00\",\"2018-02-20T10:20:00\",\"2018-02-20T10:30:00\",\"2018-02-20T10:40:00\",\"2018-02-20T10:50:00\",\"2018-02-20T11:00:00\",\"2018-02-20T11:10:00\",\"2018-02-20T11:20:00\",\"2018-02-20T11:30:00\",\"2018-02-20T11:40:00\",\"2018-02-20T11:50:00\",\"2018-02-20T12:00:00\",\"2018-02-20T12:10:00\",\"2018-02-20T12:20:00\",\"2018-02-20T12:30:00\",\"2018-02-20T12:40:00\",\"2018-02-20T12:50:00\",\"2018-02-20T13:00:00\",\"2018-02-20T13:10:00\",\"2018-02-20T13:20:00\",\"2018-02-20T13:30:00\",\"2018-02-20T13:40:00\",\"2018-02-20T13:50:00\",\"2018-02-20T14:00:00\",\"2018-02-20T14:10:00\",\"2018-02-20T14:20:00\",\"2018-02-20T14:30:00\",\"2018-02-20T14:40:00\",\"2018-02-20T14:50:00\",\"2018-02-20T15:00:00\",\"2018-02-20T15:10:00\",\"2018-02-20T15:20:00\",\"2018-02-20T15:30:00\",\"2018-02-20T15:40:00\",\"2018-02-20T15:50:00\",\"2018-02-20T16:00:00\",\"2018-02-20T16:10:00\",\"2018-02-20T16:20:00\",\"2018-02-20T16:30:00\",\"2018-02-20T16:40:00\",\"2018-02-20T16:50:00\",\"2018-02-20T17:00:00\",\"2018-02-20T17:10:00\",\"2018-02-20T17:20:00\",\"2018-02-20T17:30:00\",\"2018-02-20T17:40:00\",\"2018-02-20T17:50:00\",\"2018-02-20T18:00:00\",\"2018-02-20T18:10:00\",\"2018-02-20T18:20:00\",\"2018-02-20T18:30:00\",\"2018-02-20T18:40:00\",\"2018-02-20T18:50:00\",\"2018-02-20T19:00:00\",\"2018-02-20T19:10:00\",\"2018-02-20T19:20:00\",\"2018-02-20T19:30:00\",\"2018-02-20T19:40:00\",\"2018-02-20T19:50:00\",\"2018-02-20T20:00:00\",\"2018-02-20T20:10:00\",\"2018-02-20T20:20:00\",\"2018-02-20T20:30:00\",\"2018-02-20T20:40:00\",\"2018-02-20T20:50:00\",\"2018-02-20T21:00:00\",\"2018-02-20T21:10:00\",\"2018-02-20T21:20:00\",\"2018-02-20T21:30:00\",\"2018-02-20T21:40:00\",\"2018-02-20T21:50:00\",\"2018-02-20T22:00:00\",\"2018-02-20T22:10:00\",\"2018-02-20T22:20:00\",\"2018-02-20T22:30:00\",\"2018-02-20T22:40:00\",\"2018-02-20T22:50:00\",\"2018-02-20T23:00:00\",\"2018-02-20T23:10:00\",\"2018-02-20T23:20:00\",\"2018-02-20T23:30:00\",\"2018-02-20T23:40:00\",\"2018-02-20T23:50:00\",\"2018-02-21T00:00:00\",\"2018-02-21T00:10:00\"],\"xaxis\":\"x\",\"y\":[3.524875,3.46935107421875,3.37622192382812,3.09368408203125,2.80439501953125,2.69449096679687,3.15943701171875,2.96644604492187,2.67427294921875,2.29781811523437,1.9104959716796803,1.66355297851562,1.65197900390625,1.38483703613281,2.269251953125,2.24192993164062,2.41898706054687,3.22032690429687,3.25467309570312,3.213162109375,2.9616708984375,3.2122080078125,3.44661499023437,2.43696508789062,1.84481494140625,1.98524304199218,2.86269995117187,3.44719189453125,3.33631396484375,2.959083984375,3.01765502929687,2.84296606445312,2.60321508789062,2.98440698242187,3.49706298828125,3.26407202148437,3.06601708984375,2.725337890625,2.27005297851562,2.58768408203125,2.908455078125,2.35585498046875,1.63501293945312,1.77870300292968,1.62826696777343,2.00845300292968,1.9893420410156202,1.996041015625,1.93408703613281,1.53827404785156,1.81423596191406,2.3306201171875,2.17763305664062,1.9603609619140598,1.9555920410156198,2.22602807617187,1.8794110107421798,1.80896899414062,1.91545202636718,2.01635595703125,1.94128698730468,2.12960205078125,1.87619995117187,1.91538195800781,1.68528405761718,1.48628198242187,1.8487299804687498,1.70559704589843,1.8295780029296802,2.16118505859375,1.96321496582031,1.86095495605468,1.6722939453125,1.61884399414062,1.45814501953125,1.6671669921875,1.40306896972656,1.18715197753906,1.02971899414062,1.20545104980468,1.06334497070312,0.8084354858398429,0.882090087890625,1.26374401855468,1.05108203125,0.977055725097656,1.02512805175781,0.711966125488281,0.9562382812500001,0.793968017578125,0.6876898803710929,0.6964456176757811,0.6686810302734371,0.857704772949218,0.62738232421875,0.650702819824218,0.73020947265625,0.9110015869140621,0.865025817871093,0.7535269775390621,0.747774780273437,0.7358994140625,0.6646207275390621,0.492327392578125,0.413855987548828,0.385579193115234,0.317771087646484,0.337842193603515,0.0927942199707031,0.09244431304931641,0.0491273117065429,0.00440965700149536,1.1665998359220275,1.1665998359220275,1.1665998359220275,0.050383060455322204,0.10453649902343701,0.173661300659179,0.277372985839843,0.442651214599609,0.4646138916015619,0.330193908691406,0.30100350952148397,0.426784484863281,0.365944396972656,0.176328201293945,0.17334550476074198,0.176993194580078,0.230024002075195,0.172128997802734,0.17276770019531199,0.132625396728515,0.263737487792968,0.306140014648437,0.17897959899902302,0.23388240051269496,0.10706729888916,0.121775398254394,0.059718658447265593,0.0754045028686523,0.103082702636718,0.0325314598083496,0.08946565246582029,0.20465679931640599,0.24815950012207,0.213408599853515,0.124183097839355,0.0506407203674316,0.0872630996704101,0.0771187362670898,0.0206984691619873,0.0114750604629516,0.0019343969821929905,0.0116660003662109,0.0032403349876403806,-0.00015820010006427807,1.1665998359220275,1.1665998359220275,1.1665998359220275,1.1665998359220275,1.1665998359220275,1.1665998359220275,1.1665998359220275,1.1665998359220275,1.1665998359220275,1.1665998359220275,1.1665998359220275,1.1665998359220275,0.0015073330402374198,0.0034452660083770697,-0.00247140502929687,1.1665998359220275,1.1665998359220275,1.1665998359220275,1.1665998359220275,1.1665998359220275,0.024128120422363196,0.030994899749755802,-0.0004223347902297969,1.1665998359220275,1.1665998359220275,1.1665998359220275,1.1665998359220275,1.1665998359220275,1.1665998359220275,1.1665998359220275,1.1665998359220275,1.1665998359220275,0.011028429985046299,-4.04667295515535e-05,1.1665998359220275,1.1665998359220275,0.0841009368896484,0.014955340385437],\"yaxis\":\"y\",\"type\":\"scatter\"},{\"hovertemplate\":\"variable=prediction<br>Date & Time=%{x}<br>Active power (MW)=%{y}<extra></extra>\",\"legendgroup\":\"prediction\",\"line\":{\"color\":\"#EF553B\",\"dash\":\"solid\"},\"marker\":{\"symbol\":\"circle\"},\"mode\":\"lines\",\"name\":\"prediction\",\"orientation\":\"v\",\"showlegend\":true,\"x\":[\"2018-02-19T16:00:00\",\"2018-02-19T16:10:00\",\"2018-02-19T16:20:00\",\"2018-02-19T16:30:00\",\"2018-02-19T16:40:00\",\"2018-02-19T16:50:00\",\"2018-02-19T17:00:00\",\"2018-02-19T17:10:00\",\"2018-02-19T17:20:00\",\"2018-02-19T17:30:00\",\"2018-02-19T17:40:00\",\"2018-02-19T17:50:00\",\"2018-02-19T18:00:00\",\"2018-02-19T18:10:00\",\"2018-02-19T18:20:00\",\"2018-02-19T18:30:00\",\"2018-02-19T18:40:00\",\"2018-02-19T18:50:00\",\"2018-02-19T19:00:00\",\"2018-02-19T19:10:00\",\"2018-02-19T19:20:00\",\"2018-02-19T19:30:00\",\"2018-02-19T19:40:00\",\"2018-02-19T19:50:00\",\"2018-02-19T20:00:00\",\"2018-02-19T20:10:00\",\"2018-02-19T20:20:00\",\"2018-02-19T20:30:00\",\"2018-02-19T20:40:00\",\"2018-02-19T20:50:00\",\"2018-02-19T21:00:00\",\"2018-02-19T21:10:00\",\"2018-02-19T21:20:00\",\"2018-02-19T21:30:00\",\"2018-02-19T21:40:00\",\"2018-02-19T21:50:00\",\"2018-02-19T22:00:00\",\"2018-02-19T22:10:00\",\"2018-02-19T22:20:00\",\"2018-02-19T22:30:00\",\"2018-02-19T22:40:00\",\"2018-02-19T22:50:00\",\"2018-02-19T23:00:00\",\"2018-02-19T23:10:00\",\"2018-02-19T23:20:00\",\"2018-02-19T23:30:00\",\"2018-02-19T23:40:00\",\"2018-02-19T23:50:00\",\"2018-02-20T00:00:00\",\"2018-02-20T00:10:00\",\"2018-02-20T00:20:00\",\"2018-02-20T00:30:00\",\"2018-02-20T00:40:00\",\"2018-02-20T00:50:00\",\"2018-02-20T01:00:00\",\"2018-02-20T01:10:00\",\"2018-02-20T01:20:00\",\"2018-02-20T01:30:00\",\"2018-02-20T01:40:00\",\"2018-02-20T01:50:00\",\"2018-02-20T02:00:00\",\"2018-02-20T02:10:00\",\"2018-02-20T02:20:00\",\"2018-02-20T02:30:00\",\"2018-02-20T02:40:00\",\"2018-02-20T02:50:00\",\"2018-02-20T03:00:00\",\"2018-02-20T03:10:00\",\"2018-02-20T03:20:00\",\"2018-02-20T03:30:00\",\"2018-02-20T03:40:00\",\"2018-02-20T03:50:00\",\"2018-02-20T04:00:00\",\"2018-02-20T04:10:00\",\"2018-02-20T04:20:00\",\"2018-02-20T04:30:00\",\"2018-02-20T04:40:00\",\"2018-02-20T04:50:00\",\"2018-02-20T05:00:00\",\"2018-02-20T05:10:00\",\"2018-02-20T05:20:00\",\"2018-02-20T05:30:00\",\"2018-02-20T05:40:00\",\"2018-02-20T05:50:00\",\"2018-02-20T06:00:00\",\"2018-02-20T06:10:00\",\"2018-02-20T06:20:00\",\"2018-02-20T06:30:00\",\"2018-02-20T06:40:00\",\"2018-02-20T06:50:00\",\"2018-02-20T07:00:00\",\"2018-02-20T07:10:00\",\"2018-02-20T07:20:00\",\"2018-02-20T07:30:00\",\"2018-02-20T07:40:00\",\"2018-02-20T07:50:00\",\"2018-02-20T08:00:00\",\"2018-02-20T08:10:00\",\"2018-02-20T08:20:00\",\"2018-02-20T08:30:00\",\"2018-02-20T08:40:00\",\"2018-02-20T08:50:00\",\"2018-02-20T09:00:00\",\"2018-02-20T09:10:00\",\"2018-02-20T09:20:00\",\"2018-02-20T09:30:00\",\"2018-02-20T09:40:00\",\"2018-02-20T09:50:00\",\"2018-02-20T10:00:00\",\"2018-02-20T10:10:00\",\"2018-02-20T10:20:00\",\"2018-02-20T10:30:00\",\"2018-02-20T10:40:00\",\"2018-02-20T10:50:00\",\"2018-02-20T11:00:00\",\"2018-02-20T11:10:00\",\"2018-02-20T11:20:00\",\"2018-02-20T11:30:00\",\"2018-02-20T11:40:00\",\"2018-02-20T11:50:00\",\"2018-02-20T12:00:00\",\"2018-02-20T12:10:00\",\"2018-02-20T12:20:00\",\"2018-02-20T12:30:00\",\"2018-02-20T12:40:00\",\"2018-02-20T12:50:00\",\"2018-02-20T13:00:00\",\"2018-02-20T13:10:00\",\"2018-02-20T13:20:00\",\"2018-02-20T13:30:00\",\"2018-02-20T13:40:00\",\"2018-02-20T13:50:00\",\"2018-02-20T14:00:00\",\"2018-02-20T14:10:00\",\"2018-02-20T14:20:00\",\"2018-02-20T14:30:00\",\"2018-02-20T14:40:00\",\"2018-02-20T14:50:00\",\"2018-02-20T15:00:00\",\"2018-02-20T15:10:00\",\"2018-02-20T15:20:00\",\"2018-02-20T15:30:00\",\"2018-02-20T15:40:00\",\"2018-02-20T15:50:00\",\"2018-02-20T16:00:00\",\"2018-02-20T16:10:00\",\"2018-02-20T16:20:00\",\"2018-02-20T16:30:00\",\"2018-02-20T16:40:00\",\"2018-02-20T16:50:00\",\"2018-02-20T17:00:00\",\"2018-02-20T17:10:00\",\"2018-02-20T17:20:00\",\"2018-02-20T17:30:00\",\"2018-02-20T17:40:00\",\"2018-02-20T17:50:00\",\"2018-02-20T18:00:00\",\"2018-02-20T18:10:00\",\"2018-02-20T18:20:00\",\"2018-02-20T18:30:00\",\"2018-02-20T18:40:00\",\"2018-02-20T18:50:00\",\"2018-02-20T19:00:00\",\"2018-02-20T19:10:00\",\"2018-02-20T19:20:00\",\"2018-02-20T19:30:00\",\"2018-02-20T19:40:00\",\"2018-02-20T19:50:00\",\"2018-02-20T20:00:00\",\"2018-02-20T20:10:00\",\"2018-02-20T20:20:00\",\"2018-02-20T20:30:00\",\"2018-02-20T20:40:00\",\"2018-02-20T20:50:00\",\"2018-02-20T21:00:00\",\"2018-02-20T21:10:00\",\"2018-02-20T21:20:00\",\"2018-02-20T21:30:00\",\"2018-02-20T21:40:00\",\"2018-02-20T21:50:00\",\"2018-02-20T22:00:00\",\"2018-02-20T22:10:00\",\"2018-02-20T22:20:00\",\"2018-02-20T22:30:00\",\"2018-02-20T22:40:00\",\"2018-02-20T22:50:00\",\"2018-02-20T23:00:00\",\"2018-02-20T23:10:00\",\"2018-02-20T23:20:00\",\"2018-02-20T23:30:00\",\"2018-02-20T23:40:00\",\"2018-02-20T23:50:00\",\"2018-02-21T00:00:00\",\"2018-02-21T00:10:00\"],\"xaxis\":\"x\",\"y\":[3.4842917919158936,3.5190200805664062,3.426168441772461,3.3426778316497803,2.9092328548431396,2.640608787536621,2.650066375732422,3.334190607070923,2.8818001747131348,2.488219738006592,2.1346120834350586,1.6806541681289673,1.6293812990188599,1.7005224227905273,1.2756669521331787,2.486711263656616,2.167224407196045,2.4125685691833496,3.070634365081787,3.1266977787017822,3.064518451690674,2.8240201473236084,3.20992112159729,3.4460620880126953,1.9605176448822021,1.701857566833496,2.086416006088257,2.9194159507751465,3.228130340576172,3.0793826580047607,2.6720376014709473,3.021153688430786,2.6588516235351562,2.467670202255249,3.1970245838165283,3.397408962249756,3.123673439025879,2.92022705078125,2.5213828086853027,1.9777685403823853,2.811403274536133,3.0655696392059326,2.0134050846099854,1.3719037771224976,1.9106045961380005,1.4532864093780518,2.2124111652374268,1.9559667110443115,1.9714218378067017,1.9169021844863892,1.35589599609375,2.0078635215759277,2.5335445404052734,2.0606119632720947,1.7814315557479858,1.9884995222091675,2.327984571456909,1.6821422576904297,1.778193473815918,1.9996318817138672,2.0433170795440674,1.89877188205719,2.2377614974975586,1.7426072359085083,1.9437785148620605,1.5837074518203735,1.413400650024414,2.058565616607666,1.6001330614089966,1.8994345664978027,2.32365083694458,1.8213244676589966,1.7955535650253296,1.606155276298523,1.5960893630981445,1.3905631303787231,1.7931896448135376,1.2757753133773804,1.1395385265350342,1.0010347366333008,1.3152600526809692,1.0122859477996826,0.7631309628486633,0.9723149538040161,1.4302886724472046,0.9429900646209717,0.9749789237976074,1.071158528327942,0.6931446194648743,1.1182763576507568,0.7320306301116943,0.7454278469085693,0.741817831993103,0.7492070198059082,0.9651046395301819,0.5709631443023682,0.7497431635856628,0.8029415011405945,1.029189109802246,0.8388740420341492,0.7593312859535217,0.8137242197990417,0.7960481643676758,0.6935444474220276,0.49952006340026855,0.4745297133922577,0.46707993745803833,0.4105079770088196,0.43955618143081665,0.169320747256279,0.21729515492916107,0.16333021223545074,0.1338350474834442,1.1419527530670166,1.0544137954711914,1.1543453931808472,-0.000381967838620767,0.31987693905830383,0.3273933231830597,0.4911852777004242,0.5290247797966003,0.507348895072937,0.39190325140953064,0.37129124999046326,0.5234895348548889,0.44288861751556396,0.24934524297714233,0.26398083567619324,0.2619613707065582,0.32199200987815857,0.2468680590391159,0.2575698494911194,0.20657481253147125,0.358274906873703,0.39249753952026367,0.2618849277496338,0.31322216987609863,0.176700159907341,0.21455080807209015,0.15128344297409058,0.17596063017845154,0.19723573327064514,0.12309755384922028,0.1995590180158615,0.3026476502418518,0.33967068791389465,0.30742186307907104,0.20802175998687744,0.1345345675945282,0.1877526491880417,0.16917599737644196,0.12089599668979645,0.13275623321533203,0.12810221314430237,0.13356952369213104,0.11841870099306107,0.1206623837351799,1.1243661642074585,1.0589911937713623,1.1599987745285034,1.1857596635818481,1.1976906061172485,1.1721712350845337,1.1721712350845337,1.1721712350845337,1.1721712350845337,1.1721712350845337,1.1721712350845337,1.1721712350845337,0.06363236159086227,0.3413606286048889,0.25075000524520874,1.274915337562561,1.001297116279602,1.1613750457763672,1.1858489513397217,1.1977174282073975,0.07786419987678528,0.3460790812969208,0.24103151261806488,1.2833439111709595,1.0022376775741577,1.160614252090454,1.1834516525268555,1.1976938247680664,1.1721712350845337,1.1721712350845337,1.1721712350845337,1.1721712350845337,0.06962244212627411,0.3343064785003662,1.2659889459609985,1.0453500747680664,0.06079418584704399],\"yaxis\":\"y\",\"type\":\"scatter\"}],                        {\"template\":{\"data\":{\"bar\":[{\"error_x\":{\"color\":\"#2a3f5f\"},\"error_y\":{\"color\":\"#2a3f5f\"},\"marker\":{\"line\":{\"color\":\"#E5ECF6\",\"width\":0.5},\"pattern\":{\"fillmode\":\"overlay\",\"size\":10,\"solidity\":0.2}},\"type\":\"bar\"}],\"barpolar\":[{\"marker\":{\"line\":{\"color\":\"#E5ECF6\",\"width\":0.5},\"pattern\":{\"fillmode\":\"overlay\",\"size\":10,\"solidity\":0.2}},\"type\":\"barpolar\"}],\"carpet\":[{\"aaxis\":{\"endlinecolor\":\"#2a3f5f\",\"gridcolor\":\"white\",\"linecolor\":\"white\",\"minorgridcolor\":\"white\",\"startlinecolor\":\"#2a3f5f\"},\"baxis\":{\"endlinecolor\":\"#2a3f5f\",\"gridcolor\":\"white\",\"linecolor\":\"white\",\"minorgridcolor\":\"white\",\"startlinecolor\":\"#2a3f5f\"},\"type\":\"carpet\"}],\"choropleth\":[{\"colorbar\":{\"outlinewidth\":0,\"ticks\":\"\"},\"type\":\"choropleth\"}],\"contour\":[{\"colorbar\":{\"outlinewidth\":0,\"ticks\":\"\"},\"colorscale\":[[0.0,\"#0d0887\"],[0.1111111111111111,\"#46039f\"],[0.2222222222222222,\"#7201a8\"],[0.3333333333333333,\"#9c179e\"],[0.4444444444444444,\"#bd3786\"],[0.5555555555555556,\"#d8576b\"],[0.6666666666666666,\"#ed7953\"],[0.7777777777777778,\"#fb9f3a\"],[0.8888888888888888,\"#fdca26\"],[1.0,\"#f0f921\"]],\"type\":\"contour\"}],\"contourcarpet\":[{\"colorbar\":{\"outlinewidth\":0,\"ticks\":\"\"},\"type\":\"contourcarpet\"}],\"heatmap\":[{\"colorbar\":{\"outlinewidth\":0,\"ticks\":\"\"},\"colorscale\":[[0.0,\"#0d0887\"],[0.1111111111111111,\"#46039f\"],[0.2222222222222222,\"#7201a8\"],[0.3333333333333333,\"#9c179e\"],[0.4444444444444444,\"#bd3786\"],[0.5555555555555556,\"#d8576b\"],[0.6666666666666666,\"#ed7953\"],[0.7777777777777778,\"#fb9f3a\"],[0.8888888888888888,\"#fdca26\"],[1.0,\"#f0f921\"]],\"type\":\"heatmap\"}],\"heatmapgl\":[{\"colorbar\":{\"outlinewidth\":0,\"ticks\":\"\"},\"colorscale\":[[0.0,\"#0d0887\"],[0.1111111111111111,\"#46039f\"],[0.2222222222222222,\"#7201a8\"],[0.3333333333333333,\"#9c179e\"],[0.4444444444444444,\"#bd3786\"],[0.5555555555555556,\"#d8576b\"],[0.6666666666666666,\"#ed7953\"],[0.7777777777777778,\"#fb9f3a\"],[0.8888888888888888,\"#fdca26\"],[1.0,\"#f0f921\"]],\"type\":\"heatmapgl\"}],\"histogram\":[{\"marker\":{\"pattern\":{\"fillmode\":\"overlay\",\"size\":10,\"solidity\":0.2}},\"type\":\"histogram\"}],\"histogram2d\":[{\"colorbar\":{\"outlinewidth\":0,\"ticks\":\"\"},\"colorscale\":[[0.0,\"#0d0887\"],[0.1111111111111111,\"#46039f\"],[0.2222222222222222,\"#7201a8\"],[0.3333333333333333,\"#9c179e\"],[0.4444444444444444,\"#bd3786\"],[0.5555555555555556,\"#d8576b\"],[0.6666666666666666,\"#ed7953\"],[0.7777777777777778,\"#fb9f3a\"],[0.8888888888888888,\"#fdca26\"],[1.0,\"#f0f921\"]],\"type\":\"histogram2d\"}],\"histogram2dcontour\":[{\"colorbar\":{\"outlinewidth\":0,\"ticks\":\"\"},\"colorscale\":[[0.0,\"#0d0887\"],[0.1111111111111111,\"#46039f\"],[0.2222222222222222,\"#7201a8\"],[0.3333333333333333,\"#9c179e\"],[0.4444444444444444,\"#bd3786\"],[0.5555555555555556,\"#d8576b\"],[0.6666666666666666,\"#ed7953\"],[0.7777777777777778,\"#fb9f3a\"],[0.8888888888888888,\"#fdca26\"],[1.0,\"#f0f921\"]],\"type\":\"histogram2dcontour\"}],\"mesh3d\":[{\"colorbar\":{\"outlinewidth\":0,\"ticks\":\"\"},\"type\":\"mesh3d\"}],\"parcoords\":[{\"line\":{\"colorbar\":{\"outlinewidth\":0,\"ticks\":\"\"}},\"type\":\"parcoords\"}],\"pie\":[{\"automargin\":true,\"type\":\"pie\"}],\"scatter\":[{\"marker\":{\"colorbar\":{\"outlinewidth\":0,\"ticks\":\"\"}},\"type\":\"scatter\"}],\"scatter3d\":[{\"line\":{\"colorbar\":{\"outlinewidth\":0,\"ticks\":\"\"}},\"marker\":{\"colorbar\":{\"outlinewidth\":0,\"ticks\":\"\"}},\"type\":\"scatter3d\"}],\"scattercarpet\":[{\"marker\":{\"colorbar\":{\"outlinewidth\":0,\"ticks\":\"\"}},\"type\":\"scattercarpet\"}],\"scattergeo\":[{\"marker\":{\"colorbar\":{\"outlinewidth\":0,\"ticks\":\"\"}},\"type\":\"scattergeo\"}],\"scattergl\":[{\"marker\":{\"colorbar\":{\"outlinewidth\":0,\"ticks\":\"\"}},\"type\":\"scattergl\"}],\"scattermapbox\":[{\"marker\":{\"colorbar\":{\"outlinewidth\":0,\"ticks\":\"\"}},\"type\":\"scattermapbox\"}],\"scatterpolar\":[{\"marker\":{\"colorbar\":{\"outlinewidth\":0,\"ticks\":\"\"}},\"type\":\"scatterpolar\"}],\"scatterpolargl\":[{\"marker\":{\"colorbar\":{\"outlinewidth\":0,\"ticks\":\"\"}},\"type\":\"scatterpolargl\"}],\"scatterternary\":[{\"marker\":{\"colorbar\":{\"outlinewidth\":0,\"ticks\":\"\"}},\"type\":\"scatterternary\"}],\"surface\":[{\"colorbar\":{\"outlinewidth\":0,\"ticks\":\"\"},\"colorscale\":[[0.0,\"#0d0887\"],[0.1111111111111111,\"#46039f\"],[0.2222222222222222,\"#7201a8\"],[0.3333333333333333,\"#9c179e\"],[0.4444444444444444,\"#bd3786\"],[0.5555555555555556,\"#d8576b\"],[0.6666666666666666,\"#ed7953\"],[0.7777777777777778,\"#fb9f3a\"],[0.8888888888888888,\"#fdca26\"],[1.0,\"#f0f921\"]],\"type\":\"surface\"}],\"table\":[{\"cells\":{\"fill\":{\"color\":\"#EBF0F8\"},\"line\":{\"color\":\"white\"}},\"header\":{\"fill\":{\"color\":\"#C8D4E3\"},\"line\":{\"color\":\"white\"}},\"type\":\"table\"}]},\"layout\":{\"annotationdefaults\":{\"arrowcolor\":\"#2a3f5f\",\"arrowhead\":0,\"arrowwidth\":1},\"autotypenumbers\":\"strict\",\"coloraxis\":{\"colorbar\":{\"outlinewidth\":0,\"ticks\":\"\"}},\"colorscale\":{\"diverging\":[[0,\"#8e0152\"],[0.1,\"#c51b7d\"],[0.2,\"#de77ae\"],[0.3,\"#f1b6da\"],[0.4,\"#fde0ef\"],[0.5,\"#f7f7f7\"],[0.6,\"#e6f5d0\"],[0.7,\"#b8e186\"],[0.8,\"#7fbc41\"],[0.9,\"#4d9221\"],[1,\"#276419\"]],\"sequential\":[[0.0,\"#0d0887\"],[0.1111111111111111,\"#46039f\"],[0.2222222222222222,\"#7201a8\"],[0.3333333333333333,\"#9c179e\"],[0.4444444444444444,\"#bd3786\"],[0.5555555555555556,\"#d8576b\"],[0.6666666666666666,\"#ed7953\"],[0.7777777777777778,\"#fb9f3a\"],[0.8888888888888888,\"#fdca26\"],[1.0,\"#f0f921\"]],\"sequentialminus\":[[0.0,\"#0d0887\"],[0.1111111111111111,\"#46039f\"],[0.2222222222222222,\"#7201a8\"],[0.3333333333333333,\"#9c179e\"],[0.4444444444444444,\"#bd3786\"],[0.5555555555555556,\"#d8576b\"],[0.6666666666666666,\"#ed7953\"],[0.7777777777777778,\"#fb9f3a\"],[0.8888888888888888,\"#fdca26\"],[1.0,\"#f0f921\"]]},\"colorway\":[\"#636efa\",\"#EF553B\",\"#00cc96\",\"#ab63fa\",\"#FFA15A\",\"#19d3f3\",\"#FF6692\",\"#B6E880\",\"#FF97FF\",\"#FECB52\"],\"font\":{\"color\":\"#2a3f5f\"},\"geo\":{\"bgcolor\":\"white\",\"lakecolor\":\"white\",\"landcolor\":\"#E5ECF6\",\"showlakes\":true,\"showland\":true,\"subunitcolor\":\"white\"},\"hoverlabel\":{\"align\":\"left\"},\"hovermode\":\"closest\",\"mapbox\":{\"style\":\"light\"},\"paper_bgcolor\":\"white\",\"plot_bgcolor\":\"#E5ECF6\",\"polar\":{\"angularaxis\":{\"gridcolor\":\"white\",\"linecolor\":\"white\",\"ticks\":\"\"},\"bgcolor\":\"#E5ECF6\",\"radialaxis\":{\"gridcolor\":\"white\",\"linecolor\":\"white\",\"ticks\":\"\"}},\"scene\":{\"xaxis\":{\"backgroundcolor\":\"#E5ECF6\",\"gridcolor\":\"white\",\"gridwidth\":2,\"linecolor\":\"white\",\"showbackground\":true,\"ticks\":\"\",\"zerolinecolor\":\"white\"},\"yaxis\":{\"backgroundcolor\":\"#E5ECF6\",\"gridcolor\":\"white\",\"gridwidth\":2,\"linecolor\":\"white\",\"showbackground\":true,\"ticks\":\"\",\"zerolinecolor\":\"white\"},\"zaxis\":{\"backgroundcolor\":\"#E5ECF6\",\"gridcolor\":\"white\",\"gridwidth\":2,\"linecolor\":\"white\",\"showbackground\":true,\"ticks\":\"\",\"zerolinecolor\":\"white\"}},\"shapedefaults\":{\"line\":{\"color\":\"#2a3f5f\"}},\"ternary\":{\"aaxis\":{\"gridcolor\":\"white\",\"linecolor\":\"white\",\"ticks\":\"\"},\"baxis\":{\"gridcolor\":\"white\",\"linecolor\":\"white\",\"ticks\":\"\"},\"bgcolor\":\"#E5ECF6\",\"caxis\":{\"gridcolor\":\"white\",\"linecolor\":\"white\",\"ticks\":\"\"}},\"title\":{\"x\":0.05},\"xaxis\":{\"automargin\":true,\"gridcolor\":\"white\",\"linecolor\":\"white\",\"ticks\":\"\",\"title\":{\"standoff\":15},\"zerolinecolor\":\"white\",\"zerolinewidth\":2},\"yaxis\":{\"automargin\":true,\"gridcolor\":\"white\",\"linecolor\":\"white\",\"ticks\":\"\",\"title\":{\"standoff\":15},\"zerolinecolor\":\"white\",\"zerolinewidth\":2}}},\"xaxis\":{\"anchor\":\"y\",\"domain\":[0.0,1.0],\"title\":{\"text\":\"Date & Time\",\"font\":{\"size\":16}}},\"yaxis\":{\"anchor\":\"x\",\"domain\":[0.0,1.0],\"title\":{\"text\":\"Active power (MW)\",\"font\":{\"size\":16}}},\"legend\":{\"title\":{\"text\":\"variable\"},\"tracegroupgap\":0},\"title\":{\"text\":\"Model1: Expected vs predicted power forecasting\",\"font\":{\"color\":\"red\",\"size\":20}}},                        {\"responsive\": true}                    ).then(function(){\n",
              "                            \n",
              "var gd = document.getElementById('d8e3b4c6-be75-41a9-a1f4-652c53a79c9a');\n",
              "var x = new MutationObserver(function (mutations, observer) {{\n",
              "        var display = window.getComputedStyle(gd).display;\n",
              "        if (!display || display === 'none') {{\n",
              "            console.log([gd, 'removed!']);\n",
              "            Plotly.purge(gd);\n",
              "            observer.disconnect();\n",
              "        }}\n",
              "}});\n",
              "\n",
              "// Listen for the removal of the full notebook cells\n",
              "var notebookContainer = gd.closest('#notebook-container');\n",
              "if (notebookContainer) {{\n",
              "    x.observe(notebookContainer, {childList: true});\n",
              "}}\n",
              "\n",
              "// Listen for the clearing of the current output cell\n",
              "var outputEl = gd.closest('.output');\n",
              "if (outputEl) {{\n",
              "    x.observe(outputEl, {childList: true});\n",
              "}}\n",
              "\n",
              "                        })                };                            </script>        </div>\n",
              "</body>\n",
              "</html>"
            ]
          },
          "metadata": {}
        }
      ]
    },
    {
      "cell_type": "code",
      "source": [
        "eval_df.plot(x='Date & Time', y=['prediction','actual'], style=['g','--b'],fontsize=12, figsize=(15, 8))\n",
        "plt.title(\"Model \"+str(model_no)+\": Expected vs predicted power forecasting\",fontsize=16)\n",
        "plt.xlabel('Date & Time', fontsize=16)\n",
        "plt.ylabel('Active power (MW)', fontsize=16)\n",
        "plt.grid() \n",
        "plt.legend([\"Our Model \"+str(model_no)+\" Forecasted power\", 'Actual Power'])\n",
        "# plt.savefig(\"GRU-results.pdf\")\n",
        "plt.savefig(\"results.png\")\n",
        "plt.show()"
      ],
      "metadata": {
        "colab": {
          "base_uri": "https://localhost:8080/",
          "height": 555
        },
        "id": "6tPEi8LM1i2X",
        "outputId": "3b07ae75-215b-40ea-dc24-2a65588f5749"
      },
      "execution_count": null,
      "outputs": [
        {
          "output_type": "display_data",
          "data": {
            "text/plain": [
              "<Figure size 1080x576 with 1 Axes>"
            ],
            "image/png": "[encoded data removed]"
          },
          "metadata": {
            "needs_background": "light"
          }
        }
      ]
    },
    {
      "cell_type": "markdown",
      "source": [
        "# **All model plots together**"
      ],
      "metadata": {
        "id": "3_xSc8Fl-baf"
      }
    },
    {
      "cell_type": "code",
      "source": [
        "model_1=tf.keras.models.load_model('/content/drive/MyDrive/Colab Notebooks/Weights/dilated_CNN_model.h5')\n",
        "model_2=tf.keras.models.load_model('/content/drive/MyDrive/Colab Notebooks/Weights/GRU_model.h5')\n",
        "model_3=tf.keras.models.load_model('/content/drive/MyDrive/Colab Notebooks/Weights/LSTM_model.h5')\n",
        "model_4=tf.keras.models.load_model('/content/drive/MyDrive/Colab Notebooks/Weights/CNN+LSTM_model.h5')"
      ],
      "metadata": {
        "id": "psOipD8B-fs_"
      },
      "execution_count": null,
      "outputs": []
    },
    {
      "cell_type": "code",
      "source": [
        "predictions_1 = scalar.inverse_transform(np.array(model_1(X_test)))\n",
        "predictions_2 = scalar.inverse_transform(np.array(model_2(X_test)))\n",
        "predictions_3 = scalar.inverse_transform(np.array(model_3(X_test)))\n",
        "predictions_4 = scalar.inverse_transform(np.array(model_4(X_test)))"
      ],
      "metadata": {
        "id": "wk5Ea3WK_OiM"
      },
      "execution_count": null,
      "outputs": []
    },
    {
      "cell_type": "code",
      "source": [
        "import matplotlib.pyplot as plt\n",
        "x=np.array(eval_df['Date & Time'])\n",
        "y=np.array(eval_df['actual'])\n",
        "plt.figure(figsize=(20,10))\n",
        "plt.xlabel('Date & Time', fontsize=16)\n",
        "plt.ylabel('Active power (MW)', fontsize=16)\n",
        "\n",
        "plt.rc('axes', labelsize=15)\n",
        "plt.plot(x,predictions_1, color = 'green', label = 'Dilated CNN')\n",
        "plt.plot(x,predictions_2, color = 'red', label = 'GRU')\n",
        "plt.plot(x,predictions_3, color = 'blue', label = 'LSTM')\n",
        "plt.plot(x,predictions_2, color = 'violet', label = 'Dilated CNN + LSTM')\n",
        "plt.plot(x,y, '--b', label = 'Expected value')\n",
        "# plt.plot(x,predictions_1,x,predictions_2,x,predictions_3,x,predictions_4)\n",
        "# ax.plot(line_2, color = 'red', label = 'Line 2')\n",
        "plt.legend()\n",
        "plt.savefig(\"benchmark.png\")\n",
        "plt.show()\n"
      ],
      "metadata": {
        "colab": {
          "base_uri": "https://localhost:8080/",
          "height": 613
        },
        "id": "meipdjB2BQng",
        "outputId": "a8280bfb-a19c-4616-a935-e6fc15de883d"
      },
      "execution_count": null,
      "outputs": [
        {
          "output_type": "display_data",
          "data": {
            "text/plain": [
              "<Figure size 1440x720 with 1 Axes>"
            ],
            "image/png": "[encoded data removed]"
          },
          "metadata": {
            "needs_background": "light"
          }
        }
      ]
    },
    {
      "cell_type": "code",
      "source": [
        "`eval_df.plot(x='Date & Time', y=predictions_1,predictions_2,predictions_3,predictions_4 ,fontsize=12, figsize=(15, 8))\n",
        "plt.title(\"Dilated CNN vs GRU vsLSTM vs Dilated CNN + Stacked LSTM\",fontsize=16)\n",
        "plt.xlabel('Date & Time', fontsize=16)\n",
        "plt.ylabel('Active power (MW)', fontsize=16)\n",
        "plt.grid()\n",
        "plt.legend(['Dilated CNN','GRU','LSTM','Dilated CNN+Stacked LSTM'])\n",
        "#plt.savefig(\"benchmark.pdf\")\n",
        "plt.savefig(\"benchmark.png\")\n",
        "plt.show()"
      ],
      "metadata": {
        "colab": {
          "base_uri": "https://localhost:8080/",
          "height": 131
        },
        "id": "6rmSG4TO_iIn",
        "outputId": "916e6743-1073-426a-eb85-7c4abea9e0bf"
      },
      "execution_count": null,
      "outputs": [
        {
          "output_type": "error",
          "ename": "SyntaxError",
          "evalue": "ignored",
          "traceback": [
            "\u001b[0;36m  File \u001b[0;32m\"<ipython-input-48-f5fc7f66c4d6>\"\u001b[0;36m, line \u001b[0;32m1\u001b[0m\n\u001b[0;31m    eval_df.plot(x='Date & Time', y=predictions_1,predictions_2,predictions_3,predictions_4 ,fontsize=12, figsize=(15, 8))\u001b[0m\n\u001b[0m                                                 ^\u001b[0m\n\u001b[0;31mSyntaxError\u001b[0m\u001b[0;31m:\u001b[0m positional argument follows keyword argument\n"
          ]
        }
      ]
    },
    {
      "cell_type": "code",
      "source": [
        "style=['g'.,'--b']\n"
      ],
      "metadata": {
        "id": "VRUsFA-7AB-p"
      },
      "execution_count": null,
      "outputs": []
    }
  ]
}