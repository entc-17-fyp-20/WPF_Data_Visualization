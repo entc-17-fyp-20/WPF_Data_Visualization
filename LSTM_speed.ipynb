{
  "nbformat": 4,
  "nbformat_minor": 0,
  "metadata": {
    "colab": {
      "name": "LSTM_speed.ipynb",
      "provenance": [],
      "collapsed_sections": [],
      "authorship_tag": "ABX9TyNITT4S5e2+VQQ68p/ZYRjN",
      "include_colab_link": true
    },
    "kernelspec": {
      "name": "python3",
      "display_name": "Python 3"
    },
    "language_info": {
      "name": "python"
    }
  },
  "cells": [
    {
      "cell_type": "markdown",
      "metadata": {
        "id": "view-in-github",
        "colab_type": "text"
      },
      "source": [
        "<a href=\"https://colab.research.google.com/github/entc-17-fyp-20/WPF_Data_Visualization/blob/Kusal/LSTM_speed.ipynb\" target=\"_parent\"><img src=\"https://colab.research.google.com/assets/colab-badge.svg\" alt=\"Open In Colab\"/></a>"
      ]
    },
    {
      "cell_type": "code",
      "metadata": {
        "id": "NZqqxNwuixOA"
      },
      "source": [
        "import numpy as np\n",
        "import matplotlib.pyplot as plt\n",
        "import pandas as pd \n",
        "import math\n",
        "\n",
        "from keras.models import Sequential\n",
        "from keras.layers import Dense\n",
        "from keras.layers import LSTM, Dropout\n",
        "from sklearn.preprocessing import StandardScaler\n",
        "from sklearn.metrics import mean_squared_error\n",
        "from keras.layers import ConvLSTM2D\n",
        "import seaborn as sns"
      ],
      "execution_count": 308,
      "outputs": []
    },
    {
      "cell_type": "code",
      "metadata": {
        "id": "gU7VsCMGtrGQ"
      },
      "source": [
        "df = pd.read_csv('https://raw.githubusercontent.com/entc-17-fyp-20/Datasets/main/August-2021%20Mannar%20Wind%20Data1.csv')\n",
        "df = df.rename(columns = {'TimeStamp': 'Date & Time', 'Average  Wind Speed(m/s)': 'Wind Speed (m/s)', 'Average  Wind Dirction(deg)':'Wind Direction(deg)','Average Active Power(MW)':'Active Power(MW)'}, inplace = False)\n",
        "df=df[['Date & Time','Wind Speed (m/s)','Wind Direction(deg)','Active Power(MW)']]\n",
        "df['Date & Time'] = pd.to_datetime(df['Date & Time'], format=\"%m/%d/%Y %H:%M\")\n",
        "df[\"Active Power(MW)\"] = pd.to_numeric(df[\"Active Power(MW)\"])\n",
        "#df.set_index('Date & Time',inplace=True)\n",
        "df_n=df.head(4389)\n",
        "train_dates=df_n['Date & Time']#separate dates for future plotting\n",
        "cols=list(df_n)[1:4]\n",
        "df_for_training= df_n[cols].astype(float)\n",
        "\n",
        "#print(cols)"
      ],
      "execution_count": 309,
      "outputs": []
    },
    {
      "cell_type": "code",
      "metadata": {
        "colab": {
          "base_uri": "https://localhost:8080/",
          "height": 297
        },
        "id": "x58sBXdA8Dj4",
        "outputId": "58f7944b-43ca-4e0e-a9ce-54770db24a31"
      },
      "source": [
        "df_for_training.describe()"
      ],
      "execution_count": 310,
      "outputs": [
        {
          "output_type": "execute_result",
          "data": {
            "text/html": [
              "<div>\n",
              "<style scoped>\n",
              "    .dataframe tbody tr th:only-of-type {\n",
              "        vertical-align: middle;\n",
              "    }\n",
              "\n",
              "    .dataframe tbody tr th {\n",
              "        vertical-align: top;\n",
              "    }\n",
              "\n",
              "    .dataframe thead th {\n",
              "        text-align: right;\n",
              "    }\n",
              "</style>\n",
              "<table border=\"1\" class=\"dataframe\">\n",
              "  <thead>\n",
              "    <tr style=\"text-align: right;\">\n",
              "      <th></th>\n",
              "      <th>Wind Speed (m/s)</th>\n",
              "      <th>Wind Direction(deg)</th>\n",
              "      <th>Active Power(MW)</th>\n",
              "    </tr>\n",
              "  </thead>\n",
              "  <tbody>\n",
              "    <tr>\n",
              "      <th>count</th>\n",
              "      <td>4389.000000</td>\n",
              "      <td>4389.000000</td>\n",
              "      <td>4389.000000</td>\n",
              "    </tr>\n",
              "    <tr>\n",
              "      <th>mean</th>\n",
              "      <td>9.946715</td>\n",
              "      <td>197.393964</td>\n",
              "      <td>72.479483</td>\n",
              "    </tr>\n",
              "    <tr>\n",
              "      <th>std</th>\n",
              "      <td>2.590403</td>\n",
              "      <td>14.234304</td>\n",
              "      <td>31.081689</td>\n",
              "    </tr>\n",
              "    <tr>\n",
              "      <th>min</th>\n",
              "      <td>1.810000</td>\n",
              "      <td>130.840000</td>\n",
              "      <td>-0.760000</td>\n",
              "    </tr>\n",
              "    <tr>\n",
              "      <th>25%</th>\n",
              "      <td>8.200000</td>\n",
              "      <td>188.990000</td>\n",
              "      <td>48.320000</td>\n",
              "    </tr>\n",
              "    <tr>\n",
              "      <th>50%</th>\n",
              "      <td>10.040000</td>\n",
              "      <td>194.780000</td>\n",
              "      <td>84.330000</td>\n",
              "    </tr>\n",
              "    <tr>\n",
              "      <th>75%</th>\n",
              "      <td>11.870000</td>\n",
              "      <td>203.660000</td>\n",
              "      <td>100.990000</td>\n",
              "    </tr>\n",
              "    <tr>\n",
              "      <th>max</th>\n",
              "      <td>16.450000</td>\n",
              "      <td>311.140000</td>\n",
              "      <td>103.420000</td>\n",
              "    </tr>\n",
              "  </tbody>\n",
              "</table>\n",
              "</div>"
            ],
            "text/plain": [
              "       Wind Speed (m/s)  Wind Direction(deg)  Active Power(MW)\n",
              "count       4389.000000          4389.000000       4389.000000\n",
              "mean           9.946715           197.393964         72.479483\n",
              "std            2.590403            14.234304         31.081689\n",
              "min            1.810000           130.840000         -0.760000\n",
              "25%            8.200000           188.990000         48.320000\n",
              "50%           10.040000           194.780000         84.330000\n",
              "75%           11.870000           203.660000        100.990000\n",
              "max           16.450000           311.140000        103.420000"
            ]
          },
          "metadata": {},
          "execution_count": 310
        }
      ]
    },
    {
      "cell_type": "code",
      "metadata": {
        "colab": {
          "base_uri": "https://localhost:8080/"
        },
        "id": "IRRc66oQltIa",
        "outputId": "77c92fd6-d82f-4747-f7cb-5ea7f6bff608"
      },
      "source": [
        "train_dates.tail(100)"
      ],
      "execution_count": 311,
      "outputs": [
        {
          "output_type": "execute_result",
          "data": {
            "text/plain": [
              "4289   2021-08-31 04:10:00\n",
              "4290   2021-08-31 04:20:00\n",
              "4291   2021-08-31 04:30:00\n",
              "4292   2021-08-31 04:40:00\n",
              "4293   2021-08-31 04:50:00\n",
              "               ...        \n",
              "4384   2021-08-31 20:00:00\n",
              "4385   2021-08-31 20:10:00\n",
              "4386   2021-08-31 20:20:00\n",
              "4387   2021-08-31 20:30:00\n",
              "4388   2021-08-31 20:40:00\n",
              "Name: Date & Time, Length: 100, dtype: datetime64[ns]"
            ]
          },
          "metadata": {},
          "execution_count": 311
        }
      ]
    },
    {
      "cell_type": "code",
      "metadata": {
        "id": "IgV1TcElLXV9"
      },
      "source": [
        "# df_for_plot=df_for_training.tail(2000)\n",
        "# df_for_plot.plot.line()\n",
        "scaler= StandardScaler()\n",
        "scaler=scaler.fit(df_for_training)\n",
        "df_for_training_scaled = scaler.transform(df_for_training)"
      ],
      "execution_count": 312,
      "outputs": []
    },
    {
      "cell_type": "code",
      "metadata": {
        "id": "ECRyUHj2hskr"
      },
      "source": [
        "trainX=[]\n",
        "trainY=[]\n",
        "\n",
        "n_future=1\n",
        "n_past=14\n",
        "\n",
        "for i in range(n_past, len(df_for_training_scaled) - n_future +1):\n",
        "    trainX.append(df_for_training_scaled[i - n_past:i, 0:df_for_training.shape[1]])\n",
        "    trainY.append(df_for_training_scaled[i + n_future - 1:i + n_future, 0])"
      ],
      "execution_count": 313,
      "outputs": []
    },
    {
      "cell_type": "code",
      "metadata": {
        "id": "GQqA2KQljZ_q"
      },
      "source": [
        "trainX, trainY = np.array(trainX), np.array(trainY)"
      ],
      "execution_count": 314,
      "outputs": []
    },
    {
      "cell_type": "code",
      "metadata": {
        "id": "EJ_5n3bbpqma"
      },
      "source": [
        ""
      ],
      "execution_count": 314,
      "outputs": []
    },
    {
      "cell_type": "code",
      "metadata": {
        "colab": {
          "base_uri": "https://localhost:8080/"
        },
        "id": "rM6dz0yJjt2W",
        "outputId": "3f379cae-fc4b-41d7-aee0-895e747ea92e"
      },
      "source": [
        "print('trainX shape == {}.'.format(trainX.shape))\n",
        "print('trainY shape == {}.'.format(trainY.shape))"
      ],
      "execution_count": 315,
      "outputs": [
        {
          "output_type": "stream",
          "name": "stdout",
          "text": [
            "trainX shape == (4375, 14, 3).\n",
            "trainY shape == (4375, 1).\n"
          ]
        }
      ]
    },
    {
      "cell_type": "code",
      "metadata": {
        "colab": {
          "base_uri": "https://localhost:8080/"
        },
        "id": "dKBiLvB_kKGr",
        "outputId": "7bd668ca-b163-43cf-cf05-f5ab4373edba"
      },
      "source": [
        "model = Sequential()\n",
        "model.add(LSTM(64, activation='relu', input_shape=(trainX.shape[1], trainX.shape[2]), return_sequences=True))\n",
        "model.add(LSTM(64, activation='relu', return_sequences=True))\n",
        "model.add(LSTM(32, activation='relu', return_sequences=False))\n",
        "model.add(Dropout(0.2))\n",
        "model.add(Dense(trainY.shape[1]))\n",
        "model.compile(optimizer='adam', loss='mse')\n",
        "model.summary()"
      ],
      "execution_count": 316,
      "outputs": [
        {
          "output_type": "stream",
          "name": "stdout",
          "text": [
            "Model: \"sequential_12\"\n",
            "_________________________________________________________________\n",
            "Layer (type)                 Output Shape              Param #   \n",
            "=================================================================\n",
            "lstm_26 (LSTM)               (None, 14, 64)            17408     \n",
            "_________________________________________________________________\n",
            "lstm_27 (LSTM)               (None, 14, 64)            33024     \n",
            "_________________________________________________________________\n",
            "lstm_28 (LSTM)               (None, 32)                12416     \n",
            "_________________________________________________________________\n",
            "dropout_12 (Dropout)         (None, 32)                0         \n",
            "_________________________________________________________________\n",
            "dense_12 (Dense)             (None, 1)                 33        \n",
            "=================================================================\n",
            "Total params: 62,881\n",
            "Trainable params: 62,881\n",
            "Non-trainable params: 0\n",
            "_________________________________________________________________\n"
          ]
        }
      ]
    },
    {
      "cell_type": "code",
      "metadata": {
        "colab": {
          "base_uri": "https://localhost:8080/"
        },
        "id": "EEAyUV16kk3i",
        "outputId": "ef58b813-194a-44bc-d4c9-cb688b43fbf0"
      },
      "source": [
        "history = model.fit(trainX, trainY, epochs=5, batch_size=20, validation_split=0.05, verbose=1)"
      ],
      "execution_count": 317,
      "outputs": [
        {
          "output_type": "stream",
          "name": "stdout",
          "text": [
            "Epoch 1/5\n",
            "208/208 [==============================] - 9s 25ms/step - loss: 0.2433 - val_loss: 0.0763\n",
            "Epoch 2/5\n",
            "208/208 [==============================] - 5s 23ms/step - loss: 0.0982 - val_loss: 0.0469\n",
            "Epoch 3/5\n",
            "208/208 [==============================] - 5s 23ms/step - loss: 0.0742 - val_loss: 0.0264\n",
            "Epoch 4/5\n",
            "208/208 [==============================] - 5s 23ms/step - loss: 0.0564 - val_loss: 0.0224\n",
            "Epoch 5/5\n",
            "208/208 [==============================] - 5s 23ms/step - loss: 0.0473 - val_loss: 0.0183\n"
          ]
        }
      ]
    },
    {
      "cell_type": "code",
      "metadata": {
        "colab": {
          "base_uri": "https://localhost:8080/",
          "height": 282
        },
        "id": "b6cXDWLBk1Ai",
        "outputId": "42b2a8a3-ca1c-4aa4-e014-08a7dfeda0d7"
      },
      "source": [
        "plt.plot(history.history['loss'], label='Training loss')\n",
        "plt.plot(history.history['val_loss'], label='Validation loss')\n",
        "plt.legend()"
      ],
      "execution_count": 318,
      "outputs": [
        {
          "output_type": "execute_result",
          "data": {
            "text/plain": [
              "<matplotlib.legend.Legend at 0x7f5b2c4aa510>"
            ]
          },
          "metadata": {},
          "execution_count": 318
        },
        {
          "output_type": "display_data",
          "data": {
            "image/png": "[encoded data removed]",
            "text/plain": [
              "<Figure size 432x288 with 1 Axes>"
            ]
          },
          "metadata": {
            "needs_background": "light"
          }
        }
      ]
    },
    {
      "cell_type": "code",
      "metadata": {
        "colab": {
          "base_uri": "https://localhost:8080/"
        },
        "id": "iRNsz9ComQrT",
        "outputId": "0b383836-5ff3-422b-84a1-bf81d0dc0f3a"
      },
      "source": [
        "n_future=20\n",
        "forecast_period_dates=pd.date_range(list(train_dates)[-1],periods=n_future,freq='10min')\n",
        "forecast_period_dates"
      ],
      "execution_count": 319,
      "outputs": [
        {
          "output_type": "execute_result",
          "data": {
            "text/plain": [
              "DatetimeIndex(['2021-08-31 20:40:00', '2021-08-31 20:50:00',\n",
              "               '2021-08-31 21:00:00', '2021-08-31 21:10:00',\n",
              "               '2021-08-31 21:20:00', '2021-08-31 21:30:00',\n",
              "               '2021-08-31 21:40:00', '2021-08-31 21:50:00',\n",
              "               '2021-08-31 22:00:00', '2021-08-31 22:10:00',\n",
              "               '2021-08-31 22:20:00', '2021-08-31 22:30:00',\n",
              "               '2021-08-31 22:40:00', '2021-08-31 22:50:00',\n",
              "               '2021-08-31 23:00:00', '2021-08-31 23:10:00',\n",
              "               '2021-08-31 23:20:00', '2021-08-31 23:30:00',\n",
              "               '2021-08-31 23:40:00', '2021-08-31 23:50:00'],\n",
              "              dtype='datetime64[ns]', freq='10T')"
            ]
          },
          "metadata": {},
          "execution_count": 319
        }
      ]
    },
    {
      "cell_type": "code",
      "metadata": {
        "id": "fay5gJxSmw47"
      },
      "source": [
        "forecast=model.predict(trainX[-n_future:])"
      ],
      "execution_count": 320,
      "outputs": []
    },
    {
      "cell_type": "code",
      "metadata": {
        "id": "lt39JNSJm9r5"
      },
      "source": [
        "forecast_copies =np.repeat(forecast,df_for_training.shape[1],axis=-1)\n",
        "y_pred_future=scaler.inverse_transform(forecast_copies)[:,0]"
      ],
      "execution_count": 321,
      "outputs": []
    },
    {
      "cell_type": "code",
      "metadata": {
        "colab": {
          "base_uri": "https://localhost:8080/"
        },
        "id": "hioVCbGyocjW",
        "outputId": "901435ea-8045-429b-b6c3-d205c243abf5"
      },
      "source": [
        "y_pred_future"
      ],
      "execution_count": 322,
      "outputs": [
        {
          "output_type": "execute_result",
          "data": {
            "text/plain": [
              "array([11.611317 , 11.611718 , 11.892561 , 12.017374 , 12.135011 ,\n",
              "       12.319814 , 12.468385 , 12.361402 , 12.482332 , 12.276779 ,\n",
              "       12.269645 , 12.366302 , 12.6175785, 12.64727  , 12.619767 ,\n",
              "       12.62367  , 12.6065855, 12.568849 , 12.338133 , 12.000878 ],\n",
              "      dtype=float32)"
            ]
          },
          "metadata": {},
          "execution_count": 322
        }
      ]
    },
    {
      "cell_type": "code",
      "metadata": {
        "id": "exbwKtOJqAFC"
      },
      "source": [
        "forecast_dates=[]\n",
        "for time_i in forecast_period_dates:\n",
        "  forecast_dates.append(time_i.date())"
      ],
      "execution_count": 323,
      "outputs": []
    },
    {
      "cell_type": "code",
      "metadata": {
        "id": "NFTuUdeFqcHK"
      },
      "source": [
        "df_forecast=pd.DataFrame({'Date & Time':np.array(forecast_period_dates),'Wind Speed (m/s)':y_pred_future})\n",
        "df_forecast['Date & Time']=pd.to_datetime(df_forecast['Date & Time'])"
      ],
      "execution_count": 324,
      "outputs": []
    },
    {
      "cell_type": "code",
      "metadata": {
        "colab": {
          "base_uri": "https://localhost:8080/",
          "height": 669
        },
        "id": "BHy3sXciuH0L",
        "outputId": "67c447ce-2b9a-442e-b69d-45631c03a982"
      },
      "source": [
        "df_forecast.head(20)"
      ],
      "execution_count": 325,
      "outputs": [
        {
          "output_type": "execute_result",
          "data": {
            "text/html": [
              "<div>\n",
              "<style scoped>\n",
              "    .dataframe tbody tr th:only-of-type {\n",
              "        vertical-align: middle;\n",
              "    }\n",
              "\n",
              "    .dataframe tbody tr th {\n",
              "        vertical-align: top;\n",
              "    }\n",
              "\n",
              "    .dataframe thead th {\n",
              "        text-align: right;\n",
              "    }\n",
              "</style>\n",
              "<table border=\"1\" class=\"dataframe\">\n",
              "  <thead>\n",
              "    <tr style=\"text-align: right;\">\n",
              "      <th></th>\n",
              "      <th>Date &amp; Time</th>\n",
              "      <th>Wind Speed (m/s)</th>\n",
              "    </tr>\n",
              "  </thead>\n",
              "  <tbody>\n",
              "    <tr>\n",
              "      <th>0</th>\n",
              "      <td>2021-08-31 20:40:00</td>\n",
              "      <td>11.611317</td>\n",
              "    </tr>\n",
              "    <tr>\n",
              "      <th>1</th>\n",
              "      <td>2021-08-31 20:50:00</td>\n",
              "      <td>11.611718</td>\n",
              "    </tr>\n",
              "    <tr>\n",
              "      <th>2</th>\n",
              "      <td>2021-08-31 21:00:00</td>\n",
              "      <td>11.892561</td>\n",
              "    </tr>\n",
              "    <tr>\n",
              "      <th>3</th>\n",
              "      <td>2021-08-31 21:10:00</td>\n",
              "      <td>12.017374</td>\n",
              "    </tr>\n",
              "    <tr>\n",
              "      <th>4</th>\n",
              "      <td>2021-08-31 21:20:00</td>\n",
              "      <td>12.135011</td>\n",
              "    </tr>\n",
              "    <tr>\n",
              "      <th>5</th>\n",
              "      <td>2021-08-31 21:30:00</td>\n",
              "      <td>12.319814</td>\n",
              "    </tr>\n",
              "    <tr>\n",
              "      <th>6</th>\n",
              "      <td>2021-08-31 21:40:00</td>\n",
              "      <td>12.468385</td>\n",
              "    </tr>\n",
              "    <tr>\n",
              "      <th>7</th>\n",
              "      <td>2021-08-31 21:50:00</td>\n",
              "      <td>12.361402</td>\n",
              "    </tr>\n",
              "    <tr>\n",
              "      <th>8</th>\n",
              "      <td>2021-08-31 22:00:00</td>\n",
              "      <td>12.482332</td>\n",
              "    </tr>\n",
              "    <tr>\n",
              "      <th>9</th>\n",
              "      <td>2021-08-31 22:10:00</td>\n",
              "      <td>12.276779</td>\n",
              "    </tr>\n",
              "    <tr>\n",
              "      <th>10</th>\n",
              "      <td>2021-08-31 22:20:00</td>\n",
              "      <td>12.269645</td>\n",
              "    </tr>\n",
              "    <tr>\n",
              "      <th>11</th>\n",
              "      <td>2021-08-31 22:30:00</td>\n",
              "      <td>12.366302</td>\n",
              "    </tr>\n",
              "    <tr>\n",
              "      <th>12</th>\n",
              "      <td>2021-08-31 22:40:00</td>\n",
              "      <td>12.617579</td>\n",
              "    </tr>\n",
              "    <tr>\n",
              "      <th>13</th>\n",
              "      <td>2021-08-31 22:50:00</td>\n",
              "      <td>12.647270</td>\n",
              "    </tr>\n",
              "    <tr>\n",
              "      <th>14</th>\n",
              "      <td>2021-08-31 23:00:00</td>\n",
              "      <td>12.619767</td>\n",
              "    </tr>\n",
              "    <tr>\n",
              "      <th>15</th>\n",
              "      <td>2021-08-31 23:10:00</td>\n",
              "      <td>12.623670</td>\n",
              "    </tr>\n",
              "    <tr>\n",
              "      <th>16</th>\n",
              "      <td>2021-08-31 23:20:00</td>\n",
              "      <td>12.606586</td>\n",
              "    </tr>\n",
              "    <tr>\n",
              "      <th>17</th>\n",
              "      <td>2021-08-31 23:30:00</td>\n",
              "      <td>12.568849</td>\n",
              "    </tr>\n",
              "    <tr>\n",
              "      <th>18</th>\n",
              "      <td>2021-08-31 23:40:00</td>\n",
              "      <td>12.338133</td>\n",
              "    </tr>\n",
              "    <tr>\n",
              "      <th>19</th>\n",
              "      <td>2021-08-31 23:50:00</td>\n",
              "      <td>12.000878</td>\n",
              "    </tr>\n",
              "  </tbody>\n",
              "</table>\n",
              "</div>"
            ],
            "text/plain": [
              "           Date & Time  Wind Speed (m/s)\n",
              "0  2021-08-31 20:40:00         11.611317\n",
              "1  2021-08-31 20:50:00         11.611718\n",
              "2  2021-08-31 21:00:00         11.892561\n",
              "3  2021-08-31 21:10:00         12.017374\n",
              "4  2021-08-31 21:20:00         12.135011\n",
              "5  2021-08-31 21:30:00         12.319814\n",
              "6  2021-08-31 21:40:00         12.468385\n",
              "7  2021-08-31 21:50:00         12.361402\n",
              "8  2021-08-31 22:00:00         12.482332\n",
              "9  2021-08-31 22:10:00         12.276779\n",
              "10 2021-08-31 22:20:00         12.269645\n",
              "11 2021-08-31 22:30:00         12.366302\n",
              "12 2021-08-31 22:40:00         12.617579\n",
              "13 2021-08-31 22:50:00         12.647270\n",
              "14 2021-08-31 23:00:00         12.619767\n",
              "15 2021-08-31 23:10:00         12.623670\n",
              "16 2021-08-31 23:20:00         12.606586\n",
              "17 2021-08-31 23:30:00         12.568849\n",
              "18 2021-08-31 23:40:00         12.338133\n",
              "19 2021-08-31 23:50:00         12.000878"
            ]
          },
          "metadata": {},
          "execution_count": 325
        }
      ]
    },
    {
      "cell_type": "code",
      "metadata": {
        "colab": {
          "base_uri": "https://localhost:8080/",
          "height": 669
        },
        "id": "Gh-SkAer9sgi",
        "outputId": "18bf3f2f-803c-449b-e018-66a23bf1f505"
      },
      "source": [
        "df.tail(20)"
      ],
      "execution_count": 326,
      "outputs": [
        {
          "output_type": "execute_result",
          "data": {
            "text/html": [
              "<div>\n",
              "<style scoped>\n",
              "    .dataframe tbody tr th:only-of-type {\n",
              "        vertical-align: middle;\n",
              "    }\n",
              "\n",
              "    .dataframe tbody tr th {\n",
              "        vertical-align: top;\n",
              "    }\n",
              "\n",
              "    .dataframe thead th {\n",
              "        text-align: right;\n",
              "    }\n",
              "</style>\n",
              "<table border=\"1\" class=\"dataframe\">\n",
              "  <thead>\n",
              "    <tr style=\"text-align: right;\">\n",
              "      <th></th>\n",
              "      <th>Date &amp; Time</th>\n",
              "      <th>Wind Speed (m/s)</th>\n",
              "      <th>Wind Direction(deg)</th>\n",
              "      <th>Active Power(MW)</th>\n",
              "    </tr>\n",
              "  </thead>\n",
              "  <tbody>\n",
              "    <tr>\n",
              "      <th>4389</th>\n",
              "      <td>2021-08-31 20:50:00</td>\n",
              "      <td>10.85</td>\n",
              "      <td>190.73</td>\n",
              "      <td>96.60</td>\n",
              "    </tr>\n",
              "    <tr>\n",
              "      <th>4390</th>\n",
              "      <td>2021-08-31 21:00:00</td>\n",
              "      <td>10.64</td>\n",
              "      <td>190.91</td>\n",
              "      <td>94.72</td>\n",
              "    </tr>\n",
              "    <tr>\n",
              "      <th>4391</th>\n",
              "      <td>2021-08-31 21:10:00</td>\n",
              "      <td>10.84</td>\n",
              "      <td>188.53</td>\n",
              "      <td>96.15</td>\n",
              "    </tr>\n",
              "    <tr>\n",
              "      <th>4392</th>\n",
              "      <td>2021-08-31 21:20:00</td>\n",
              "      <td>11.41</td>\n",
              "      <td>186.94</td>\n",
              "      <td>100.32</td>\n",
              "    </tr>\n",
              "    <tr>\n",
              "      <th>4393</th>\n",
              "      <td>2021-08-31 21:30:00</td>\n",
              "      <td>12.05</td>\n",
              "      <td>190.72</td>\n",
              "      <td>101.28</td>\n",
              "    </tr>\n",
              "    <tr>\n",
              "      <th>4394</th>\n",
              "      <td>2021-08-31 21:40:00</td>\n",
              "      <td>11.90</td>\n",
              "      <td>193.26</td>\n",
              "      <td>100.94</td>\n",
              "    </tr>\n",
              "    <tr>\n",
              "      <th>4395</th>\n",
              "      <td>2021-08-31 21:50:00</td>\n",
              "      <td>11.98</td>\n",
              "      <td>192.80</td>\n",
              "      <td>101.13</td>\n",
              "    </tr>\n",
              "    <tr>\n",
              "      <th>4396</th>\n",
              "      <td>2021-08-31 22:00:00</td>\n",
              "      <td>12.11</td>\n",
              "      <td>191.88</td>\n",
              "      <td>101.33</td>\n",
              "    </tr>\n",
              "    <tr>\n",
              "      <th>4397</th>\n",
              "      <td>2021-08-31 22:10:00</td>\n",
              "      <td>12.31</td>\n",
              "      <td>191.40</td>\n",
              "      <td>101.48</td>\n",
              "    </tr>\n",
              "    <tr>\n",
              "      <th>4398</th>\n",
              "      <td>2021-08-31 22:20:00</td>\n",
              "      <td>12.27</td>\n",
              "      <td>191.65</td>\n",
              "      <td>101.49</td>\n",
              "    </tr>\n",
              "    <tr>\n",
              "      <th>4399</th>\n",
              "      <td>2021-08-31 22:30:00</td>\n",
              "      <td>11.99</td>\n",
              "      <td>191.45</td>\n",
              "      <td>101.04</td>\n",
              "    </tr>\n",
              "    <tr>\n",
              "      <th>4400</th>\n",
              "      <td>2021-08-31 22:40:00</td>\n",
              "      <td>11.66</td>\n",
              "      <td>191.91</td>\n",
              "      <td>100.64</td>\n",
              "    </tr>\n",
              "    <tr>\n",
              "      <th>4401</th>\n",
              "      <td>2021-08-31 22:50:00</td>\n",
              "      <td>11.85</td>\n",
              "      <td>190.88</td>\n",
              "      <td>100.80</td>\n",
              "    </tr>\n",
              "    <tr>\n",
              "      <th>4402</th>\n",
              "      <td>2021-08-31 23:00:00</td>\n",
              "      <td>12.04</td>\n",
              "      <td>191.20</td>\n",
              "      <td>101.25</td>\n",
              "    </tr>\n",
              "    <tr>\n",
              "      <th>4403</th>\n",
              "      <td>2021-08-31 23:10:00</td>\n",
              "      <td>12.00</td>\n",
              "      <td>192.55</td>\n",
              "      <td>101.18</td>\n",
              "    </tr>\n",
              "    <tr>\n",
              "      <th>4404</th>\n",
              "      <td>2021-08-31 23:20:00</td>\n",
              "      <td>11.62</td>\n",
              "      <td>195.08</td>\n",
              "      <td>100.45</td>\n",
              "    </tr>\n",
              "    <tr>\n",
              "      <th>4405</th>\n",
              "      <td>2021-08-31 23:30:00</td>\n",
              "      <td>11.16</td>\n",
              "      <td>196.36</td>\n",
              "      <td>98.01</td>\n",
              "    </tr>\n",
              "    <tr>\n",
              "      <th>4406</th>\n",
              "      <td>2021-08-31 23:40:00</td>\n",
              "      <td>10.66</td>\n",
              "      <td>198.02</td>\n",
              "      <td>93.11</td>\n",
              "    </tr>\n",
              "    <tr>\n",
              "      <th>4407</th>\n",
              "      <td>2021-08-31 23:50:00</td>\n",
              "      <td>10.90</td>\n",
              "      <td>196.96</td>\n",
              "      <td>93.68</td>\n",
              "    </tr>\n",
              "    <tr>\n",
              "      <th>4408</th>\n",
              "      <td>2021-09-01 00:00:00</td>\n",
              "      <td>10.95</td>\n",
              "      <td>197.68</td>\n",
              "      <td>93.77</td>\n",
              "    </tr>\n",
              "  </tbody>\n",
              "</table>\n",
              "</div>"
            ],
            "text/plain": [
              "             Date & Time  ...  Active Power(MW)\n",
              "4389 2021-08-31 20:50:00  ...             96.60\n",
              "4390 2021-08-31 21:00:00  ...             94.72\n",
              "4391 2021-08-31 21:10:00  ...             96.15\n",
              "4392 2021-08-31 21:20:00  ...            100.32\n",
              "4393 2021-08-31 21:30:00  ...            101.28\n",
              "4394 2021-08-31 21:40:00  ...            100.94\n",
              "4395 2021-08-31 21:50:00  ...            101.13\n",
              "4396 2021-08-31 22:00:00  ...            101.33\n",
              "4397 2021-08-31 22:10:00  ...            101.48\n",
              "4398 2021-08-31 22:20:00  ...            101.49\n",
              "4399 2021-08-31 22:30:00  ...            101.04\n",
              "4400 2021-08-31 22:40:00  ...            100.64\n",
              "4401 2021-08-31 22:50:00  ...            100.80\n",
              "4402 2021-08-31 23:00:00  ...            101.25\n",
              "4403 2021-08-31 23:10:00  ...            101.18\n",
              "4404 2021-08-31 23:20:00  ...            100.45\n",
              "4405 2021-08-31 23:30:00  ...             98.01\n",
              "4406 2021-08-31 23:40:00  ...             93.11\n",
              "4407 2021-08-31 23:50:00  ...             93.68\n",
              "4408 2021-09-01 00:00:00  ...             93.77\n",
              "\n",
              "[20 rows x 4 columns]"
            ]
          },
          "metadata": {},
          "execution_count": 326
        }
      ]
    },
    {
      "cell_type": "code",
      "metadata": {
        "colab": {
          "base_uri": "https://localhost:8080/"
        },
        "id": "arCC0j0Pr0n6",
        "outputId": "66cf550d-e5ed-4889-c09b-6439dd2b1ca1"
      },
      "source": [
        "original=df[['Date & Time','Wind Speed (m/s)']]\n",
        "original['Date & Time']=pd.to_datetime(original['Date & Time'])\n",
        "original=original.loc[original['Date & Time'] >= '2021-08-31 07:30:00']\n",
        "            "
      ],
      "execution_count": 327,
      "outputs": [
        {
          "output_type": "stream",
          "name": "stderr",
          "text": [
            "/usr/local/lib/python3.7/dist-packages/ipykernel_launcher.py:2: SettingWithCopyWarning: \n",
            "A value is trying to be set on a copy of a slice from a DataFrame.\n",
            "Try using .loc[row_indexer,col_indexer] = value instead\n",
            "\n",
            "See the caveats in the documentation: https://pandas.pydata.org/pandas-docs/stable/user_guide/indexing.html#returning-a-view-versus-a-copy\n",
            "  \n"
          ]
        }
      ]
    },
    {
      "cell_type": "code",
      "metadata": {
        "colab": {
          "base_uri": "https://localhost:8080/",
          "height": 384
        },
        "id": "nUokX4zIs36S",
        "outputId": "d379534c-f85f-42fe-8f30-e16ea52027f4"
      },
      "source": [
        "sns.lineplot(original['Date & Time'],original['Wind Speed (m/s)'])\n",
        "sns.lineplot(df_forecast['Date & Time'],df_forecast['Wind Speed (m/s)'])"
      ],
      "execution_count": 328,
      "outputs": [
        {
          "output_type": "stream",
          "name": "stderr",
          "text": [
            "/usr/local/lib/python3.7/dist-packages/seaborn/_decorators.py:43: FutureWarning: Pass the following variables as keyword args: x, y. From version 0.12, the only valid positional argument will be `data`, and passing other arguments without an explicit keyword will result in an error or misinterpretation.\n",
            "  FutureWarning\n",
            "/usr/local/lib/python3.7/dist-packages/seaborn/_decorators.py:43: FutureWarning: Pass the following variables as keyword args: x, y. From version 0.12, the only valid positional argument will be `data`, and passing other arguments without an explicit keyword will result in an error or misinterpretation.\n",
            "  FutureWarning\n"
          ]
        },
        {
          "output_type": "execute_result",
          "data": {
            "text/plain": [
              "<matplotlib.axes._subplots.AxesSubplot at 0x7f5b25e81550>"
            ]
          },
          "metadata": {},
          "execution_count": 328
        },
        {
          "output_type": "display_data",
          "data": {
            "image/png": "[encoded data removed]",
            "text/plain": [
              "<Figure size 432x288 with 1 Axes>"
            ]
          },
          "metadata": {
            "needs_background": "light"
          }
        }
      ]
    }
  ]
}