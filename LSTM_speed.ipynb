{
  "nbformat": 4,
  "nbformat_minor": 0,
  "metadata": {
    "colab": {
      "name": "LSTM_speed.ipynb",
      "provenance": [],
      "collapsed_sections": [],
      "authorship_tag": "ABX9TyOBrMZKEqog03GdYtiHmZzJ",
      "include_colab_link": true
    },
    "kernelspec": {
      "name": "python3",
      "display_name": "Python 3"
    },
    "language_info": {
      "name": "python"
    }
  },
  "cells": [
    {
      "cell_type": "markdown",
      "metadata": {
        "id": "view-in-github",
        "colab_type": "text"
      },
      "source": [
        "<a href=\"https://colab.research.google.com/github/entc-17-fyp-20/WPF_Data_Visualization/blob/Kusal/LSTM_speed.ipynb\" target=\"_parent\"><img src=\"https://colab.research.google.com/assets/colab-badge.svg\" alt=\"Open In Colab\"/></a>"
      ]
    },
    {
      "cell_type": "code",
      "metadata": {
        "id": "NZqqxNwuixOA"
      },
      "source": [
        "import numpy as np\n",
        "import matplotlib.pyplot as plt\n",
        "import pandas as pd \n",
        "import math\n",
        "\n",
        "from keras.models import Sequential\n",
        "from keras.layers import Dense\n",
        "from keras.layers import LSTM, Dropout\n",
        "from sklearn.preprocessing import StandardScaler\n",
        "from sklearn.metrics import mean_squared_error\n",
        "from keras.layers import ConvLSTM2D\n",
        "import seaborn as sns"
      ],
      "execution_count": 233,
      "outputs": []
    },
    {
      "cell_type": "code",
      "metadata": {
        "id": "gU7VsCMGtrGQ"
      },
      "source": [
        "df = pd.read_csv('https://raw.githubusercontent.com/entc-17-fyp-20/Datasets/main/August-2021%20Mannar%20Wind%20Data1.csv')\n",
        "df = df.rename(columns = {'TimeStamp': 'Date & Time', 'Average  Wind Speed(m/s)': 'Wind Speed (m/s)', 'Average  Wind Dirction(deg)':'Wind Direction(deg)','Average Active Power(MW)':'Active Power(MW)'}, inplace = False)\n",
        "df=df[['Date & Time','Wind Speed (m/s)','Wind Direction(deg)','Active Power(MW)']]\n",
        "df['Date & Time'] = pd.to_datetime(df['Date & Time'], format=\"%m/%d/%Y %H:%M\")\n",
        "df[\"Active Power(MW)\"] = pd.to_numeric(df[\"Active Power(MW)\"])\n",
        "#df.set_index('Date & Time',inplace=True)\n",
        "df_n=df.head(4389)\n",
        "train_dates=df_n['Date & Time']#separate dates for future plotting\n",
        "cols=list(df_n)[1:4]\n",
        "df_for_training= df_n[cols].astype(float)\n",
        "\n",
        "#print(cols)"
      ],
      "execution_count": 234,
      "outputs": []
    },
    {
      "cell_type": "code",
      "metadata": {
        "colab": {
          "base_uri": "https://localhost:8080/",
          "height": 297
        },
        "id": "x58sBXdA8Dj4",
        "outputId": "050a4421-6d44-41fc-e093-d2e53777032d"
      },
      "source": [
        "df_for_training.describe()"
      ],
      "execution_count": 235,
      "outputs": [
        {
          "output_type": "execute_result",
          "data": {
            "text/html": [
              "<div>\n",
              "<style scoped>\n",
              "    .dataframe tbody tr th:only-of-type {\n",
              "        vertical-align: middle;\n",
              "    }\n",
              "\n",
              "    .dataframe tbody tr th {\n",
              "        vertical-align: top;\n",
              "    }\n",
              "\n",
              "    .dataframe thead th {\n",
              "        text-align: right;\n",
              "    }\n",
              "</style>\n",
              "<table border=\"1\" class=\"dataframe\">\n",
              "  <thead>\n",
              "    <tr style=\"text-align: right;\">\n",
              "      <th></th>\n",
              "      <th>Wind Speed (m/s)</th>\n",
              "      <th>Wind Direction(deg)</th>\n",
              "      <th>Active Power(MW)</th>\n",
              "    </tr>\n",
              "  </thead>\n",
              "  <tbody>\n",
              "    <tr>\n",
              "      <th>count</th>\n",
              "      <td>4389.000000</td>\n",
              "      <td>4389.000000</td>\n",
              "      <td>4389.000000</td>\n",
              "    </tr>\n",
              "    <tr>\n",
              "      <th>mean</th>\n",
              "      <td>9.946715</td>\n",
              "      <td>197.393964</td>\n",
              "      <td>72.479483</td>\n",
              "    </tr>\n",
              "    <tr>\n",
              "      <th>std</th>\n",
              "      <td>2.590403</td>\n",
              "      <td>14.234304</td>\n",
              "      <td>31.081689</td>\n",
              "    </tr>\n",
              "    <tr>\n",
              "      <th>min</th>\n",
              "      <td>1.810000</td>\n",
              "      <td>130.840000</td>\n",
              "      <td>-0.760000</td>\n",
              "    </tr>\n",
              "    <tr>\n",
              "      <th>25%</th>\n",
              "      <td>8.200000</td>\n",
              "      <td>188.990000</td>\n",
              "      <td>48.320000</td>\n",
              "    </tr>\n",
              "    <tr>\n",
              "      <th>50%</th>\n",
              "      <td>10.040000</td>\n",
              "      <td>194.780000</td>\n",
              "      <td>84.330000</td>\n",
              "    </tr>\n",
              "    <tr>\n",
              "      <th>75%</th>\n",
              "      <td>11.870000</td>\n",
              "      <td>203.660000</td>\n",
              "      <td>100.990000</td>\n",
              "    </tr>\n",
              "    <tr>\n",
              "      <th>max</th>\n",
              "      <td>16.450000</td>\n",
              "      <td>311.140000</td>\n",
              "      <td>103.420000</td>\n",
              "    </tr>\n",
              "  </tbody>\n",
              "</table>\n",
              "</div>"
            ],
            "text/plain": [
              "       Wind Speed (m/s)  Wind Direction(deg)  Active Power(MW)\n",
              "count       4389.000000          4389.000000       4389.000000\n",
              "mean           9.946715           197.393964         72.479483\n",
              "std            2.590403            14.234304         31.081689\n",
              "min            1.810000           130.840000         -0.760000\n",
              "25%            8.200000           188.990000         48.320000\n",
              "50%           10.040000           194.780000         84.330000\n",
              "75%           11.870000           203.660000        100.990000\n",
              "max           16.450000           311.140000        103.420000"
            ]
          },
          "metadata": {},
          "execution_count": 235
        }
      ]
    },
    {
      "cell_type": "code",
      "metadata": {
        "colab": {
          "base_uri": "https://localhost:8080/"
        },
        "id": "IRRc66oQltIa",
        "outputId": "1e365fc6-b29a-4a7a-9b29-781cad00f6ff"
      },
      "source": [
        "train_dates.tail(100)"
      ],
      "execution_count": 236,
      "outputs": [
        {
          "output_type": "execute_result",
          "data": {
            "text/plain": [
              "4289   2021-08-31 04:10:00\n",
              "4290   2021-08-31 04:20:00\n",
              "4291   2021-08-31 04:30:00\n",
              "4292   2021-08-31 04:40:00\n",
              "4293   2021-08-31 04:50:00\n",
              "               ...        \n",
              "4384   2021-08-31 20:00:00\n",
              "4385   2021-08-31 20:10:00\n",
              "4386   2021-08-31 20:20:00\n",
              "4387   2021-08-31 20:30:00\n",
              "4388   2021-08-31 20:40:00\n",
              "Name: Date & Time, Length: 100, dtype: datetime64[ns]"
            ]
          },
          "metadata": {},
          "execution_count": 236
        }
      ]
    },
    {
      "cell_type": "code",
      "metadata": {
        "id": "IgV1TcElLXV9"
      },
      "source": [
        "# df_for_plot=df_for_training.tail(2000)\n",
        "# df_for_plot.plot.line()\n",
        "scaler= StandardScaler()\n",
        "scaler=scaler.fit(df_for_training)\n",
        "df_for_training_scaled = scaler.transform(df_for_training)"
      ],
      "execution_count": 237,
      "outputs": []
    },
    {
      "cell_type": "code",
      "metadata": {
        "id": "ECRyUHj2hskr"
      },
      "source": [
        "trainX=[]\n",
        "trainY=[]\n",
        "\n",
        "n_future=1\n",
        "n_past=14\n",
        "\n",
        "for i in range(n_past, len(df_for_training_scaled) - n_future +1):\n",
        "    trainX.append(df_for_training_scaled[i - n_past:i, 0:df_for_training.shape[1]])\n",
        "    trainY.append(df_for_training_scaled[i + n_future - 1:i + n_future, 0])"
      ],
      "execution_count": 238,
      "outputs": []
    },
    {
      "cell_type": "code",
      "metadata": {
        "id": "GQqA2KQljZ_q"
      },
      "source": [
        "trainX, trainY = np.array(trainX), np.array(trainY)"
      ],
      "execution_count": 239,
      "outputs": []
    },
    {
      "cell_type": "code",
      "metadata": {
        "id": "EJ_5n3bbpqma"
      },
      "source": [
        ""
      ],
      "execution_count": 239,
      "outputs": []
    },
    {
      "cell_type": "code",
      "metadata": {
        "colab": {
          "base_uri": "https://localhost:8080/"
        },
        "id": "rM6dz0yJjt2W",
        "outputId": "baf99342-ea5f-436a-e636-06f1d7bc9f1b"
      },
      "source": [
        "print('trainX shape == {}.'.format(trainX.shape))\n",
        "print('trainY shape == {}.'.format(trainY.shape))"
      ],
      "execution_count": 240,
      "outputs": [
        {
          "output_type": "stream",
          "name": "stdout",
          "text": [
            "trainX shape == (4375, 14, 3).\n",
            "trainY shape == (4375, 1).\n"
          ]
        }
      ]
    },
    {
      "cell_type": "code",
      "metadata": {
        "colab": {
          "base_uri": "https://localhost:8080/"
        },
        "id": "dKBiLvB_kKGr",
        "outputId": "375d7e21-5cd7-4bc3-edff-f9ceac311070"
      },
      "source": [
        "model = Sequential()\n",
        "model.add(LSTM(64, activation='relu', input_shape=(trainX.shape[1], trainX.shape[2]), return_sequences=True))\n",
        "model.add(LSTM(32, activation='relu', return_sequences=False))\n",
        "model.add(Dropout(0.2))\n",
        "model.add(Dense(trainY.shape[1]))\n",
        "model.compile(optimizer='adam', loss='mse')\n",
        "model.summary()"
      ],
      "execution_count": 241,
      "outputs": [
        {
          "output_type": "stream",
          "name": "stdout",
          "text": [
            "Model: \"sequential_9\"\n",
            "_________________________________________________________________\n",
            "Layer (type)                 Output Shape              Param #   \n",
            "=================================================================\n",
            "lstm_18 (LSTM)               (None, 14, 64)            17408     \n",
            "_________________________________________________________________\n",
            "lstm_19 (LSTM)               (None, 32)                12416     \n",
            "_________________________________________________________________\n",
            "dropout_9 (Dropout)          (None, 32)                0         \n",
            "_________________________________________________________________\n",
            "dense_9 (Dense)              (None, 1)                 33        \n",
            "=================================================================\n",
            "Total params: 29,857\n",
            "Trainable params: 29,857\n",
            "Non-trainable params: 0\n",
            "_________________________________________________________________\n"
          ]
        }
      ]
    },
    {
      "cell_type": "code",
      "metadata": {
        "colab": {
          "base_uri": "https://localhost:8080/"
        },
        "id": "EEAyUV16kk3i",
        "outputId": "60dec362-b87f-4829-d014-eedbf059e00b"
      },
      "source": [
        "history = model.fit(trainX, trainY, epochs=10, batch_size=10, validation_split=0.05, verbose=1)"
      ],
      "execution_count": 242,
      "outputs": [
        {
          "output_type": "stream",
          "name": "stdout",
          "text": [
            "Epoch 1/10\n",
            "416/416 [==============================] - 8s 15ms/step - loss: 0.1442 - val_loss: 0.0369\n",
            "Epoch 2/10\n",
            "416/416 [==============================] - 6s 14ms/step - loss: 0.0695 - val_loss: 0.0245\n",
            "Epoch 3/10\n",
            "416/416 [==============================] - 6s 15ms/step - loss: 0.0620 - val_loss: 0.0194\n",
            "Epoch 4/10\n",
            "416/416 [==============================] - 6s 14ms/step - loss: 0.0546 - val_loss: 0.0169\n",
            "Epoch 5/10\n",
            "416/416 [==============================] - 6s 14ms/step - loss: 0.0498 - val_loss: 0.0128\n",
            "Epoch 6/10\n",
            "416/416 [==============================] - 6s 14ms/step - loss: 0.0452 - val_loss: 0.0126\n",
            "Epoch 7/10\n",
            "416/416 [==============================] - 6s 14ms/step - loss: 0.0423 - val_loss: 0.0089\n",
            "Epoch 8/10\n",
            "416/416 [==============================] - 6s 14ms/step - loss: 0.0451 - val_loss: 0.0102\n",
            "Epoch 9/10\n",
            "416/416 [==============================] - 6s 14ms/step - loss: 0.0408 - val_loss: 0.0098\n",
            "Epoch 10/10\n",
            "416/416 [==============================] - 6s 14ms/step - loss: 0.0388 - val_loss: 0.0099\n"
          ]
        }
      ]
    },
    {
      "cell_type": "code",
      "metadata": {
        "colab": {
          "base_uri": "https://localhost:8080/",
          "height": 282
        },
        "id": "b6cXDWLBk1Ai",
        "outputId": "c21d4c19-1281-4100-9672-eab64411d14c"
      },
      "source": [
        "plt.plot(history.history['loss'], label='Training loss')\n",
        "plt.plot(history.history['val_loss'], label='Validation loss')\n",
        "plt.legend()"
      ],
      "execution_count": 243,
      "outputs": [
        {
          "output_type": "execute_result",
          "data": {
            "text/plain": [
              "<matplotlib.legend.Legend at 0x7f5b29582590>"
            ]
          },
          "metadata": {},
          "execution_count": 243
        },
        {
          "output_type": "display_data",
          "data": {
            "image/png": "[encoded data removed]",
            "text/plain": [
              "<Figure size 432x288 with 1 Axes>"
            ]
          },
          "metadata": {
            "needs_background": "light"
          }
        }
      ]
    },
    {
      "cell_type": "code",
      "metadata": {
        "colab": {
          "base_uri": "https://localhost:8080/"
        },
        "id": "iRNsz9ComQrT",
        "outputId": "c0caed6a-7ac0-4d84-aaec-3b9f7eb10108"
      },
      "source": [
        "n_future=20\n",
        "forecast_period_dates=pd.date_range(list(train_dates)[-1],periods=n_future,freq='10min')\n",
        "forecast_period_dates"
      ],
      "execution_count": 244,
      "outputs": [
        {
          "output_type": "execute_result",
          "data": {
            "text/plain": [
              "DatetimeIndex(['2021-08-31 20:40:00', '2021-08-31 20:50:00',\n",
              "               '2021-08-31 21:00:00', '2021-08-31 21:10:00',\n",
              "               '2021-08-31 21:20:00', '2021-08-31 21:30:00',\n",
              "               '2021-08-31 21:40:00', '2021-08-31 21:50:00',\n",
              "               '2021-08-31 22:00:00', '2021-08-31 22:10:00',\n",
              "               '2021-08-31 22:20:00', '2021-08-31 22:30:00',\n",
              "               '2021-08-31 22:40:00', '2021-08-31 22:50:00',\n",
              "               '2021-08-31 23:00:00', '2021-08-31 23:10:00',\n",
              "               '2021-08-31 23:20:00', '2021-08-31 23:30:00',\n",
              "               '2021-08-31 23:40:00', '2021-08-31 23:50:00'],\n",
              "              dtype='datetime64[ns]', freq='10T')"
            ]
          },
          "metadata": {},
          "execution_count": 244
        }
      ]
    },
    {
      "cell_type": "code",
      "metadata": {
        "colab": {
          "base_uri": "https://localhost:8080/"
        },
        "id": "fay5gJxSmw47",
        "outputId": "a49040de-d65d-4c2b-8f74-3b5fc3d8d6e3"
      },
      "source": [
        "forecast=model.predict(trainX[-n_future:])"
      ],
      "execution_count": 245,
      "outputs": [
        {
          "output_type": "stream",
          "name": "stdout",
          "text": [
            "WARNING:tensorflow:5 out of the last 11 calls to <function Model.make_predict_function.<locals>.predict_function at 0x7f5b2ad77050> triggered tf.function retracing. Tracing is expensive and the excessive number of tracings could be due to (1) creating @tf.function repeatedly in a loop, (2) passing tensors with different shapes, (3) passing Python objects instead of tensors. For (1), please define your @tf.function outside of the loop. For (2), @tf.function has experimental_relax_shapes=True option that relaxes argument shapes that can avoid unnecessary retracing. For (3), please refer to https://www.tensorflow.org/guide/function#controlling_retracing and https://www.tensorflow.org/api_docs/python/tf/function for  more details.\n"
          ]
        }
      ]
    },
    {
      "cell_type": "code",
      "metadata": {
        "id": "lt39JNSJm9r5"
      },
      "source": [
        "forecast_copies =np.repeat(forecast,df_for_training.shape[1],axis=-1)\n",
        "y_pred_future=scaler.inverse_transform(forecast_copies)[:,0]"
      ],
      "execution_count": 246,
      "outputs": []
    },
    {
      "cell_type": "code",
      "metadata": {
        "colab": {
          "base_uri": "https://localhost:8080/"
        },
        "id": "hioVCbGyocjW",
        "outputId": "371bff54-ad88-4ae8-c031-e0882acc7543"
      },
      "source": [
        "y_pred_future"
      ],
      "execution_count": 247,
      "outputs": [
        {
          "output_type": "execute_result",
          "data": {
            "text/plain": [
              "array([11.420384 , 11.449408 , 11.751787 , 11.896649 , 11.937428 ,\n",
              "       12.14164  , 12.173885 , 12.106152 , 12.208905 , 11.875417 ,\n",
              "       12.067813 , 12.173839 , 12.388228 , 12.34842  , 12.308717 ,\n",
              "       12.3230915, 12.295853 , 12.262947 , 11.929059 , 11.567719 ],\n",
              "      dtype=float32)"
            ]
          },
          "metadata": {},
          "execution_count": 247
        }
      ]
    },
    {
      "cell_type": "code",
      "metadata": {
        "id": "exbwKtOJqAFC"
      },
      "source": [
        "forecast_dates=[]\n",
        "for time_i in forecast_period_dates:\n",
        "  forecast_dates.append(time_i.date())"
      ],
      "execution_count": 248,
      "outputs": []
    },
    {
      "cell_type": "code",
      "metadata": {
        "id": "NFTuUdeFqcHK"
      },
      "source": [
        "df_forecast=pd.DataFrame({'Date & Time':np.array(forecast_period_dates),'Wind Speed (m/s)':y_pred_future})\n",
        "df_forecast['Date & Time']=pd.to_datetime(df_forecast['Date & Time'])"
      ],
      "execution_count": 249,
      "outputs": []
    },
    {
      "cell_type": "code",
      "metadata": {
        "colab": {
          "base_uri": "https://localhost:8080/",
          "height": 669
        },
        "id": "BHy3sXciuH0L",
        "outputId": "e8eeb159-8236-4d22-bb68-c2ee7159d86f"
      },
      "source": [
        "df_forecast.head(20)"
      ],
      "execution_count": 250,
      "outputs": [
        {
          "output_type": "execute_result",
          "data": {
            "text/html": [
              "<div>\n",
              "<style scoped>\n",
              "    .dataframe tbody tr th:only-of-type {\n",
              "        vertical-align: middle;\n",
              "    }\n",
              "\n",
              "    .dataframe tbody tr th {\n",
              "        vertical-align: top;\n",
              "    }\n",
              "\n",
              "    .dataframe thead th {\n",
              "        text-align: right;\n",
              "    }\n",
              "</style>\n",
              "<table border=\"1\" class=\"dataframe\">\n",
              "  <thead>\n",
              "    <tr style=\"text-align: right;\">\n",
              "      <th></th>\n",
              "      <th>Date &amp; Time</th>\n",
              "      <th>Wind Speed (m/s)</th>\n",
              "    </tr>\n",
              "  </thead>\n",
              "  <tbody>\n",
              "    <tr>\n",
              "      <th>0</th>\n",
              "      <td>2021-08-31 20:40:00</td>\n",
              "      <td>11.420384</td>\n",
              "    </tr>\n",
              "    <tr>\n",
              "      <th>1</th>\n",
              "      <td>2021-08-31 20:50:00</td>\n",
              "      <td>11.449408</td>\n",
              "    </tr>\n",
              "    <tr>\n",
              "      <th>2</th>\n",
              "      <td>2021-08-31 21:00:00</td>\n",
              "      <td>11.751787</td>\n",
              "    </tr>\n",
              "    <tr>\n",
              "      <th>3</th>\n",
              "      <td>2021-08-31 21:10:00</td>\n",
              "      <td>11.896649</td>\n",
              "    </tr>\n",
              "    <tr>\n",
              "      <th>4</th>\n",
              "      <td>2021-08-31 21:20:00</td>\n",
              "      <td>11.937428</td>\n",
              "    </tr>\n",
              "    <tr>\n",
              "      <th>5</th>\n",
              "      <td>2021-08-31 21:30:00</td>\n",
              "      <td>12.141640</td>\n",
              "    </tr>\n",
              "    <tr>\n",
              "      <th>6</th>\n",
              "      <td>2021-08-31 21:40:00</td>\n",
              "      <td>12.173885</td>\n",
              "    </tr>\n",
              "    <tr>\n",
              "      <th>7</th>\n",
              "      <td>2021-08-31 21:50:00</td>\n",
              "      <td>12.106152</td>\n",
              "    </tr>\n",
              "    <tr>\n",
              "      <th>8</th>\n",
              "      <td>2021-08-31 22:00:00</td>\n",
              "      <td>12.208905</td>\n",
              "    </tr>\n",
              "    <tr>\n",
              "      <th>9</th>\n",
              "      <td>2021-08-31 22:10:00</td>\n",
              "      <td>11.875417</td>\n",
              "    </tr>\n",
              "    <tr>\n",
              "      <th>10</th>\n",
              "      <td>2021-08-31 22:20:00</td>\n",
              "      <td>12.067813</td>\n",
              "    </tr>\n",
              "    <tr>\n",
              "      <th>11</th>\n",
              "      <td>2021-08-31 22:30:00</td>\n",
              "      <td>12.173839</td>\n",
              "    </tr>\n",
              "    <tr>\n",
              "      <th>12</th>\n",
              "      <td>2021-08-31 22:40:00</td>\n",
              "      <td>12.388228</td>\n",
              "    </tr>\n",
              "    <tr>\n",
              "      <th>13</th>\n",
              "      <td>2021-08-31 22:50:00</td>\n",
              "      <td>12.348420</td>\n",
              "    </tr>\n",
              "    <tr>\n",
              "      <th>14</th>\n",
              "      <td>2021-08-31 23:00:00</td>\n",
              "      <td>12.308717</td>\n",
              "    </tr>\n",
              "    <tr>\n",
              "      <th>15</th>\n",
              "      <td>2021-08-31 23:10:00</td>\n",
              "      <td>12.323092</td>\n",
              "    </tr>\n",
              "    <tr>\n",
              "      <th>16</th>\n",
              "      <td>2021-08-31 23:20:00</td>\n",
              "      <td>12.295853</td>\n",
              "    </tr>\n",
              "    <tr>\n",
              "      <th>17</th>\n",
              "      <td>2021-08-31 23:30:00</td>\n",
              "      <td>12.262947</td>\n",
              "    </tr>\n",
              "    <tr>\n",
              "      <th>18</th>\n",
              "      <td>2021-08-31 23:40:00</td>\n",
              "      <td>11.929059</td>\n",
              "    </tr>\n",
              "    <tr>\n",
              "      <th>19</th>\n",
              "      <td>2021-08-31 23:50:00</td>\n",
              "      <td>11.567719</td>\n",
              "    </tr>\n",
              "  </tbody>\n",
              "</table>\n",
              "</div>"
            ],
            "text/plain": [
              "           Date & Time  Wind Speed (m/s)\n",
              "0  2021-08-31 20:40:00         11.420384\n",
              "1  2021-08-31 20:50:00         11.449408\n",
              "2  2021-08-31 21:00:00         11.751787\n",
              "3  2021-08-31 21:10:00         11.896649\n",
              "4  2021-08-31 21:20:00         11.937428\n",
              "5  2021-08-31 21:30:00         12.141640\n",
              "6  2021-08-31 21:40:00         12.173885\n",
              "7  2021-08-31 21:50:00         12.106152\n",
              "8  2021-08-31 22:00:00         12.208905\n",
              "9  2021-08-31 22:10:00         11.875417\n",
              "10 2021-08-31 22:20:00         12.067813\n",
              "11 2021-08-31 22:30:00         12.173839\n",
              "12 2021-08-31 22:40:00         12.388228\n",
              "13 2021-08-31 22:50:00         12.348420\n",
              "14 2021-08-31 23:00:00         12.308717\n",
              "15 2021-08-31 23:10:00         12.323092\n",
              "16 2021-08-31 23:20:00         12.295853\n",
              "17 2021-08-31 23:30:00         12.262947\n",
              "18 2021-08-31 23:40:00         11.929059\n",
              "19 2021-08-31 23:50:00         11.567719"
            ]
          },
          "metadata": {},
          "execution_count": 250
        }
      ]
    },
    {
      "cell_type": "code",
      "metadata": {
        "colab": {
          "base_uri": "https://localhost:8080/",
          "height": 669
        },
        "id": "Gh-SkAer9sgi",
        "outputId": "06d88170-873e-49fa-dae4-1c034ec3d0e6"
      },
      "source": [
        "df.tail(20)"
      ],
      "execution_count": 251,
      "outputs": [
        {
          "output_type": "execute_result",
          "data": {
            "text/html": [
              "<div>\n",
              "<style scoped>\n",
              "    .dataframe tbody tr th:only-of-type {\n",
              "        vertical-align: middle;\n",
              "    }\n",
              "\n",
              "    .dataframe tbody tr th {\n",
              "        vertical-align: top;\n",
              "    }\n",
              "\n",
              "    .dataframe thead th {\n",
              "        text-align: right;\n",
              "    }\n",
              "</style>\n",
              "<table border=\"1\" class=\"dataframe\">\n",
              "  <thead>\n",
              "    <tr style=\"text-align: right;\">\n",
              "      <th></th>\n",
              "      <th>Date &amp; Time</th>\n",
              "      <th>Wind Speed (m/s)</th>\n",
              "      <th>Wind Direction(deg)</th>\n",
              "      <th>Active Power(MW)</th>\n",
              "    </tr>\n",
              "  </thead>\n",
              "  <tbody>\n",
              "    <tr>\n",
              "      <th>4389</th>\n",
              "      <td>2021-08-31 20:50:00</td>\n",
              "      <td>10.85</td>\n",
              "      <td>190.73</td>\n",
              "      <td>96.60</td>\n",
              "    </tr>\n",
              "    <tr>\n",
              "      <th>4390</th>\n",
              "      <td>2021-08-31 21:00:00</td>\n",
              "      <td>10.64</td>\n",
              "      <td>190.91</td>\n",
              "      <td>94.72</td>\n",
              "    </tr>\n",
              "    <tr>\n",
              "      <th>4391</th>\n",
              "      <td>2021-08-31 21:10:00</td>\n",
              "      <td>10.84</td>\n",
              "      <td>188.53</td>\n",
              "      <td>96.15</td>\n",
              "    </tr>\n",
              "    <tr>\n",
              "      <th>4392</th>\n",
              "      <td>2021-08-31 21:20:00</td>\n",
              "      <td>11.41</td>\n",
              "      <td>186.94</td>\n",
              "      <td>100.32</td>\n",
              "    </tr>\n",
              "    <tr>\n",
              "      <th>4393</th>\n",
              "      <td>2021-08-31 21:30:00</td>\n",
              "      <td>12.05</td>\n",
              "      <td>190.72</td>\n",
              "      <td>101.28</td>\n",
              "    </tr>\n",
              "    <tr>\n",
              "      <th>4394</th>\n",
              "      <td>2021-08-31 21:40:00</td>\n",
              "      <td>11.90</td>\n",
              "      <td>193.26</td>\n",
              "      <td>100.94</td>\n",
              "    </tr>\n",
              "    <tr>\n",
              "      <th>4395</th>\n",
              "      <td>2021-08-31 21:50:00</td>\n",
              "      <td>11.98</td>\n",
              "      <td>192.80</td>\n",
              "      <td>101.13</td>\n",
              "    </tr>\n",
              "    <tr>\n",
              "      <th>4396</th>\n",
              "      <td>2021-08-31 22:00:00</td>\n",
              "      <td>12.11</td>\n",
              "      <td>191.88</td>\n",
              "      <td>101.33</td>\n",
              "    </tr>\n",
              "    <tr>\n",
              "      <th>4397</th>\n",
              "      <td>2021-08-31 22:10:00</td>\n",
              "      <td>12.31</td>\n",
              "      <td>191.40</td>\n",
              "      <td>101.48</td>\n",
              "    </tr>\n",
              "    <tr>\n",
              "      <th>4398</th>\n",
              "      <td>2021-08-31 22:20:00</td>\n",
              "      <td>12.27</td>\n",
              "      <td>191.65</td>\n",
              "      <td>101.49</td>\n",
              "    </tr>\n",
              "    <tr>\n",
              "      <th>4399</th>\n",
              "      <td>2021-08-31 22:30:00</td>\n",
              "      <td>11.99</td>\n",
              "      <td>191.45</td>\n",
              "      <td>101.04</td>\n",
              "    </tr>\n",
              "    <tr>\n",
              "      <th>4400</th>\n",
              "      <td>2021-08-31 22:40:00</td>\n",
              "      <td>11.66</td>\n",
              "      <td>191.91</td>\n",
              "      <td>100.64</td>\n",
              "    </tr>\n",
              "    <tr>\n",
              "      <th>4401</th>\n",
              "      <td>2021-08-31 22:50:00</td>\n",
              "      <td>11.85</td>\n",
              "      <td>190.88</td>\n",
              "      <td>100.80</td>\n",
              "    </tr>\n",
              "    <tr>\n",
              "      <th>4402</th>\n",
              "      <td>2021-08-31 23:00:00</td>\n",
              "      <td>12.04</td>\n",
              "      <td>191.20</td>\n",
              "      <td>101.25</td>\n",
              "    </tr>\n",
              "    <tr>\n",
              "      <th>4403</th>\n",
              "      <td>2021-08-31 23:10:00</td>\n",
              "      <td>12.00</td>\n",
              "      <td>192.55</td>\n",
              "      <td>101.18</td>\n",
              "    </tr>\n",
              "    <tr>\n",
              "      <th>4404</th>\n",
              "      <td>2021-08-31 23:20:00</td>\n",
              "      <td>11.62</td>\n",
              "      <td>195.08</td>\n",
              "      <td>100.45</td>\n",
              "    </tr>\n",
              "    <tr>\n",
              "      <th>4405</th>\n",
              "      <td>2021-08-31 23:30:00</td>\n",
              "      <td>11.16</td>\n",
              "      <td>196.36</td>\n",
              "      <td>98.01</td>\n",
              "    </tr>\n",
              "    <tr>\n",
              "      <th>4406</th>\n",
              "      <td>2021-08-31 23:40:00</td>\n",
              "      <td>10.66</td>\n",
              "      <td>198.02</td>\n",
              "      <td>93.11</td>\n",
              "    </tr>\n",
              "    <tr>\n",
              "      <th>4407</th>\n",
              "      <td>2021-08-31 23:50:00</td>\n",
              "      <td>10.90</td>\n",
              "      <td>196.96</td>\n",
              "      <td>93.68</td>\n",
              "    </tr>\n",
              "    <tr>\n",
              "      <th>4408</th>\n",
              "      <td>2021-09-01 00:00:00</td>\n",
              "      <td>10.95</td>\n",
              "      <td>197.68</td>\n",
              "      <td>93.77</td>\n",
              "    </tr>\n",
              "  </tbody>\n",
              "</table>\n",
              "</div>"
            ],
            "text/plain": [
              "             Date & Time  ...  Active Power(MW)\n",
              "4389 2021-08-31 20:50:00  ...             96.60\n",
              "4390 2021-08-31 21:00:00  ...             94.72\n",
              "4391 2021-08-31 21:10:00  ...             96.15\n",
              "4392 2021-08-31 21:20:00  ...            100.32\n",
              "4393 2021-08-31 21:30:00  ...            101.28\n",
              "4394 2021-08-31 21:40:00  ...            100.94\n",
              "4395 2021-08-31 21:50:00  ...            101.13\n",
              "4396 2021-08-31 22:00:00  ...            101.33\n",
              "4397 2021-08-31 22:10:00  ...            101.48\n",
              "4398 2021-08-31 22:20:00  ...            101.49\n",
              "4399 2021-08-31 22:30:00  ...            101.04\n",
              "4400 2021-08-31 22:40:00  ...            100.64\n",
              "4401 2021-08-31 22:50:00  ...            100.80\n",
              "4402 2021-08-31 23:00:00  ...            101.25\n",
              "4403 2021-08-31 23:10:00  ...            101.18\n",
              "4404 2021-08-31 23:20:00  ...            100.45\n",
              "4405 2021-08-31 23:30:00  ...             98.01\n",
              "4406 2021-08-31 23:40:00  ...             93.11\n",
              "4407 2021-08-31 23:50:00  ...             93.68\n",
              "4408 2021-09-01 00:00:00  ...             93.77\n",
              "\n",
              "[20 rows x 4 columns]"
            ]
          },
          "metadata": {},
          "execution_count": 251
        }
      ]
    },
    {
      "cell_type": "code",
      "metadata": {
        "colab": {
          "base_uri": "https://localhost:8080/"
        },
        "id": "arCC0j0Pr0n6",
        "outputId": "4bd31ed9-307b-47b7-a953-ebd1ed6d1360"
      },
      "source": [
        "original=df[['Date & Time','Wind Speed (m/s)']]\n",
        "original['Date & Time']=pd.to_datetime(original['Date & Time'])\n",
        "original=original.loc[original['Date & Time'] >= '2021-08-31 07:30:00']\n",
        "            "
      ],
      "execution_count": 252,
      "outputs": [
        {
          "output_type": "stream",
          "name": "stderr",
          "text": [
            "/usr/local/lib/python3.7/dist-packages/ipykernel_launcher.py:2: SettingWithCopyWarning: \n",
            "A value is trying to be set on a copy of a slice from a DataFrame.\n",
            "Try using .loc[row_indexer,col_indexer] = value instead\n",
            "\n",
            "See the caveats in the documentation: https://pandas.pydata.org/pandas-docs/stable/user_guide/indexing.html#returning-a-view-versus-a-copy\n",
            "  \n"
          ]
        }
      ]
    },
    {
      "cell_type": "code",
      "metadata": {
        "colab": {
          "base_uri": "https://localhost:8080/",
          "height": 384
        },
        "id": "nUokX4zIs36S",
        "outputId": "de698edb-5f51-46f5-e5cf-1e813fcc4867"
      },
      "source": [
        "sns.lineplot(original['Date & Time'],original['Wind Speed (m/s)'])\n",
        "sns.lineplot(df_forecast['Date & Time'],df_forecast['Wind Speed (m/s)'])"
      ],
      "execution_count": 253,
      "outputs": [
        {
          "output_type": "stream",
          "name": "stderr",
          "text": [
            "/usr/local/lib/python3.7/dist-packages/seaborn/_decorators.py:43: FutureWarning: Pass the following variables as keyword args: x, y. From version 0.12, the only valid positional argument will be `data`, and passing other arguments without an explicit keyword will result in an error or misinterpretation.\n",
            "  FutureWarning\n",
            "/usr/local/lib/python3.7/dist-packages/seaborn/_decorators.py:43: FutureWarning: Pass the following variables as keyword args: x, y. From version 0.12, the only valid positional argument will be `data`, and passing other arguments without an explicit keyword will result in an error or misinterpretation.\n",
            "  FutureWarning\n"
          ]
        },
        {
          "output_type": "execute_result",
          "data": {
            "text/plain": [
              "<matplotlib.axes._subplots.AxesSubplot at 0x7f5b2aee2e90>"
            ]
          },
          "metadata": {},
          "execution_count": 253
        },
        {
          "output_type": "display_data",
          "data": {
            "image/png": "[encoded data removed]",
            "text/plain": [
              "<Figure size 432x288 with 1 Axes>"
            ]
          },
          "metadata": {
            "needs_background": "light"
          }
        }
      ]
    }
  ]
}