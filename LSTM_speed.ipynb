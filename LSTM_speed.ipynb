{
  "nbformat": 4,
  "nbformat_minor": 0,
  "metadata": {
    "colab": {
      "name": "LSTM_speed.ipynb",
      "provenance": [],
      "collapsed_sections": [],
      "authorship_tag": "ABX9TyOd4Croi2WqqT2YselEZb+q",
      "include_colab_link": true
    },
    "kernelspec": {
      "name": "python3",
      "display_name": "Python 3"
    },
    "language_info": {
      "name": "python"
    }
  },
  "cells": [
    {
      "cell_type": "markdown",
      "metadata": {
        "id": "view-in-github",
        "colab_type": "text"
      },
      "source": [
        "<a href=\"https://colab.research.google.com/github/entc-17-fyp-20/WPF_Data_Visualization/blob/Kusal/LSTM_speed.ipynb\" target=\"_parent\"><img src=\"https://colab.research.google.com/assets/colab-badge.svg\" alt=\"Open In Colab\"/></a>"
      ]
    },
    {
      "cell_type": "code",
      "metadata": {
        "id": "NZqqxNwuixOA"
      },
      "source": [
        "import numpy as np\n",
        "import matplotlib.pyplot as plt\n",
        "import pandas as pd \n",
        "import math\n",
        "\n",
        "from keras.models import Sequential\n",
        "from keras.layers import Dense\n",
        "from keras.layers import LSTM, Dropout\n",
        "from sklearn.preprocessing import StandardScaler\n",
        "from sklearn.metrics import mean_squared_error\n",
        "from keras.layers import ConvLSTM2D\n",
        "import seaborn as sns"
      ],
      "execution_count": 155,
      "outputs": []
    },
    {
      "cell_type": "code",
      "metadata": {
        "id": "gU7VsCMGtrGQ"
      },
      "source": [
        "df = pd.read_csv('https://raw.githubusercontent.com/entc-17-fyp-20/Datasets/main/August-2021%20Mannar%20Wind%20Data1.csv')\n",
        "df = df.rename(columns = {'TimeStamp': 'Date & Time', 'Average  Wind Speed(m/s)': 'Wind Speed (m/s)', 'Average  Wind Dirction(deg)':'Wind Direction(deg)','Average Active Power(MW)':'Active Power(MW)'}, inplace = False)\n",
        "df=df[['Date & Time','Wind Speed (m/s)','Wind Direction(deg)','Active Power(MW)']]\n",
        "df['Date & Time'] = pd.to_datetime(df['Date & Time'], format=\"%m/%d/%Y %H:%M\")\n",
        "df[\"Active Power(MW)\"] = pd.to_numeric(df[\"Active Power(MW)\"])\n",
        "#df.set_index('Date & Time',inplace=True)\n",
        "df_n=df.head(4389)\n",
        "train_dates=df_n['Date & Time']#separate dates for future plotting\n",
        "cols=list(df_n)[1:3]\n",
        "df_for_training= df_n[cols].astype(float)\n",
        "\n",
        "#print(cols)"
      ],
      "execution_count": 156,
      "outputs": []
    },
    {
      "cell_type": "code",
      "metadata": {
        "colab": {
          "base_uri": "https://localhost:8080/",
          "height": 282
        },
        "id": "x58sBXdA8Dj4",
        "outputId": "7fcf2534-fb31-4981-af91-b0b0107e4d1d"
      },
      "source": [
        "df_for_training.plot()"
      ],
      "execution_count": 157,
      "outputs": [
        {
          "output_type": "execute_result",
          "data": {
            "text/plain": [
              "<matplotlib.axes._subplots.AxesSubplot at 0x7f14699f61d0>"
            ]
          },
          "metadata": {},
          "execution_count": 157
        },
        {
          "output_type": "display_data",
          "data": {
            "image/png": "[encoded data removed]",
            "text/plain": [
              "<Figure size 432x288 with 1 Axes>"
            ]
          },
          "metadata": {
            "needs_background": "light"
          }
        }
      ]
    },
    {
      "cell_type": "code",
      "metadata": {
        "colab": {
          "base_uri": "https://localhost:8080/"
        },
        "id": "IRRc66oQltIa",
        "outputId": "b43cd5fa-4814-453e-a98d-84361bc79a32"
      },
      "source": [
        "train_dates.tail(100)"
      ],
      "execution_count": 158,
      "outputs": [
        {
          "output_type": "execute_result",
          "data": {
            "text/plain": [
              "4289   2021-08-31 04:10:00\n",
              "4290   2021-08-31 04:20:00\n",
              "4291   2021-08-31 04:30:00\n",
              "4292   2021-08-31 04:40:00\n",
              "4293   2021-08-31 04:50:00\n",
              "               ...        \n",
              "4384   2021-08-31 20:00:00\n",
              "4385   2021-08-31 20:10:00\n",
              "4386   2021-08-31 20:20:00\n",
              "4387   2021-08-31 20:30:00\n",
              "4388   2021-08-31 20:40:00\n",
              "Name: Date & Time, Length: 100, dtype: datetime64[ns]"
            ]
          },
          "metadata": {},
          "execution_count": 158
        }
      ]
    },
    {
      "cell_type": "code",
      "metadata": {
        "id": "IgV1TcElLXV9"
      },
      "source": [
        "# df_for_plot=df_for_training.tail(2000)\n",
        "# df_for_plot.plot.line()\n",
        "scaler= StandardScaler()\n",
        "scaler=scaler.fit(df_for_training)\n",
        "df_for_training_scaled = scaler.transform(df_for_training)"
      ],
      "execution_count": 159,
      "outputs": []
    },
    {
      "cell_type": "code",
      "metadata": {
        "id": "ECRyUHj2hskr"
      },
      "source": [
        "trainX=[]\n",
        "trainY=[]\n",
        "\n",
        "n_future=1\n",
        "n_past=15\n",
        "\n",
        "for i in range(n_past, len(df_for_training_scaled) - n_future +1):\n",
        "    trainX.append(df_for_training_scaled[i - n_past:i, 0:df_for_training.shape[1]])\n",
        "    trainY.append(df_for_training_scaled[i + n_future - 1:i + n_future, 0])"
      ],
      "execution_count": 160,
      "outputs": []
    },
    {
      "cell_type": "code",
      "metadata": {
        "id": "GQqA2KQljZ_q"
      },
      "source": [
        "trainX, trainY = np.array(trainX), np.array(trainY)"
      ],
      "execution_count": 161,
      "outputs": []
    },
    {
      "cell_type": "code",
      "metadata": {
        "colab": {
          "base_uri": "https://localhost:8080/"
        },
        "id": "rM6dz0yJjt2W",
        "outputId": "54e0000c-da20-453d-d47b-f88ef65cc14e"
      },
      "source": [
        "print('trainX shape == {}.'.format(trainX.shape))\n",
        "print('trainY shape == {}.'.format(trainY.shape))"
      ],
      "execution_count": 162,
      "outputs": [
        {
          "output_type": "stream",
          "name": "stdout",
          "text": [
            "trainX shape == (4374, 15, 2).\n",
            "trainY shape == (4374, 1).\n"
          ]
        }
      ]
    },
    {
      "cell_type": "code",
      "metadata": {
        "colab": {
          "base_uri": "https://localhost:8080/"
        },
        "id": "dKBiLvB_kKGr",
        "outputId": "bfa475b5-d40d-48d0-c89f-4c53fca963dd"
      },
      "source": [
        "model = Sequential()\n",
        "model.add(LSTM(64, activation='relu', input_shape=(trainX.shape[1], trainX.shape[2]), return_sequences=True))\n",
        "model.add(LSTM(32, activation='relu', return_sequences=True))\n",
        "model.add(LSTM(32, activation='relu', return_sequences=True))\n",
        "model.add(LSTM(32, activation='relu', return_sequences=False))\n",
        "model.add(Dropout(0.1))\n",
        "model.add(Dense(trainY.shape[1]))\n",
        "model.compile(optimizer='adam', loss='mse')\n",
        "model.summary()"
      ],
      "execution_count": 163,
      "outputs": [
        {
          "output_type": "stream",
          "name": "stdout",
          "text": [
            "Model: \"sequential_6\"\n",
            "_________________________________________________________________\n",
            "Layer (type)                 Output Shape              Param #   \n",
            "=================================================================\n",
            "lstm_24 (LSTM)               (None, 15, 64)            17152     \n",
            "_________________________________________________________________\n",
            "lstm_25 (LSTM)               (None, 15, 32)            12416     \n",
            "_________________________________________________________________\n",
            "lstm_26 (LSTM)               (None, 15, 32)            8320      \n",
            "_________________________________________________________________\n",
            "lstm_27 (LSTM)               (None, 32)                8320      \n",
            "_________________________________________________________________\n",
            "dropout_6 (Dropout)          (None, 32)                0         \n",
            "_________________________________________________________________\n",
            "dense_7 (Dense)              (None, 1)                 33        \n",
            "=================================================================\n",
            "Total params: 46,241\n",
            "Trainable params: 46,241\n",
            "Non-trainable params: 0\n",
            "_________________________________________________________________\n"
          ]
        }
      ]
    },
    {
      "cell_type": "code",
      "metadata": {
        "colab": {
          "base_uri": "https://localhost:8080/"
        },
        "id": "EEAyUV16kk3i",
        "outputId": "9d40dce7-0798-4748-ac8f-8c68af2bac3b"
      },
      "source": [
        "history = model.fit(trainX, trainY, epochs=10, batch_size=30, validation_split=0.02, verbose=1)"
      ],
      "execution_count": 164,
      "outputs": [
        {
          "output_type": "stream",
          "name": "stdout",
          "text": [
            "Epoch 1/10\n",
            "143/143 [==============================] - 9s 33ms/step - loss: 0.2877 - val_loss: 0.0851\n",
            "Epoch 2/10\n",
            "143/143 [==============================] - 4s 30ms/step - loss: 0.1180 - val_loss: 0.0527\n",
            "Epoch 3/10\n",
            "143/143 [==============================] - 4s 31ms/step - loss: 0.0822 - val_loss: 0.0379\n",
            "Epoch 4/10\n",
            "143/143 [==============================] - 4s 30ms/step - loss: 0.0551 - val_loss: 0.0262\n",
            "Epoch 5/10\n",
            "143/143 [==============================] - 4s 30ms/step - loss: 0.0474 - val_loss: 0.0100\n",
            "Epoch 6/10\n",
            "143/143 [==============================] - 4s 30ms/step - loss: 0.0403 - val_loss: 0.0161\n",
            "Epoch 7/10\n",
            "143/143 [==============================] - 4s 30ms/step - loss: 0.0285 - val_loss: 0.0095\n",
            "Epoch 8/10\n",
            "143/143 [==============================] - 4s 30ms/step - loss: 0.0264 - val_loss: 0.0055\n",
            "Epoch 9/10\n",
            "143/143 [==============================] - 4s 31ms/step - loss: 0.0271 - val_loss: 0.0129\n",
            "Epoch 10/10\n",
            "143/143 [==============================] - 4s 31ms/step - loss: 0.0233 - val_loss: 0.0063\n"
          ]
        }
      ]
    },
    {
      "cell_type": "code",
      "metadata": {
        "colab": {
          "base_uri": "https://localhost:8080/",
          "height": 285
        },
        "id": "b6cXDWLBk1Ai",
        "outputId": "684eb9bb-78cd-4fcd-a4ca-10b0bb5782ee"
      },
      "source": [
        "plt.plot(history.history['loss'], label='Training loss')\n",
        "plt.plot(history.history['val_loss'], label='Validation loss')\n",
        "plt.legend()"
      ],
      "execution_count": 165,
      "outputs": [
        {
          "output_type": "execute_result",
          "data": {
            "text/plain": [
              "<matplotlib.legend.Legend at 0x7f1468225c90>"
            ]
          },
          "metadata": {},
          "execution_count": 165
        },
        {
          "output_type": "display_data",
          "data": {
            "image/png": "[encoded data removed]",
            "text/plain": [
              "<Figure size 432x288 with 1 Axes>"
            ]
          },
          "metadata": {
            "needs_background": "light"
          }
        }
      ]
    },
    {
      "cell_type": "code",
      "metadata": {
        "id": "iRNsz9ComQrT"
      },
      "source": [
        "n_future=20\n",
        "forecast_period_dates=pd.date_range(list(train_dates)[-1],periods=n_future,freq='10min')"
      ],
      "execution_count": 166,
      "outputs": []
    },
    {
      "cell_type": "code",
      "metadata": {
        "id": "fay5gJxSmw47"
      },
      "source": [
        "forecast=model.predict(trainX[-n_future:])"
      ],
      "execution_count": 167,
      "outputs": []
    },
    {
      "cell_type": "code",
      "metadata": {
        "id": "lt39JNSJm9r5"
      },
      "source": [
        "forecast_copies =np.repeat(forecast,df_for_training.shape[1],axis=-1)\n",
        "y_pred_future=scaler.inverse_transform(forecast_copies)[:,0]"
      ],
      "execution_count": 168,
      "outputs": []
    },
    {
      "cell_type": "code",
      "metadata": {
        "id": "exbwKtOJqAFC"
      },
      "source": [
        "forecast_dates=[]\n",
        "for time_i in forecast_period_dates:\n",
        "  forecast_dates.append(time_i.date())"
      ],
      "execution_count": 169,
      "outputs": []
    },
    {
      "cell_type": "code",
      "metadata": {
        "id": "NFTuUdeFqcHK"
      },
      "source": [
        "df_forecast=pd.DataFrame({'Date & Time':np.array(forecast_period_dates),'Wind Speed (m/s)':y_pred_future})\n",
        "df_forecast['Date & Time']=pd.to_datetime(df_forecast['Date & Time'])"
      ],
      "execution_count": 170,
      "outputs": []
    },
    {
      "cell_type": "code",
      "metadata": {
        "colab": {
          "base_uri": "https://localhost:8080/"
        },
        "id": "arCC0j0Pr0n6",
        "outputId": "e8a37213-6adc-4250-f007-e8dc780584b7"
      },
      "source": [
        "original=df[['Date & Time','Wind Speed (m/s)']]\n",
        "original['Date & Time']=pd.to_datetime(original['Date & Time'])\n",
        "original=original.loc[original['Date & Time'] >= '2021-08-31 07:30:00']\n",
        "            "
      ],
      "execution_count": 171,
      "outputs": [
        {
          "output_type": "stream",
          "name": "stderr",
          "text": [
            "/usr/local/lib/python3.7/dist-packages/ipykernel_launcher.py:2: SettingWithCopyWarning: \n",
            "A value is trying to be set on a copy of a slice from a DataFrame.\n",
            "Try using .loc[row_indexer,col_indexer] = value instead\n",
            "\n",
            "See the caveats in the documentation: https://pandas.pydata.org/pandas-docs/stable/user_guide/indexing.html#returning-a-view-versus-a-copy\n",
            "  \n"
          ]
        }
      ]
    },
    {
      "cell_type": "code",
      "metadata": {
        "colab": {
          "base_uri": "https://localhost:8080/",
          "height": 384
        },
        "id": "nUokX4zIs36S",
        "outputId": "e2e690ae-0c09-41f6-b88e-91042e13a841"
      },
      "source": [
        "sns.lineplot(original['Date & Time'][-n_future:],original['Wind Speed (m/s)'][-n_future-1:])\n",
        "sns.lineplot(df_forecast['Date & Time'],df_forecast['Wind Speed (m/s)'])"
      ],
      "execution_count": 172,
      "outputs": [
        {
          "output_type": "stream",
          "name": "stderr",
          "text": [
            "/usr/local/lib/python3.7/dist-packages/seaborn/_decorators.py:43: FutureWarning: Pass the following variables as keyword args: x, y. From version 0.12, the only valid positional argument will be `data`, and passing other arguments without an explicit keyword will result in an error or misinterpretation.\n",
            "  FutureWarning\n",
            "/usr/local/lib/python3.7/dist-packages/seaborn/_decorators.py:43: FutureWarning: Pass the following variables as keyword args: x, y. From version 0.12, the only valid positional argument will be `data`, and passing other arguments without an explicit keyword will result in an error or misinterpretation.\n",
            "  FutureWarning\n"
          ]
        },
        {
          "output_type": "execute_result",
          "data": {
            "text/plain": [
              "<matplotlib.axes._subplots.AxesSubplot at 0x7f1468737950>"
            ]
          },
          "metadata": {},
          "execution_count": 172
        },
        {
          "output_type": "display_data",
          "data": {
            "image/png": "[encoded data removed]",
            "text/plain": [
              "<Figure size 432x288 with 1 Axes>"
            ]
          },
          "metadata": {
            "needs_background": "light"
          }
        }
      ]
    },
    {
      "cell_type": "code",
      "metadata": {
        "id": "RYbZ3rSuapLr"
      },
      "source": [
        "from sklearn.metrics import mean_squared_error"
      ],
      "execution_count": 173,
      "outputs": []
    },
    {
      "cell_type": "code",
      "metadata": {
        "colab": {
          "base_uri": "https://localhost:8080/"
        },
        "id": "HdSykNfcasCj",
        "outputId": "edfe7a4b-24c9-4072-a97e-b48b1c339a17"
      },
      "source": [
        "mean_squared_error(original['Wind Speed (m/s)'][-n_future:],df_forecast['Wind Speed (m/s)'])"
      ],
      "execution_count": 174,
      "outputs": [
        {
          "output_type": "execute_result",
          "data": {
            "text/plain": [
              "0.4144869670088844"
            ]
          },
          "metadata": {},
          "execution_count": 174
        }
      ]
    }
  ]
}