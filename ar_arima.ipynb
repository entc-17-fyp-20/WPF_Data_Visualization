{
  "nbformat": 4,
  "nbformat_minor": 0,
  "metadata": {
    "colab": {
      "name": "ar_arima.ipynb",
      "provenance": [],
      "authorship_tag": "ABX9TyNbqeltQKnwuvl5LBPvvPLs",
      "include_colab_link": true
    },
    "kernelspec": {
      "name": "python3",
      "display_name": "Python 3"
    },
    "language_info": {
      "name": "python"
    }
  },
  "cells": [
    {
      "cell_type": "markdown",
      "metadata": {
        "id": "view-in-github",
        "colab_type": "text"
      },
      "source": [
        "<a href=\"https://colab.research.google.com/github/entc-17-fyp-20/WPF_Data_Visualization/blob/main/ar_arima.ipynb\" target=\"_parent\"><img src=\"https://colab.research.google.com/assets/colab-badge.svg\" alt=\"Open In Colab\"/></a>"
      ]
    },
    {
      "cell_type": "code",
      "metadata": {
        "id": "5zTH9vCIonBd"
      },
      "source": [
        "import pandas as pd\n",
        "import matplotlib.pyplot as plt\n",
        "import csv\n",
        "import plotly.express as px\n",
        "import plotly.graph_objects as go\n",
        "%matplotlib inline\n",
        "from pandas import to_datetime\n",
        "\n",
        "import itertools\n",
        "import warnings\n",
        "\n",
        "import datetime\n",
        "from datetime import datetime\n",
        "warnings.filterwarnings('ignore')"
      ],
      "execution_count": 133,
      "outputs": []
    },
    {
      "cell_type": "code",
      "metadata": {
        "id": "TQ2NOHjepKxD"
      },
      "source": [
        "url1='https://raw.githubusercontent.com/entc-17-fyp-20/Datasets/main/V13%20June%2010%20sec%20data.csv'\n",
        "df=pd.read_csv(url1,encoding='latin-1')\n",
        "df=df.head(10000)"
      ],
      "execution_count": 134,
      "outputs": []
    },
    {
      "cell_type": "code",
      "metadata": {
        "id": "eD5fz1a2swVK"
      },
      "source": [
        "sel_df=df[['Date & Time','Active Power kW']]\n",
        "sel_df['Date & Time']=pd.to_datetime(sel_df['Date & Time'],format=\"%d/%m/%Y %H:%M:%S\")\n",
        "sel_df[\"Active Power kW\"] = sel_df['Active Power kW'].apply(pd.to_numeric)\n",
        "#sel_df['Date & Time']\n",
        "#sel_df.tail()\n"
      ],
      "execution_count": 135,
      "outputs": []
    },
    {
      "cell_type": "code",
      "metadata": {
        "colab": {
          "base_uri": "https://localhost:8080/",
          "height": 297
        },
        "id": "NTbzj5dbx0VZ",
        "outputId": "db320267-8b58-4073-ccad-0cdee68d0c89"
      },
      "source": [
        "sel_df.describe()"
      ],
      "execution_count": 136,
      "outputs": [
        {
          "output_type": "execute_result",
          "data": {
            "text/html": [
              "<div>\n",
              "<style scoped>\n",
              "    .dataframe tbody tr th:only-of-type {\n",
              "        vertical-align: middle;\n",
              "    }\n",
              "\n",
              "    .dataframe tbody tr th {\n",
              "        vertical-align: top;\n",
              "    }\n",
              "\n",
              "    .dataframe thead th {\n",
              "        text-align: right;\n",
              "    }\n",
              "</style>\n",
              "<table border=\"1\" class=\"dataframe\">\n",
              "  <thead>\n",
              "    <tr style=\"text-align: right;\">\n",
              "      <th></th>\n",
              "      <th>Active Power kW</th>\n",
              "    </tr>\n",
              "  </thead>\n",
              "  <tbody>\n",
              "    <tr>\n",
              "      <th>count</th>\n",
              "      <td>10000.000000</td>\n",
              "    </tr>\n",
              "    <tr>\n",
              "      <th>mean</th>\n",
              "      <td>369.777910</td>\n",
              "    </tr>\n",
              "    <tr>\n",
              "      <th>std</th>\n",
              "      <td>133.248699</td>\n",
              "    </tr>\n",
              "    <tr>\n",
              "      <th>min</th>\n",
              "      <td>-22.700000</td>\n",
              "    </tr>\n",
              "    <tr>\n",
              "      <th>25%</th>\n",
              "      <td>279.175000</td>\n",
              "    </tr>\n",
              "    <tr>\n",
              "      <th>50%</th>\n",
              "      <td>365.950000</td>\n",
              "    </tr>\n",
              "    <tr>\n",
              "      <th>75%</th>\n",
              "      <td>455.900000</td>\n",
              "    </tr>\n",
              "    <tr>\n",
              "      <th>max</th>\n",
              "      <td>764.300000</td>\n",
              "    </tr>\n",
              "  </tbody>\n",
              "</table>\n",
              "</div>"
            ],
            "text/plain": [
              "       Active Power kW\n",
              "count     10000.000000\n",
              "mean        369.777910\n",
              "std         133.248699\n",
              "min         -22.700000\n",
              "25%         279.175000\n",
              "50%         365.950000\n",
              "75%         455.900000\n",
              "max         764.300000"
            ]
          },
          "metadata": {},
          "execution_count": 136
        }
      ]
    },
    {
      "cell_type": "code",
      "metadata": {
        "id": "N20dqZAeyHAP"
      },
      "source": [
        "#fig1=px.line(sel_df,x='Date & Time',y='Active Power kW')\n",
        "#fig1.show()"
      ],
      "execution_count": 137,
      "outputs": []
    },
    {
      "cell_type": "code",
      "metadata": {
        "id": "Gjb5GlHmXV6S"
      },
      "source": [
        "sel_df.set_index(\"Date & Time\",inplace=True)\n"
      ],
      "execution_count": 138,
      "outputs": []
    },
    {
      "cell_type": "code",
      "metadata": {
        "id": "PpZ0Z-HX-Id1",
        "colab": {
          "base_uri": "https://localhost:8080/",
          "height": 450
        },
        "outputId": "c9a8223f-963a-42e2-d5f5-c0a89a021c94"
      },
      "source": [
        "sel_df"
      ],
      "execution_count": 139,
      "outputs": [
        {
          "output_type": "execute_result",
          "data": {
            "text/html": [
              "<div>\n",
              "<style scoped>\n",
              "    .dataframe tbody tr th:only-of-type {\n",
              "        vertical-align: middle;\n",
              "    }\n",
              "\n",
              "    .dataframe tbody tr th {\n",
              "        vertical-align: top;\n",
              "    }\n",
              "\n",
              "    .dataframe thead th {\n",
              "        text-align: right;\n",
              "    }\n",
              "</style>\n",
              "<table border=\"1\" class=\"dataframe\">\n",
              "  <thead>\n",
              "    <tr style=\"text-align: right;\">\n",
              "      <th></th>\n",
              "      <th>Active Power kW</th>\n",
              "    </tr>\n",
              "    <tr>\n",
              "      <th>Date &amp; Time</th>\n",
              "      <th></th>\n",
              "    </tr>\n",
              "  </thead>\n",
              "  <tbody>\n",
              "    <tr>\n",
              "      <th>2021-06-02 00:00:00</th>\n",
              "      <td>385.9</td>\n",
              "    </tr>\n",
              "    <tr>\n",
              "      <th>2021-06-02 00:00:10</th>\n",
              "      <td>299.0</td>\n",
              "    </tr>\n",
              "    <tr>\n",
              "      <th>2021-06-02 00:00:20</th>\n",
              "      <td>344.3</td>\n",
              "    </tr>\n",
              "    <tr>\n",
              "      <th>2021-06-02 00:00:30</th>\n",
              "      <td>426.5</td>\n",
              "    </tr>\n",
              "    <tr>\n",
              "      <th>2021-06-02 00:00:40</th>\n",
              "      <td>546.0</td>\n",
              "    </tr>\n",
              "    <tr>\n",
              "      <th>...</th>\n",
              "      <td>...</td>\n",
              "    </tr>\n",
              "    <tr>\n",
              "      <th>2021-06-03 03:45:50</th>\n",
              "      <td>355.0</td>\n",
              "    </tr>\n",
              "    <tr>\n",
              "      <th>2021-06-03 03:46:00</th>\n",
              "      <td>315.6</td>\n",
              "    </tr>\n",
              "    <tr>\n",
              "      <th>2021-06-03 03:46:10</th>\n",
              "      <td>315.0</td>\n",
              "    </tr>\n",
              "    <tr>\n",
              "      <th>2021-06-03 03:46:20</th>\n",
              "      <td>299.9</td>\n",
              "    </tr>\n",
              "    <tr>\n",
              "      <th>2021-06-03 03:46:30</th>\n",
              "      <td>281.2</td>\n",
              "    </tr>\n",
              "  </tbody>\n",
              "</table>\n",
              "<p>10000 rows × 1 columns</p>\n",
              "</div>"
            ],
            "text/plain": [
              "                     Active Power kW\n",
              "Date & Time                         \n",
              "2021-06-02 00:00:00            385.9\n",
              "2021-06-02 00:00:10            299.0\n",
              "2021-06-02 00:00:20            344.3\n",
              "2021-06-02 00:00:30            426.5\n",
              "2021-06-02 00:00:40            546.0\n",
              "...                              ...\n",
              "2021-06-03 03:45:50            355.0\n",
              "2021-06-03 03:46:00            315.6\n",
              "2021-06-03 03:46:10            315.0\n",
              "2021-06-03 03:46:20            299.9\n",
              "2021-06-03 03:46:30            281.2\n",
              "\n",
              "[10000 rows x 1 columns]"
            ]
          },
          "metadata": {},
          "execution_count": 139
        }
      ]
    },
    {
      "cell_type": "code",
      "metadata": {
        "colab": {
          "base_uri": "https://localhost:8080/",
          "height": 450
        },
        "id": "h7HAvnQPyk5e",
        "outputId": "2b30e3b5-82e5-4ef4-f708-8ffc8fb994f4"
      },
      "source": [
        "sel_df_mean=sel_df.rolling(window=25).mean()\n",
        "sel_df_mean"
      ],
      "execution_count": 140,
      "outputs": [
        {
          "output_type": "execute_result",
          "data": {
            "text/html": [
              "<div>\n",
              "<style scoped>\n",
              "    .dataframe tbody tr th:only-of-type {\n",
              "        vertical-align: middle;\n",
              "    }\n",
              "\n",
              "    .dataframe tbody tr th {\n",
              "        vertical-align: top;\n",
              "    }\n",
              "\n",
              "    .dataframe thead th {\n",
              "        text-align: right;\n",
              "    }\n",
              "</style>\n",
              "<table border=\"1\" class=\"dataframe\">\n",
              "  <thead>\n",
              "    <tr style=\"text-align: right;\">\n",
              "      <th></th>\n",
              "      <th>Active Power kW</th>\n",
              "    </tr>\n",
              "    <tr>\n",
              "      <th>Date &amp; Time</th>\n",
              "      <th></th>\n",
              "    </tr>\n",
              "  </thead>\n",
              "  <tbody>\n",
              "    <tr>\n",
              "      <th>2021-06-02 00:00:00</th>\n",
              "      <td>NaN</td>\n",
              "    </tr>\n",
              "    <tr>\n",
              "      <th>2021-06-02 00:00:10</th>\n",
              "      <td>NaN</td>\n",
              "    </tr>\n",
              "    <tr>\n",
              "      <th>2021-06-02 00:00:20</th>\n",
              "      <td>NaN</td>\n",
              "    </tr>\n",
              "    <tr>\n",
              "      <th>2021-06-02 00:00:30</th>\n",
              "      <td>NaN</td>\n",
              "    </tr>\n",
              "    <tr>\n",
              "      <th>2021-06-02 00:00:40</th>\n",
              "      <td>NaN</td>\n",
              "    </tr>\n",
              "    <tr>\n",
              "      <th>...</th>\n",
              "      <td>...</td>\n",
              "    </tr>\n",
              "    <tr>\n",
              "      <th>2021-06-03 03:45:50</th>\n",
              "      <td>332.976</td>\n",
              "    </tr>\n",
              "    <tr>\n",
              "      <th>2021-06-03 03:46:00</th>\n",
              "      <td>331.752</td>\n",
              "    </tr>\n",
              "    <tr>\n",
              "      <th>2021-06-03 03:46:10</th>\n",
              "      <td>329.912</td>\n",
              "    </tr>\n",
              "    <tr>\n",
              "      <th>2021-06-03 03:46:20</th>\n",
              "      <td>329.032</td>\n",
              "    </tr>\n",
              "    <tr>\n",
              "      <th>2021-06-03 03:46:30</th>\n",
              "      <td>328.280</td>\n",
              "    </tr>\n",
              "  </tbody>\n",
              "</table>\n",
              "<p>10000 rows × 1 columns</p>\n",
              "</div>"
            ],
            "text/plain": [
              "                     Active Power kW\n",
              "Date & Time                         \n",
              "2021-06-02 00:00:00              NaN\n",
              "2021-06-02 00:00:10              NaN\n",
              "2021-06-02 00:00:20              NaN\n",
              "2021-06-02 00:00:30              NaN\n",
              "2021-06-02 00:00:40              NaN\n",
              "...                              ...\n",
              "2021-06-03 03:45:50          332.976\n",
              "2021-06-03 03:46:00          331.752\n",
              "2021-06-03 03:46:10          329.912\n",
              "2021-06-03 03:46:20          329.032\n",
              "2021-06-03 03:46:30          328.280\n",
              "\n",
              "[10000 rows x 1 columns]"
            ]
          },
          "metadata": {},
          "execution_count": 140
        }
      ]
    }
  ]
}