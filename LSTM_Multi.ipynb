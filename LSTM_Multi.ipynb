{
  "nbformat": 4,
  "nbformat_minor": 0,
  "metadata": {
    "colab": {
      "name": "LSTM_Multi.ipynb",
      "provenance": [],
      "authorship_tag": "ABX9TyNF+GOaGPRq3MAgaCAe3U98",
      "include_colab_link": true
    },
    "kernelspec": {
      "name": "python3",
      "display_name": "Python 3"
    },
    "language_info": {
      "name": "python"
    }
  },
  "cells": [
    {
      "cell_type": "markdown",
      "metadata": {
        "id": "view-in-github",
        "colab_type": "text"
      },
      "source": [
        "<a href=\"https://colab.research.google.com/github/entc-17-fyp-20/WPF_Data_Visualization/blob/Kusal/LSTM_Multi.ipynb\" target=\"_parent\"><img src=\"https://colab.research.google.com/assets/colab-badge.svg\" alt=\"Open In Colab\"/></a>"
      ]
    },
    {
      "cell_type": "code",
      "metadata": {
        "id": "dU2gW6iN2itT"
      },
      "source": [
        "import pandas as pd\n",
        "import matplotlib as mpl\n",
        "import matplotlib.pyplot as plt\n",
        "from sklearn.model_selection import train_test_split\n",
        "from keras.preprocessing.sequence import TimeseriesGenerator\n",
        "from sklearn.preprocessing import MinMaxScaler , StandardScaler\n",
        "import tensorflow as tf\n",
        "\n",
        "mpl.rcParams['figure.figsize'] =[10,8]\n",
        "mpl.rcParams['axes.grid']= False"
      ],
      "execution_count": null,
      "outputs": []
    },
    {
      "cell_type": "code",
      "metadata": {
        "colab": {
          "base_uri": "https://localhost:8080/",
          "height": 419
        },
        "id": "_ePkiykH7DEM",
        "outputId": "ba99be5b-239b-4a85-f524-a100d588e0c0"
      },
      "source": [
        "df = pd.read_csv('https://raw.githubusercontent.com/entc-17-fyp-20/Datasets/main/August-2021%20Mannar%20Wind%20Data1.csv')\n",
        "df = df.rename(columns = {'TimeStamp': 'Date & Time', 'Average  Wind Speed(m/s)': 'Wind Speed (m/s)', 'Average  Wind Dirction(deg)':'Wind Direction(deg)','Average Active Power(MW)':'Active Power(MW)'}, inplace = False)\n",
        "df=df[['Date & Time','Active Power(MW)','Wind Speed (m/s)','Wind Direction(deg)']]\n",
        "df"
      ],
      "execution_count": null,
      "outputs": [
        {
          "output_type": "execute_result",
          "data": {
            "text/html": [
              "<div>\n",
              "<style scoped>\n",
              "    .dataframe tbody tr th:only-of-type {\n",
              "        vertical-align: middle;\n",
              "    }\n",
              "\n",
              "    .dataframe tbody tr th {\n",
              "        vertical-align: top;\n",
              "    }\n",
              "\n",
              "    .dataframe thead th {\n",
              "        text-align: right;\n",
              "    }\n",
              "</style>\n",
              "<table border=\"1\" class=\"dataframe\">\n",
              "  <thead>\n",
              "    <tr style=\"text-align: right;\">\n",
              "      <th></th>\n",
              "      <th>Date &amp; Time</th>\n",
              "      <th>Active Power(MW)</th>\n",
              "      <th>Wind Speed (m/s)</th>\n",
              "      <th>Wind Direction(deg)</th>\n",
              "    </tr>\n",
              "  </thead>\n",
              "  <tbody>\n",
              "    <tr>\n",
              "      <th>0</th>\n",
              "      <td>8/1/2021 0:00</td>\n",
              "      <td>95.84</td>\n",
              "      <td>10.66</td>\n",
              "      <td>186.92</td>\n",
              "    </tr>\n",
              "    <tr>\n",
              "      <th>1</th>\n",
              "      <td>8/1/2021 0:10</td>\n",
              "      <td>96.03</td>\n",
              "      <td>10.71</td>\n",
              "      <td>188.15</td>\n",
              "    </tr>\n",
              "    <tr>\n",
              "      <th>2</th>\n",
              "      <td>8/1/2021 0:20</td>\n",
              "      <td>93.72</td>\n",
              "      <td>10.53</td>\n",
              "      <td>188.78</td>\n",
              "    </tr>\n",
              "    <tr>\n",
              "      <th>3</th>\n",
              "      <td>8/1/2021 0:30</td>\n",
              "      <td>88.84</td>\n",
              "      <td>10.20</td>\n",
              "      <td>189.80</td>\n",
              "    </tr>\n",
              "    <tr>\n",
              "      <th>4</th>\n",
              "      <td>8/1/2021 0:40</td>\n",
              "      <td>90.97</td>\n",
              "      <td>10.34</td>\n",
              "      <td>193.00</td>\n",
              "    </tr>\n",
              "    <tr>\n",
              "      <th>...</th>\n",
              "      <td>...</td>\n",
              "      <td>...</td>\n",
              "      <td>...</td>\n",
              "      <td>...</td>\n",
              "    </tr>\n",
              "    <tr>\n",
              "      <th>4404</th>\n",
              "      <td>8/31/2021 23:20</td>\n",
              "      <td>100.45</td>\n",
              "      <td>11.62</td>\n",
              "      <td>195.08</td>\n",
              "    </tr>\n",
              "    <tr>\n",
              "      <th>4405</th>\n",
              "      <td>8/31/2021 23:30</td>\n",
              "      <td>98.01</td>\n",
              "      <td>11.16</td>\n",
              "      <td>196.36</td>\n",
              "    </tr>\n",
              "    <tr>\n",
              "      <th>4406</th>\n",
              "      <td>8/31/2021 23:40</td>\n",
              "      <td>93.11</td>\n",
              "      <td>10.66</td>\n",
              "      <td>198.02</td>\n",
              "    </tr>\n",
              "    <tr>\n",
              "      <th>4407</th>\n",
              "      <td>8/31/2021 23:50</td>\n",
              "      <td>93.68</td>\n",
              "      <td>10.90</td>\n",
              "      <td>196.96</td>\n",
              "    </tr>\n",
              "    <tr>\n",
              "      <th>4408</th>\n",
              "      <td>9/1/2021 0:00</td>\n",
              "      <td>93.77</td>\n",
              "      <td>10.95</td>\n",
              "      <td>197.68</td>\n",
              "    </tr>\n",
              "  </tbody>\n",
              "</table>\n",
              "<p>4409 rows × 4 columns</p>\n",
              "</div>"
            ],
            "text/plain": [
              "          Date & Time  Active Power(MW)  Wind Speed (m/s)  Wind Direction(deg)\n",
              "0       8/1/2021 0:00             95.84             10.66               186.92\n",
              "1       8/1/2021 0:10             96.03             10.71               188.15\n",
              "2       8/1/2021 0:20             93.72             10.53               188.78\n",
              "3       8/1/2021 0:30             88.84             10.20               189.80\n",
              "4       8/1/2021 0:40             90.97             10.34               193.00\n",
              "...               ...               ...               ...                  ...\n",
              "4404  8/31/2021 23:20            100.45             11.62               195.08\n",
              "4405  8/31/2021 23:30             98.01             11.16               196.36\n",
              "4406  8/31/2021 23:40             93.11             10.66               198.02\n",
              "4407  8/31/2021 23:50             93.68             10.90               196.96\n",
              "4408    9/1/2021 0:00             93.77             10.95               197.68\n",
              "\n",
              "[4409 rows x 4 columns]"
            ]
          },
          "metadata": {},
          "execution_count": 138
        }
      ]
    },
    {
      "cell_type": "code",
      "metadata": {
        "colab": {
          "base_uri": "https://localhost:8080/"
        },
        "id": "5LTEe254-Ysa",
        "outputId": "5926b570-7e3c-4314-a594-3476faf60dcf"
      },
      "source": [
        "df.info()"
      ],
      "execution_count": null,
      "outputs": [
        {
          "output_type": "stream",
          "name": "stdout",
          "text": [
            "<class 'pandas.core.frame.DataFrame'>\n",
            "RangeIndex: 4409 entries, 0 to 4408\n",
            "Data columns (total 4 columns):\n",
            " #   Column               Non-Null Count  Dtype  \n",
            "---  ------               --------------  -----  \n",
            " 0   Date & Time          4409 non-null   object \n",
            " 1   Active Power(MW)     4409 non-null   float64\n",
            " 2   Wind Speed (m/s)     4409 non-null   float64\n",
            " 3   Wind Direction(deg)  4409 non-null   float64\n",
            "dtypes: float64(3), object(1)\n",
            "memory usage: 137.9+ KB\n"
          ]
        }
      ]
    },
    {
      "cell_type": "code",
      "metadata": {
        "id": "qSZeAn03-ojU"
      },
      "source": [
        "df['Date & Time'] = pd.to_datetime(df['Date & Time'], format=\"%m/%d/%Y %H:%M\")"
      ],
      "execution_count": null,
      "outputs": []
    },
    {
      "cell_type": "code",
      "metadata": {
        "colab": {
          "base_uri": "https://localhost:8080/",
          "height": 549
        },
        "id": "nWsmaTxS-y2B",
        "outputId": "ad54f518-2a4c-4bd5-d2ed-0007ee7f1550"
      },
      "source": [
        "df.set_index('Date & Time')[['Active Power(MW)','Wind Speed (m/s)','Wind Direction(deg)']].plot(subplots=True)"
      ],
      "execution_count": null,
      "outputs": [
        {
          "output_type": "execute_result",
          "data": {
            "text/plain": [
              "array([<matplotlib.axes._subplots.AxesSubplot object at 0x7f6a6806b610>,\n",
              "       <matplotlib.axes._subplots.AxesSubplot object at 0x7f6a6bbb7650>,\n",
              "       <matplotlib.axes._subplots.AxesSubplot object at 0x7f6a6bbc0ed0>],\n",
              "      dtype=object)"
            ]
          },
          "metadata": {},
          "execution_count": 141
        },
        {
          "output_type": "display_data",
          "data": {
            "image/png": "[encoded data removed]",
            "text/plain": [
              "<Figure size 720x576 with 3 Axes>"
            ]
          },
          "metadata": {
            "needs_background": "light"
          }
        }
      ]
    },
    {
      "cell_type": "code",
      "metadata": {
        "colab": {
          "base_uri": "https://localhost:8080/",
          "height": 419
        },
        "id": "qCfcsbUVNzZm",
        "outputId": "0fcd28b5-3b7a-4258-e259-8a01d1a821ba"
      },
      "source": [
        "df_input=df[['Active Power(MW)','Wind Speed (m/s)','Wind Direction(deg)']]\n",
        "df_input"
      ],
      "execution_count": null,
      "outputs": [
        {
          "output_type": "execute_result",
          "data": {
            "text/html": [
              "<div>\n",
              "<style scoped>\n",
              "    .dataframe tbody tr th:only-of-type {\n",
              "        vertical-align: middle;\n",
              "    }\n",
              "\n",
              "    .dataframe tbody tr th {\n",
              "        vertical-align: top;\n",
              "    }\n",
              "\n",
              "    .dataframe thead th {\n",
              "        text-align: right;\n",
              "    }\n",
              "</style>\n",
              "<table border=\"1\" class=\"dataframe\">\n",
              "  <thead>\n",
              "    <tr style=\"text-align: right;\">\n",
              "      <th></th>\n",
              "      <th>Active Power(MW)</th>\n",
              "      <th>Wind Speed (m/s)</th>\n",
              "      <th>Wind Direction(deg)</th>\n",
              "    </tr>\n",
              "  </thead>\n",
              "  <tbody>\n",
              "    <tr>\n",
              "      <th>0</th>\n",
              "      <td>95.84</td>\n",
              "      <td>10.66</td>\n",
              "      <td>186.92</td>\n",
              "    </tr>\n",
              "    <tr>\n",
              "      <th>1</th>\n",
              "      <td>96.03</td>\n",
              "      <td>10.71</td>\n",
              "      <td>188.15</td>\n",
              "    </tr>\n",
              "    <tr>\n",
              "      <th>2</th>\n",
              "      <td>93.72</td>\n",
              "      <td>10.53</td>\n",
              "      <td>188.78</td>\n",
              "    </tr>\n",
              "    <tr>\n",
              "      <th>3</th>\n",
              "      <td>88.84</td>\n",
              "      <td>10.20</td>\n",
              "      <td>189.80</td>\n",
              "    </tr>\n",
              "    <tr>\n",
              "      <th>4</th>\n",
              "      <td>90.97</td>\n",
              "      <td>10.34</td>\n",
              "      <td>193.00</td>\n",
              "    </tr>\n",
              "    <tr>\n",
              "      <th>...</th>\n",
              "      <td>...</td>\n",
              "      <td>...</td>\n",
              "      <td>...</td>\n",
              "    </tr>\n",
              "    <tr>\n",
              "      <th>4404</th>\n",
              "      <td>100.45</td>\n",
              "      <td>11.62</td>\n",
              "      <td>195.08</td>\n",
              "    </tr>\n",
              "    <tr>\n",
              "      <th>4405</th>\n",
              "      <td>98.01</td>\n",
              "      <td>11.16</td>\n",
              "      <td>196.36</td>\n",
              "    </tr>\n",
              "    <tr>\n",
              "      <th>4406</th>\n",
              "      <td>93.11</td>\n",
              "      <td>10.66</td>\n",
              "      <td>198.02</td>\n",
              "    </tr>\n",
              "    <tr>\n",
              "      <th>4407</th>\n",
              "      <td>93.68</td>\n",
              "      <td>10.90</td>\n",
              "      <td>196.96</td>\n",
              "    </tr>\n",
              "    <tr>\n",
              "      <th>4408</th>\n",
              "      <td>93.77</td>\n",
              "      <td>10.95</td>\n",
              "      <td>197.68</td>\n",
              "    </tr>\n",
              "  </tbody>\n",
              "</table>\n",
              "<p>4409 rows × 3 columns</p>\n",
              "</div>"
            ],
            "text/plain": [
              "      Active Power(MW)  Wind Speed (m/s)  Wind Direction(deg)\n",
              "0                95.84             10.66               186.92\n",
              "1                96.03             10.71               188.15\n",
              "2                93.72             10.53               188.78\n",
              "3                88.84             10.20               189.80\n",
              "4                90.97             10.34               193.00\n",
              "...                ...               ...                  ...\n",
              "4404            100.45             11.62               195.08\n",
              "4405             98.01             11.16               196.36\n",
              "4406             93.11             10.66               198.02\n",
              "4407             93.68             10.90               196.96\n",
              "4408             93.77             10.95               197.68\n",
              "\n",
              "[4409 rows x 3 columns]"
            ]
          },
          "metadata": {},
          "execution_count": 142
        }
      ]
    },
    {
      "cell_type": "code",
      "metadata": {
        "colab": {
          "base_uri": "https://localhost:8080/",
          "height": 297
        },
        "id": "tcTT5z8XPGH0",
        "outputId": "922e1ae2-a22e-494b-932d-908625a5ead1"
      },
      "source": [
        "df_input.describe()"
      ],
      "execution_count": null,
      "outputs": [
        {
          "output_type": "execute_result",
          "data": {
            "text/html": [
              "<div>\n",
              "<style scoped>\n",
              "    .dataframe tbody tr th:only-of-type {\n",
              "        vertical-align: middle;\n",
              "    }\n",
              "\n",
              "    .dataframe tbody tr th {\n",
              "        vertical-align: top;\n",
              "    }\n",
              "\n",
              "    .dataframe thead th {\n",
              "        text-align: right;\n",
              "    }\n",
              "</style>\n",
              "<table border=\"1\" class=\"dataframe\">\n",
              "  <thead>\n",
              "    <tr style=\"text-align: right;\">\n",
              "      <th></th>\n",
              "      <th>Active Power(MW)</th>\n",
              "      <th>Wind Speed (m/s)</th>\n",
              "      <th>Wind Direction(deg)</th>\n",
              "    </tr>\n",
              "  </thead>\n",
              "  <tbody>\n",
              "    <tr>\n",
              "      <th>count</th>\n",
              "      <td>4409.000000</td>\n",
              "      <td>4409.000000</td>\n",
              "      <td>4409.000000</td>\n",
              "    </tr>\n",
              "    <tr>\n",
              "      <th>mean</th>\n",
              "      <td>72.599642</td>\n",
              "      <td>9.954030</td>\n",
              "      <td>197.371971</td>\n",
              "    </tr>\n",
              "    <tr>\n",
              "      <th>std</th>\n",
              "      <td>31.062804</td>\n",
              "      <td>2.587067</td>\n",
              "      <td>14.207014</td>\n",
              "    </tr>\n",
              "    <tr>\n",
              "      <th>min</th>\n",
              "      <td>-0.760000</td>\n",
              "      <td>1.810000</td>\n",
              "      <td>130.840000</td>\n",
              "    </tr>\n",
              "    <tr>\n",
              "      <th>25%</th>\n",
              "      <td>48.450000</td>\n",
              "      <td>8.220000</td>\n",
              "      <td>189.000000</td>\n",
              "    </tr>\n",
              "    <tr>\n",
              "      <th>50%</th>\n",
              "      <td>84.460000</td>\n",
              "      <td>10.060000</td>\n",
              "      <td>194.740000</td>\n",
              "    </tr>\n",
              "    <tr>\n",
              "      <th>75%</th>\n",
              "      <td>100.990000</td>\n",
              "      <td>11.880000</td>\n",
              "      <td>203.610000</td>\n",
              "    </tr>\n",
              "    <tr>\n",
              "      <th>max</th>\n",
              "      <td>103.420000</td>\n",
              "      <td>16.450000</td>\n",
              "      <td>311.140000</td>\n",
              "    </tr>\n",
              "  </tbody>\n",
              "</table>\n",
              "</div>"
            ],
            "text/plain": [
              "       Active Power(MW)  Wind Speed (m/s)  Wind Direction(deg)\n",
              "count       4409.000000       4409.000000          4409.000000\n",
              "mean          72.599642          9.954030           197.371971\n",
              "std           31.062804          2.587067            14.207014\n",
              "min           -0.760000          1.810000           130.840000\n",
              "25%           48.450000          8.220000           189.000000\n",
              "50%           84.460000         10.060000           194.740000\n",
              "75%          100.990000         11.880000           203.610000\n",
              "max          103.420000         16.450000           311.140000"
            ]
          },
          "metadata": {},
          "execution_count": 143
        }
      ]
    },
    {
      "cell_type": "code",
      "metadata": {
        "id": "MQH4mH8eObUG"
      },
      "source": [
        "scaler=MinMaxScaler()\n",
        "data_scaled=scaler.fit_transform(df_input)"
      ],
      "execution_count": null,
      "outputs": []
    },
    {
      "cell_type": "code",
      "metadata": {
        "colab": {
          "base_uri": "https://localhost:8080/"
        },
        "id": "R8eWUG0oPRWM",
        "outputId": "8fd39e6e-c8ed-4a5c-9417-5c23cad0a7e9"
      },
      "source": [
        "data_scaled"
      ],
      "execution_count": null,
      "outputs": [
        {
          "output_type": "execute_result",
          "data": {
            "text/plain": [
              "array([[0.92724131, 0.6045082 , 0.31103716],\n",
              "       [0.92906508, 0.6079235 , 0.31785912],\n",
              "       [0.90689192, 0.59562842, 0.3213533 ],\n",
              "       ...,\n",
              "       [0.90103667, 0.6045082 , 0.37260122],\n",
              "       [0.90650797, 0.62090164, 0.36672213],\n",
              "       [0.90737186, 0.62431694, 0.37071547]])"
            ]
          },
          "metadata": {},
          "execution_count": 145
        }
      ]
    },
    {
      "cell_type": "code",
      "metadata": {
        "id": "m4sb25YwPxrM"
      },
      "source": [
        "features=data_scaled\n",
        "target=data_scaled[:,0]\n",
        "#target"
      ],
      "execution_count": null,
      "outputs": []
    },
    {
      "cell_type": "code",
      "metadata": {
        "colab": {
          "base_uri": "https://localhost:8080/"
        },
        "id": "Vl0oRULjRMv9",
        "outputId": "e4804cb4-62ae-4311-d3e1-c00678d3e28d"
      },
      "source": [
        "TimeseriesGenerator(features,target,length=5,sampling_rate=1,batch_size=1)[0]"
      ],
      "execution_count": null,
      "outputs": [
        {
          "output_type": "execute_result",
          "data": {
            "text/plain": [
              "(array([[[0.92724131, 0.6045082 , 0.31103716],\n",
              "         [0.92906508, 0.6079235 , 0.31785912],\n",
              "         [0.90689192, 0.59562842, 0.3213533 ],\n",
              "         [0.86004991, 0.57308743, 0.32701054],\n",
              "         [0.8804953 , 0.58265027, 0.34475874]]]), array([0.89969284]))"
            ]
          },
          "metadata": {},
          "execution_count": 147
        }
      ]
    },
    {
      "cell_type": "code",
      "metadata": {
        "id": "EkB_l2N5R3HM"
      },
      "source": [
        "x_train,x_test,y_train,y_test = train_test_split(features,target,test_size=0.20,random_state=123,shuffle=False)"
      ],
      "execution_count": null,
      "outputs": []
    },
    {
      "cell_type": "code",
      "metadata": {
        "colab": {
          "base_uri": "https://localhost:8080/"
        },
        "id": "qnptVyQxSXF7",
        "outputId": "ff7f0f0c-c78a-4e90-8cee-302aa33d388f"
      },
      "source": [
        "x_train.shape"
      ],
      "execution_count": null,
      "outputs": [
        {
          "output_type": "execute_result",
          "data": {
            "text/plain": [
              "(3527, 3)"
            ]
          },
          "metadata": {},
          "execution_count": 149
        }
      ]
    },
    {
      "cell_type": "code",
      "metadata": {
        "colab": {
          "base_uri": "https://localhost:8080/"
        },
        "id": "w7c6T-PISblD",
        "outputId": "6b3b60be-302a-4f98-cb60-4225e4a28405"
      },
      "source": [
        "x_test.shape"
      ],
      "execution_count": null,
      "outputs": [
        {
          "output_type": "execute_result",
          "data": {
            "text/plain": [
              "(882, 3)"
            ]
          },
          "metadata": {},
          "execution_count": 150
        }
      ]
    },
    {
      "cell_type": "code",
      "metadata": {
        "id": "8P_KXQuvS66r"
      },
      "source": [
        "win_length=18\n",
        "batch_size=32\n",
        "num_feature=3\n",
        "train_generator = TimeseriesGenerator(x_train,y_train,length=win_length,sampling_rate=1,batch_size=batch_size)\n",
        "test_generator = TimeseriesGenerator(x_test,y_test,length=win_length,sampling_rate=1,batch_size=batch_size)"
      ],
      "execution_count": null,
      "outputs": []
    },
    {
      "cell_type": "code",
      "metadata": {
        "colab": {
          "base_uri": "https://localhost:8080/"
        },
        "id": "AxSNiZnhaNEg",
        "outputId": "c3b3436d-b66c-4bc6-b03f-606b2f1346f2"
      },
      "source": [
        "train_generator[0]"
      ],
      "execution_count": null,
      "outputs": [
        {
          "output_type": "execute_result",
          "data": {
            "text/plain": [
              "(array([[[0.92724131, 0.6045082 , 0.31103716],\n",
              "         [0.92906508, 0.6079235 , 0.31785912],\n",
              "         [0.90689192, 0.59562842, 0.3213533 ],\n",
              "         ...,\n",
              "         [0.96928393, 0.65505464, 0.35357737],\n",
              "         [0.93069687, 0.62978142, 0.36051026],\n",
              "         [0.89489345, 0.60997268, 0.30332779]],\n",
              " \n",
              "        [[0.92906508, 0.6079235 , 0.31785912],\n",
              "         [0.90689192, 0.59562842, 0.3213533 ],\n",
              "         [0.86004991, 0.57308743, 0.32701054],\n",
              "         ...,\n",
              "         [0.93069687, 0.62978142, 0.36051026],\n",
              "         [0.89489345, 0.60997268, 0.30332779],\n",
              "         [0.89162987, 0.60177596, 0.36589018]],\n",
              " \n",
              "        [[0.90689192, 0.59562842, 0.3213533 ],\n",
              "         [0.86004991, 0.57308743, 0.32701054],\n",
              "         [0.8804953 , 0.58265027, 0.34475874],\n",
              "         ...,\n",
              "         [0.89489345, 0.60997268, 0.30332779],\n",
              "         [0.89162987, 0.60177596, 0.36589018],\n",
              "         [0.87176041, 0.59016393, 0.37287854]],\n",
              " \n",
              "        ...,\n",
              " \n",
              "        [[0.7117489 , 0.5273224 , 0.33133666],\n",
              "         [0.64484546, 0.5034153 , 0.32745424],\n",
              "         [0.62747168, 0.49521858, 0.33033833],\n",
              "         ...,\n",
              "         [0.35198695, 0.3852459 , 0.3363838 ],\n",
              "         [0.37867153, 0.40027322, 0.3228508 ],\n",
              "         [0.36465732, 0.39071038, 0.31541875]],\n",
              " \n",
              "        [[0.64484546, 0.5034153 , 0.32745424],\n",
              "         [0.62747168, 0.49521858, 0.33033833],\n",
              "         [0.66577078, 0.51161202, 0.33061564],\n",
              "         ...,\n",
              "         [0.37867153, 0.40027322, 0.3228508 ],\n",
              "         [0.36465732, 0.39071038, 0.31541875],\n",
              "         [0.33346132, 0.37773224, 0.31674986]],\n",
              " \n",
              "        [[0.62747168, 0.49521858, 0.33033833],\n",
              "         [0.66577078, 0.51161202, 0.33061564],\n",
              "         [0.68564024, 0.51844262, 0.31153633],\n",
              "         ...,\n",
              "         [0.36465732, 0.39071038, 0.31541875],\n",
              "         [0.33346132, 0.37773224, 0.31674986],\n",
              "         [0.37550394, 0.39275956, 0.31791459]]]),\n",
              " array([0.89162987, 0.87176041, 0.85198695, 0.81675945, 0.78690728,\n",
              "        0.72797082, 0.69447111, 0.7085813 , 0.72038779, 0.73363409,\n",
              "        0.72000384, 0.7117489 , 0.64484546, 0.62747168, 0.66577078,\n",
              "        0.68564024, 0.65645997, 0.61220964, 0.59857938, 0.59723555,\n",
              "        0.58139758, 0.5773661 , 0.52610866, 0.45757343, 0.38759839,\n",
              "        0.36206566, 0.35198695, 0.37867153, 0.36465732, 0.33346132,\n",
              "        0.37550394, 0.38174314]))"
            ]
          },
          "metadata": {},
          "execution_count": 152
        }
      ]
    },
    {
      "cell_type": "code",
      "metadata": {
        "id": "k4WSJPfHao_A"
      },
      "source": [
        "model=tf.keras.Sequential()\n",
        "model.add(tf.keras.layers.LSTM(128,input_shape=(win_length,num_feature),return_sequences=True))\n",
        "model.add(tf.keras.layers.LeakyReLU(alpha=0.5))\n",
        "model.add(tf.keras.layers.LSTM(64,return_sequences=True))\n",
        "model.add(tf.keras.layers.LeakyReLU(alpha=0.5))\n",
        "model.add(tf.keras.layers.Dropout(0.1))\n",
        "model.add(tf.keras.layers.LSTM(32,return_sequences=True))\n",
        "model.add(tf.keras.layers.LeakyReLU(alpha=0.5))\n",
        "model.add(tf.keras.layers.Dropout(0.1))\n",
        "model.add(tf.keras.layers.LSTM(32,return_sequences=False))\n",
        "model.add(tf.keras.layers.Dropout(0.1))\n",
        "model.add(tf.keras.layers.Dense(1))"
      ],
      "execution_count": null,
      "outputs": []
    },
    {
      "cell_type": "code",
      "metadata": {
        "colab": {
          "base_uri": "https://localhost:8080/"
        },
        "id": "YKAafjXPb3zn",
        "outputId": "bf70b83a-eeb1-4c8c-fe3f-7758d0a8845b"
      },
      "source": [
        "model.summary()"
      ],
      "execution_count": null,
      "outputs": [
        {
          "output_type": "stream",
          "name": "stdout",
          "text": [
            "Model: \"sequential_5\"\n",
            "_________________________________________________________________\n",
            "Layer (type)                 Output Shape              Param #   \n",
            "=================================================================\n",
            "lstm_14 (LSTM)               (None, 18, 128)           67584     \n",
            "_________________________________________________________________\n",
            "leaky_re_lu_9 (LeakyReLU)    (None, 18, 128)           0         \n",
            "_________________________________________________________________\n",
            "lstm_15 (LSTM)               (None, 18, 64)            49408     \n",
            "_________________________________________________________________\n",
            "leaky_re_lu_10 (LeakyReLU)   (None, 18, 64)            0         \n",
            "_________________________________________________________________\n",
            "dropout_10 (Dropout)         (None, 18, 64)            0         \n",
            "_________________________________________________________________\n",
            "lstm_16 (LSTM)               (None, 18, 32)            12416     \n",
            "_________________________________________________________________\n",
            "leaky_re_lu_11 (LeakyReLU)   (None, 18, 32)            0         \n",
            "_________________________________________________________________\n",
            "dropout_11 (Dropout)         (None, 18, 32)            0         \n",
            "_________________________________________________________________\n",
            "lstm_17 (LSTM)               (None, 32)                8320      \n",
            "_________________________________________________________________\n",
            "dropout_12 (Dropout)         (None, 32)                0         \n",
            "_________________________________________________________________\n",
            "dense_5 (Dense)              (None, 1)                 33        \n",
            "=================================================================\n",
            "Total params: 137,761\n",
            "Trainable params: 137,761\n",
            "Non-trainable params: 0\n",
            "_________________________________________________________________\n"
          ]
        }
      ]
    },
    {
      "cell_type": "code",
      "metadata": {
        "colab": {
          "base_uri": "https://localhost:8080/"
        },
        "id": "1XZEJttucEXv",
        "outputId": "eded9a92-a1a5-47b1-cc8b-0be26e723802"
      },
      "source": [
        "early_stopping = tf.keras.callbacks.EarlyStopping(monitor=\"val_loss\",patience=2,mode=\"min\")\n",
        "model.compile(loss=tf.losses.MeanSquaredError(),optimizer=tf.optimizers.Adam(),metrics=[tf.metrics.MeanAbsoluteError()])\n",
        "history=model.fit_generator(train_generator,epochs=50,validation_data=test_generator,shuffle=False,callbacks=[early_stopping])"
      ],
      "execution_count": null,
      "outputs": [
        {
          "output_type": "stream",
          "name": "stdout",
          "text": [
            "Epoch 1/50\n"
          ]
        },
        {
          "output_type": "stream",
          "name": "stderr",
          "text": [
            "/usr/local/lib/python3.7/dist-packages/keras/engine/training.py:1972: UserWarning: `Model.fit_generator` is deprecated and will be removed in a future version. Please use `Model.fit`, which supports generators.\n",
            "  warnings.warn('`Model.fit_generator` is deprecated and '\n"
          ]
        },
        {
          "output_type": "stream",
          "name": "stdout",
          "text": [
            "110/110 [==============================] - 14s 69ms/step - loss: 0.0677 - mean_absolute_error: 0.2106 - val_loss: 0.0235 - val_mean_absolute_error: 0.1010\n",
            "Epoch 2/50\n",
            "110/110 [==============================] - 6s 54ms/step - loss: 0.0440 - mean_absolute_error: 0.1703 - val_loss: 0.0195 - val_mean_absolute_error: 0.1068\n",
            "Epoch 3/50\n",
            "110/110 [==============================] - 6s 54ms/step - loss: 0.0380 - mean_absolute_error: 0.1574 - val_loss: 0.0171 - val_mean_absolute_error: 0.0954\n",
            "Epoch 4/50\n",
            "110/110 [==============================] - 6s 54ms/step - loss: 0.0314 - mean_absolute_error: 0.1421 - val_loss: 0.0150 - val_mean_absolute_error: 0.0802\n",
            "Epoch 5/50\n",
            "110/110 [==============================] - 6s 56ms/step - loss: 0.0265 - mean_absolute_error: 0.1294 - val_loss: 0.0146 - val_mean_absolute_error: 0.0653\n",
            "Epoch 6/50\n",
            "110/110 [==============================] - 6s 55ms/step - loss: 0.0231 - mean_absolute_error: 0.1196 - val_loss: 0.0137 - val_mean_absolute_error: 0.0667\n",
            "Epoch 7/50\n",
            "110/110 [==============================] - 6s 55ms/step - loss: 0.0182 - mean_absolute_error: 0.1048 - val_loss: 0.0118 - val_mean_absolute_error: 0.0689\n",
            "Epoch 8/50\n",
            "110/110 [==============================] - 6s 58ms/step - loss: 0.0160 - mean_absolute_error: 0.0983 - val_loss: 0.0108 - val_mean_absolute_error: 0.0709\n",
            "Epoch 9/50\n",
            "110/110 [==============================] - 6s 56ms/step - loss: 0.0139 - mean_absolute_error: 0.0912 - val_loss: 0.0085 - val_mean_absolute_error: 0.0628\n",
            "Epoch 10/50\n",
            "110/110 [==============================] - 6s 55ms/step - loss: 0.0119 - mean_absolute_error: 0.0838 - val_loss: 0.0074 - val_mean_absolute_error: 0.0551\n",
            "Epoch 11/50\n",
            "110/110 [==============================] - 6s 55ms/step - loss: 0.0111 - mean_absolute_error: 0.0811 - val_loss: 0.0077 - val_mean_absolute_error: 0.0610\n",
            "Epoch 12/50\n",
            "110/110 [==============================] - 6s 57ms/step - loss: 0.0102 - mean_absolute_error: 0.0773 - val_loss: 0.0061 - val_mean_absolute_error: 0.0497\n",
            "Epoch 13/50\n",
            "110/110 [==============================] - 6s 57ms/step - loss: 0.0094 - mean_absolute_error: 0.0751 - val_loss: 0.0071 - val_mean_absolute_error: 0.0594\n",
            "Epoch 14/50\n",
            "110/110 [==============================] - 6s 56ms/step - loss: 0.0084 - mean_absolute_error: 0.0705 - val_loss: 0.0064 - val_mean_absolute_error: 0.0584\n"
          ]
        }
      ]
    },
    {
      "cell_type": "code",
      "metadata": {
        "colab": {
          "base_uri": "https://localhost:8080/"
        },
        "id": "rFci5oZ1eO6A",
        "outputId": "8b974e9e-3e1d-4464-d530-38a6d0000e1a"
      },
      "source": [
        "model.evaluate_generator(test_generator,verbose=0)"
      ],
      "execution_count": null,
      "outputs": [
        {
          "output_type": "stream",
          "name": "stderr",
          "text": [
            "/usr/local/lib/python3.7/dist-packages/keras/engine/training.py:2006: UserWarning: `Model.evaluate_generator` is deprecated and will be removed in a future version. Please use `Model.evaluate`, which supports generators.\n",
            "  warnings.warn('`Model.evaluate_generator` is deprecated and '\n"
          ]
        },
        {
          "output_type": "execute_result",
          "data": {
            "text/plain": [
              "[0.00637288112193346, 0.05841479450464249]"
            ]
          },
          "metadata": {},
          "execution_count": 156
        }
      ]
    },
    {
      "cell_type": "code",
      "metadata": {
        "colab": {
          "base_uri": "https://localhost:8080/"
        },
        "id": "bY5wCv5OkinU",
        "outputId": "0d561707-b7a9-4372-faf9-aa770038c593"
      },
      "source": [
        "plt.plot(history.history['loss'], label='Training loss')\n",
        "plt.plot(history.history['val_loss'], label='Validation loss')\n",
        "plt.legend()"
      ],
      "execution_count": null,
      "outputs": [
        {
          "output_type": "execute_result",
          "data": {
            "text/plain": [
              "<matplotlib.legend.Legend at 0x7f6a6bdcbb50>"
            ]
          },
          "metadata": {},
          "execution_count": 157
        },
        {
          "output_type": "display_data",
          "data": {
            "image/png": "[encoded data removed]",
            "text/plain": [
              "<Figure size 720x576 with 1 Axes>"
            ]
          },
          "metadata": {
            "needs_background": "light"
          }
        }
      ]
    },
    {
      "cell_type": "code",
      "metadata": {
        "colab": {
          "base_uri": "https://localhost:8080/"
        },
        "id": "IJlAZhxmenCu",
        "outputId": "e13ba419-ac95-40af-bafc-cfd4ce23c220"
      },
      "source": [
        "predictions=model.predict_generator(test_generator)"
      ],
      "execution_count": null,
      "outputs": [
        {
          "output_type": "stream",
          "name": "stderr",
          "text": [
            "/usr/local/lib/python3.7/dist-packages/keras/engine/training.py:2035: UserWarning: `Model.predict_generator` is deprecated and will be removed in a future version. Please use `Model.predict`, which supports generators.\n",
            "  warnings.warn('`Model.predict_generator` is deprecated and '\n"
          ]
        }
      ]
    },
    {
      "cell_type": "code",
      "metadata": {
        "colab": {
          "base_uri": "https://localhost:8080/"
        },
        "id": "XkGotRDgewsO",
        "outputId": "7024adf0-26eb-4772-fc15-065aee69c879"
      },
      "source": [
        "predictions.shape[0]"
      ],
      "execution_count": null,
      "outputs": [
        {
          "output_type": "execute_result",
          "data": {
            "text/plain": [
              "864"
            ]
          },
          "metadata": {},
          "execution_count": 159
        }
      ]
    },
    {
      "cell_type": "code",
      "metadata": {
        "colab": {
          "base_uri": "https://localhost:8080/"
        },
        "id": "eKGm6u2gfGju",
        "outputId": "2e248a19-3494-4f16-ce50-b37931dae415"
      },
      "source": [
        "predictions"
      ],
      "execution_count": null,
      "outputs": [
        {
          "output_type": "execute_result",
          "data": {
            "text/plain": [
              "array([[1.0187726 ],\n",
              "       [1.0194192 ],\n",
              "       [1.0212284 ],\n",
              "       [1.0233009 ],\n",
              "       [1.024328  ],\n",
              "       [1.0224254 ],\n",
              "       [1.0176831 ],\n",
              "       [1.0119543 ],\n",
              "       [1.0103253 ],\n",
              "       [1.0138906 ],\n",
              "       [1.019626  ],\n",
              "       [1.0238909 ],\n",
              "       [1.0247761 ],\n",
              "       [1.022545  ],\n",
              "       [1.0177904 ],\n",
              "       [1.0126606 ],\n",
              "       [1.0086862 ],\n",
              "       [1.0060887 ],\n",
              "       [1.0053998 ],\n",
              "       [1.0064858 ],\n",
              "       [1.0076324 ],\n",
              "       [1.0075146 ],\n",
              "       [1.0066043 ],\n",
              "       [1.00563   ],\n",
              "       [1.0061587 ],\n",
              "       [1.0092176 ],\n",
              "       [1.0131986 ],\n",
              "       [1.0164042 ],\n",
              "       [1.0179036 ],\n",
              "       [1.0185971 ],\n",
              "       [1.0203834 ],\n",
              "       [1.0221698 ],\n",
              "       [1.0205513 ],\n",
              "       [1.0158206 ],\n",
              "       [1.011859  ],\n",
              "       [1.0118595 ],\n",
              "       [1.0151178 ],\n",
              "       [1.0183383 ],\n",
              "       [1.0205363 ],\n",
              "       [1.0225748 ],\n",
              "       [1.0241485 ],\n",
              "       [1.0240598 ],\n",
              "       [1.0219839 ],\n",
              "       [1.0184896 ],\n",
              "       [1.0154928 ],\n",
              "       [1.0133444 ],\n",
              "       [1.0115087 ],\n",
              "       [1.0100422 ],\n",
              "       [1.0098839 ],\n",
              "       [1.009928  ],\n",
              "       [1.0091116 ],\n",
              "       [1.0079331 ],\n",
              "       [1.0076027 ],\n",
              "       [1.0082543 ],\n",
              "       [1.0093428 ],\n",
              "       [1.0106267 ],\n",
              "       [1.011387  ],\n",
              "       [1.0109869 ],\n",
              "       [1.0099384 ],\n",
              "       [1.0070637 ],\n",
              "       [1.0016327 ],\n",
              "       [0.9929801 ],\n",
              "       [0.9840529 ],\n",
              "       [0.97271895],\n",
              "       [0.96117175],\n",
              "       [0.95211756],\n",
              "       [0.9469969 ],\n",
              "       [0.948393  ],\n",
              "       [0.95133305],\n",
              "       [0.94940615],\n",
              "       [0.9389609 ],\n",
              "       [0.92349076],\n",
              "       [0.92145777],\n",
              "       [0.93239486],\n",
              "       [0.9474585 ],\n",
              "       [0.95861447],\n",
              "       [0.9511174 ],\n",
              "       [0.9234421 ],\n",
              "       [0.89494276],\n",
              "       [0.89498305],\n",
              "       [0.91778386],\n",
              "       [0.9520453 ],\n",
              "       [0.9854187 ],\n",
              "       [1.0074974 ],\n",
              "       [1.0158122 ],\n",
              "       [1.0112013 ],\n",
              "       [1.0014098 ],\n",
              "       [0.9924153 ],\n",
              "       [0.98835194],\n",
              "       [0.989681  ],\n",
              "       [0.99384975],\n",
              "       [0.99936044],\n",
              "       [1.0046519 ],\n",
              "       [1.0093744 ],\n",
              "       [1.0139476 ],\n",
              "       [1.0184414 ],\n",
              "       [1.0204362 ],\n",
              "       [1.0202838 ],\n",
              "       [1.0197742 ],\n",
              "       [1.021846  ],\n",
              "       [1.0283849 ],\n",
              "       [1.03682   ],\n",
              "       [1.0436695 ],\n",
              "       [1.0472935 ],\n",
              "       [1.046865  ],\n",
              "       [1.0430553 ],\n",
              "       [1.0379273 ],\n",
              "       [1.0339029 ],\n",
              "       [1.0322725 ],\n",
              "       [1.0324706 ],\n",
              "       [1.0344049 ],\n",
              "       [1.0371484 ],\n",
              "       [1.0405707 ],\n",
              "       [1.0446346 ],\n",
              "       [1.0494627 ],\n",
              "       [1.0544639 ],\n",
              "       [1.0588374 ],\n",
              "       [1.0620493 ],\n",
              "       [1.0633762 ],\n",
              "       [1.0629706 ],\n",
              "       [1.0615382 ],\n",
              "       [1.0583929 ],\n",
              "       [1.0524741 ],\n",
              "       [1.0456693 ],\n",
              "       [1.0410743 ],\n",
              "       [1.0425638 ],\n",
              "       [1.0489302 ],\n",
              "       [1.0568426 ],\n",
              "       [1.0618991 ],\n",
              "       [1.0616169 ],\n",
              "       [1.0568819 ],\n",
              "       [1.0510005 ],\n",
              "       [1.0456588 ],\n",
              "       [1.0420078 ],\n",
              "       [1.0400145 ],\n",
              "       [1.0387231 ],\n",
              "       [1.0372462 ],\n",
              "       [1.0355971 ],\n",
              "       [1.0348314 ],\n",
              "       [1.0353045 ],\n",
              "       [1.0358421 ],\n",
              "       [1.0360456 ],\n",
              "       [1.0366089 ],\n",
              "       [1.0365266 ],\n",
              "       [1.0331879 ],\n",
              "       [1.0269313 ],\n",
              "       [1.0223354 ],\n",
              "       [1.0244371 ],\n",
              "       [1.0323687 ],\n",
              "       [1.0417148 ],\n",
              "       [1.0488974 ],\n",
              "       [1.0516309 ],\n",
              "       [1.0500553 ],\n",
              "       [1.0449965 ],\n",
              "       [1.0387977 ],\n",
              "       [1.0336065 ],\n",
              "       [1.0303644 ],\n",
              "       [1.0291331 ],\n",
              "       [1.029459  ],\n",
              "       [1.0299523 ],\n",
              "       [1.0294008 ],\n",
              "       [1.0277859 ],\n",
              "       [1.0249525 ],\n",
              "       [1.0222082 ],\n",
              "       [1.0203286 ],\n",
              "       [1.0184405 ],\n",
              "       [1.0134989 ],\n",
              "       [1.0056932 ],\n",
              "       [1.001279  ],\n",
              "       [1.0021564 ],\n",
              "       [1.0075074 ],\n",
              "       [1.0153315 ],\n",
              "       [1.0229826 ],\n",
              "       [1.0268203 ],\n",
              "       [1.026172  ],\n",
              "       [1.0222995 ],\n",
              "       [1.017547  ],\n",
              "       [1.0145589 ],\n",
              "       [1.0139246 ],\n",
              "       [1.0137963 ],\n",
              "       [1.0138011 ],\n",
              "       [1.0137798 ],\n",
              "       [1.0141621 ],\n",
              "       [1.0137374 ],\n",
              "       [1.0086471 ],\n",
              "       [0.99669886],\n",
              "       [0.98129165],\n",
              "       [0.96873   ],\n",
              "       [0.9635643 ],\n",
              "       [0.9640708 ],\n",
              "       [0.96822166],\n",
              "       [0.97381234],\n",
              "       [0.9820578 ],\n",
              "       [0.99160373],\n",
              "       [0.99896955],\n",
              "       [1.0030764 ],\n",
              "       [1.0041913 ],\n",
              "       [1.0023954 ],\n",
              "       [0.99522257],\n",
              "       [0.9768896 ],\n",
              "       [0.94456255],\n",
              "       [0.90867925],\n",
              "       [0.8874241 ],\n",
              "       [0.8793342 ],\n",
              "       [0.8696523 ],\n",
              "       [0.8641875 ],\n",
              "       [0.87683904],\n",
              "       [0.8999479 ],\n",
              "       [0.9295322 ],\n",
              "       [0.9580513 ],\n",
              "       [0.9795221 ],\n",
              "       [0.98883307],\n",
              "       [0.9848106 ],\n",
              "       [0.9710491 ],\n",
              "       [0.957304  ],\n",
              "       [0.9483278 ],\n",
              "       [0.9492575 ],\n",
              "       [0.96183205],\n",
              "       [0.98091793],\n",
              "       [0.9997326 ],\n",
              "       [1.0136716 ],\n",
              "       [1.0194738 ],\n",
              "       [1.0178778 ],\n",
              "       [1.0119807 ],\n",
              "       [1.004763  ],\n",
              "       [0.9991385 ],\n",
              "       [0.994876  ],\n",
              "       [0.9933857 ],\n",
              "       [0.99462533],\n",
              "       [0.9960048 ],\n",
              "       [0.99601567],\n",
              "       [0.9929731 ],\n",
              "       [0.99058604],\n",
              "       [0.9932295 ],\n",
              "       [1.0002254 ],\n",
              "       [1.0084321 ],\n",
              "       [1.0153174 ],\n",
              "       [1.0202725 ],\n",
              "       [1.0232313 ],\n",
              "       [1.0256255 ],\n",
              "       [1.0276718 ],\n",
              "       [1.0285305 ],\n",
              "       [1.0288757 ],\n",
              "       [1.0288639 ],\n",
              "       [1.0301052 ],\n",
              "       [1.0328578 ],\n",
              "       [1.0354689 ],\n",
              "       [1.0365579 ],\n",
              "       [1.0353174 ],\n",
              "       [1.0326769 ],\n",
              "       [1.0309578 ],\n",
              "       [1.0310448 ],\n",
              "       [1.0314016 ],\n",
              "       [1.0316414 ],\n",
              "       [1.0322323 ],\n",
              "       [1.0328425 ],\n",
              "       [1.0332677 ],\n",
              "       [1.0331286 ],\n",
              "       [1.0333129 ],\n",
              "       [1.0341141 ],\n",
              "       [1.0345416 ],\n",
              "       [1.0349177 ],\n",
              "       [1.0368431 ],\n",
              "       [1.0404367 ],\n",
              "       [1.0445471 ],\n",
              "       [1.0478708 ],\n",
              "       [1.049018  ],\n",
              "       [1.048178  ],\n",
              "       [1.046385  ],\n",
              "       [1.0446898 ],\n",
              "       [1.0427705 ],\n",
              "       [1.0410305 ],\n",
              "       [1.0394824 ],\n",
              "       [1.0376194 ],\n",
              "       [1.0350808 ],\n",
              "       [1.0323781 ],\n",
              "       [1.030654  ],\n",
              "       [1.0295072 ],\n",
              "       [1.0285865 ],\n",
              "       [1.02806   ],\n",
              "       [1.0273504 ],\n",
              "       [1.0269407 ],\n",
              "       [1.0263358 ],\n",
              "       [1.0248709 ],\n",
              "       [1.0219812 ],\n",
              "       [1.0176219 ],\n",
              "       [1.0125742 ],\n",
              "       [1.0086944 ],\n",
              "       [1.0076709 ],\n",
              "       [1.0084963 ],\n",
              "       [1.0103041 ],\n",
              "       [1.0123761 ],\n",
              "       [1.0135672 ],\n",
              "       [1.0143323 ],\n",
              "       [1.0139238 ],\n",
              "       [1.0121949 ],\n",
              "       [1.0087045 ],\n",
              "       [1.0045984 ],\n",
              "       [1.002144  ],\n",
              "       [1.0013067 ],\n",
              "       [1.0008851 ],\n",
              "       [1.000422  ],\n",
              "       [0.99952626],\n",
              "       [0.9968736 ],\n",
              "       [0.99131644],\n",
              "       [0.9829439 ],\n",
              "       [0.97371435],\n",
              "       [0.96756256],\n",
              "       [0.9693098 ],\n",
              "       [0.97645926],\n",
              "       [0.9835255 ],\n",
              "       [0.98844576],\n",
              "       [0.99401546],\n",
              "       [1.0007373 ],\n",
              "       [1.0080962 ],\n",
              "       [1.0142365 ],\n",
              "       [1.01569   ],\n",
              "       [1.0120779 ],\n",
              "       [1.0068506 ],\n",
              "       [1.0040174 ],\n",
              "       [1.003194  ],\n",
              "       [1.0031624 ],\n",
              "       [1.0033063 ],\n",
              "       [1.0027759 ],\n",
              "       [1.0007068 ],\n",
              "       [0.9966532 ],\n",
              "       [0.9923364 ],\n",
              "       [0.98581696],\n",
              "       [0.9721651 ],\n",
              "       [0.95345056],\n",
              "       [0.9396641 ],\n",
              "       [0.93314147],\n",
              "       [0.92859626],\n",
              "       [0.9195169 ],\n",
              "       [0.88848853],\n",
              "       [0.8324301 ],\n",
              "       [0.7675555 ],\n",
              "       [0.7071445 ],\n",
              "       [0.65811396],\n",
              "       [0.63181543],\n",
              "       [0.6305324 ],\n",
              "       [0.6421442 ],\n",
              "       [0.65117   ],\n",
              "       [0.6560087 ],\n",
              "       [0.64473736],\n",
              "       [0.6049768 ],\n",
              "       [0.5460408 ],\n",
              "       [0.48628935],\n",
              "       [0.44217908],\n",
              "       [0.42020562],\n",
              "       [0.4181346 ],\n",
              "       [0.4286448 ],\n",
              "       [0.44086555],\n",
              "       [0.4502098 ],\n",
              "       [0.45145094],\n",
              "       [0.44085613],\n",
              "       [0.4259203 ],\n",
              "       [0.41621965],\n",
              "       [0.41123787],\n",
              "       [0.41510758],\n",
              "       [0.43478635],\n",
              "       [0.46994388],\n",
              "       [0.50988543],\n",
              "       [0.54346514],\n",
              "       [0.56829095],\n",
              "       [0.59127975],\n",
              "       [0.6162379 ],\n",
              "       [0.6471019 ],\n",
              "       [0.6840031 ],\n",
              "       [0.7282846 ],\n",
              "       [0.78084517],\n",
              "       [0.8341098 ],\n",
              "       [0.8702873 ],\n",
              "       [0.875244  ],\n",
              "       [0.84373736],\n",
              "       [0.78364694],\n",
              "       [0.7204757 ],\n",
              "       [0.6781635 ],\n",
              "       [0.66907597],\n",
              "       [0.6939664 ],\n",
              "       [0.73932683],\n",
              "       [0.78938794],\n",
              "       [0.8257402 ],\n",
              "       [0.8373872 ],\n",
              "       [0.8325975 ],\n",
              "       [0.83548474],\n",
              "       [0.85979784],\n",
              "       [0.9008535 ],\n",
              "       [0.9469974 ],\n",
              "       [0.9855571 ],\n",
              "       [1.009711  ],\n",
              "       [1.0185252 ],\n",
              "       [1.0175403 ],\n",
              "       [1.0130297 ],\n",
              "       [1.0082791 ],\n",
              "       [1.0064538 ],\n",
              "       [1.0085489 ],\n",
              "       [1.0139172 ],\n",
              "       [1.0201693 ],\n",
              "       [1.0251949 ],\n",
              "       [1.0281771 ],\n",
              "       [1.0287454 ],\n",
              "       [1.028393  ],\n",
              "       [1.0283437 ],\n",
              "       [1.0301216 ],\n",
              "       [1.0333331 ],\n",
              "       [1.0360876 ],\n",
              "       [1.0353538 ],\n",
              "       [1.0314819 ],\n",
              "       [1.0271322 ],\n",
              "       [1.0238531 ],\n",
              "       [1.0221308 ],\n",
              "       [1.0216829 ],\n",
              "       [1.0241183 ],\n",
              "       [1.0286732 ],\n",
              "       [1.0324134 ],\n",
              "       [1.0344319 ],\n",
              "       [1.0349329 ],\n",
              "       [1.0351483 ],\n",
              "       [1.034256  ],\n",
              "       [1.0317905 ],\n",
              "       [1.02647   ],\n",
              "       [1.01776   ],\n",
              "       [1.0076528 ],\n",
              "       [0.99816823],\n",
              "       [0.99209356],\n",
              "       [0.9894638 ],\n",
              "       [0.98876655],\n",
              "       [0.9884436 ],\n",
              "       [0.9866549 ],\n",
              "       [0.97979116],\n",
              "       [0.9737339 ],\n",
              "       [0.97029436],\n",
              "       [0.9732635 ],\n",
              "       [0.9837419 ],\n",
              "       [0.9988885 ],\n",
              "       [1.0122685 ],\n",
              "       [1.0199815 ],\n",
              "       [1.0208822 ],\n",
              "       [1.0169849 ],\n",
              "       [1.0113077 ],\n",
              "       [1.0071675 ],\n",
              "       [1.006313  ],\n",
              "       [1.0083673 ],\n",
              "       [1.0115725 ],\n",
              "       [1.0148425 ],\n",
              "       [1.0177387 ],\n",
              "       [1.0197437 ],\n",
              "       [1.0209951 ],\n",
              "       [1.0212682 ],\n",
              "       [1.0200392 ],\n",
              "       [1.017048  ],\n",
              "       [1.0112412 ],\n",
              "       [1.0021713 ],\n",
              "       [0.990615  ],\n",
              "       [0.98063517],\n",
              "       [0.9725497 ],\n",
              "       [0.96613896],\n",
              "       [0.9597089 ],\n",
              "       [0.95588195],\n",
              "       [0.9598321 ],\n",
              "       [0.96766734],\n",
              "       [0.974864  ],\n",
              "       [0.9800215 ],\n",
              "       [0.98260665],\n",
              "       [0.98230755],\n",
              "       [0.98077905],\n",
              "       [0.9809412 ],\n",
              "       [0.98352873],\n",
              "       [0.98726463],\n",
              "       [0.9885057 ],\n",
              "       [0.98132837],\n",
              "       [0.9682056 ],\n",
              "       [0.9588536 ],\n",
              "       [0.9594612 ],\n",
              "       [0.96305335],\n",
              "       [0.96433246],\n",
              "       [0.9688113 ],\n",
              "       [0.97589815],\n",
              "       [0.98468983],\n",
              "       [0.993752  ],\n",
              "       [0.9976597 ],\n",
              "       [0.99693537],\n",
              "       [0.9946649 ],\n",
              "       [0.99335   ],\n",
              "       [0.9932574 ],\n",
              "       [0.9936595 ],\n",
              "       [0.99150705],\n",
              "       [0.9783336 ],\n",
              "       [0.95427036],\n",
              "       [0.92948353],\n",
              "       [0.91852236],\n",
              "       [0.9188794 ],\n",
              "       [0.9136305 ],\n",
              "       [0.9004171 ],\n",
              "       [0.90047884],\n",
              "       [0.91829956],\n",
              "       [0.9464426 ],\n",
              "       [0.9735924 ],\n",
              "       [0.9912189 ],\n",
              "       [0.99687636],\n",
              "       [0.99582696],\n",
              "       [0.99047863],\n",
              "       [0.98621523],\n",
              "       [0.9856149 ],\n",
              "       [0.98868334],\n",
              "       [0.99291587],\n",
              "       [0.9960785 ],\n",
              "       [0.99679244],\n",
              "       [0.99603176],\n",
              "       [0.99404585],\n",
              "       [0.99309397],\n",
              "       [0.9955199 ],\n",
              "       [0.9999049 ],\n",
              "       [1.0030934 ],\n",
              "       [1.004221  ],\n",
              "       [1.0040344 ],\n",
              "       [1.0036929 ],\n",
              "       [1.0043662 ],\n",
              "       [1.0048538 ],\n",
              "       [1.0022488 ],\n",
              "       [0.9933238 ],\n",
              "       [0.9771335 ],\n",
              "       [0.96487164],\n",
              "       [0.9669862 ],\n",
              "       [0.9800135 ],\n",
              "       [0.994352  ],\n",
              "       [1.0027037 ],\n",
              "       [1.00557   ],\n",
              "       [1.0066592 ],\n",
              "       [1.008654  ],\n",
              "       [1.010529  ],\n",
              "       [1.009328  ],\n",
              "       [1.0048969 ],\n",
              "       [1.0001019 ],\n",
              "       [0.9990933 ],\n",
              "       [1.0020801 ],\n",
              "       [1.006563  ],\n",
              "       [1.0110254 ],\n",
              "       [1.0148509 ],\n",
              "       [1.0176631 ],\n",
              "       [1.0181447 ],\n",
              "       [1.0143942 ],\n",
              "       [1.0053775 ],\n",
              "       [0.99714744],\n",
              "       [0.9936892 ],\n",
              "       [0.995842  ],\n",
              "       [1.001637  ],\n",
              "       [1.0091562 ],\n",
              "       [1.0153124 ],\n",
              "       [1.0182334 ],\n",
              "       [1.0188895 ],\n",
              "       [1.0190427 ],\n",
              "       [1.0212415 ],\n",
              "       [1.0248411 ],\n",
              "       [1.0275372 ],\n",
              "       [1.0303743 ],\n",
              "       [1.034346  ],\n",
              "       [1.0372684 ],\n",
              "       [1.0383652 ],\n",
              "       [1.0380769 ],\n",
              "       [1.0378028 ],\n",
              "       [1.0383834 ],\n",
              "       [1.0408059 ],\n",
              "       [1.043087  ],\n",
              "       [1.0444337 ],\n",
              "       [1.044666  ],\n",
              "       [1.0429839 ],\n",
              "       [1.0390512 ],\n",
              "       [1.0327338 ],\n",
              "       [1.0225549 ],\n",
              "       [1.0106819 ],\n",
              "       [1.0019603 ],\n",
              "       [0.99772274],\n",
              "       [0.99669015],\n",
              "       [0.9958029 ],\n",
              "       [0.99114156],\n",
              "       [0.9879402 ],\n",
              "       [0.98920774],\n",
              "       [0.9902421 ],\n",
              "       [0.9834771 ],\n",
              "       [0.97660816],\n",
              "       [0.9792682 ],\n",
              "       [0.987545  ],\n",
              "       [0.9935088 ],\n",
              "       [0.99379325],\n",
              "       [0.9870665 ],\n",
              "       [0.97466385],\n",
              "       [0.96653736],\n",
              "       [0.96873856],\n",
              "       [0.97469616],\n",
              "       [0.97427523],\n",
              "       [0.96922386],\n",
              "       [0.9647002 ],\n",
              "       [0.9661616 ],\n",
              "       [0.9722129 ],\n",
              "       [0.9764248 ],\n",
              "       [0.97509634],\n",
              "       [0.96041167],\n",
              "       [0.9192543 ],\n",
              "       [0.8492671 ],\n",
              "       [0.760875  ],\n",
              "       [0.66258633],\n",
              "       [0.57733333],\n",
              "       [0.528512  ],\n",
              "       [0.5407089 ],\n",
              "       [0.61748505],\n",
              "       [0.7184541 ],\n",
              "       [0.810153  ],\n",
              "       [0.86503637],\n",
              "       [0.87722087],\n",
              "       [0.8541361 ],\n",
              "       [0.802186  ],\n",
              "       [0.74002373],\n",
              "       [0.68971336],\n",
              "       [0.64665616],\n",
              "       [0.6042719 ],\n",
              "       [0.58463645],\n",
              "       [0.60597396],\n",
              "       [0.6559211 ],\n",
              "       [0.7030989 ],\n",
              "       [0.7206819 ],\n",
              "       [0.70044494],\n",
              "       [0.65865433],\n",
              "       [0.6146195 ],\n",
              "       [0.57890224],\n",
              "       [0.54399014],\n",
              "       [0.50022066],\n",
              "       [0.44632152],\n",
              "       [0.39704183],\n",
              "       [0.36575833],\n",
              "       [0.36506987],\n",
              "       [0.3979886 ],\n",
              "       [0.44626138],\n",
              "       [0.48960266],\n",
              "       [0.5132446 ],\n",
              "       [0.51545084],\n",
              "       [0.5098792 ],\n",
              "       [0.5133305 ],\n",
              "       [0.5243211 ],\n",
              "       [0.5358671 ],\n",
              "       [0.53842664],\n",
              "       [0.5349351 ],\n",
              "       [0.5292989 ],\n",
              "       [0.5354059 ],\n",
              "       [0.5558082 ],\n",
              "       [0.5850979 ],\n",
              "       [0.6158142 ],\n",
              "       [0.63782644],\n",
              "       [0.65363455],\n",
              "       [0.6684288 ],\n",
              "       [0.67433643],\n",
              "       [0.6689495 ],\n",
              "       [0.6455147 ],\n",
              "       [0.6076747 ],\n",
              "       [0.5634353 ],\n",
              "       [0.52603966],\n",
              "       [0.517748  ],\n",
              "       [0.54503363],\n",
              "       [0.6038506 ],\n",
              "       [0.6860628 ],\n",
              "       [0.7834257 ],\n",
              "       [0.87187016],\n",
              "       [0.9314406 ],\n",
              "       [0.95586026],\n",
              "       [0.9439094 ],\n",
              "       [0.89829314],\n",
              "       [0.82659054],\n",
              "       [0.75385916],\n",
              "       [0.7094712 ],\n",
              "       [0.714152  ],\n",
              "       [0.75859356],\n",
              "       [0.81578267],\n",
              "       [0.8695383 ],\n",
              "       [0.9040575 ],\n",
              "       [0.9113064 ],\n",
              "       [0.9048085 ],\n",
              "       [0.9107555 ],\n",
              "       [0.9318782 ],\n",
              "       [0.95963407],\n",
              "       [0.9849479 ],\n",
              "       [0.99895906],\n",
              "       [0.99950576],\n",
              "       [0.9930277 ],\n",
              "       [0.9880512 ],\n",
              "       [0.98390687],\n",
              "       [0.9768709 ],\n",
              "       [0.96502936],\n",
              "       [0.9456582 ],\n",
              "       [0.9287987 ],\n",
              "       [0.92892694],\n",
              "       [0.9444308 ],\n",
              "       [0.9682225 ],\n",
              "       [0.98839104],\n",
              "       [0.99681044],\n",
              "       [0.9955635 ],\n",
              "       [0.9855256 ],\n",
              "       [0.97033703],\n",
              "       [0.95510185],\n",
              "       [0.9435357 ],\n",
              "       [0.93712425],\n",
              "       [0.93246007],\n",
              "       [0.9242065 ],\n",
              "       [0.90578187],\n",
              "       [0.8704351 ],\n",
              "       [0.8036996 ],\n",
              "       [0.72587967],\n",
              "       [0.6629325 ],\n",
              "       [0.62584746],\n",
              "       [0.60973036],\n",
              "       [0.60380745],\n",
              "       [0.60177994],\n",
              "       [0.60160065],\n",
              "       [0.59920454],\n",
              "       [0.59145105],\n",
              "       [0.5776192 ],\n",
              "       [0.55970526],\n",
              "       [0.53573275],\n",
              "       [0.5039969 ],\n",
              "       [0.4715968 ],\n",
              "       [0.4496512 ],\n",
              "       [0.44552487],\n",
              "       [0.45825726],\n",
              "       [0.48606452],\n",
              "       [0.5188229 ],\n",
              "       [0.5500054 ],\n",
              "       [0.5760454 ],\n",
              "       [0.60734177],\n",
              "       [0.65046525],\n",
              "       [0.69597054],\n",
              "       [0.7333739 ],\n",
              "       [0.75078285],\n",
              "       [0.7377912 ],\n",
              "       [0.692654  ],\n",
              "       [0.6414857 ],\n",
              "       [0.6018908 ],\n",
              "       [0.5796092 ],\n",
              "       [0.58420277],\n",
              "       [0.6173675 ],\n",
              "       [0.66387963],\n",
              "       [0.70911694],\n",
              "       [0.7486645 ],\n",
              "       [0.7765336 ],\n",
              "       [0.7879716 ],\n",
              "       [0.7856394 ],\n",
              "       [0.776199  ],\n",
              "       [0.7630333 ],\n",
              "       [0.75943685],\n",
              "       [0.77820015],\n",
              "       [0.80838764],\n",
              "       [0.8402356 ],\n",
              "       [0.85832036],\n",
              "       [0.8482369 ],\n",
              "       [0.8107624 ],\n",
              "       [0.75408137],\n",
              "       [0.6904669 ],\n",
              "       [0.6311928 ],\n",
              "       [0.5877831 ],\n",
              "       [0.56768864],\n",
              "       [0.56903315],\n",
              "       [0.5798918 ],\n",
              "       [0.58712685],\n",
              "       [0.5883788 ],\n",
              "       [0.59310603],\n",
              "       [0.6081567 ],\n",
              "       [0.63116884],\n",
              "       [0.6613097 ],\n",
              "       [0.69902015],\n",
              "       [0.7361208 ],\n",
              "       [0.762274  ],\n",
              "       [0.77342415],\n",
              "       [0.76821446],\n",
              "       [0.74556184],\n",
              "       [0.71343255],\n",
              "       [0.68733084],\n",
              "       [0.67810297],\n",
              "       [0.69006026],\n",
              "       [0.7198056 ],\n",
              "       [0.75931215],\n",
              "       [0.8004639 ],\n",
              "       [0.8362309 ],\n",
              "       [0.86713934],\n",
              "       [0.88992226],\n",
              "       [0.89262474],\n",
              "       [0.8833685 ],\n",
              "       [0.87043035],\n",
              "       [0.8573699 ],\n",
              "       [0.8481804 ],\n",
              "       [0.8442396 ],\n",
              "       [0.8501251 ],\n",
              "       [0.86596763],\n",
              "       [0.8878094 ],\n",
              "       [0.90956557],\n",
              "       [0.9213618 ],\n",
              "       [0.9197171 ],\n",
              "       [0.90805066],\n",
              "       [0.8879596 ],\n",
              "       [0.86040413],\n",
              "       [0.82468295],\n",
              "       [0.78816223],\n",
              "       [0.7626643 ],\n",
              "       [0.7531152 ],\n",
              "       [0.75723886],\n",
              "       [0.76928866],\n",
              "       [0.78342867],\n",
              "       [0.79509354],\n",
              "       [0.8008754 ],\n",
              "       [0.7969365 ],\n",
              "       [0.7849144 ],\n",
              "       [0.76740825],\n",
              "       [0.7493044 ],\n",
              "       [0.7548244 ],\n",
              "       [0.78981054],\n",
              "       [0.84007585],\n",
              "       [0.89601827],\n",
              "       [0.94438946],\n",
              "       [0.9798118 ],\n",
              "       [1.0010325 ],\n",
              "       [1.0100622 ],\n",
              "       [1.0126654 ],\n",
              "       [1.0127037 ],\n",
              "       [1.0090021 ],\n",
              "       [1.0024905 ],\n",
              "       [0.9965364 ],\n",
              "       [0.99469376],\n",
              "       [0.9954356 ],\n",
              "       [1.0009385 ],\n",
              "       [1.0080621 ],\n",
              "       [1.0139507 ],\n",
              "       [1.0179758 ],\n",
              "       [1.0221157 ],\n",
              "       [1.0240189 ],\n",
              "       [1.0253546 ],\n",
              "       [1.0259715 ],\n",
              "       [1.0244961 ],\n",
              "       [1.0213882 ],\n",
              "       [1.0205137 ],\n",
              "       [1.0221685 ],\n",
              "       [1.0248015 ],\n",
              "       [1.0274433 ],\n",
              "       [1.0293217 ],\n",
              "       [1.0300014 ],\n",
              "       [1.0286714 ],\n",
              "       [1.0248057 ],\n",
              "       [1.0163951 ],\n",
              "       [1.0036408 ],\n",
              "       [0.9883188 ],\n",
              "       [0.97749496],\n",
              "       [0.97975826],\n",
              "       [0.9933995 ],\n",
              "       [1.0094361 ],\n",
              "       [1.0217886 ],\n",
              "       [1.0286126 ],\n",
              "       [1.0309596 ],\n",
              "       [1.0301005 ],\n",
              "       [1.0266879 ],\n",
              "       [1.0211776 ],\n",
              "       [1.0161533 ],\n",
              "       [1.0140584 ],\n",
              "       [1.0142621 ],\n",
              "       [1.0135976 ],\n",
              "       [1.0079718 ],\n",
              "       [0.9925082 ],\n",
              "       [0.97370505]], dtype=float32)"
            ]
          },
          "metadata": {},
          "execution_count": 160
        }
      ]
    },
    {
      "cell_type": "code",
      "metadata": {
        "colab": {
          "base_uri": "https://localhost:8080/"
        },
        "id": "yh-WJYVQfOOn",
        "outputId": "ac8bbe9b-1456-4849-df3b-4292061bb0a6"
      },
      "source": [
        "y_test"
      ],
      "execution_count": null,
      "outputs": [
        {
          "output_type": "execute_result",
          "data": {
            "text/plain": [
              "array([0.98406604, 0.98521789, 0.98349011, 0.98444999, 0.98339413,\n",
              "       0.98320215, 0.98253024, 0.98224227, 0.98080246, 0.97821079,\n",
              "       0.97696295, 0.9788827 , 0.98195431, 0.9851219 , 0.98444999,\n",
              "       0.98233826, 0.98166635, 0.98416203, 0.98540987, 0.9851219 ,\n",
              "       0.98416203, 0.97792283, 0.95296602, 0.95258207, 0.95603763,\n",
              "       0.98387406, 0.98540987, 0.98406604, 0.98291419, 0.98233826,\n",
              "       0.98166635, 0.98032252, 0.97907468, 0.97984258, 0.97830678,\n",
              "       0.98157036, 0.98233826, 0.98061048, 0.97849875, 0.97897869,\n",
              "       0.97878672, 0.98157036, 0.98406604, 0.98368209, 0.98377808,\n",
              "       0.98329814, 0.98521789, 0.98713765, 0.97437128, 0.95382991,\n",
              "       0.95354195, 0.96957189, 0.98694567, 0.98713765, 0.9835861 ,\n",
              "       0.98444999, 0.98617777, 0.9851219 , 0.98320215, 0.98320215,\n",
              "       0.9820503 , 0.98320215, 0.98272221, 0.98166635, 0.98291419,\n",
              "       0.98531388, 0.98444999, 0.98253024, 0.98329814, 0.98416203,\n",
              "       0.98425801, 0.98349011, 0.98349011, 0.98320215, 0.98166635,\n",
              "       0.98147437, 0.95738146, 0.95027836, 0.94461509, 0.95574966,\n",
              "       0.92224995, 0.91869841, 0.91514686, 0.91380303, 0.93367249,\n",
              "       0.90775581, 0.87934344, 0.84680361, 0.8531388 , 0.93184872,\n",
              "       0.94096756, 0.92359378, 0.90813976, 0.79967364, 0.78585141,\n",
              "       0.83442119, 0.92013822, 0.94403916, 0.96458053, 0.96400461,\n",
              "       0.95872528, 0.9648685 , 0.94787867, 0.96429257, 0.96506047,\n",
              "       0.9758111 , 0.97801881, 0.97667499, 0.97974659, 0.97945863,\n",
              "       0.9796506 , 0.98176233, 0.98368209, 0.96131695, 0.95526973,\n",
              "       0.95718948, 0.97408332, 0.99251296, 0.99164907, 0.99088117,\n",
              "       0.99107314, 0.9890574 , 0.98694567, 0.98646573, 0.98684968,\n",
              "       0.98790555, 0.98761758, 0.98934536, 0.98972931, 0.99203302,\n",
              "       0.99424074, 0.99654444, 0.99721636, 0.99817623, 0.99856018,\n",
              "       0.99788827, 0.99721636, 0.99664043, 0.984354  , 0.96419658,\n",
              "       0.96429257, 0.97773085, 0.99712037, 0.99760031, 0.99760031,\n",
              "       0.99596852, 0.99366481, 0.99347284, 0.99443271, 0.9929929 ,\n",
              "       0.9929929 , 0.99241697, 0.99145709, 0.98896141, 0.98819351,\n",
              "       0.98876944, 0.98924938, 0.98723363, 0.98780956, 0.98953734,\n",
              "       0.97917067, 0.95766942, 0.95670954, 0.96976387, 0.99193703,\n",
              "       0.99366481, 0.99260895, 0.9929929 , 0.99212901, 0.99184104,\n",
              "       0.99020925, 0.9898253 , 0.9890574 , 0.98896141, 0.98944135,\n",
              "       0.98944135, 0.98934536, 0.9875216 , 0.98742561, 0.98492993,\n",
              "       0.9851219 , 0.98454598, 0.97542715, 0.95171818, 0.95095028,\n",
              "       0.98195431, 0.98291419, 0.98483394, 0.98694567, 0.98848147,\n",
              "       0.98598579, 0.98588981, 0.98656172, 0.98627376, 0.98771357,\n",
              "       0.98838549, 0.98560184, 0.98550586, 0.98397005, 0.98425801,\n",
              "       0.98310616, 0.9617009 , 0.94144749, 0.93712805, 0.95066232,\n",
              "       0.95795738, 0.94787867, 0.95239009, 0.95219812, 0.97081974,\n",
              "       0.97782684, 0.97686696, 0.97686696, 0.97897869, 0.97782684,\n",
              "       0.95728547, 0.89076598, 0.8429641 , 0.84497984, 0.87281628,\n",
              "       0.84421194, 0.7773085 , 0.8156076 , 0.88327894, 0.88971012,\n",
              "       0.91975427, 0.93146477, 0.94154348, 0.92666539, 0.91351507,\n",
              "       0.90276445, 0.93367249, 0.92877712, 0.95498176, 0.9773469 ,\n",
              "       0.98080246, 0.98118641, 0.98272221, 0.98022653, 0.97840276,\n",
              "       0.97648301, 0.97475523, 0.97504319, 0.96746017, 0.97523517,\n",
              "       0.97696295, 0.97168362, 0.97158764, 0.95997312, 0.97197159,\n",
              "       0.98262622, 0.9828182 , 0.98224227, 0.98185832, 0.98377808,\n",
              "       0.98454598, 0.9875216 , 0.98233826, 0.98070647, 0.98876944,\n",
              "       0.98809752, 0.99145709, 0.99260895, 0.99164907, 0.99001728,\n",
              "       0.98732962, 0.98627376, 0.98771357, 0.98800154, 0.984354  ,\n",
              "       0.98492993, 0.98704166, 0.98540987, 0.98569783, 0.98550586,\n",
              "       0.98867345, 0.9905932 , 0.99040123, 0.99126512, 0.99414475,\n",
              "       0.99577654, 0.99625648, 0.99644845, 0.99472068, 0.99395277,\n",
              "       0.99443271, 0.99510463, 0.99366481, 0.99347284, 0.99212901,\n",
              "       0.99011327, 0.98723363, 0.9867537 , 0.98684968, 0.98540987,\n",
              "       0.98473795, 0.98665771, 0.98627376, 0.98694567, 0.98617777,\n",
              "       0.98588981, 0.98464197, 0.98320215, 0.98166635, 0.98272221,\n",
              "       0.9835861 , 0.98397005, 0.98560184, 0.98550586, 0.9851219 ,\n",
              "       0.98579382, 0.98406604, 0.98406604, 0.98022653, 0.97849875,\n",
              "       0.98051449, 0.97984258, 0.97993857, 0.98051449, 0.97955462,\n",
              "       0.97245153, 0.96122096, 0.94778268, 0.94423114, 0.95574966,\n",
              "       0.97677097, 0.96179689, 0.94778268, 0.95834133, 0.98320215,\n",
              "       0.98425801, 0.98665771, 0.98809752, 0.984354  , 0.98109042,\n",
              "       0.98310616, 0.98588981, 0.98397005, 0.9828182 , 0.98320215,\n",
              "       0.98185832, 0.98032252, 0.97629103, 0.9773469 , 0.95430985,\n",
              "       0.90785179, 0.89969284, 0.91773853, 0.90324438, 0.87876752,\n",
              "       0.84641966, 0.73113841, 0.66845844, 0.64801305, 0.59435592,\n",
              "       0.55384911, 0.59848339, 0.61230562, 0.57755807, 0.54233058,\n",
              "       0.57170282, 0.4828182 , 0.36628911, 0.34190824, 0.32635823,\n",
              "       0.35553849, 0.36062584, 0.36120177, 0.35976195, 0.3351891 ,\n",
              "       0.35477059, 0.32635823, 0.29074678, 0.32347859, 0.35131503,\n",
              "       0.31186408, 0.36590516, 0.44317527, 0.49481666, 0.44461509,\n",
              "       0.46285275, 0.507775  , 0.56200806, 0.57045498, 0.61883279,\n",
              "       0.66692263, 0.75292763, 0.83134959, 0.84574774, 0.76127856,\n",
              "       0.68602419, 0.64849299, 0.63102323, 0.59416395, 0.62468804,\n",
              "       0.6632751 , 0.70464581, 0.72441927, 0.78815512, 0.69495105,\n",
              "       0.66164331, 0.71194087, 0.81771933, 0.91005951, 0.9422154 ,\n",
              "       0.96726819, 0.9718756 , 0.97571511, 0.97792283, 0.98176233,\n",
              "       0.98320215, 0.98224227, 0.98521789, 0.98809752, 0.99078518,\n",
              "       0.99145709, 0.99136111, 0.99040123, 0.98944135, 0.99049722,\n",
              "       0.99088117, 0.99356882, 0.9945287 , 0.99366481, 0.99020925,\n",
              "       0.98953734, 0.99088117, 0.99011327, 0.9890574 , 0.98819351,\n",
              "       0.99289691, 0.9945287 , 0.99308888, 0.99424074, 0.99443271,\n",
              "       0.99587253, 0.9937608 , 0.99164907, 0.98848147, 0.98492993,\n",
              "       0.98368209, 0.98233826, 0.98349011, 0.98243425, 0.98109042,\n",
              "       0.97993857, 0.97619505, 0.94682281, 0.96707621, 0.95670954,\n",
              "       0.97696295, 0.98310616, 0.98742561, 0.98598579, 0.98444999,\n",
              "       0.98214629, 0.98147437, 0.98185832, 0.98349011, 0.98540987,\n",
              "       0.98704166, 0.98656172, 0.98646573, 0.98636974, 0.98684968,\n",
              "       0.98771357, 0.98819351, 0.98560184, 0.98387406, 0.97974659,\n",
              "       0.97053177, 0.95978115, 0.96198887, 0.94816663, 0.9398157 ,\n",
              "       0.92052217, 0.92935304, 0.96035707, 0.95162219, 0.9546938 ,\n",
              "       0.96515646, 0.9703398 , 0.96707621, 0.97158764, 0.97926665,\n",
              "       0.98137838, 0.98041851, 0.9711077 , 0.93271261, 0.92973699,\n",
              "       0.95930121, 0.9726435 , 0.93060088, 0.92244193, 0.97168362,\n",
              "       0.96774813, 0.97686696, 0.9796506 , 0.96554041, 0.97158764,\n",
              "       0.97456326, 0.97878672, 0.9781148 , 0.976579  , 0.96198887,\n",
              "       0.89489345, 0.87905548, 0.88529468, 0.91457093, 0.89575734,\n",
              "       0.81887118, 0.82011902, 0.91831446, 0.95661355, 0.96582837,\n",
              "       0.96256479, 0.95594164, 0.95191016, 0.97197159, 0.95891726,\n",
              "       0.97523517, 0.97821079, 0.98089844, 0.98089844, 0.98109042,\n",
              "       0.97945863, 0.97869073, 0.97120369, 0.97725091, 0.98157036,\n",
              "       0.98051449, 0.97859474, 0.97945863, 0.98022653, 0.97974659,\n",
              "       0.98080246, 0.97705894, 0.9656364 , 0.94106354, 0.90698791,\n",
              "       0.93952774, 0.97513918, 0.97254751, 0.96678825, 0.95594164,\n",
              "       0.96582837, 0.9734114 , 0.97869073, 0.97533116, 0.96266078,\n",
              "       0.96458053, 0.97149165, 0.98003456, 0.98185832, 0.98214629,\n",
              "       0.98291419, 0.98473795, 0.98560184, 0.984354  , 0.97053177,\n",
              "       0.94970244, 0.98013054, 0.98157036, 0.98320215, 0.98349011,\n",
              "       0.98502592, 0.984354  , 0.984354  , 0.98588981, 0.9875216 ,\n",
              "       0.99164907, 0.99318487, 0.99289691, 0.9960645 , 0.99808025,\n",
              "       0.99635247, 0.99683241, 0.99683241, 0.99836821, 0.99894414,\n",
              "       1.        , 0.99952006, 0.99952006, 0.99961605, 0.99884815,\n",
              "       0.99654444, 0.99472068, 0.98953734, 0.98425801, 0.98550586,\n",
              "       0.98492993, 0.98310616, 0.98003456, 0.96333269, 0.97830678,\n",
              "       0.98253024, 0.96621232, 0.92042619, 0.95162219, 0.97907468,\n",
              "       0.96496448, 0.94403916, 0.94327126, 0.92647341, 0.91620273,\n",
              "       0.95968516, 0.97705894, 0.95440584, 0.91101939, 0.937512  ,\n",
              "       0.95267806, 0.97705894, 0.97475523, 0.95162219, 0.93463237,\n",
              "       0.86436936, 0.76454214, 0.6781532 , 0.59349203, 0.45306201,\n",
              "       0.42676137, 0.53234786, 0.74044922, 0.8421962 , 0.82607026,\n",
              "       0.78873104, 0.74726435, 0.74956806, 0.71626032, 0.68160875,\n",
              "       0.61748896, 0.63323095, 0.54626608, 0.48608178, 0.61940872,\n",
              "       0.72566711, 0.69360722, 0.61691304, 0.51938952, 0.51727779,\n",
              "       0.51689384, 0.49443271, 0.47677097, 0.38481474, 0.29122672,\n",
              "       0.22787483, 0.26540603, 0.30696871, 0.39969284, 0.46064504,\n",
              "       0.44509503, 0.3952774 , 0.3875024 , 0.39700518, 0.46352467,\n",
              "       0.52015742, 0.48473795, 0.47955462, 0.44106354, 0.4711077 ,\n",
              "       0.46285275, 0.54002688, 0.54559416, 0.55836053, 0.56373584,\n",
              "       0.54031484, 0.59550778, 0.62200038, 0.5523133 , 0.54991361,\n",
              "       0.47542715, 0.45507775, 0.41754655, 0.41812248, 0.53196391,\n",
              "       0.57784604, 0.65242849, 0.81128816, 0.90506815, 0.86926473,\n",
              "       0.85832213, 0.85304281, 0.76060664, 0.69859858, 0.66884239,\n",
              "       0.63294298, 0.67757727, 0.76051065, 0.77567671, 0.81819927,\n",
              "       0.82674218, 0.76732578, 0.73008255, 0.80428105, 0.93079286,\n",
              "       0.93732002, 0.94029564, 0.95306201, 0.93386447, 0.92407372,\n",
              "       0.94413515, 0.96448455, 0.9382799 , 0.91111538, 0.8875024 ,\n",
              "       0.84853139, 0.86859282, 0.92800921, 0.95219812, 0.96429257,\n",
              "       0.9429833 , 0.92474563, 0.93943175, 0.90506815, 0.89719716,\n",
              "       0.89239777, 0.88068727, 0.86974467, 0.84833941, 0.8148397 ,\n",
              "       0.76060664, 0.6976387 , 0.54357842, 0.54693799, 0.54002688,\n",
              "       0.53897101, 0.507775  , 0.47504319, 0.46822807, 0.47686696,\n",
              "       0.453158  , 0.43271261, 0.41255519, 0.39758111, 0.37022461,\n",
              "       0.30850451, 0.32463045, 0.35553849, 0.38155116, 0.39278172,\n",
              "       0.43645613, 0.45421386, 0.45718948, 0.48176233, 0.58264542,\n",
              "       0.64734114, 0.63246304, 0.62459205, 0.57611826, 0.5296602 ,\n",
              "       0.49692839, 0.51459013, 0.49088117, 0.48550586, 0.56143214,\n",
              "       0.60971396, 0.60270685, 0.62823959, 0.67680937, 0.64782108,\n",
              "       0.63073527, 0.64330966, 0.66077942, 0.62430409, 0.68458437,\n",
              "       0.76262238, 0.78633135, 0.78191591, 0.71443655, 0.63975811,\n",
              "       0.65972356, 0.58149357, 0.53685928, 0.49692839, 0.48713765,\n",
              "       0.50691112, 0.50662315, 0.47446727, 0.44365521, 0.46275677,\n",
              "       0.52370897, 0.55528892, 0.57026301, 0.61518526, 0.67392974,\n",
              "       0.67047418, 0.62843156, 0.63476675, 0.62027261, 0.59042043,\n",
              "       0.57141486, 0.60069111, 0.61835285, 0.64772509, 0.67546554,\n",
              "       0.74160108, 0.76271837, 0.76367825, 0.83336533, 0.81762334,\n",
              "       0.71357266, 0.79631407, 0.79170666, 0.76598195, 0.7703014 ,\n",
              "       0.76713381, 0.79756191, 0.83250144, 0.8461317 , 0.8499712 ,\n",
              "       0.8023613 , 0.79132271, 0.79535419, 0.76425418, 0.72317143,\n",
              "       0.66356306, 0.65559608, 0.66433097, 0.66394701, 0.6625072 ,\n",
              "       0.65818775, 0.66193127, 0.65924362, 0.65281244, 0.62862354,\n",
              "       0.62171242, 0.60635439, 0.62008063, 0.71645229, 0.80140142,\n",
              "       0.86158572, 0.90362834, 0.91745057, 0.95411787, 0.96448455,\n",
              "       0.96957189, 0.9734114 , 0.97456326, 0.97062776, 0.97024381,\n",
              "       0.97542715, 0.97005183, 0.97158764, 0.97667499, 0.98041851,\n",
              "       0.98041851, 0.98118641, 0.98109042, 0.98099443, 0.98118641,\n",
              "       0.97917067, 0.98089844, 0.98137838, 0.98233826, 0.98195431,\n",
              "       0.98176233, 0.98157036, 0.98147437, 0.98147437, 0.9773469 ,\n",
              "       0.97408332, 0.95210213, 0.93453638, 0.91649069, 0.93021693,\n",
              "       0.97024381, 0.97945863, 0.97619505, 0.97801881, 0.97993857,\n",
              "       0.98137838, 0.98147437, 0.97715492, 0.97331542, 0.97485122,\n",
              "       0.97917067, 0.97849875, 0.97149165, 0.94807065, 0.90103667,\n",
              "       0.90650797, 0.90737186])"
            ]
          },
          "metadata": {},
          "execution_count": 161
        }
      ]
    },
    {
      "cell_type": "code",
      "metadata": {
        "colab": {
          "base_uri": "https://localhost:8080/"
        },
        "id": "5u7Om0AJfP_2",
        "outputId": "0fb49e3d-bd3f-4f19-ba28-84e6322dab01"
      },
      "source": [
        "x_test"
      ],
      "execution_count": null,
      "outputs": [
        {
          "output_type": "execute_result",
          "data": {
            "text/plain": [
              "array([[0.98406604, 0.75      , 0.34875208],\n",
              "       [0.98521789, 0.75204918, 0.35047144],\n",
              "       [0.98349011, 0.73087432, 0.35812535],\n",
              "       ...,\n",
              "       [0.90103667, 0.6045082 , 0.37260122],\n",
              "       [0.90650797, 0.62090164, 0.36672213],\n",
              "       [0.90737186, 0.62431694, 0.37071547]])"
            ]
          },
          "metadata": {},
          "execution_count": 162
        }
      ]
    },
    {
      "cell_type": "code",
      "metadata": {
        "colab": {
          "base_uri": "https://localhost:8080/"
        },
        "id": "0J1BALMSfxH3",
        "outputId": "9fb6009e-0717-4777-b581-2b965c250668"
      },
      "source": [
        "x_test[:,1:][win_length:]"
      ],
      "execution_count": null,
      "outputs": [
        {
          "output_type": "execute_result",
          "data": {
            "text/plain": [
              "array([[0.75478142, 0.39389906],\n",
              "       [0.74521858, 0.3828619 ],\n",
              "       [0.74453552, 0.37881309],\n",
              "       ...,\n",
              "       [0.6045082 , 0.37260122],\n",
              "       [0.62090164, 0.36672213],\n",
              "       [0.62431694, 0.37071547]])"
            ]
          },
          "metadata": {},
          "execution_count": 163
        }
      ]
    },
    {
      "cell_type": "code",
      "metadata": {
        "id": "rZN6jH9Lf4W-"
      },
      "source": [
        "df_pred=pd.concat([pd.DataFrame(predictions),pd.DataFrame(x_test[:,1:][win_length:])],axis=1)"
      ],
      "execution_count": null,
      "outputs": []
    },
    {
      "cell_type": "code",
      "metadata": {
        "colab": {
          "base_uri": "https://localhost:8080/"
        },
        "id": "PSMlplHdgSKO",
        "outputId": "1f9b4246-ea65-4943-f40e-deb9edfd9d15"
      },
      "source": [
        "df_pred"
      ],
      "execution_count": null,
      "outputs": [
        {
          "output_type": "execute_result",
          "data": {
            "text/html": [
              "<div>\n",
              "<style scoped>\n",
              "    .dataframe tbody tr th:only-of-type {\n",
              "        vertical-align: middle;\n",
              "    }\n",
              "\n",
              "    .dataframe tbody tr th {\n",
              "        vertical-align: top;\n",
              "    }\n",
              "\n",
              "    .dataframe thead th {\n",
              "        text-align: right;\n",
              "    }\n",
              "</style>\n",
              "<table border=\"1\" class=\"dataframe\">\n",
              "  <thead>\n",
              "    <tr style=\"text-align: right;\">\n",
              "      <th></th>\n",
              "      <th>0</th>\n",
              "      <th>0</th>\n",
              "      <th>1</th>\n",
              "    </tr>\n",
              "  </thead>\n",
              "  <tbody>\n",
              "    <tr>\n",
              "      <th>0</th>\n",
              "      <td>1.018773</td>\n",
              "      <td>0.754781</td>\n",
              "      <td>0.393899</td>\n",
              "    </tr>\n",
              "    <tr>\n",
              "      <th>1</th>\n",
              "      <td>1.019419</td>\n",
              "      <td>0.745219</td>\n",
              "      <td>0.382862</td>\n",
              "    </tr>\n",
              "    <tr>\n",
              "      <th>2</th>\n",
              "      <td>1.021228</td>\n",
              "      <td>0.744536</td>\n",
              "      <td>0.378813</td>\n",
              "    </tr>\n",
              "    <tr>\n",
              "      <th>3</th>\n",
              "      <td>1.023301</td>\n",
              "      <td>0.744536</td>\n",
              "      <td>0.376484</td>\n",
              "    </tr>\n",
              "    <tr>\n",
              "      <th>4</th>\n",
              "      <td>1.024328</td>\n",
              "      <td>0.771175</td>\n",
              "      <td>0.375430</td>\n",
              "    </tr>\n",
              "    <tr>\n",
              "      <th>...</th>\n",
              "      <td>...</td>\n",
              "      <td>...</td>\n",
              "      <td>...</td>\n",
              "    </tr>\n",
              "    <tr>\n",
              "      <th>859</th>\n",
              "      <td>1.014262</td>\n",
              "      <td>0.670082</td>\n",
              "      <td>0.356295</td>\n",
              "    </tr>\n",
              "    <tr>\n",
              "      <th>860</th>\n",
              "      <td>1.013598</td>\n",
              "      <td>0.638661</td>\n",
              "      <td>0.363394</td>\n",
              "    </tr>\n",
              "    <tr>\n",
              "      <th>861</th>\n",
              "      <td>1.007972</td>\n",
              "      <td>0.604508</td>\n",
              "      <td>0.372601</td>\n",
              "    </tr>\n",
              "    <tr>\n",
              "      <th>862</th>\n",
              "      <td>0.992508</td>\n",
              "      <td>0.620902</td>\n",
              "      <td>0.366722</td>\n",
              "    </tr>\n",
              "    <tr>\n",
              "      <th>863</th>\n",
              "      <td>0.973705</td>\n",
              "      <td>0.624317</td>\n",
              "      <td>0.370715</td>\n",
              "    </tr>\n",
              "  </tbody>\n",
              "</table>\n",
              "<p>864 rows × 3 columns</p>\n",
              "</div>"
            ],
            "text/plain": [
              "            0         0         1\n",
              "0    1.018773  0.754781  0.393899\n",
              "1    1.019419  0.745219  0.382862\n",
              "2    1.021228  0.744536  0.378813\n",
              "3    1.023301  0.744536  0.376484\n",
              "4    1.024328  0.771175  0.375430\n",
              "..        ...       ...       ...\n",
              "859  1.014262  0.670082  0.356295\n",
              "860  1.013598  0.638661  0.363394\n",
              "861  1.007972  0.604508  0.372601\n",
              "862  0.992508  0.620902  0.366722\n",
              "863  0.973705  0.624317  0.370715\n",
              "\n",
              "[864 rows x 3 columns]"
            ]
          },
          "metadata": {},
          "execution_count": 165
        }
      ]
    },
    {
      "cell_type": "code",
      "metadata": {
        "id": "7LDNhot0g3HW"
      },
      "source": [
        "rev_trans=scaler.inverse_transform(df_pred)"
      ],
      "execution_count": null,
      "outputs": []
    },
    {
      "cell_type": "code",
      "metadata": {
        "colab": {
          "base_uri": "https://localhost:8080/"
        },
        "id": "BJmroGHJhAfe",
        "outputId": "2e9e178d-a59d-432c-e046-84b616f29504"
      },
      "source": [
        "rev_trans"
      ],
      "execution_count": null,
      "outputs": [
        {
          "output_type": "execute_result",
          "data": {
            "text/plain": [
              "array([[105.37572968,  12.86      , 201.86      ],\n",
              "       [105.44309155,  12.72      , 199.87      ],\n",
              "       [105.63157811,  12.71      , 199.14      ],\n",
              "       ...,\n",
              "       [104.25049833,  10.66      , 198.02      ],\n",
              "       [102.63950146,  10.9       , 196.96      ],\n",
              "       [100.68059246,  10.95      , 197.68      ]])"
            ]
          },
          "metadata": {},
          "execution_count": 167
        }
      ]
    },
    {
      "cell_type": "code",
      "metadata": {
        "id": "b5URRj7FhQfO"
      },
      "source": [
        "df_final=df_input[predictions.shape[0]*-1:]"
      ],
      "execution_count": null,
      "outputs": []
    },
    {
      "cell_type": "code",
      "metadata": {
        "colab": {
          "base_uri": "https://localhost:8080/"
        },
        "id": "rRIRgDhUh5R-",
        "outputId": "1db0b317-747c-451e-9394-85c73f1afc51"
      },
      "source": [
        "df_final.count()"
      ],
      "execution_count": null,
      "outputs": [
        {
          "output_type": "execute_result",
          "data": {
            "text/plain": [
              "Active Power(MW)       864\n",
              "Wind Speed (m/s)       864\n",
              "Wind Direction(deg)    864\n",
              "dtype: int64"
            ]
          },
          "metadata": {},
          "execution_count": 169
        }
      ]
    },
    {
      "cell_type": "code",
      "metadata": {
        "colab": {
          "base_uri": "https://localhost:8080/"
        },
        "id": "rCRv4VG5iGDe",
        "outputId": "e1052b26-dfd3-4217-8975-758373670955"
      },
      "source": [
        "df_final[\"Pred_Wind_Power(MW)\"]=rev_trans[:,0]"
      ],
      "execution_count": null,
      "outputs": [
        {
          "output_type": "stream",
          "name": "stderr",
          "text": [
            "/usr/local/lib/python3.7/dist-packages/ipykernel_launcher.py:1: SettingWithCopyWarning: \n",
            "A value is trying to be set on a copy of a slice from a DataFrame.\n",
            "Try using .loc[row_indexer,col_indexer] = value instead\n",
            "\n",
            "See the caveats in the documentation: https://pandas.pydata.org/pandas-docs/stable/user_guide/indexing.html#returning-a-view-versus-a-copy\n",
            "  \"\"\"Entry point for launching an IPython kernel.\n"
          ]
        }
      ]
    },
    {
      "cell_type": "code",
      "metadata": {
        "colab": {
          "base_uri": "https://localhost:8080/",
          "height": 419
        },
        "id": "icluNayOiY3l",
        "outputId": "5510a59b-183e-4f52-d298-1a0dd11b4bf9"
      },
      "source": [
        "df_final"
      ],
      "execution_count": null,
      "outputs": [
        {
          "output_type": "execute_result",
          "data": {
            "text/html": [
              "<div>\n",
              "<style scoped>\n",
              "    .dataframe tbody tr th:only-of-type {\n",
              "        vertical-align: middle;\n",
              "    }\n",
              "\n",
              "    .dataframe tbody tr th {\n",
              "        vertical-align: top;\n",
              "    }\n",
              "\n",
              "    .dataframe thead th {\n",
              "        text-align: right;\n",
              "    }\n",
              "</style>\n",
              "<table border=\"1\" class=\"dataframe\">\n",
              "  <thead>\n",
              "    <tr style=\"text-align: right;\">\n",
              "      <th></th>\n",
              "      <th>Active Power(MW)</th>\n",
              "      <th>Wind Speed (m/s)</th>\n",
              "      <th>Wind Direction(deg)</th>\n",
              "      <th>Pred_Wind_Power(MW)</th>\n",
              "    </tr>\n",
              "  </thead>\n",
              "  <tbody>\n",
              "    <tr>\n",
              "      <th>3545</th>\n",
              "      <td>101.90</td>\n",
              "      <td>12.86</td>\n",
              "      <td>201.86</td>\n",
              "      <td>105.375730</td>\n",
              "    </tr>\n",
              "    <tr>\n",
              "      <th>3546</th>\n",
              "      <td>101.87</td>\n",
              "      <td>12.72</td>\n",
              "      <td>199.87</td>\n",
              "      <td>105.443092</td>\n",
              "    </tr>\n",
              "    <tr>\n",
              "      <th>3547</th>\n",
              "      <td>101.77</td>\n",
              "      <td>12.71</td>\n",
              "      <td>199.14</td>\n",
              "      <td>105.631578</td>\n",
              "    </tr>\n",
              "    <tr>\n",
              "      <th>3548</th>\n",
              "      <td>101.12</td>\n",
              "      <td>12.71</td>\n",
              "      <td>198.72</td>\n",
              "      <td>105.847486</td>\n",
              "    </tr>\n",
              "    <tr>\n",
              "      <th>3549</th>\n",
              "      <td>98.52</td>\n",
              "      <td>13.10</td>\n",
              "      <td>198.53</td>\n",
              "      <td>105.954490</td>\n",
              "    </tr>\n",
              "    <tr>\n",
              "      <th>...</th>\n",
              "      <td>...</td>\n",
              "      <td>...</td>\n",
              "      <td>...</td>\n",
              "      <td>...</td>\n",
              "    </tr>\n",
              "    <tr>\n",
              "      <th>4404</th>\n",
              "      <td>100.45</td>\n",
              "      <td>11.62</td>\n",
              "      <td>195.08</td>\n",
              "      <td>104.905824</td>\n",
              "    </tr>\n",
              "    <tr>\n",
              "      <th>4405</th>\n",
              "      <td>98.01</td>\n",
              "      <td>11.16</td>\n",
              "      <td>196.36</td>\n",
              "      <td>104.836599</td>\n",
              "    </tr>\n",
              "    <tr>\n",
              "      <th>4406</th>\n",
              "      <td>93.11</td>\n",
              "      <td>10.66</td>\n",
              "      <td>198.02</td>\n",
              "      <td>104.250498</td>\n",
              "    </tr>\n",
              "    <tr>\n",
              "      <th>4407</th>\n",
              "      <td>93.68</td>\n",
              "      <td>10.90</td>\n",
              "      <td>196.96</td>\n",
              "      <td>102.639501</td>\n",
              "    </tr>\n",
              "    <tr>\n",
              "      <th>4408</th>\n",
              "      <td>93.77</td>\n",
              "      <td>10.95</td>\n",
              "      <td>197.68</td>\n",
              "      <td>100.680592</td>\n",
              "    </tr>\n",
              "  </tbody>\n",
              "</table>\n",
              "<p>864 rows × 4 columns</p>\n",
              "</div>"
            ],
            "text/plain": [
              "      Active Power(MW)  ...  Pred_Wind_Power(MW)\n",
              "3545            101.90  ...           105.375730\n",
              "3546            101.87  ...           105.443092\n",
              "3547            101.77  ...           105.631578\n",
              "3548            101.12  ...           105.847486\n",
              "3549             98.52  ...           105.954490\n",
              "...                ...  ...                  ...\n",
              "4404            100.45  ...           104.905824\n",
              "4405             98.01  ...           104.836599\n",
              "4406             93.11  ...           104.250498\n",
              "4407             93.68  ...           102.639501\n",
              "4408             93.77  ...           100.680592\n",
              "\n",
              "[864 rows x 4 columns]"
            ]
          },
          "metadata": {},
          "execution_count": 171
        }
      ]
    },
    {
      "cell_type": "code",
      "metadata": {
        "colab": {
          "base_uri": "https://localhost:8080/"
        },
        "id": "M9iNR4g5iqL8",
        "outputId": "ea4d63f9-76ec-46b5-8245-e84340ce1923"
      },
      "source": [
        "df_final[['Active Power(MW)','Pred_Wind_Power(MW)']].tail(50).plot()"
      ],
      "execution_count": null,
      "outputs": [
        {
          "output_type": "execute_result",
          "data": {
            "text/plain": [
              "<matplotlib.axes._subplots.AxesSubplot at 0x7f6a6b4cd590>"
            ]
          },
          "metadata": {},
          "execution_count": 172
        },
        {
          "output_type": "display_data",
          "data": {
            "image/png": "[encoded data removed]",
            "text/plain": [
              "<Figure size 720x576 with 1 Axes>"
            ]
          },
          "metadata": {
            "needs_background": "light"
          }
        }
      ]
    },
    {
      "cell_type": "code",
      "metadata": {
        "id": "DmFOvA2plJ8L"
      },
      "source": [
        "from sklearn.metrics import mean_squared_error\n",
        "import numpy as np\n",
        "MSE=mean_squared_error(df_final['Active Power(MW)'],df_final['Pred_Wind_Power(MW)'])\n",
        "def mape(actual, pred): \n",
        "    actual, pred = np.array(actual), np.array(pred)\n",
        "    return np.mean(np.abs((actual - pred) / actual)) * 100\n",
        "\n",
        "actual = df_final['Active Power(MW)']\n",
        "pred = df_final['Pred_Wind_Power(MW)']\n",
        "\n",
        "MAPE=mape(actual, pred)"
      ],
      "execution_count": null,
      "outputs": []
    },
    {
      "cell_type": "code",
      "metadata": {
        "colab": {
          "base_uri": "https://localhost:8080/"
        },
        "id": "R2Sn1kcxnH1j",
        "outputId": "45a304bb-ca07-4f6c-f105-c225a3b02219"
      },
      "source": [
        "print('MSE = '+ str(MSE))\n",
        "print('MAPE = '+ str(MAPE))"
      ],
      "execution_count": null,
      "outputs": [
        {
          "output_type": "stream",
          "name": "stdout",
          "text": [
            "MSE = 69.16789856998196\n",
            "MAPE = 8.85331401467131\n"
          ]
        }
      ]
    }
  ]
}