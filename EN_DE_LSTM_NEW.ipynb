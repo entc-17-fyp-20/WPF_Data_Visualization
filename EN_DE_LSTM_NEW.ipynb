{
  "nbformat": 4,
  "nbformat_minor": 0,
  "metadata": {
    "colab": {
      "name": "EN_DE_LSTM_NEW.ipynb",
      "provenance": [],
      "authorship_tag": "ABX9TyO75iPSAwQD3b4XsnXUqtl1",
      "include_colab_link": true
    },
    "kernelspec": {
      "name": "python3",
      "display_name": "Python 3"
    },
    "language_info": {
      "name": "python"
    }
  },
  "cells": [
    {
      "cell_type": "markdown",
      "metadata": {
        "id": "view-in-github",
        "colab_type": "text"
      },
      "source": [
        "<a href=\"https://colab.research.google.com/github/entc-17-fyp-20/WPF_Data_Visualization/blob/Udesha-/EN_DE_LSTM_NEW.ipynb\" target=\"_parent\"><img src=\"https://colab.research.google.com/assets/colab-badge.svg\" alt=\"Open In Colab\"/></a>"
      ]
    },
    {
      "cell_type": "code",
      "execution_count": null,
      "metadata": {
        "id": "8Ja-Ui0Q8QVl"
      },
      "outputs": [],
      "source": [
        "import pandas as pd\n",
        "import numpy as np\n",
        "import tensorflow as tf\n",
        "from sklearn import preprocessing\n",
        "import matplotlib.pyplot as plt"
      ]
    },
    {
      "cell_type": "code",
      "source": [
        "df = pd.read_csv('https://raw.githubusercontent.com/entc-17-fyp-20/Datasets/main/CEB%20new%20updated(Only%20actual).csv')\n",
        "df = df.rename(columns = {'Time Stamp': 'Date & Time','Actual Total WTG Output Power /kW':'Active_Power(kW)','Forecasted Power':'Forecasted_Power(kW)'}, inplace = False)\n",
        "df=df[['Date & Time','Active_Power(kW)']]\n",
        "df['Date & Time'] = pd.to_datetime(df['Date & Time'], format=\"%m/%d/%Y %H:%M\")\n",
        "df.index = df['Date & Time']\n",
        "df=df[['Active_Power(kW)']]\n",
        "df=df[1:]\n",
        "df.head()"
      ],
      "metadata": {
        "colab": {
          "base_uri": "https://localhost:8080/",
          "height": 238
        },
        "id": "Y8reG7Rs8dvL",
        "outputId": "cc1e7f94-3767-4088-fe50-fd5e526a3304"
      },
      "execution_count": null,
      "outputs": [
        {
          "output_type": "execute_result",
          "data": {
            "text/plain": [
              "                     Active_Power(kW)\n",
              "Date & Time                          \n",
              "2021-09-01 00:00:00           93793.5\n",
              "2021-09-01 00:10:00           95265.2\n",
              "2021-09-01 00:20:00           96545.6\n",
              "2021-09-01 00:30:00           97879.0\n",
              "2021-09-01 00:40:00           97867.2"
            ],
            "text/html": [
              "\n",
              "  <div id=\"df-ac49e7cb-d29c-443e-ae78-49d22b4e05d1\">\n",
              "    <div class=\"colab-df-container\">\n",
              "      <div>\n",
              "<style scoped>\n",
              "    .dataframe tbody tr th:only-of-type {\n",
              "        vertical-align: middle;\n",
              "    }\n",
              "\n",
              "    .dataframe tbody tr th {\n",
              "        vertical-align: top;\n",
              "    }\n",
              "\n",
              "    .dataframe thead th {\n",
              "        text-align: right;\n",
              "    }\n",
              "</style>\n",
              "<table border=\"1\" class=\"dataframe\">\n",
              "  <thead>\n",
              "    <tr style=\"text-align: right;\">\n",
              "      <th></th>\n",
              "      <th>Active_Power(kW)</th>\n",
              "    </tr>\n",
              "    <tr>\n",
              "      <th>Date &amp; Time</th>\n",
              "      <th></th>\n",
              "    </tr>\n",
              "  </thead>\n",
              "  <tbody>\n",
              "    <tr>\n",
              "      <th>2021-09-01 00:00:00</th>\n",
              "      <td>93793.5</td>\n",
              "    </tr>\n",
              "    <tr>\n",
              "      <th>2021-09-01 00:10:00</th>\n",
              "      <td>95265.2</td>\n",
              "    </tr>\n",
              "    <tr>\n",
              "      <th>2021-09-01 00:20:00</th>\n",
              "      <td>96545.6</td>\n",
              "    </tr>\n",
              "    <tr>\n",
              "      <th>2021-09-01 00:30:00</th>\n",
              "      <td>97879.0</td>\n",
              "    </tr>\n",
              "    <tr>\n",
              "      <th>2021-09-01 00:40:00</th>\n",
              "      <td>97867.2</td>\n",
              "    </tr>\n",
              "  </tbody>\n",
              "</table>\n",
              "</div>\n",
              "      <button class=\"colab-df-convert\" onclick=\"convertToInteractive('df-ac49e7cb-d29c-443e-ae78-49d22b4e05d1')\"\n",
              "              title=\"Convert this dataframe to an interactive table.\"\n",
              "              style=\"display:none;\">\n",
              "        \n",
              "  <svg xmlns=\"http://www.w3.org/2000/svg\" height=\"24px\"viewBox=\"0 0 24 24\"\n",
              "       width=\"24px\">\n",
              "    <path d=\"M0 0h24v24H0V0z\" fill=\"none\"/>\n",
              "    <path d=\"M18.56 5.44l.94 2.06.94-2.06 2.06-.94-2.06-.94-.94-2.06-.94 2.06-2.06.94zm-11 1L8.5 8.5l.94-2.06 2.06-.94-2.06-.94L8.5 2.5l-.94 2.06-2.06.94zm10 10l.94 2.06.94-2.06 2.06-.94-2.06-.94-.94-2.06-.94 2.06-2.06.94z\"/><path d=\"M17.41 7.96l-1.37-1.37c-.4-.4-.92-.59-1.43-.59-.52 0-1.04.2-1.43.59L10.3 9.45l-7.72 7.72c-.78.78-.78 2.05 0 2.83L4 21.41c.39.39.9.59 1.41.59.51 0 1.02-.2 1.41-.59l7.78-7.78 2.81-2.81c.8-.78.8-2.07 0-2.86zM5.41 20L4 18.59l7.72-7.72 1.47 1.35L5.41 20z\"/>\n",
              "  </svg>\n",
              "      </button>\n",
              "      \n",
              "  <style>\n",
              "    .colab-df-container {\n",
              "      display:flex;\n",
              "      flex-wrap:wrap;\n",
              "      gap: 12px;\n",
              "    }\n",
              "\n",
              "    .colab-df-convert {\n",
              "      background-color: #E8F0FE;\n",
              "      border: none;\n",
              "      border-radius: 50%;\n",
              "      cursor: pointer;\n",
              "      display: none;\n",
              "      fill: #1967D2;\n",
              "      height: 32px;\n",
              "      padding: 0 0 0 0;\n",
              "      width: 32px;\n",
              "    }\n",
              "\n",
              "    .colab-df-convert:hover {\n",
              "      background-color: #E2EBFA;\n",
              "      box-shadow: 0px 1px 2px rgba(60, 64, 67, 0.3), 0px 1px 3px 1px rgba(60, 64, 67, 0.15);\n",
              "      fill: #174EA6;\n",
              "    }\n",
              "\n",
              "    [theme=dark] .colab-df-convert {\n",
              "      background-color: #3B4455;\n",
              "      fill: #D2E3FC;\n",
              "    }\n",
              "\n",
              "    [theme=dark] .colab-df-convert:hover {\n",
              "      background-color: #434B5C;\n",
              "      box-shadow: 0px 1px 3px 1px rgba(0, 0, 0, 0.15);\n",
              "      filter: drop-shadow(0px 1px 2px rgba(0, 0, 0, 0.3));\n",
              "      fill: #FFFFFF;\n",
              "    }\n",
              "  </style>\n",
              "\n",
              "      <script>\n",
              "        const buttonEl =\n",
              "          document.querySelector('#df-ac49e7cb-d29c-443e-ae78-49d22b4e05d1 button.colab-df-convert');\n",
              "        buttonEl.style.display =\n",
              "          google.colab.kernel.accessAllowed ? 'block' : 'none';\n",
              "\n",
              "        async function convertToInteractive(key) {\n",
              "          const element = document.querySelector('#df-ac49e7cb-d29c-443e-ae78-49d22b4e05d1');\n",
              "          const dataTable =\n",
              "            await google.colab.kernel.invokeFunction('convertToInteractive',\n",
              "                                                     [key], {});\n",
              "          if (!dataTable) return;\n",
              "\n",
              "          const docLinkHtml = 'Like what you see? Visit the ' +\n",
              "            '<a target=\"_blank\" href=https://colab.research.google.com/notebooks/data_table.ipynb>data table notebook</a>'\n",
              "            + ' to learn more about interactive tables.';\n",
              "          element.innerHTML = '';\n",
              "          dataTable['output_type'] = 'display_data';\n",
              "          await google.colab.output.renderOutput(dataTable, element);\n",
              "          const docLink = document.createElement('div');\n",
              "          docLink.innerHTML = docLinkHtml;\n",
              "          element.appendChild(docLink);\n",
              "        }\n",
              "      </script>\n",
              "    </div>\n",
              "  </div>\n",
              "  "
            ]
          },
          "metadata": {},
          "execution_count": 68
        }
      ]
    },
    {
      "cell_type": "code",
      "source": [
        "df=df.resample('1H').mean()\n",
        "df.head()\n",
        "validate=df.tail(1)\n",
        "df=df.head(2927)"
      ],
      "metadata": {
        "id": "CYuBVpok1lAD"
      },
      "execution_count": null,
      "outputs": []
    },
    {
      "cell_type": "code",
      "source": [
        "df.describe()"
      ],
      "metadata": {
        "colab": {
          "base_uri": "https://localhost:8080/",
          "height": 300
        },
        "id": "9Z8kvPMo8naT",
        "outputId": "d8b49cf1-f124-431a-f2ec-760f31d23f82"
      },
      "execution_count": null,
      "outputs": [
        {
          "output_type": "execute_result",
          "data": {
            "text/plain": [
              "       Active_Power(kW)\n",
              "count       2927.000000\n",
              "mean       41650.780617\n",
              "std        36376.916742\n",
              "min            0.000000\n",
              "25%        10262.683333\n",
              "50%        28659.500000\n",
              "75%        78595.466667\n",
              "max       103502.850000"
            ],
            "text/html": [
              "\n",
              "  <div id=\"df-469b4445-a927-49d1-8a0f-514ac4a89817\">\n",
              "    <div class=\"colab-df-container\">\n",
              "      <div>\n",
              "<style scoped>\n",
              "    .dataframe tbody tr th:only-of-type {\n",
              "        vertical-align: middle;\n",
              "    }\n",
              "\n",
              "    .dataframe tbody tr th {\n",
              "        vertical-align: top;\n",
              "    }\n",
              "\n",
              "    .dataframe thead th {\n",
              "        text-align: right;\n",
              "    }\n",
              "</style>\n",
              "<table border=\"1\" class=\"dataframe\">\n",
              "  <thead>\n",
              "    <tr style=\"text-align: right;\">\n",
              "      <th></th>\n",
              "      <th>Active_Power(kW)</th>\n",
              "    </tr>\n",
              "  </thead>\n",
              "  <tbody>\n",
              "    <tr>\n",
              "      <th>count</th>\n",
              "      <td>2927.000000</td>\n",
              "    </tr>\n",
              "    <tr>\n",
              "      <th>mean</th>\n",
              "      <td>41650.780617</td>\n",
              "    </tr>\n",
              "    <tr>\n",
              "      <th>std</th>\n",
              "      <td>36376.916742</td>\n",
              "    </tr>\n",
              "    <tr>\n",
              "      <th>min</th>\n",
              "      <td>0.000000</td>\n",
              "    </tr>\n",
              "    <tr>\n",
              "      <th>25%</th>\n",
              "      <td>10262.683333</td>\n",
              "    </tr>\n",
              "    <tr>\n",
              "      <th>50%</th>\n",
              "      <td>28659.500000</td>\n",
              "    </tr>\n",
              "    <tr>\n",
              "      <th>75%</th>\n",
              "      <td>78595.466667</td>\n",
              "    </tr>\n",
              "    <tr>\n",
              "      <th>max</th>\n",
              "      <td>103502.850000</td>\n",
              "    </tr>\n",
              "  </tbody>\n",
              "</table>\n",
              "</div>\n",
              "      <button class=\"colab-df-convert\" onclick=\"convertToInteractive('df-469b4445-a927-49d1-8a0f-514ac4a89817')\"\n",
              "              title=\"Convert this dataframe to an interactive table.\"\n",
              "              style=\"display:none;\">\n",
              "        \n",
              "  <svg xmlns=\"http://www.w3.org/2000/svg\" height=\"24px\"viewBox=\"0 0 24 24\"\n",
              "       width=\"24px\">\n",
              "    <path d=\"M0 0h24v24H0V0z\" fill=\"none\"/>\n",
              "    <path d=\"M18.56 5.44l.94 2.06.94-2.06 2.06-.94-2.06-.94-.94-2.06-.94 2.06-2.06.94zm-11 1L8.5 8.5l.94-2.06 2.06-.94-2.06-.94L8.5 2.5l-.94 2.06-2.06.94zm10 10l.94 2.06.94-2.06 2.06-.94-2.06-.94-.94-2.06-.94 2.06-2.06.94z\"/><path d=\"M17.41 7.96l-1.37-1.37c-.4-.4-.92-.59-1.43-.59-.52 0-1.04.2-1.43.59L10.3 9.45l-7.72 7.72c-.78.78-.78 2.05 0 2.83L4 21.41c.39.39.9.59 1.41.59.51 0 1.02-.2 1.41-.59l7.78-7.78 2.81-2.81c.8-.78.8-2.07 0-2.86zM5.41 20L4 18.59l7.72-7.72 1.47 1.35L5.41 20z\"/>\n",
              "  </svg>\n",
              "      </button>\n",
              "      \n",
              "  <style>\n",
              "    .colab-df-container {\n",
              "      display:flex;\n",
              "      flex-wrap:wrap;\n",
              "      gap: 12px;\n",
              "    }\n",
              "\n",
              "    .colab-df-convert {\n",
              "      background-color: #E8F0FE;\n",
              "      border: none;\n",
              "      border-radius: 50%;\n",
              "      cursor: pointer;\n",
              "      display: none;\n",
              "      fill: #1967D2;\n",
              "      height: 32px;\n",
              "      padding: 0 0 0 0;\n",
              "      width: 32px;\n",
              "    }\n",
              "\n",
              "    .colab-df-convert:hover {\n",
              "      background-color: #E2EBFA;\n",
              "      box-shadow: 0px 1px 2px rgba(60, 64, 67, 0.3), 0px 1px 3px 1px rgba(60, 64, 67, 0.15);\n",
              "      fill: #174EA6;\n",
              "    }\n",
              "\n",
              "    [theme=dark] .colab-df-convert {\n",
              "      background-color: #3B4455;\n",
              "      fill: #D2E3FC;\n",
              "    }\n",
              "\n",
              "    [theme=dark] .colab-df-convert:hover {\n",
              "      background-color: #434B5C;\n",
              "      box-shadow: 0px 1px 3px 1px rgba(0, 0, 0, 0.15);\n",
              "      filter: drop-shadow(0px 1px 2px rgba(0, 0, 0, 0.3));\n",
              "      fill: #FFFFFF;\n",
              "    }\n",
              "  </style>\n",
              "\n",
              "      <script>\n",
              "        const buttonEl =\n",
              "          document.querySelector('#df-469b4445-a927-49d1-8a0f-514ac4a89817 button.colab-df-convert');\n",
              "        buttonEl.style.display =\n",
              "          google.colab.kernel.accessAllowed ? 'block' : 'none';\n",
              "\n",
              "        async function convertToInteractive(key) {\n",
              "          const element = document.querySelector('#df-469b4445-a927-49d1-8a0f-514ac4a89817');\n",
              "          const dataTable =\n",
              "            await google.colab.kernel.invokeFunction('convertToInteractive',\n",
              "                                                     [key], {});\n",
              "          if (!dataTable) return;\n",
              "\n",
              "          const docLinkHtml = 'Like what you see? Visit the ' +\n",
              "            '<a target=\"_blank\" href=https://colab.research.google.com/notebooks/data_table.ipynb>data table notebook</a>'\n",
              "            + ' to learn more about interactive tables.';\n",
              "          element.innerHTML = '';\n",
              "          dataTable['output_type'] = 'display_data';\n",
              "          await google.colab.output.renderOutput(dataTable, element);\n",
              "          const docLink = document.createElement('div');\n",
              "          docLink.innerHTML = docLinkHtml;\n",
              "          element.appendChild(docLink);\n",
              "        }\n",
              "      </script>\n",
              "    </div>\n",
              "  </div>\n",
              "  "
            ]
          },
          "metadata": {},
          "execution_count": 70
        }
      ]
    },
    {
      "cell_type": "code",
      "source": [
        "uni_data = df[['Active_Power(kW)']]\n",
        "uni_data.head()"
      ],
      "metadata": {
        "colab": {
          "base_uri": "https://localhost:8080/",
          "height": 238
        },
        "id": "cWfZKrGB8--s",
        "outputId": "47fb5bef-8730-4597-bf67-6eceb306e859"
      },
      "execution_count": null,
      "outputs": [
        {
          "output_type": "execute_result",
          "data": {
            "text/plain": [
              "                     Active_Power(kW)\n",
              "Date & Time                          \n",
              "2021-09-01 00:00:00      96544.433333\n",
              "2021-09-01 01:00:00      98213.050000\n",
              "2021-09-01 02:00:00      98289.633333\n",
              "2021-09-01 03:00:00      98307.483333\n",
              "2021-09-01 04:00:00     100630.066667"
            ],
            "text/html": [
              "\n",
              "  <div id=\"df-57749aae-724e-4023-8bcb-ca0da1e38add\">\n",
              "    <div class=\"colab-df-container\">\n",
              "      <div>\n",
              "<style scoped>\n",
              "    .dataframe tbody tr th:only-of-type {\n",
              "        vertical-align: middle;\n",
              "    }\n",
              "\n",
              "    .dataframe tbody tr th {\n",
              "        vertical-align: top;\n",
              "    }\n",
              "\n",
              "    .dataframe thead th {\n",
              "        text-align: right;\n",
              "    }\n",
              "</style>\n",
              "<table border=\"1\" class=\"dataframe\">\n",
              "  <thead>\n",
              "    <tr style=\"text-align: right;\">\n",
              "      <th></th>\n",
              "      <th>Active_Power(kW)</th>\n",
              "    </tr>\n",
              "    <tr>\n",
              "      <th>Date &amp; Time</th>\n",
              "      <th></th>\n",
              "    </tr>\n",
              "  </thead>\n",
              "  <tbody>\n",
              "    <tr>\n",
              "      <th>2021-09-01 00:00:00</th>\n",
              "      <td>96544.433333</td>\n",
              "    </tr>\n",
              "    <tr>\n",
              "      <th>2021-09-01 01:00:00</th>\n",
              "      <td>98213.050000</td>\n",
              "    </tr>\n",
              "    <tr>\n",
              "      <th>2021-09-01 02:00:00</th>\n",
              "      <td>98289.633333</td>\n",
              "    </tr>\n",
              "    <tr>\n",
              "      <th>2021-09-01 03:00:00</th>\n",
              "      <td>98307.483333</td>\n",
              "    </tr>\n",
              "    <tr>\n",
              "      <th>2021-09-01 04:00:00</th>\n",
              "      <td>100630.066667</td>\n",
              "    </tr>\n",
              "  </tbody>\n",
              "</table>\n",
              "</div>\n",
              "      <button class=\"colab-df-convert\" onclick=\"convertToInteractive('df-57749aae-724e-4023-8bcb-ca0da1e38add')\"\n",
              "              title=\"Convert this dataframe to an interactive table.\"\n",
              "              style=\"display:none;\">\n",
              "        \n",
              "  <svg xmlns=\"http://www.w3.org/2000/svg\" height=\"24px\"viewBox=\"0 0 24 24\"\n",
              "       width=\"24px\">\n",
              "    <path d=\"M0 0h24v24H0V0z\" fill=\"none\"/>\n",
              "    <path d=\"M18.56 5.44l.94 2.06.94-2.06 2.06-.94-2.06-.94-.94-2.06-.94 2.06-2.06.94zm-11 1L8.5 8.5l.94-2.06 2.06-.94-2.06-.94L8.5 2.5l-.94 2.06-2.06.94zm10 10l.94 2.06.94-2.06 2.06-.94-2.06-.94-.94-2.06-.94 2.06-2.06.94z\"/><path d=\"M17.41 7.96l-1.37-1.37c-.4-.4-.92-.59-1.43-.59-.52 0-1.04.2-1.43.59L10.3 9.45l-7.72 7.72c-.78.78-.78 2.05 0 2.83L4 21.41c.39.39.9.59 1.41.59.51 0 1.02-.2 1.41-.59l7.78-7.78 2.81-2.81c.8-.78.8-2.07 0-2.86zM5.41 20L4 18.59l7.72-7.72 1.47 1.35L5.41 20z\"/>\n",
              "  </svg>\n",
              "      </button>\n",
              "      \n",
              "  <style>\n",
              "    .colab-df-container {\n",
              "      display:flex;\n",
              "      flex-wrap:wrap;\n",
              "      gap: 12px;\n",
              "    }\n",
              "\n",
              "    .colab-df-convert {\n",
              "      background-color: #E8F0FE;\n",
              "      border: none;\n",
              "      border-radius: 50%;\n",
              "      cursor: pointer;\n",
              "      display: none;\n",
              "      fill: #1967D2;\n",
              "      height: 32px;\n",
              "      padding: 0 0 0 0;\n",
              "      width: 32px;\n",
              "    }\n",
              "\n",
              "    .colab-df-convert:hover {\n",
              "      background-color: #E2EBFA;\n",
              "      box-shadow: 0px 1px 2px rgba(60, 64, 67, 0.3), 0px 1px 3px 1px rgba(60, 64, 67, 0.15);\n",
              "      fill: #174EA6;\n",
              "    }\n",
              "\n",
              "    [theme=dark] .colab-df-convert {\n",
              "      background-color: #3B4455;\n",
              "      fill: #D2E3FC;\n",
              "    }\n",
              "\n",
              "    [theme=dark] .colab-df-convert:hover {\n",
              "      background-color: #434B5C;\n",
              "      box-shadow: 0px 1px 3px 1px rgba(0, 0, 0, 0.15);\n",
              "      filter: drop-shadow(0px 1px 2px rgba(0, 0, 0, 0.3));\n",
              "      fill: #FFFFFF;\n",
              "    }\n",
              "  </style>\n",
              "\n",
              "      <script>\n",
              "        const buttonEl =\n",
              "          document.querySelector('#df-57749aae-724e-4023-8bcb-ca0da1e38add button.colab-df-convert');\n",
              "        buttonEl.style.display =\n",
              "          google.colab.kernel.accessAllowed ? 'block' : 'none';\n",
              "\n",
              "        async function convertToInteractive(key) {\n",
              "          const element = document.querySelector('#df-57749aae-724e-4023-8bcb-ca0da1e38add');\n",
              "          const dataTable =\n",
              "            await google.colab.kernel.invokeFunction('convertToInteractive',\n",
              "                                                     [key], {});\n",
              "          if (!dataTable) return;\n",
              "\n",
              "          const docLinkHtml = 'Like what you see? Visit the ' +\n",
              "            '<a target=\"_blank\" href=https://colab.research.google.com/notebooks/data_table.ipynb>data table notebook</a>'\n",
              "            + ' to learn more about interactive tables.';\n",
              "          element.innerHTML = '';\n",
              "          dataTable['output_type'] = 'display_data';\n",
              "          await google.colab.output.renderOutput(dataTable, element);\n",
              "          const docLink = document.createElement('div');\n",
              "          docLink.innerHTML = docLinkHtml;\n",
              "          element.appendChild(docLink);\n",
              "        }\n",
              "      </script>\n",
              "    </div>\n",
              "  </div>\n",
              "  "
            ]
          },
          "metadata": {},
          "execution_count": 71
        }
      ]
    },
    {
      "cell_type": "code",
      "source": [
        "uni_data = uni_data.values\n",
        "scaler_x = preprocessing.MinMaxScaler()\n",
        "x_rescaled = scaler_x.fit_transform(uni_data.reshape(-1, 1))"
      ],
      "metadata": {
        "id": "W5O-USXqAavd"
      },
      "execution_count": null,
      "outputs": []
    },
    {
      "cell_type": "code",
      "source": [
        "def custom_ts_univariate_data_prep(dataset, start, end, window, horizon):\n",
        "  X = []\n",
        "  y = []\n",
        "  start = start + window\n",
        "  if end is None:\n",
        "    end = len(dataset) - horizon\n",
        "  for i in range(start, end):\n",
        "    indicesx = range(i-window, i)\n",
        "    X.append(np.reshape(dataset[indicesx], (window, 1)))\n",
        "    indicesy = range(i,i+horizon)\n",
        "    y.append(dataset[indicesy])\n",
        "  return np.array(X), np.array(y)"
      ],
      "metadata": {
        "id": "wMfLNRD190pc"
      },
      "execution_count": null,
      "outputs": []
    },
    {
      "cell_type": "code",
      "source": [
        "univar_hist_window = 10\n",
        "horizon = 1\n",
        "TRAIN_SPLIT = 2000\n",
        "x_train_uni, y_train_uni = custom_ts_univariate_data_prep(x_rescaled, 0, TRAIN_SPLIT,univar_hist_window, horizon)\n",
        "x_val_uni, y_val_uni = custom_ts_univariate_data_prep(x_rescaled, TRAIN_SPLIT, None,univar_hist_window,horizon)"
      ],
      "metadata": {
        "id": "8PqB7K0M-Gbs"
      },
      "execution_count": null,
      "outputs": []
    },
    {
      "cell_type": "code",
      "source": [
        "print ('Single window of past history')\n",
        "print (x_train_uni[0])\n",
        "print ('\\n Target horizon')\n",
        "print (y_train_uni[0])"
      ],
      "metadata": {
        "colab": {
          "base_uri": "https://localhost:8080/"
        },
        "id": "eWkd93CSAw69",
        "outputId": "5c0c9706-8ae2-4a1e-b571-e4213ec6466d"
      },
      "execution_count": null,
      "outputs": [
        {
          "output_type": "stream",
          "name": "stdout",
          "text": [
            "Single window of past history\n",
            "[[0.93277077]\n",
            " [0.94889223]\n",
            " [0.94963214]\n",
            " [0.9498046 ]\n",
            " [0.9722444 ]\n",
            " [0.98117797]\n",
            " [0.98169567]\n",
            " [0.88419514]\n",
            " [0.56910381]\n",
            " [0.57500285]]\n",
            "\n",
            " Target horizon\n",
            "[[0.59087181]]\n"
          ]
        }
      ]
    },
    {
      "cell_type": "code",
      "source": [
        "BATCH_SIZE = 40\n",
        "BUFFER_SIZE = 20\n",
        "train_univariate = tf.data.Dataset.from_tensor_slices((x_train_uni, y_train_uni))\n",
        "train_univariate = train_univariate.cache().shuffle(BUFFER_SIZE).batch(BATCH_SIZE).repeat()\n",
        "\n",
        "val_univariate = tf.data.Dataset.from_tensor_slices((x_val_uni, y_val_uni))\n",
        "val_univariate = val_univariate.batch(BATCH_SIZE).repeat()"
      ],
      "metadata": {
        "id": "lWqiQF54A5tE"
      },
      "execution_count": null,
      "outputs": []
    },
    {
      "cell_type": "code",
      "source": [
        "ED_lstm_model = tf.keras.models.Sequential([\n",
        "    tf.keras.layers.LSTM(100, input_shape=x_train_uni.shape[-2:], return_sequences=True),\n",
        "    tf.keras.layers.LSTM(units=50,return_sequences=True),\n",
        "    tf.keras.layers.LSTM(units=15),\n",
        "    tf.keras.layers.RepeatVector(y_train_uni.shape[1]), \n",
        "    tf.keras.layers.LSTM(units=100,return_sequences=True),\n",
        "    tf.keras.layers.LSTM(units=50,return_sequences=True),\n",
        "    tf.keras.layers.TimeDistributed(tf.keras.layers.Dense(units=1))\n",
        "])\n",
        "ED_lstm_model.compile(optimizer='adam', loss='mse')"
      ],
      "metadata": {
        "id": "XQmsJwIvCLf1"
      },
      "execution_count": null,
      "outputs": []
    },
    {
      "cell_type": "code",
      "source": [
        "ED_lstm_model.summary()"
      ],
      "metadata": {
        "colab": {
          "base_uri": "https://localhost:8080/"
        },
        "id": "NSgTay3xBkB1",
        "outputId": "bdb8849c-7885-432e-aa5a-27f34de1314d"
      },
      "execution_count": null,
      "outputs": [
        {
          "output_type": "stream",
          "name": "stdout",
          "text": [
            "Model: \"sequential_5\"\n",
            "_________________________________________________________________\n",
            " Layer (type)                Output Shape              Param #   \n",
            "=================================================================\n",
            " lstm_25 (LSTM)              (None, 10, 100)           40800     \n",
            "                                                                 \n",
            " lstm_26 (LSTM)              (None, 10, 50)            30200     \n",
            "                                                                 \n",
            " lstm_27 (LSTM)              (None, 15)                3960      \n",
            "                                                                 \n",
            " repeat_vector_5 (RepeatVect  (None, 1, 15)            0         \n",
            " or)                                                             \n",
            "                                                                 \n",
            " lstm_28 (LSTM)              (None, 1, 100)            46400     \n",
            "                                                                 \n",
            " lstm_29 (LSTM)              (None, 1, 50)             30200     \n",
            "                                                                 \n",
            " time_distributed_5 (TimeDis  (None, 1, 1)             51        \n",
            " tributed)                                                       \n",
            "                                                                 \n",
            "=================================================================\n",
            "Total params: 151,611\n",
            "Trainable params: 151,611\n",
            "Non-trainable params: 0\n",
            "_________________________________________________________________\n"
          ]
        }
      ]
    },
    {
      "cell_type": "code",
      "source": [
        "EVALUATION_INTERVAL = 50\n",
        "EPOCHS = 25\n",
        "history = ED_lstm_model.fit(train_univariate, epochs=25,steps_per_epoch=100,validation_data=val_univariate, validation_steps=20,verbose =1)"
      ],
      "metadata": {
        "colab": {
          "base_uri": "https://localhost:8080/"
        },
        "id": "N6__dLlYCVSF",
        "outputId": "6bc03a55-af3a-443f-c3f6-0d6e5c3fbda0"
      },
      "execution_count": null,
      "outputs": [
        {
          "output_type": "stream",
          "name": "stdout",
          "text": [
            "Epoch 1/25\n",
            "100/100 [==============================] - 14s 44ms/step - loss: 0.1770 - val_loss: 0.0167\n",
            "Epoch 2/25\n",
            "100/100 [==============================] - 3s 25ms/step - loss: 0.0531 - val_loss: 0.0164\n",
            "Epoch 3/25\n",
            "100/100 [==============================] - 3s 25ms/step - loss: 0.0463 - val_loss: 0.0149\n",
            "Epoch 4/25\n",
            "100/100 [==============================] - 3s 25ms/step - loss: 0.0371 - val_loss: 0.0129\n",
            "Epoch 5/25\n",
            "100/100 [==============================] - 3s 25ms/step - loss: 0.0283 - val_loss: 0.0092\n",
            "Epoch 6/25\n",
            "100/100 [==============================] - 3s 25ms/step - loss: 0.0210 - val_loss: 0.0073\n",
            "Epoch 7/25\n",
            "100/100 [==============================] - 3s 25ms/step - loss: 0.0171 - val_loss: 0.0063\n",
            "Epoch 8/25\n",
            "100/100 [==============================] - 3s 25ms/step - loss: 0.0138 - val_loss: 0.0081\n",
            "Epoch 9/25\n",
            "100/100 [==============================] - 3s 25ms/step - loss: 0.0119 - val_loss: 0.0079\n",
            "Epoch 10/25\n",
            "100/100 [==============================] - 3s 26ms/step - loss: 0.0106 - val_loss: 0.0086\n",
            "Epoch 11/25\n",
            "100/100 [==============================] - 3s 25ms/step - loss: 0.0094 - val_loss: 0.0072\n",
            "Epoch 12/25\n",
            "100/100 [==============================] - 3s 29ms/step - loss: 0.0089 - val_loss: 0.0065\n",
            "Epoch 13/25\n",
            "100/100 [==============================] - 2s 25ms/step - loss: 0.0088 - val_loss: 0.0066\n",
            "Epoch 14/25\n",
            "100/100 [==============================] - 3s 25ms/step - loss: 0.0087 - val_loss: 0.0062\n",
            "Epoch 15/25\n",
            "100/100 [==============================] - 3s 25ms/step - loss: 0.0085 - val_loss: 0.0059\n",
            "Epoch 16/25\n",
            "100/100 [==============================] - 3s 26ms/step - loss: 0.0084 - val_loss: 0.0055\n",
            "Epoch 17/25\n",
            "100/100 [==============================] - 3s 25ms/step - loss: 0.0082 - val_loss: 0.0055\n",
            "Epoch 18/25\n",
            "100/100 [==============================] - 3s 25ms/step - loss: 0.0084 - val_loss: 0.0057\n",
            "Epoch 19/25\n",
            "100/100 [==============================] - 3s 25ms/step - loss: 0.0084 - val_loss: 0.0056\n",
            "Epoch 20/25\n",
            "100/100 [==============================] - 3s 25ms/step - loss: 0.0084 - val_loss: 0.0057\n",
            "Epoch 21/25\n",
            "100/100 [==============================] - 3s 26ms/step - loss: 0.0083 - val_loss: 0.0055\n",
            "Epoch 22/25\n",
            "100/100 [==============================] - 3s 26ms/step - loss: 0.0085 - val_loss: 0.0057\n",
            "Epoch 23/25\n",
            "100/100 [==============================] - 3s 25ms/step - loss: 0.0084 - val_loss: 0.0061\n",
            "Epoch 24/25\n",
            "100/100 [==============================] - 3s 25ms/step - loss: 0.0084 - val_loss: 0.0059\n",
            "Epoch 25/25\n",
            "100/100 [==============================] - 3s 25ms/step - loss: 0.0084 - val_loss: 0.0056\n"
          ]
        }
      ]
    },
    {
      "cell_type": "code",
      "source": [
        "# create model\n",
        "from tensorflow import keras\n",
        "from keras.models import Sequential\n",
        "from keras import layers\n",
        "from keras.layers import LSTM, TimeDistributed\n",
        "enco_deco = Sequential()\n",
        "# Encoder\n",
        "enco_deco.add(LSTM(100, input_shape=x_train_uni.shape[-2:], return_sequences=True))\n",
        "enco_deco.add(LSTM(units=50,return_sequences=True))\n",
        "enco_deco.add(LSTM(units=15))\n",
        "#feature vector\n",
        "enco_deco.add(layers.RepeatVector(y_train_uni.shape[1]))\n",
        "#decoder\n",
        "enco_deco.add(LSTM(units=100,return_sequences=True))\n",
        "enco_deco.add(LSTM(units=50,return_sequences=True))\n",
        "enco_deco.add(TimeDistributed(tf.keras.layers.Dense(units=1)))"
      ],
      "metadata": {
        "id": "p81vfVWlCdqF"
      },
      "execution_count": null,
      "outputs": []
    },
    {
      "cell_type": "code",
      "source": [
        "enco_deco.summary()"
      ],
      "metadata": {
        "colab": {
          "base_uri": "https://localhost:8080/"
        },
        "id": "urDHLX2nDHvm",
        "outputId": "582e40b5-a2e4-4021-8da1-72a734fae21e"
      },
      "execution_count": null,
      "outputs": [
        {
          "output_type": "stream",
          "name": "stdout",
          "text": [
            "Model: \"sequential_6\"\n",
            "_________________________________________________________________\n",
            " Layer (type)                Output Shape              Param #   \n",
            "=================================================================\n",
            " lstm_30 (LSTM)              (None, 10, 100)           40800     \n",
            "                                                                 \n",
            " lstm_31 (LSTM)              (None, 10, 50)            30200     \n",
            "                                                                 \n",
            " lstm_32 (LSTM)              (None, 15)                3960      \n",
            "                                                                 \n",
            " repeat_vector_6 (RepeatVect  (None, 1, 15)            0         \n",
            " or)                                                             \n",
            "                                                                 \n",
            " lstm_33 (LSTM)              (None, 1, 100)            46400     \n",
            "                                                                 \n",
            " lstm_34 (LSTM)              (None, 1, 50)             30200     \n",
            "                                                                 \n",
            " time_distributed_6 (TimeDis  (None, 1, 1)             51        \n",
            " tributed)                                                       \n",
            "                                                                 \n",
            "=================================================================\n",
            "Total params: 151,611\n",
            "Trainable params: 151,611\n",
            "Non-trainable params: 0\n",
            "_________________________________________________________________\n"
          ]
        }
      ]
    },
    {
      "cell_type": "code",
      "source": [
        "uni = df['Active_Power(kW)']\n",
        "validatehori = uni.tail(10)"
      ],
      "metadata": {
        "id": "SX58cpULDq91"
      },
      "execution_count": null,
      "outputs": []
    },
    {
      "cell_type": "code",
      "source": [
        "validatehist = validatehori.values\n",
        "scaler_val = preprocessing.MinMaxScaler()\n",
        "val_rescaled = scaler_x.fit_transform(validatehist.reshape(-1, 1))"
      ],
      "metadata": {
        "id": "pi5O5mhqD2gV"
      },
      "execution_count": null,
      "outputs": []
    },
    {
      "cell_type": "code",
      "source": [
        "val_rescaled = val_rescaled.reshape((1, val_rescaled.shape[0], 1))"
      ],
      "metadata": {
        "id": "tuyeUggpD533"
      },
      "execution_count": null,
      "outputs": []
    },
    {
      "cell_type": "code",
      "source": [
        "val_rescaled"
      ],
      "metadata": {
        "colab": {
          "base_uri": "https://localhost:8080/"
        },
        "id": "gYnNRpdU5NT3",
        "outputId": "621009fc-ba11-46a5-deec-1dabc5b0e123"
      },
      "execution_count": null,
      "outputs": [
        {
          "output_type": "execute_result",
          "data": {
            "text/plain": [
              "array([[[0.67088062],\n",
              "        [0.99523601],\n",
              "        [0.64684089],\n",
              "        [1.        ],\n",
              "        [0.71950036],\n",
              "        [0.42987731],\n",
              "        [0.53418865],\n",
              "        [0.58312683],\n",
              "        [0.29764552],\n",
              "        [0.        ]]])"
            ]
          },
          "metadata": {},
          "execution_count": 85
        }
      ]
    },
    {
      "cell_type": "code",
      "source": [
        "Predicted_results = ED_lstm_model.predict(val_rescaled)"
      ],
      "metadata": {
        "id": "KXY7M3gaD7Wo"
      },
      "execution_count": null,
      "outputs": []
    },
    {
      "cell_type": "code",
      "source": [
        "Predicted_results"
      ],
      "metadata": {
        "colab": {
          "base_uri": "https://localhost:8080/"
        },
        "id": "qAwqapN0D9bW",
        "outputId": "06c54f75-4fdb-4295-de8d-b21981f9333f"
      },
      "execution_count": null,
      "outputs": [
        {
          "output_type": "execute_result",
          "data": {
            "text/plain": [
              "array([[[0.05566374]]], dtype=float32)"
            ]
          },
          "metadata": {},
          "execution_count": 87
        }
      ]
    },
    {
      "cell_type": "code",
      "source": [
        "Predicted_inver_res = scaler_x.inverse_transform(Predicted_results[0])"
      ],
      "metadata": {
        "id": "03uAR4v8EAt9"
      },
      "execution_count": null,
      "outputs": []
    },
    {
      "cell_type": "code",
      "source": [
        "Predicted_inver_res"
      ],
      "metadata": {
        "colab": {
          "base_uri": "https://localhost:8080/"
        },
        "id": "MrfCP95vEDZY",
        "outputId": "f34aa971-9d49-4def-8129-6d765303ca6b"
      },
      "execution_count": null,
      "outputs": [
        {
          "output_type": "execute_result",
          "data": {
            "text/plain": [
              "array([[11155.96]], dtype=float32)"
            ]
          },
          "metadata": {},
          "execution_count": 89
        }
      ]
    },
    {
      "cell_type": "code",
      "source": [
        "validate.to_numpy()"
      ],
      "metadata": {
        "colab": {
          "base_uri": "https://localhost:8080/"
        },
        "id": "CnAoPMjU6ste",
        "outputId": "4e2d844e-4c92-456b-a193-79c78204cf3f"
      },
      "execution_count": null,
      "outputs": [
        {
          "output_type": "execute_result",
          "data": {
            "text/plain": [
              "array([[17639.81666667]])"
            ]
          },
          "metadata": {},
          "execution_count": 90
        }
      ]
    },
    {
      "cell_type": "code",
      "source": [
        "from sklearn import metrics\n",
        "def timeseries_evaluation_metrics_func(y_true, y_pred):\n",
        "    \n",
        "    def mean_absolute_percentage_error(y_true, y_pred): \n",
        "        y_true, y_pred = np.array(y_true), np.array(y_pred)\n",
        "        return np.mean(np.abs((y_true - y_pred) / y_true)) * 100\n",
        "    print('Evaluation metric results:-')\n",
        "    print(f'MSE is : {metrics.mean_squared_error(validate,Predicted_inver_res)}')\n",
        "    print(f'MAE is : {metrics.mean_absolute_error(validate,Predicted_inver_res)}')\n",
        "    print(f'RMSE is : {np.sqrt(metrics.mean_squared_error(validate,Predicted_inver_res))}')\n",
        "    print(f'MAPE is : {mean_absolute_percentage_error(validate,Predicted_inver_res)}')\n",
        "    print(f'R2 is : {metrics.r2_score(validate,Predicted_inver_res)}',end='\\n\\n')"
      ],
      "metadata": {
        "id": "LY1YhEciEGSN"
      },
      "execution_count": null,
      "outputs": []
    },
    {
      "cell_type": "code",
      "source": [
        "timeseries_evaluation_metrics_func(validate,Predicted_inver_res)"
      ],
      "metadata": {
        "colab": {
          "base_uri": "https://localhost:8080/"
        },
        "id": "pb8Hqbe1EJM3",
        "outputId": "8c0d2930-61a3-4fe9-a2b2-b3e07c20c3ac"
      },
      "execution_count": null,
      "outputs": [
        {
          "output_type": "stream",
          "name": "stdout",
          "text": [
            "Evaluation metric results:-\n",
            "MSE is : 42040397.780429065\n",
            "MAE is : 6483.856705729166\n",
            "RMSE is : 6483.856705729166\n",
            "MAPE is : 36.756939305279055\n",
            "R2 is : nan\n",
            "\n"
          ]
        },
        {
          "output_type": "stream",
          "name": "stderr",
          "text": [
            "/usr/local/lib/python3.7/dist-packages/sklearn/metrics/_regression.py:796: UndefinedMetricWarning: R^2 score is not well-defined with less than two samples.\n",
            "  warnings.warn(msg, UndefinedMetricWarning)\n"
          ]
        }
      ]
    },
    {
      "cell_type": "code",
      "source": [
        "plt.plot( list(validate.to_numpy()))\n",
        "plt.plot( list(Predicted_inver_res))\n",
        "plt.title(\"Actual vs Predicted\")\n",
        "plt.ylabel(\"Active Power\")\n",
        "plt.legend(('Actual','predicted'))\n",
        "plt.rcParams[\"figure.figsize\"] = [16,9]\n",
        "plt.show()"
      ],
      "metadata": {
        "colab": {
          "base_uri": "https://localhost:8080/",
          "height": 553
        },
        "id": "DpExS21rEMF2",
        "outputId": "e3526c8d-790f-49b5-d490-54039ba99c05"
      },
      "execution_count": null,
      "outputs": [
        {
          "output_type": "display_data",
          "data": {
            "text/plain": [
              "<Figure size 1152x648 with 1 Axes>"
            ],
            "image/png": "[encoded data removed]"
          },
          "metadata": {
            "needs_background": "light"
          }
        }
      ]
    }
  ]
}