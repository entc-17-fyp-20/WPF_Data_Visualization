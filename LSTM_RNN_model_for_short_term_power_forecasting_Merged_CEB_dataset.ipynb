{
  "nbformat": 4,
  "nbformat_minor": 0,
  "metadata": {
    "colab": {
      "name": "LSTM-RNN model for short term power forecasting-Merged CEB dataset",
      "provenance": [],
      "authorship_tag": "ABX9TyO478X51u/dPSagIsQeMaBo",
      "include_colab_link": true
    },
    "kernelspec": {
      "name": "python3",
      "display_name": "Python 3"
    },
    "language_info": {
      "name": "python"
    }
  },
  "cells": [
    {
      "cell_type": "markdown",
      "metadata": {
        "id": "view-in-github",
        "colab_type": "text"
      },
      "source": [
        "<a href=\"https://colab.research.google.com/github/entc-17-fyp-20/WPF_Data_Visualization/blob/Kusal/LSTM_RNN_model_for_short_term_power_forecasting_Merged_CEB_dataset.ipynb\" target=\"_parent\"><img src=\"https://colab.research.google.com/assets/colab-badge.svg\" alt=\"Open In Colab\"/></a>"
      ]
    },
    {
      "cell_type": "markdown",
      "source": [
        "# **Dataframe** "
      ],
      "metadata": {
        "id": "u8hDWTAMszTi"
      }
    },
    {
      "cell_type": "code",
      "execution_count": 59,
      "metadata": {
        "id": "Aa6_EDTGdvpN"
      },
      "outputs": [],
      "source": [
        "import os\n",
        "import warnings\n",
        "import matplotlib.pyplot as plt\n",
        "import numpy as np\n",
        "import pandas as pd\n",
        "import datetime as dt\n",
        "from collections import UserDict\n",
        "from sklearn.preprocessing import MinMaxScaler\n",
        "from IPython.display import Image\n",
        "%matplotlib inline\n",
        "import plotly.express as px\n",
        "import io\n",
        "\n",
        "\n",
        "pd.options.display.float_format = '{:,.2f}'.format\n",
        "np.set_printoptions(precision=2)\n",
        "warnings.filterwarnings(\"ignore\")\n",
        "\n",
        "url1 = 'https://raw.githubusercontent.com/entc-17-fyp-20/Datasets/main/S6%2010%20seconed%20data.csv' #S6 10 seconed data.csv\n",
        "url2 = 'https://raw.githubusercontent.com/entc-17-fyp-20/Datasets/main/AE59_1.csv' #AE59_1\n",
        "url3 = 'https://raw.githubusercontent.com/entc-17-fyp-20/Datasets/main/AE59_2.csv' #AE59_2\n",
        "url4 = 'https://raw.githubusercontent.com/entc-17-fyp-20/Datasets/main/V08%20June%2010%20sec%20data.csv' #V08 June 10 sec data.csv; does not contain current columns\n",
        "url5 = 'https://raw.githubusercontent.com/entc-17-fyp-20/Datasets/main/V13%20June%2010%20sec%20data.csv' #V13 June 10 sec data.csv\n",
        "url6 = 'https://raw.githubusercontent.com/entc-17-fyp-20/Datasets/main/V08%20July%2010%20sec%20data.csv' #V08 July 10 sec data.csv\n",
        "url7 = 'https://raw.githubusercontent.com/entc-17-fyp-20/Datasets/main/V13%20July%2010%20sec%20data.csv' #V13 July 10 sec data.csv\n",
        "url8 = 'https://raw.githubusercontent.com/entc-17-fyp-20/Datasets/main/Mannar.csv'  #Mannar dataset-10_min-wind_speed.csv\n",
        "url9 = 'https://raw.githubusercontent.com/entc-17-fyp-20/Datasets/main/Mannar%20full%20data.csv' #Mannar full data set.csv\n",
        "url10 = 'https://raw.githubusercontent.com/entc-17-fyp-20/Datasets/main/2018%20Scada%20Data%20of%20a%20Wind%20Turbine%20in%20Turkey.csv' #2018 Scada Data of a Wind Turbine in Turkey - 10 min resolution data\n",
        "url11 = 'https://raw.githubusercontent.com/entc-17-fyp-20/Datasets/main/CEB%20new%20updated(Only%20actual).csv' #CEB new dataset\n",
        "url12 = 'https://raw.githubusercontent.com/entc-17-fyp-20/Datasets/main/CEB_dataset_full_august_to_december.csv' #merged CEB dataset\n"
      ]
    },
    {
      "cell_type": "markdown",
      "source": [
        "**Train an validation data set**"
      ],
      "metadata": {
        "id": "tQEHWN49o6Jv"
      }
    },
    {
      "cell_type": "code",
      "source": [
        "df = pd.read_csv(url12)\n",
        "df=pd.DataFrame(df)\n",
        "df_temp=df.copy()"
      ],
      "metadata": {
        "id": "aw63oPbod5ea"
      },
      "execution_count": 60,
      "outputs": []
    },
    {
      "cell_type": "code",
      "source": [
        "df=df_temp[:5000] #8/1/2021 0:00 to 9/30/2021 23:50"
      ],
      "metadata": {
        "id": "0h1gN0QPxuG6"
      },
      "execution_count": 61,
      "outputs": []
    },
    {
      "cell_type": "code",
      "source": [
        "# test_set_1 = df_temp[5000:5500]  #10/1/2021 00:00 to 10/10/2021 23:50\n",
        "# test_set_2 = df_temp[10168:11608] #10/11/2021 00:00 to 10/20/2021 23:50\n",
        "# test_set_3 = df_temp[11608:13048] #10/21/2021 00:00 to 10/30/2021 23:50\n",
        "\n",
        "# dataset_index=1\n",
        "\n",
        "# if dataset_index==1:\n",
        "#   df_test = test_set_1\n",
        "# elif dataset_index==2:\n",
        "#   df_test = test_set_2\n",
        "# elif dataset_index==3:\n",
        "#   df_test = test_set_3\n",
        "\n",
        "#df_test"
      ],
      "metadata": {
        "id": "4Em451s3VT_t"
      },
      "execution_count": 62,
      "outputs": []
    },
    {
      "cell_type": "markdown",
      "source": [
        "**Rename column names**"
      ],
      "metadata": {
        "id": "m3ZeoWveo_qN"
      }
    },
    {
      "cell_type": "code",
      "source": [
        "col_1=(df.columns)[0]\n",
        "col_2=(df.columns)[1]\n",
        "feature = 'Active Power'\n",
        "feature_1 = 'Forecasted Power'\n",
        "df.rename(columns={col_1 :'Date & Time' , col_2 : feature},inplace=True)\n",
        "#df\n"
      ],
      "metadata": {
        "id": "h6W3W4gDeMd6"
      },
      "execution_count": 63,
      "outputs": []
    },
    {
      "cell_type": "code",
      "source": [
        "#df_temp.loc[13047]"
      ],
      "metadata": {
        "id": "DzZ1D11UPPmR"
      },
      "execution_count": 64,
      "outputs": []
    },
    {
      "cell_type": "markdown",
      "source": [
        "**Set Data & Time as index**"
      ],
      "metadata": {
        "id": "hHx41mLOpDT2"
      }
    },
    {
      "cell_type": "code",
      "source": [
        "df=df.set_index('Date & Time')\n",
        "#df"
      ],
      "metadata": {
        "id": "s3wLXGCHgJQX"
      },
      "execution_count": 65,
      "outputs": []
    },
    {
      "cell_type": "markdown",
      "source": [
        "**Divide train and validation sets**"
      ],
      "metadata": {
        "id": "0LVKS7WTpGsj"
      }
    },
    {
      "cell_type": "code",
      "source": [
        "L=len(df)\n",
        "valid_start=int(8*L/10)\n",
        "\n",
        "train,valid=df[:valid_start],df[valid_start:]\n",
        "\n",
        "#print(train.shape)\n",
        "#print(valid.shape)\n",
        "#print(test.shape)\n",
        "\n",
        "#print(train.describe())\n",
        "#print(valid.describe())\n",
        "#print(test.describe())"
      ],
      "metadata": {
        "id": "a8wbfwLIoTMb"
      },
      "execution_count": 66,
      "outputs": []
    },
    {
      "cell_type": "markdown",
      "source": [
        "# **Data preparation**"
      ],
      "metadata": {
        "id": "tWJ-eNg0pN-_"
      }
    },
    {
      "cell_type": "code",
      "source": [
        "T = 6\n",
        "HORIZON = 1"
      ],
      "metadata": {
        "id": "kLv2Ly1Gozkt"
      },
      "execution_count": 67,
      "outputs": []
    },
    {
      "cell_type": "code",
      "source": [
        "scaler = MinMaxScaler()\n",
        "train=pd.DataFrame(train[feature])\n",
        "train[feature] = scaler.fit_transform(train)\n",
        "\n",
        "train_shifted = train.copy()\n",
        "train_shifted['y_t+1'] = train_shifted[feature].shift(-1)\n",
        "#train_shifted.head(10)"
      ],
      "metadata": {
        "id": "qKDMsuC6pRBZ"
      },
      "execution_count": 68,
      "outputs": []
    },
    {
      "cell_type": "markdown",
      "source": [
        "**Creating input data to model (Getting T lagged vaules)**"
      ],
      "metadata": {
        "id": "hLhUy3I6pu0f"
      }
    },
    {
      "cell_type": "code",
      "source": [
        "for t in range(1, T+1):\n",
        "    train_shifted['active_power_t-'+str(T-t)] = train_shifted[feature].shift(T-t)\n",
        "train_shifted = train_shifted.rename(columns={feature:'Original_active_power'})\n",
        "\n",
        "# 4.Discard any samples with missing values\n",
        "train_shifted = train_shifted.dropna(how='any')\n",
        "#train_shifted.head(10)"
      ],
      "metadata": {
        "id": "EYWutYHCpymm"
      },
      "execution_count": 69,
      "outputs": []
    },
    {
      "cell_type": "markdown",
      "source": [
        "**Train input and target arrays**"
      ],
      "metadata": {
        "id": "Y652ZISiqVRu"
      }
    },
    {
      "cell_type": "code",
      "source": [
        "y_train = np.array(train_shifted[\"y_t+1\"])\n",
        "X_train=np.array(train_shifted[['active_power_t-'+str(T-t) for t in range(1, T+1)]])"
      ],
      "metadata": {
        "id": "Hpd9-spxqUd1"
      },
      "execution_count": 70,
      "outputs": []
    },
    {
      "cell_type": "code",
      "source": [
        "# This is an important step to reshape the X into 3 dimension array\n",
        "X_train = X_train.reshape(X_train.shape[0], T, 1)"
      ],
      "metadata": {
        "id": "aEy0QQm6qbbv"
      },
      "execution_count": 71,
      "outputs": []
    },
    {
      "cell_type": "code",
      "source": [
        "#print(y_train.shape)\n",
        "#print(X_train.shape)"
      ],
      "metadata": {
        "id": "Ym59xPiZqd76"
      },
      "execution_count": 72,
      "outputs": []
    },
    {
      "cell_type": "markdown",
      "source": [
        "**Data preparation - Validation data**"
      ],
      "metadata": {
        "id": "uT5oNuh4qv_H"
      }
    },
    {
      "cell_type": "code",
      "source": [
        "valid=pd.DataFrame(valid[feature])\n",
        "valid_new=df[valid_start-T+1:] #Add T values beforehand to the validation set\n",
        "valid_new=pd.DataFrame(valid_new[feature])\n",
        "#valid_new.head(20)"
      ],
      "metadata": {
        "id": "L7AaQWAGqqpx"
      },
      "execution_count": 73,
      "outputs": []
    },
    {
      "cell_type": "code",
      "source": [
        "valid_new[feature]=scaler.transform(valid_new)\n",
        "\n",
        "#Validataion set preparation(Lagged values,create input and target arrays,reshape)]\n",
        "\n",
        "valid_shifted = valid_new.copy() \n",
        "valid_shifted['y_t+1'] = valid_shifted[feature].shift(-1)\n",
        "valid_shifted.head(10)\n",
        "\n",
        "for t in range(1, T+1):\n",
        "    valid_shifted['active_power_t-'+str(T-t)] = valid_shifted[feature].shift(T-t)\n",
        "vali_shifted = valid_shifted.rename(columns={feature:'Original_active_power'})\n",
        "\n",
        "valid_shifted = valid_shifted.dropna(how='any')\n",
        "\n",
        "y_valid = np.array(valid_shifted[\"y_t+1\"])\n",
        "X_valid=np.array(valid_shifted[['active_power_t-'+str(T-t) for t in range(1, T+1)]])\n",
        "X_valid = X_valid.reshape(X_valid.shape[0], T, 1)"
      ],
      "metadata": {
        "id": "UTzOAe38rJ55"
      },
      "execution_count": 74,
      "outputs": []
    },
    {
      "cell_type": "code",
      "source": [
        "#print(y_valid.shape)\n",
        "#print(X_valid.shape)"
      ],
      "metadata": {
        "id": "V-CbbZrdrwHg"
      },
      "execution_count": 75,
      "outputs": []
    },
    {
      "cell_type": "markdown",
      "source": [
        "# **Implement the GRU-RNN**"
      ],
      "metadata": {
        "id": "7c2wxgP9r5cI"
      }
    },
    {
      "cell_type": "code",
      "source": [
        "import tensorflow as tf\n",
        "from keras.models import Model, Sequential\n",
        "#from keras.layers import GRU, Dense\n",
        "from keras.callbacks import EarlyStopping"
      ],
      "metadata": {
        "id": "gPnEGqENr8s2"
      },
      "execution_count": 76,
      "outputs": []
    },
    {
      "cell_type": "code",
      "source": [
        "UNITS = 5 # number of units in the RNN layer\n",
        "BATCH_SIZE = 16 # number of samples per mini-batch\n",
        "EPOCHS = 25 # maximum number of times the training algorithm will cycle through all samples"
      ],
      "metadata": {
        "id": "5JNmB0Y-uDj4"
      },
      "execution_count": 77,
      "outputs": []
    },
    {
      "cell_type": "code",
      "source": [
        "win_length=6\n",
        "batch_size=16\n",
        "num_feature=1"
      ],
      "metadata": {
        "id": "3CkBsuyiLEpU"
      },
      "execution_count": 78,
      "outputs": []
    },
    {
      "cell_type": "code",
      "source": [
        "model=tf.keras.Sequential()\n",
        "model.add(tf.keras.layers.LSTM(64,input_shape=(win_length,num_feature),return_sequences=True))\n",
        "model.add(tf.keras.layers.LeakyReLU(alpha=0.6))\n",
        "model.add(tf.keras.layers.LSTM(32,return_sequences=True))\n",
        "model.add(tf.keras.layers.LeakyReLU(alpha=0.6))\n",
        "model.add(tf.keras.layers.Dropout(0.1))\n",
        "# model.add(tf.keras.layers.LSTM(64,return_sequences=True))\n",
        "# model.add(tf.keras.layers.LeakyReLU(alpha=0.6))\n",
        "# model.add(tf.keras.layers.Dropout(0.1))\n",
        "model.add(tf.keras.layers.LSTM(16,return_sequences=False))\n",
        "model.add(tf.keras.layers.Dropout(0.1))\n",
        "model.add(tf.keras.layers.Dense(1))"
      ],
      "metadata": {
        "id": "-ctS-jwkKavw"
      },
      "execution_count": 79,
      "outputs": []
    },
    {
      "cell_type": "code",
      "source": [
        "# model = Sequential()\n",
        "# model.add(GRU(UNITS, input_shape=(T, 1)))\n",
        "# model.add(Dense(HORIZON))"
      ],
      "metadata": {
        "id": "DStyCPOduByg"
      },
      "execution_count": 80,
      "outputs": []
    },
    {
      "cell_type": "code",
      "source": [
        "model.compile(optimizer='RMSprop', loss='mse')\n",
        "model.summary()"
      ],
      "metadata": {
        "id": "ydUs8fRMuwp4",
        "colab": {
          "base_uri": "https://localhost:8080/"
        },
        "outputId": "c11f551a-759b-4b12-c413-0851b47c8469"
      },
      "execution_count": 81,
      "outputs": [
        {
          "output_type": "stream",
          "name": "stdout",
          "text": [
            "Model: \"sequential_3\"\n",
            "_________________________________________________________________\n",
            " Layer (type)                Output Shape              Param #   \n",
            "=================================================================\n",
            " lstm_6 (LSTM)               (None, 6, 64)             16896     \n",
            "                                                                 \n",
            " leaky_re_lu_4 (LeakyReLU)   (None, 6, 64)             0         \n",
            "                                                                 \n",
            " lstm_7 (LSTM)               (None, 6, 32)             12416     \n",
            "                                                                 \n",
            " leaky_re_lu_5 (LeakyReLU)   (None, 6, 32)             0         \n",
            "                                                                 \n",
            " dropout_4 (Dropout)         (None, 6, 32)             0         \n",
            "                                                                 \n",
            " lstm_8 (LSTM)               (None, 16)                3136      \n",
            "                                                                 \n",
            " dropout_5 (Dropout)         (None, 16)                0         \n",
            "                                                                 \n",
            " dense_2 (Dense)             (None, 1)                 17        \n",
            "                                                                 \n",
            "=================================================================\n",
            "Total params: 32,465\n",
            "Trainable params: 32,465\n",
            "Non-trainable params: 0\n",
            "_________________________________________________________________\n"
          ]
        }
      ]
    },
    {
      "cell_type": "code",
      "source": [
        "earlystop = EarlyStopping(monitor='val_loss', min_delta=0, patience=5)"
      ],
      "metadata": {
        "id": "gzBMZAX7u0fT"
      },
      "execution_count": 82,
      "outputs": []
    },
    {
      "cell_type": "code",
      "source": [
        "%%time\n",
        "history = model.fit(X_train,\n",
        "                    y_train,\n",
        "                    batch_size=BATCH_SIZE,\n",
        "                    epochs=EPOCHS,\n",
        "                    validation_data=(X_valid, y_valid),\n",
        "                    callbacks=[earlystop],\n",
        "                    verbose=1)"
      ],
      "metadata": {
        "colab": {
          "base_uri": "https://localhost:8080/"
        },
        "id": "d-3pTrAdu5ms",
        "outputId": "f206cdbe-1e97-4cf1-9c20-9815adb9a29f"
      },
      "execution_count": 83,
      "outputs": [
        {
          "output_type": "stream",
          "name": "stdout",
          "text": [
            "Epoch 1/25\n",
            "250/250 [==============================] - 21s 32ms/step - loss: 0.0274 - val_loss: 0.0115\n",
            "Epoch 2/25\n",
            "250/250 [==============================] - 5s 19ms/step - loss: 0.0140 - val_loss: 0.0111\n",
            "Epoch 3/25\n",
            "250/250 [==============================] - 3s 13ms/step - loss: 0.0126 - val_loss: 0.0100\n",
            "Epoch 4/25\n",
            "250/250 [==============================] - 3s 12ms/step - loss: 0.0109 - val_loss: 0.0129\n",
            "Epoch 5/25\n",
            "250/250 [==============================] - 3s 12ms/step - loss: 0.0095 - val_loss: 0.0116\n",
            "Epoch 6/25\n",
            "250/250 [==============================] - 3s 12ms/step - loss: 0.0082 - val_loss: 0.0084\n",
            "Epoch 7/25\n",
            "250/250 [==============================] - 3s 12ms/step - loss: 0.0068 - val_loss: 0.0079\n",
            "Epoch 8/25\n",
            "250/250 [==============================] - 3s 12ms/step - loss: 0.0060 - val_loss: 0.0059\n",
            "Epoch 9/25\n",
            "250/250 [==============================] - 3s 12ms/step - loss: 0.0052 - val_loss: 0.0023\n",
            "Epoch 10/25\n",
            "250/250 [==============================] - 3s 12ms/step - loss: 0.0046 - val_loss: 0.0022\n",
            "Epoch 11/25\n",
            "250/250 [==============================] - 3s 12ms/step - loss: 0.0040 - val_loss: 0.0017\n",
            "Epoch 12/25\n",
            "250/250 [==============================] - 3s 12ms/step - loss: 0.0038 - val_loss: 0.0013\n",
            "Epoch 13/25\n",
            "250/250 [==============================] - 3s 12ms/step - loss: 0.0035 - val_loss: 0.0013\n",
            "Epoch 14/25\n",
            "250/250 [==============================] - 3s 12ms/step - loss: 0.0033 - val_loss: 0.0018\n",
            "Epoch 15/25\n",
            "250/250 [==============================] - 3s 12ms/step - loss: 0.0029 - val_loss: 0.0027\n",
            "Epoch 16/25\n",
            "250/250 [==============================] - 3s 12ms/step - loss: 0.0029 - val_loss: 0.0013\n",
            "Epoch 17/25\n",
            "250/250 [==============================] - 3s 12ms/step - loss: 0.0026 - val_loss: 0.0035\n",
            "Epoch 18/25\n",
            "250/250 [==============================] - 3s 12ms/step - loss: 0.0025 - val_loss: 0.0014\n",
            "Epoch 19/25\n",
            "250/250 [==============================] - 3s 12ms/step - loss: 0.0025 - val_loss: 0.0012\n",
            "Epoch 20/25\n",
            "250/250 [==============================] - 3s 12ms/step - loss: 0.0024 - val_loss: 0.0015\n",
            "Epoch 21/25\n",
            "250/250 [==============================] - 3s 12ms/step - loss: 0.0023 - val_loss: 0.0019\n",
            "Epoch 22/25\n",
            "250/250 [==============================] - 3s 12ms/step - loss: 0.0022 - val_loss: 0.0037\n",
            "Epoch 23/25\n",
            "250/250 [==============================] - 3s 13ms/step - loss: 0.0022 - val_loss: 0.0011\n",
            "Epoch 24/25\n",
            "250/250 [==============================] - 3s 12ms/step - loss: 0.0021 - val_loss: 0.0013\n",
            "Epoch 25/25\n",
            "250/250 [==============================] - 3s 12ms/step - loss: 0.0020 - val_loss: 0.0018\n",
            "CPU times: user 2min, sys: 4.87 s, total: 2min 5s\n",
            "Wall time: 1min 36s\n"
          ]
        }
      ]
    },
    {
      "cell_type": "code",
      "source": [
        "plot_df = pd.DataFrame.from_dict({'train_loss':history.history['loss'], 'val_loss':history.history['val_loss']})\n",
        "plot_df.plot(logy=True, figsize=(10,10), fontsize=12)\n",
        "plt.xlabel('epoch', fontsize=12)\n",
        "plt.ylabel('loss', fontsize=12)\n",
        "plt.show()"
      ],
      "metadata": {
        "id": "Ds_isCX7u9b6",
        "colab": {
          "base_uri": "https://localhost:8080/",
          "height": 612
        },
        "outputId": "15c9ca9b-49a7-4678-9a3b-78ab255418df"
      },
      "execution_count": 84,
      "outputs": [
        {
          "output_type": "display_data",
          "data": {
            "text/plain": [
              "<Figure size 720x720 with 1 Axes>"
            ],
            "image/png": "[encoded data removed]"
          },
          "metadata": {
            "needs_background": "light"
          }
        }
      ]
    },
    {
      "cell_type": "code",
      "source": [
        "from google.colab import drive\n",
        "drive.mount('/content/drive')"
      ],
      "metadata": {
        "id": "6CrB1CsH8Msd",
        "outputId": "b6034fe5-ba5c-4cc8-e24a-fc4f76044b36",
        "colab": {
          "base_uri": "https://localhost:8080/",
          "height": 329
        }
      },
      "execution_count": 85,
      "outputs": [
        {
          "output_type": "error",
          "ename": "MessageError",
          "evalue": "ignored",
          "traceback": [
            "\u001b[0;31m---------------------------------------------------------------------------\u001b[0m",
            "\u001b[0;31mMessageError\u001b[0m                              Traceback (most recent call last)",
            "\u001b[0;32m<ipython-input-85-d5df0069828e>\u001b[0m in \u001b[0;36m<module>\u001b[0;34m()\u001b[0m\n\u001b[1;32m      1\u001b[0m \u001b[0;32mfrom\u001b[0m \u001b[0mgoogle\u001b[0m\u001b[0;34m.\u001b[0m\u001b[0mcolab\u001b[0m \u001b[0;32mimport\u001b[0m \u001b[0mdrive\u001b[0m\u001b[0;34m\u001b[0m\u001b[0;34m\u001b[0m\u001b[0m\n\u001b[0;32m----> 2\u001b[0;31m \u001b[0mdrive\u001b[0m\u001b[0;34m.\u001b[0m\u001b[0mmount\u001b[0m\u001b[0;34m(\u001b[0m\u001b[0;34m'/content/drive'\u001b[0m\u001b[0;34m)\u001b[0m\u001b[0;34m\u001b[0m\u001b[0;34m\u001b[0m\u001b[0m\n\u001b[0m",
            "\u001b[0;32m/usr/local/lib/python3.7/dist-packages/google/colab/drive.py\u001b[0m in \u001b[0;36mmount\u001b[0;34m(mountpoint, force_remount, timeout_ms)\u001b[0m\n\u001b[1;32m    107\u001b[0m       \u001b[0mforce_remount\u001b[0m\u001b[0;34m=\u001b[0m\u001b[0mforce_remount\u001b[0m\u001b[0;34m,\u001b[0m\u001b[0;34m\u001b[0m\u001b[0;34m\u001b[0m\u001b[0m\n\u001b[1;32m    108\u001b[0m       \u001b[0mtimeout_ms\u001b[0m\u001b[0;34m=\u001b[0m\u001b[0mtimeout_ms\u001b[0m\u001b[0;34m,\u001b[0m\u001b[0;34m\u001b[0m\u001b[0;34m\u001b[0m\u001b[0m\n\u001b[0;32m--> 109\u001b[0;31m       ephemeral=True)\n\u001b[0m\u001b[1;32m    110\u001b[0m \u001b[0;34m\u001b[0m\u001b[0m\n\u001b[1;32m    111\u001b[0m \u001b[0;34m\u001b[0m\u001b[0m\n",
            "\u001b[0;32m/usr/local/lib/python3.7/dist-packages/google/colab/drive.py\u001b[0m in \u001b[0;36m_mount\u001b[0;34m(mountpoint, force_remount, timeout_ms, ephemeral)\u001b[0m\n\u001b[1;32m    126\u001b[0m   \u001b[0;32mif\u001b[0m \u001b[0mephemeral\u001b[0m\u001b[0;34m:\u001b[0m\u001b[0;34m\u001b[0m\u001b[0;34m\u001b[0m\u001b[0m\n\u001b[1;32m    127\u001b[0m     _message.blocking_request(\n\u001b[0;32m--> 128\u001b[0;31m         'request_auth', request={'authType': 'dfs_ephemeral'}, timeout_sec=None)\n\u001b[0m\u001b[1;32m    129\u001b[0m \u001b[0;34m\u001b[0m\u001b[0m\n\u001b[1;32m    130\u001b[0m   \u001b[0mmountpoint\u001b[0m \u001b[0;34m=\u001b[0m \u001b[0m_os\u001b[0m\u001b[0;34m.\u001b[0m\u001b[0mpath\u001b[0m\u001b[0;34m.\u001b[0m\u001b[0mexpanduser\u001b[0m\u001b[0;34m(\u001b[0m\u001b[0mmountpoint\u001b[0m\u001b[0;34m)\u001b[0m\u001b[0;34m\u001b[0m\u001b[0;34m\u001b[0m\u001b[0m\n",
            "\u001b[0;32m/usr/local/lib/python3.7/dist-packages/google/colab/_message.py\u001b[0m in \u001b[0;36mblocking_request\u001b[0;34m(request_type, request, timeout_sec, parent)\u001b[0m\n\u001b[1;32m    173\u001b[0m   request_id = send_request(\n\u001b[1;32m    174\u001b[0m       request_type, request, parent=parent, expect_reply=True)\n\u001b[0;32m--> 175\u001b[0;31m   \u001b[0;32mreturn\u001b[0m \u001b[0mread_reply_from_input\u001b[0m\u001b[0;34m(\u001b[0m\u001b[0mrequest_id\u001b[0m\u001b[0;34m,\u001b[0m \u001b[0mtimeout_sec\u001b[0m\u001b[0;34m)\u001b[0m\u001b[0;34m\u001b[0m\u001b[0;34m\u001b[0m\u001b[0m\n\u001b[0m",
            "\u001b[0;32m/usr/local/lib/python3.7/dist-packages/google/colab/_message.py\u001b[0m in \u001b[0;36mread_reply_from_input\u001b[0;34m(message_id, timeout_sec)\u001b[0m\n\u001b[1;32m    104\u001b[0m         reply.get('colab_msg_id') == message_id):\n\u001b[1;32m    105\u001b[0m       \u001b[0;32mif\u001b[0m \u001b[0;34m'error'\u001b[0m \u001b[0;32min\u001b[0m \u001b[0mreply\u001b[0m\u001b[0;34m:\u001b[0m\u001b[0;34m\u001b[0m\u001b[0;34m\u001b[0m\u001b[0m\n\u001b[0;32m--> 106\u001b[0;31m         \u001b[0;32mraise\u001b[0m \u001b[0mMessageError\u001b[0m\u001b[0;34m(\u001b[0m\u001b[0mreply\u001b[0m\u001b[0;34m[\u001b[0m\u001b[0;34m'error'\u001b[0m\u001b[0;34m]\u001b[0m\u001b[0;34m)\u001b[0m\u001b[0;34m\u001b[0m\u001b[0;34m\u001b[0m\u001b[0m\n\u001b[0m\u001b[1;32m    107\u001b[0m       \u001b[0;32mreturn\u001b[0m \u001b[0mreply\u001b[0m\u001b[0;34m.\u001b[0m\u001b[0mget\u001b[0m\u001b[0;34m(\u001b[0m\u001b[0;34m'data'\u001b[0m\u001b[0;34m,\u001b[0m \u001b[0;32mNone\u001b[0m\u001b[0;34m)\u001b[0m\u001b[0;34m\u001b[0m\u001b[0;34m\u001b[0m\u001b[0m\n\u001b[1;32m    108\u001b[0m \u001b[0;34m\u001b[0m\u001b[0m\n",
            "\u001b[0;31mMessageError\u001b[0m: Error: credential propagation was unsuccessful"
          ]
        }
      ]
    },
    {
      "cell_type": "code",
      "source": [
        "# Save the weights\n",
        "path = '/content/drive/MyDrive/Colab Notebooks/Weights/GRU/model.h5'\n",
        "model.save(path)"
      ],
      "metadata": {
        "id": "H0dpztdQ8Nqc"
      },
      "execution_count": null,
      "outputs": []
    },
    {
      "cell_type": "markdown",
      "source": [
        "# **Evaluate the model**"
      ],
      "metadata": {
        "id": "mO3IjeAEv6DH"
      }
    },
    {
      "cell_type": "markdown",
      "source": [
        "**Load test data set**"
      ],
      "metadata": {
        "id": "_06y2P4twJjk"
      }
    },
    {
      "cell_type": "code",
      "source": [
        "#df_test = pd.read_csv(url11)\n",
        "#df_test=pd.DataFrame(df_test)"
      ],
      "metadata": {
        "id": "-ebRC5J3v5TS"
      },
      "execution_count": null,
      "outputs": []
    },
    {
      "cell_type": "code",
      "source": [
        "#df_test=df_test.drop(0)\n",
        "#df_test=df_test.head(200)"
      ],
      "metadata": {
        "id": "s0ZaCx5ux5M9"
      },
      "execution_count": null,
      "outputs": []
    },
    {
      "cell_type": "code",
      "source": [
        "test_set_1 = df_temp[5000:5200]  #10/1/2021 00:00 to 10/10/2021 23:50\n",
        "test_set_2 = df_temp[10168:11608] #10/11/2021 00:00 to 10/20/2021 23:50\n",
        "test_set_3 = df_temp[11608:13048] #10/21/2021 00:00 to 10/30/2021 23:50\n",
        "\n",
        "dataset_index=1\n",
        "\n",
        "if dataset_index==1:\n",
        "  df_test = test_set_1\n",
        "elif dataset_index==2:\n",
        "  df_test = test_set_2\n",
        "elif dataset_index==3:\n",
        "  df_test = test_set_3\n",
        "\n"
      ],
      "metadata": {
        "id": "lLiWwA4VWuld"
      },
      "execution_count": null,
      "outputs": []
    },
    {
      "cell_type": "code",
      "source": [
        "col_1=(df_test.columns)[0]\n",
        "col_2=(df_test.columns)[1]\n",
        "col_3=(df_test.columns)[2]\n",
        "feature = 'Active Power'\n",
        "feature_1 = 'Forecasted Power'\n",
        "df_test.rename(columns={col_1 :'Date & Time' , col_2 : feature ,col_3 :feature_1},inplace=True)"
      ],
      "metadata": {
        "id": "edOfBIFhwpMw"
      },
      "execution_count": null,
      "outputs": []
    },
    {
      "cell_type": "code",
      "source": [
        "df_test=df_test.set_index('Date & Time')\n",
        "#df_test = df_test.apply(pd.to_numeric)\n",
        "#df_test=df_test.div(1000)"
      ],
      "metadata": {
        "id": "OWu6m7gWydvI"
      },
      "execution_count": null,
      "outputs": []
    },
    {
      "cell_type": "code",
      "source": [
        "count = (df_test[feature] == 0).sum()\n",
        "count"
      ],
      "metadata": {
        "id": "XV7c_fUmizna"
      },
      "execution_count": null,
      "outputs": []
    },
    {
      "cell_type": "markdown",
      "source": [
        "**Preprocessing technique**"
      ],
      "metadata": {
        "id": "N6eQMd2VwscZ"
      }
    },
    {
      "cell_type": "code",
      "source": [
        "#df_test[feature]=df_test[feature].replace(0,df_test[feature].median())\n",
        "df_test[feature]=df_test[feature].replace(to_replace=0, method='ffill').values"
      ],
      "metadata": {
        "id": "hf89NYCWiK2e"
      },
      "execution_count": null,
      "outputs": []
    },
    {
      "cell_type": "code",
      "source": [
        "scaler = MinMaxScaler()\n",
        "test=pd.DataFrame(df_test[feature])\n",
        "test[feature] = scaler.fit_transform(test)\n"
      ],
      "metadata": {
        "id": "hwgFkYZoys8u"
      },
      "execution_count": null,
      "outputs": []
    },
    {
      "cell_type": "code",
      "source": [
        "\n",
        "test_shifted = test.copy()\n",
        "test_shifted['y_t+1'] = test_shifted[feature].shift(-1)\n",
        "\n",
        "for t in range(1, T+1):\n",
        "    test_shifted['active_power_t-'+str(T-t)] = test_shifted[feature].shift(T-t)\n",
        "test_shifted = test_shifted.rename(columns={feature:'Original_active_power'})\n",
        "\n",
        "forecasted_values=np.array(df_test[feature_1])\n",
        "test_shifted[feature_1] = forecasted_values\n",
        "#test_shifted"
      ],
      "metadata": {
        "id": "_VgKtHrFy_O4"
      },
      "execution_count": null,
      "outputs": []
    },
    {
      "cell_type": "code",
      "source": [
        "test_shifted = test_shifted.dropna(how='any')\n",
        "y_test = np.array(test_shifted['y_t+1'])\n",
        "X_test=np.array(test_shifted[['active_power_t-'+str(T-t) for t in range(1, T+1)]])\n",
        "X_test = X_test.reshape(X_test.shape[0], T, 1)\n",
        "#X_test"
      ],
      "metadata": {
        "id": "5i8rb_pazIW0"
      },
      "execution_count": null,
      "outputs": []
    },
    {
      "cell_type": "code",
      "source": [
        "print(y_test.shape)\n",
        "print(X_test.shape)"
      ],
      "metadata": {
        "id": "14E4qbYlzKfQ"
      },
      "execution_count": null,
      "outputs": []
    },
    {
      "cell_type": "code",
      "source": [
        "predictions = model.predict(X_test)\n",
        "predictions=pd.DataFrame(predictions)\n",
        "#predictions"
      ],
      "metadata": {
        "id": "Tidep02G0B_q"
      },
      "execution_count": null,
      "outputs": []
    },
    {
      "cell_type": "code",
      "source": [
        "eval_df = pd.DataFrame(predictions, columns=['t+'+str(t) for t in range(1, HORIZON+1)])\n",
        "eval_df['Date & Time'] = test_shifted.index\n",
        "eval_df = pd.melt(eval_df, id_vars='Date & Time', value_name='prediction', var_name='h')\n",
        "eval_df['actual'] = np.transpose(y_test).ravel()\n",
        "eval_df['prediction'] =predictions \n",
        "\n",
        "eval_df[feature_1]=np.array(test_shifted[feature_1])\n",
        "#eval_df"
      ],
      "metadata": {
        "id": "WLuAOr4w0Kwo"
      },
      "execution_count": null,
      "outputs": []
    },
    {
      "cell_type": "code",
      "source": [
        "eval_df[['prediction']]=scaler.inverse_transform(np.array(eval_df[['prediction']]))\n",
        "eval_df[['actual']]=scaler.inverse_transform(np.array(eval_df[['actual']]))\n",
        "eval_df"
      ],
      "metadata": {
        "id": "-o2m5Ta40pf8"
      },
      "execution_count": null,
      "outputs": []
    },
    {
      "cell_type": "code",
      "source": [
        "print(max(abs(eval_df['actual']-eval_df['prediction'])))\n",
        "print(min(abs(eval_df['actual']-eval_df['prediction'])))"
      ],
      "metadata": {
        "id": "V-O57mzKo605"
      },
      "execution_count": null,
      "outputs": []
    },
    {
      "cell_type": "code",
      "source": [
        "print(max(abs(eval_df['actual']-eval_df['Forecasted Power'])))\n",
        "print(min(abs(eval_df['actual']-eval_df['Forecasted Power'])))"
      ],
      "metadata": {
        "id": "lHGJ2h40qZCt"
      },
      "execution_count": null,
      "outputs": []
    },
    {
      "cell_type": "markdown",
      "source": [
        "**MAPE of our model**"
      ],
      "metadata": {
        "id": "he57Ekqgn1A9"
      }
    },
    {
      "cell_type": "code",
      "source": [
        "def mape(actual, pred): \n",
        "    actual, pred = np.array(actual), np.array(pred)\n",
        "    return np.mean(np.abs((actual - pred) / actual)) * 100\n",
        "\n",
        "actual = eval_df['actual']\n",
        "pred = eval_df['prediction']\n",
        "\n",
        "mape(actual, pred)"
      ],
      "metadata": {
        "id": "rWyCrVMa0zqF"
      },
      "execution_count": null,
      "outputs": []
    },
    {
      "cell_type": "markdown",
      "source": [
        "**RMSE of our model**"
      ],
      "metadata": {
        "id": "5gg608W3n52-"
      }
    },
    {
      "cell_type": "code",
      "source": [
        "def rmse(actual, pred): \n",
        "    actual, pred = np.array(actual), np.array(pred)\n",
        "    x=np.mean((actual - pred)**2)\n",
        "    return np.sqrt(x)\n",
        "\n",
        "actual = eval_df['actual']\n",
        "pred = eval_df['prediction']\n",
        "\n",
        "rmse(actual, pred)"
      ],
      "metadata": {
        "id": "R7moabZU1ZRP"
      },
      "execution_count": null,
      "outputs": []
    },
    {
      "cell_type": "code",
      "source": [
        "def max_min_error(actual,pred):\n",
        "  actual, pred = np.array(actual), np.array(pred)\n",
        "  print()\n",
        "\n"
      ],
      "metadata": {
        "id": "QZIE4_13oUka"
      },
      "execution_count": null,
      "outputs": []
    },
    {
      "cell_type": "markdown",
      "source": [
        "**MAPE of CEB model**"
      ],
      "metadata": {
        "id": "9Vd7_4KFpxy1"
      }
    },
    {
      "cell_type": "code",
      "source": [
        "def mape(actual, pred): \n",
        "    actual, pred = np.array(actual), np.array(pred)\n",
        "    return np.mean(np.abs((actual - pred) / actual)) * 100\n",
        "\n",
        "actual = eval_df['actual']\n",
        "pred = eval_df['Forecasted Power']\n",
        "\n",
        "mape(actual, pred)"
      ],
      "metadata": {
        "id": "ak6q0zH-pkbK"
      },
      "execution_count": null,
      "outputs": []
    },
    {
      "cell_type": "markdown",
      "source": [
        "**RMSE of CEB model**"
      ],
      "metadata": {
        "id": "xCOIsbZzp_cu"
      }
    },
    {
      "cell_type": "code",
      "source": [
        "def rmse(actual, pred): \n",
        "    actual, pred = np.array(actual), np.array(pred)\n",
        "    x=np.mean((actual - pred)**2)\n",
        "    return np.sqrt(x)\n",
        "\n",
        "actual = eval_df['actual']\n",
        "pred = eval_df['Forecasted Power']\n",
        "\n",
        "rmse(actual, pred)"
      ],
      "metadata": {
        "id": "ypLjdma0p8uc"
      },
      "execution_count": null,
      "outputs": []
    },
    {
      "cell_type": "code",
      "source": [
        "fig1 = px.line(eval_df,x='Date & Time', y=['actual',feature_1,'prediction'],labels={ \"value\": 'Active power (MW)'},title=\"GRU model:Expected vs predicted power forecasting\") \n",
        "fig1.update_layout(xaxis_title_font_size=16,yaxis_title_font_size=16,title_font_color='red',title_font_size=20)\n",
        "fig1.show()"
      ],
      "metadata": {
        "id": "Il3PMQkHaXHW"
      },
      "execution_count": null,
      "outputs": []
    },
    {
      "cell_type": "code",
      "source": [
        "fig2 = px.line(eval_df,x='Date & Time', y=['actual','prediction'],labels={ \"value\": 'Active power (MW)'},title=\"GRU model:Expected vs forecasted power\") \n",
        "fig2.update_layout(xaxis_title_font_size=16,yaxis_title_font_size=16,title_font_color='red',title_font_size=20)\n",
        "fig2.show()"
      ],
      "metadata": {
        "id": "DS3Kr_N6byXJ"
      },
      "execution_count": null,
      "outputs": []
    },
    {
      "cell_type": "code",
      "source": [
        "eval_df.plot(x='Date & Time', y=['prediction','actual'], style=['g','--b'],fontsize=12, figsize=(15, 8))\n",
        "plt.title(\"LSTM model:Expected vs predicted power forecasting\",fontsize=16)\n",
        "plt.xlabel('Date & Time', fontsize=16)\n",
        "plt.ylabel('Active power (MW)', fontsize=16)\n",
        "plt.grid()\n",
        "plt.legend(['Our LSTM model : Forecasted power', 'Actual Power'])\n",
        "plt.savefig(\"LSTM-results.pdf\")\n",
        "plt.savefig(\"LSTM-results.png\")\n",
        "plt.show()"
      ],
      "metadata": {
        "id": "6tPEi8LM1i2X"
      },
      "execution_count": null,
      "outputs": []
    },
    {
      "cell_type": "code",
      "source": [
        "eval_df.plot(x='Date & Time', y=[feature_1, 'actual'], style=['r', '--b'],fontsize=12, figsize=(15, 8))\n",
        "plt.title(\"GRU model:Expected vs forcasted power\",fontsize=16)\n",
        "plt.xlabel('Date & Time', fontsize=16)\n",
        "plt.ylabel('Active power (MW)', fontsize=16)\n",
        "plt.grid()\n",
        "plt.legend(['CEB model : Forecasted power', 'Actual Power'])\n",
        "plt.savefig(\"GRU-results-1.pdf\")\n",
        "plt.savefig(\"GRU-results-1.png\")\n",
        "plt.show()"
      ],
      "metadata": {
        "id": "z8kG-3K65xdC"
      },
      "execution_count": null,
      "outputs": []
    },
    {
      "cell_type": "code",
      "source": [
        "eval_df.plot(x='Date & Time', y=['prediction','actual',feature_1], style=['g','--b','r'],fontsize=12, figsize=(15, 8))\n",
        "plt.title(\"Benchmark : Our GRU model vs CEB model\",fontsize=16)\n",
        "plt.xlabel('Date & Time', fontsize=16)\n",
        "plt.ylabel('Active power (MW)', fontsize=16)\n",
        "plt.grid()\n",
        "plt.legend(['Our GRU model : Forecasted power','CEB model : Forecasted power', 'Actual Power'])\n",
        "plt.savefig(\"benchmark.pdf\")\n",
        "plt.savefig(\"benchmark.png\")\n",
        "plt.show()"
      ],
      "metadata": {
        "id": "jmwoTflMqYpn"
      },
      "execution_count": null,
      "outputs": []
    }
  ]
}